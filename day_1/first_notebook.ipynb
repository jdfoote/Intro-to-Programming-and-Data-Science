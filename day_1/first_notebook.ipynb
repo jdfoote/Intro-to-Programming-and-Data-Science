{
 "cells": [
  {
   "cell_type": "markdown",
   "metadata": {},
   "source": [
    "# Welcome to your first Python Jupyter notebook  \n",
    "\n",
    "## Press `shift` + `enter` to run a cell and advance to the next one or `ctrl` + `enter` to just run that cell."
   ]
  },
  {
   "cell_type": "code",
   "execution_count": null,
   "metadata": {},
   "outputs": [],
   "source": [
    "print(\"hello world\")"
   ]
  },
  {
   "cell_type": "markdown",
   "metadata": {},
   "source": [
    "If you ran the cell above and the words \"hello world\" were output below the cell, then congratulations! You have have a working Jupyter installation. If that doesn't work then you should get help from a mentor right away!\n",
    "\n",
    "Let's play around in this notebook to get a feeling for the kind of things we can do with Python. Try running the cells below. You can also create new cells to do things that you want."
   ]
  },
  {
   "cell_type": "code",
   "execution_count": null,
   "metadata": {},
   "outputs": [],
   "source": [
    "1+2"
   ]
  },
  {
   "cell_type": "code",
   "execution_count": null,
   "metadata": {},
   "outputs": [],
   "source": [
    "print(\"i love dogs\")"
   ]
  },
  {
   "cell_type": "code",
   "execution_count": null,
   "metadata": {},
   "outputs": [],
   "source": [
    "print(\"i love dogs\".replace(\"dogs\",\"cats\"))"
   ]
  },
  {
   "cell_type": "code",
   "execution_count": null,
   "metadata": {},
   "outputs": [],
   "source": [
    "12345678.9 / 876"
   ]
  },
  {
   "cell_type": "markdown",
   "metadata": {},
   "source": [
    "In programming culture, \"Hello world\" is often used as a ceremonial first program to test that a system is working.  Another culturally significant program calculates [Fibbonaci numbers](https://en.wikipedia.org/wiki/Fibonacci_number).  The cell below defines a command called `fib` that computes values of the Fibbonaci sequence.  It isn't at all important for you to understand what it's doing. It's just in this notebook for fun. Feel free to play with it for a little bit or just move on. "
   ]
  },
  {
   "cell_type": "code",
   "execution_count": null,
   "metadata": {},
   "outputs": [],
   "source": [
    "def fib(n):\n",
    "    if n == 1 or n == 2:\n",
    "        return(1)\n",
    "\n",
    "    else:\n",
    "        k = int(n/2)\n",
    "        \n",
    "    if n % 2 == 0:\n",
    "        return fib(k) * (2 * fib(k +1) - fib(k))\n",
    "    else:\n",
    "        return fib(k + 1)**2 + fib(k)**2\n",
    "        "
   ]
  },
  {
   "cell_type": "code",
   "execution_count": null,
   "metadata": {},
   "outputs": [],
   "source": [
    "fib(3)"
   ]
  },
  {
   "cell_type": "code",
   "execution_count": null,
   "metadata": {},
   "outputs": [],
   "source": [
    "fib(1)"
   ]
  },
  {
   "cell_type": "code",
   "execution_count": null,
   "metadata": {},
   "outputs": [],
   "source": [
    "fib(50)"
   ]
  }
 ],
 "metadata": {
  "kernelspec": {
   "display_name": "Python 3",
   "language": "python",
   "name": "python3"
  },
  "language_info": {
   "codemirror_mode": {
    "name": "ipython",
    "version": 3
   },
   "file_extension": ".py",
   "mimetype": "text/x-python",
   "name": "python",
   "nbconvert_exporter": "python",
   "pygments_lexer": "ipython3",
   "version": "3.9.7"
  }
 },
 "nbformat": 4,
 "nbformat_minor": 4
}
