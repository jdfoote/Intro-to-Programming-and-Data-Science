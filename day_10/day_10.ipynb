{
 "cells": [
  {
   "cell_type": "markdown",
   "metadata": {},
   "source": [
    "# Introduction to Text Analysis in Python\n",
    "\n",
    "I am not an NLP person and this is outside of my expertise, but I know enough to give a basic introduction to text analysis and text processing tools.\n",
    "\n",
    "For this tutorial + homework, I'm going to use data from Reddit. I retrieved it from PushShift, using the following code. Unfortunately, Pushshift is not currently available for researchers so this code won't work and you'll just have to grab the version of the data that I've linked to below."
   ]
  },
  {
   "cell_type": "code",
   "execution_count": 1,
   "metadata": {},
   "outputs": [],
   "source": [
    "import requests\n",
    "from datetime import datetime\n",
    "import time\n",
    "import pandas as pd\n",
    "import seaborn as sns\n",
    "import matplotlib.pyplot as plt\n",
    "import numpy as np"
   ]
  },
  {
   "cell_type": "code",
   "execution_count": null,
   "metadata": {},
   "outputs": [],
   "source": [
    "## Code used to create the dataset - no longer works\n",
    "\n",
    "endpt = 'https://api.pushshift.io/reddit/search/submission'\n",
    "\n",
    "subreddits = ['Coronavirus', 'politics', 'aww']\n",
    "\n",
    "# Start and end date (pushshift expects these in epoch time)\n",
    "start_date = int(datetime.strptime('2021-09-11', '%Y-%m-%d').timestamp())\n",
    "end_date = int(datetime.strptime('2021-09-25', '%Y-%m-%d').timestamp())\n",
    "\n",
    "\n",
    "def get_posts(subreddit, before = end_date, after = start_date, result = None,  min_comments = 20):\n",
    "    params = {'subreddit': subreddit,\n",
    "              'num_comments': f'>{min_comments}',\n",
    "              'before': before,\n",
    "              'size': 500\n",
    "             }\n",
    "    if result == None:\n",
    "        result = []\n",
    "    r = requests.get(endpt, params=params)\n",
    "    print(r.url)\n",
    "    print(datetime.fromtimestamp(before))\n",
    "    for item in r.json()['data']:\n",
    "        created_time = item['created_utc']\n",
    "        if created_time < after: # If we've reached the earliest we want, then return\n",
    "            print(len(result))\n",
    "            return result\n",
    "        else:\n",
    "            try:\n",
    "                result.append((item['title'],item['selftext'], created_time, subreddit))\n",
    "            except KeyError:\n",
    "                print(item)\n",
    "    time.sleep(.5)\n",
    "    return get_posts(subreddit, before = created_time, result = result)\n",
    "\n",
    "\n",
    "sr_data = []\n",
    "for subreddit in subreddits:\n",
    "    new_data = get_posts(subreddit)\n",
    "    sr_data = sr_data + new_data\n",
    "sr = pd.DataFrame(sr_data, columns = ['title', 'selftext', 'date', 'subreddit'])\n",
    "sr.date = pd.to_datetime(sr.date, unit='s')\n",
    "sr.to_csv('./sr_post_data.csv', index = False)"
   ]
  },
  {
   "cell_type": "code",
   "execution_count": 2,
   "metadata": {},
   "outputs": [],
   "source": [
    "## Code to download and import the file (DO run this code)\n",
    "sr = pd.read_csv('https://github.com/jdfoote/Intro-to-Programming-and-Data-Science/blob/fall2021/resources/data/sr_post_data.csv?raw=true')"
   ]
  },
  {
   "cell_type": "code",
   "execution_count": 3,
   "metadata": {},
   "outputs": [],
   "source": [
    "# Change the date to a datetime, and put it in the index\n",
    "sr.index = pd.to_datetime(sr.date)"
   ]
  },
  {
   "cell_type": "code",
   "execution_count": 4,
   "metadata": {},
   "outputs": [
    {
     "data": {
      "text/html": [
       "<div>\n",
       "<style scoped>\n",
       "    .dataframe tbody tr th:only-of-type {\n",
       "        vertical-align: middle;\n",
       "    }\n",
       "\n",
       "    .dataframe tbody tr th {\n",
       "        vertical-align: top;\n",
       "    }\n",
       "\n",
       "    .dataframe thead th {\n",
       "        text-align: right;\n",
       "    }\n",
       "</style>\n",
       "<table border=\"1\" class=\"dataframe\">\n",
       "  <thead>\n",
       "    <tr style=\"text-align: right;\">\n",
       "      <th></th>\n",
       "      <th>title</th>\n",
       "      <th>selftext</th>\n",
       "      <th>date</th>\n",
       "      <th>subreddit</th>\n",
       "    </tr>\n",
       "    <tr>\n",
       "      <th>date</th>\n",
       "      <th></th>\n",
       "      <th></th>\n",
       "      <th></th>\n",
       "      <th></th>\n",
       "    </tr>\n",
       "  </thead>\n",
       "  <tbody>\n",
       "    <tr>\n",
       "      <th>2021-09-25 03:59:39</th>\n",
       "      <td>FALSE: US records 12,366 deaths due to COVID-1...</td>\n",
       "      <td>NaN</td>\n",
       "      <td>2021-09-25 03:59:39</td>\n",
       "      <td>Coronavirus</td>\n",
       "    </tr>\n",
       "    <tr>\n",
       "      <th>2021-09-25 03:55:12</th>\n",
       "      <td>Researchers who developed the mRNA technology ...</td>\n",
       "      <td>NaN</td>\n",
       "      <td>2021-09-25 03:55:12</td>\n",
       "      <td>Coronavirus</td>\n",
       "    </tr>\n",
       "    <tr>\n",
       "      <th>2021-09-25 02:51:33</th>\n",
       "      <td>The United States Completes Donation of 3.5 mi...</td>\n",
       "      <td>NaN</td>\n",
       "      <td>2021-09-25 02:51:33</td>\n",
       "      <td>Coronavirus</td>\n",
       "    </tr>\n",
       "    <tr>\n",
       "      <th>2021-09-25 02:25:46</th>\n",
       "      <td>When will the pandemic end? Models project a d...</td>\n",
       "      <td>NaN</td>\n",
       "      <td>2021-09-25 02:25:46</td>\n",
       "      <td>Coronavirus</td>\n",
       "    </tr>\n",
       "    <tr>\n",
       "      <th>2021-09-25 01:55:31</th>\n",
       "      <td>Thousands of teachers may be forced out of NYC...</td>\n",
       "      <td>NaN</td>\n",
       "      <td>2021-09-25 01:55:31</td>\n",
       "      <td>Coronavirus</td>\n",
       "    </tr>\n",
       "  </tbody>\n",
       "</table>\n",
       "</div>"
      ],
      "text/plain": [
       "                                                                 title  \\\n",
       "date                                                                     \n",
       "2021-09-25 03:59:39  FALSE: US records 12,366 deaths due to COVID-1...   \n",
       "2021-09-25 03:55:12  Researchers who developed the mRNA technology ...   \n",
       "2021-09-25 02:51:33  The United States Completes Donation of 3.5 mi...   \n",
       "2021-09-25 02:25:46  When will the pandemic end? Models project a d...   \n",
       "2021-09-25 01:55:31  Thousands of teachers may be forced out of NYC...   \n",
       "\n",
       "                    selftext                 date    subreddit  \n",
       "date                                                            \n",
       "2021-09-25 03:59:39      NaN  2021-09-25 03:59:39  Coronavirus  \n",
       "2021-09-25 03:55:12      NaN  2021-09-25 03:55:12  Coronavirus  \n",
       "2021-09-25 02:51:33      NaN  2021-09-25 02:51:33  Coronavirus  \n",
       "2021-09-25 02:25:46      NaN  2021-09-25 02:25:46  Coronavirus  \n",
       "2021-09-25 01:55:31      NaN  2021-09-25 01:55:31  Coronavirus  "
      ]
     },
     "execution_count": 4,
     "metadata": {},
     "output_type": "execute_result"
    }
   ],
   "source": [
    "sr.head()"
   ]
  },
  {
   "cell_type": "markdown",
   "metadata": {},
   "source": [
    "## Summarization\n",
    "\n",
    "There are some simple ways to summarize text data that can be useful, without using any special NLP tools.\n",
    "\n",
    "\n",
    "For example, it can be very interesting to see how the frequency of a term changes over time:"
   ]
  },
  {
   "cell_type": "code",
   "execution_count": 5,
   "metadata": {},
   "outputs": [
    {
     "data": {
      "image/png": "[encoded data removed]",
      "text/plain": [
       "<Figure size 432x288 with 1 Axes>"
      ]
     },
     "metadata": {
      "needs_background": "light"
     },
     "output_type": "display_data"
    }
   ],
   "source": [
    "# This code plots the frequency of \"COVID-19\", \"Coronavirus\", and \"Trump\" each day\n",
    "\n",
    "for term in [\"COVID-19\", \"Coronavirus\", \"Trump\"]:\n",
    "    curr_df = sr.loc[sr.title.str.contains(term) | sr.selftext.str.contains(term)]\n",
    "    posts_per_day = curr_df.resample('D').size()\n",
    "    posts_per_day.plot(label = term)\n",
    "\n",
    "plt.legend()\n",
    "plt.show()"
   ]
  },
  {
   "cell_type": "markdown",
   "metadata": {},
   "source": [
    "### EXERCISE 1\n",
    "\n",
    "Modify the code above to plot how often \"Coronavirus\" is used in each of the three subreddits over time"
   ]
  },
  {
   "cell_type": "code",
   "execution_count": 6,
   "metadata": {},
   "outputs": [],
   "source": [
    "#### YOUR CODE HERE\n"
   ]
  },
  {
   "cell_type": "markdown",
   "metadata": {},
   "source": [
    "A similar approach is dictionary-based. The most well-known version of this is [LIWC](http://liwc.wpengine.com/), but the basic idea is that you create a set of words that are associated with a construct you are interested in, and you count how often they appear.\n",
    "\n",
    "This is a very simple example of how you might do this to look for gendered words among our subreddits"
   ]
  },
  {
   "cell_type": "code",
   "execution_count": 7,
   "metadata": {},
   "outputs": [],
   "source": [
    "# First we change NAs and removed/deleted to empty strings\n",
    "sr.loc[(pd.isna(sr.selftext)) | (sr.selftext.isin(['[removed]', '[deleted]'])), 'selftext'] = ''\n",
    "sr['all_text'] = sr.title + ' ' + sr.selftext"
   ]
  },
  {
   "cell_type": "code",
   "execution_count": 8,
   "metadata": {},
   "outputs": [],
   "source": [
    "male_words = ['he', 'his']\n",
    "female_words = ['she', 'hers']\n",
    "\n",
    "# This puts all of the text of each subreddit into lists\n",
    "def string_to_list(x):\n",
    "    return ' '.join(x).split()\n",
    "grouped_text = sr.groupby('subreddit').all_text.apply(string_to_list)\n",
    "\n",
    "# Then, we count how often each type of words appears in each subreddit\n",
    "agg = grouped_text.aggregate({'proportionMale': lambda x: sum([x.count(y) for y in male_words])/len(x),\n",
    "                        'proportionFemale': lambda x: sum([x.count(y) for y in female_words])/len(x)}\n",
    "                        )"
   ]
  },
  {
   "cell_type": "code",
   "execution_count": 9,
   "metadata": {},
   "outputs": [
    {
     "data": {
      "text/plain": [
       "subreddit\n",
       "Coronavirus    [FALSE:, US, records, 12,366, deaths, due, to,...\n",
       "aww            [This, little, guy, (girl), snuck, into, my, o...\n",
       "politics       [CNN, Expert, Claims, Black, Voters, Don’t, Ha...\n",
       "Name: all_text, dtype: object"
      ]
     },
     "execution_count": 9,
     "metadata": {},
     "output_type": "execute_result"
    }
   ],
   "source": [
    "grouped_text"
   ]
  },
  {
   "cell_type": "code",
   "execution_count": 10,
   "metadata": {},
   "outputs": [
    {
     "data": {
      "text/plain": [
       "                  subreddit  \n",
       "proportionMale    Coronavirus    0.001874\n",
       "                  aww            0.011129\n",
       "                  politics       0.003950\n",
       "proportionFemale  Coronavirus    0.000234\n",
       "                  aww            0.003251\n",
       "                  politics       0.000525\n",
       "Name: all_text, dtype: float64"
      ]
     },
     "execution_count": 10,
     "metadata": {},
     "output_type": "execute_result"
    }
   ],
   "source": [
    "agg"
   ]
  },
  {
   "cell_type": "markdown",
   "metadata": {},
   "source": [
    "### EXERCISE 2\n",
    "\n",
    "One of the trickiest parts of analysis is getting the data in the form that you want it in order to analyze/visualize it. \n",
    "\n",
    "I think a good visualization for this would be a barplot showing how often male and female word types appear for each subreddit. I'll give you the final call to produce the plot:\n",
    "\n",
    "`sns.barplot(x='subreddit', y='proportion', hue = 'word_gender', data = agg_df_long)`\n",
    "\n",
    "Now, see if you can get the data in shape so that this code actually works! :)\n",
    "\n",
    "*Hint: You'll want to use [wide to long](https://pandas.pydata.org/pandas-docs/stable/reference/api/pandas.wide_to_long.html)*"
   ]
  },
  {
   "cell_type": "code",
   "execution_count": 11,
   "metadata": {},
   "outputs": [
    {
     "data": {
      "text/html": [
       "<div>\n",
       "<style scoped>\n",
       "    .dataframe tbody tr th:only-of-type {\n",
       "        vertical-align: middle;\n",
       "    }\n",
       "\n",
       "    .dataframe tbody tr th {\n",
       "        vertical-align: top;\n",
       "    }\n",
       "\n",
       "    .dataframe thead th {\n",
       "        text-align: right;\n",
       "    }\n",
       "</style>\n",
       "<table border=\"1\" class=\"dataframe\">\n",
       "  <thead>\n",
       "    <tr style=\"text-align: right;\">\n",
       "      <th></th>\n",
       "      <th>A(weekly)-2010</th>\n",
       "      <th>A(weekly)-2011</th>\n",
       "      <th>B(weekly)-2010</th>\n",
       "      <th>B(weekly)-2011</th>\n",
       "      <th>X</th>\n",
       "      <th>id</th>\n",
       "    </tr>\n",
       "  </thead>\n",
       "  <tbody>\n",
       "    <tr>\n",
       "      <th>0</th>\n",
       "      <td>0.548814</td>\n",
       "      <td>0.544883</td>\n",
       "      <td>0.437587</td>\n",
       "      <td>0.383442</td>\n",
       "      <td>0</td>\n",
       "      <td>0</td>\n",
       "    </tr>\n",
       "    <tr>\n",
       "      <th>1</th>\n",
       "      <td>0.715189</td>\n",
       "      <td>0.423655</td>\n",
       "      <td>0.891773</td>\n",
       "      <td>0.791725</td>\n",
       "      <td>1</td>\n",
       "      <td>1</td>\n",
       "    </tr>\n",
       "    <tr>\n",
       "      <th>2</th>\n",
       "      <td>0.602763</td>\n",
       "      <td>0.645894</td>\n",
       "      <td>0.963663</td>\n",
       "      <td>0.528895</td>\n",
       "      <td>1</td>\n",
       "      <td>2</td>\n",
       "    </tr>\n",
       "  </tbody>\n",
       "</table>\n",
       "</div>"
      ],
      "text/plain": [
       "   A(weekly)-2010  A(weekly)-2011  B(weekly)-2010  B(weekly)-2011  X  id\n",
       "0        0.548814        0.544883        0.437587        0.383442  0   0\n",
       "1        0.715189        0.423655        0.891773        0.791725  1   1\n",
       "2        0.602763        0.645894        0.963663        0.528895  1   2"
      ]
     },
     "execution_count": 11,
     "metadata": {},
     "output_type": "execute_result"
    }
   ],
   "source": [
    "## Example of how wide_to_long works (from https://pandas.pydata.org/pandas-docs/stable/reference/api/pandas.wide_to_long.html)\n",
    "\n",
    "import numpy as np\n",
    "np.random.seed(0)\n",
    "\n",
    "df = pd.DataFrame({'A(weekly)-2010': np.random.rand(3),\n",
    "                   'A(weekly)-2011': np.random.rand(3),\n",
    "                   'B(weekly)-2010': np.random.rand(3),\n",
    "                   'B(weekly)-2011': np.random.rand(3),\n",
    "                   'X' : np.random.randint(3, size=3)})\n",
    "df['id'] = df.index\n",
    "df "
   ]
  },
  {
   "cell_type": "code",
   "execution_count": 12,
   "metadata": {},
   "outputs": [
    {
     "data": {
      "text/html": [
       "<div>\n",
       "<style scoped>\n",
       "    .dataframe tbody tr th:only-of-type {\n",
       "        vertical-align: middle;\n",
       "    }\n",
       "\n",
       "    .dataframe tbody tr th {\n",
       "        vertical-align: top;\n",
       "    }\n",
       "\n",
       "    .dataframe thead th {\n",
       "        text-align: right;\n",
       "    }\n",
       "</style>\n",
       "<table border=\"1\" class=\"dataframe\">\n",
       "  <thead>\n",
       "    <tr style=\"text-align: right;\">\n",
       "      <th></th>\n",
       "      <th></th>\n",
       "      <th>X</th>\n",
       "      <th>A(weekly)</th>\n",
       "      <th>B(weekly)</th>\n",
       "    </tr>\n",
       "    <tr>\n",
       "      <th>id</th>\n",
       "      <th>year</th>\n",
       "      <th></th>\n",
       "      <th></th>\n",
       "      <th></th>\n",
       "    </tr>\n",
       "  </thead>\n",
       "  <tbody>\n",
       "    <tr>\n",
       "      <th>0</th>\n",
       "      <th>2010</th>\n",
       "      <td>0</td>\n",
       "      <td>0.548814</td>\n",
       "      <td>0.437587</td>\n",
       "    </tr>\n",
       "    <tr>\n",
       "      <th>1</th>\n",
       "      <th>2010</th>\n",
       "      <td>1</td>\n",
       "      <td>0.715189</td>\n",
       "      <td>0.891773</td>\n",
       "    </tr>\n",
       "    <tr>\n",
       "      <th>2</th>\n",
       "      <th>2010</th>\n",
       "      <td>1</td>\n",
       "      <td>0.602763</td>\n",
       "      <td>0.963663</td>\n",
       "    </tr>\n",
       "    <tr>\n",
       "      <th>0</th>\n",
       "      <th>2011</th>\n",
       "      <td>0</td>\n",
       "      <td>0.544883</td>\n",
       "      <td>0.383442</td>\n",
       "    </tr>\n",
       "    <tr>\n",
       "      <th>1</th>\n",
       "      <th>2011</th>\n",
       "      <td>1</td>\n",
       "      <td>0.423655</td>\n",
       "      <td>0.791725</td>\n",
       "    </tr>\n",
       "    <tr>\n",
       "      <th>2</th>\n",
       "      <th>2011</th>\n",
       "      <td>1</td>\n",
       "      <td>0.645894</td>\n",
       "      <td>0.528895</td>\n",
       "    </tr>\n",
       "  </tbody>\n",
       "</table>\n",
       "</div>"
      ],
      "text/plain": [
       "         X  A(weekly)  B(weekly)\n",
       "id year                         \n",
       "0  2010  0   0.548814   0.437587\n",
       "1  2010  1   0.715189   0.891773\n",
       "2  2010  1   0.602763   0.963663\n",
       "0  2011  0   0.544883   0.383442\n",
       "1  2011  1   0.423655   0.791725\n",
       "2  2011  1   0.645894   0.528895"
      ]
     },
     "execution_count": 12,
     "metadata": {},
     "output_type": "execute_result"
    }
   ],
   "source": [
    "pd.wide_to_long(df, # The data\n",
    "                # The prefixes for the data columns. These will become column names that hold data values.\n",
    "                stubnames = ['A(weekly)', 'B(weekly)'], \n",
    "                # i is a column which uniquely identifies each row\n",
    "                i='id',\n",
    "                # j is what you want to call the prefix\n",
    "                j='year',\n",
    "                # sep is a string that is between the stubnames and the values which will go in j\n",
    "                sep='-')"
   ]
  },
  {
   "cell_type": "code",
   "execution_count": 13,
   "metadata": {},
   "outputs": [],
   "source": [
    "## Exercise 2 Code\n",
    "## This code will get the df ready for pd.wide_to_long (try printing agg_df after running these to see what it looks like)\n",
    "agg_df = agg.unstack(level=0)\n",
    "agg_df = agg_df.reset_index()\n",
    "\n",
    "### Your code here"
   ]
  },
  {
   "cell_type": "code",
   "execution_count": 14,
   "metadata": {},
   "outputs": [
    {
     "data": {
      "text/html": [
       "<div>\n",
       "<style scoped>\n",
       "    .dataframe tbody tr th:only-of-type {\n",
       "        vertical-align: middle;\n",
       "    }\n",
       "\n",
       "    .dataframe tbody tr th {\n",
       "        vertical-align: top;\n",
       "    }\n",
       "\n",
       "    .dataframe thead th {\n",
       "        text-align: right;\n",
       "    }\n",
       "</style>\n",
       "<table border=\"1\" class=\"dataframe\">\n",
       "  <thead>\n",
       "    <tr style=\"text-align: right;\">\n",
       "      <th></th>\n",
       "      <th>subreddit</th>\n",
       "      <th>proportionMale</th>\n",
       "      <th>proportionFemale</th>\n",
       "    </tr>\n",
       "  </thead>\n",
       "  <tbody>\n",
       "    <tr>\n",
       "      <th>0</th>\n",
       "      <td>Coronavirus</td>\n",
       "      <td>0.001874</td>\n",
       "      <td>0.000234</td>\n",
       "    </tr>\n",
       "    <tr>\n",
       "      <th>1</th>\n",
       "      <td>aww</td>\n",
       "      <td>0.011129</td>\n",
       "      <td>0.003251</td>\n",
       "    </tr>\n",
       "    <tr>\n",
       "      <th>2</th>\n",
       "      <td>politics</td>\n",
       "      <td>0.003950</td>\n",
       "      <td>0.000525</td>\n",
       "    </tr>\n",
       "  </tbody>\n",
       "</table>\n",
       "</div>"
      ],
      "text/plain": [
       "     subreddit  proportionMale  proportionFemale\n",
       "0  Coronavirus        0.001874          0.000234\n",
       "1          aww        0.011129          0.003251\n",
       "2     politics        0.003950          0.000525"
      ]
     },
     "execution_count": 14,
     "metadata": {},
     "output_type": "execute_result"
    }
   ],
   "source": [
    "agg_df"
   ]
  },
  {
   "cell_type": "code",
   "execution_count": 15,
   "metadata": {},
   "outputs": [
    {
     "ename": "NameError",
     "evalue": "name 'agg_df_long' is not defined",
     "output_type": "error",
     "traceback": [
      "\u001b[0;31m---------------------------------------------------------------------------\u001b[0m",
      "\u001b[0;31mNameError\u001b[0m                                 Traceback (most recent call last)",
      "Cell \u001b[0;32mIn [15], line 2\u001b[0m\n\u001b[1;32m      1\u001b[0m \u001b[38;5;66;03m## Once you've created agg_df_long with the columns proportion and word_gender, you should be able to run this\u001b[39;00m\n\u001b[0;32m----> 2\u001b[0m sns\u001b[38;5;241m.\u001b[39mbarplot(x\u001b[38;5;241m=\u001b[39m\u001b[38;5;124m'\u001b[39m\u001b[38;5;124msubreddit\u001b[39m\u001b[38;5;124m'\u001b[39m, y\u001b[38;5;241m=\u001b[39m\u001b[38;5;124m'\u001b[39m\u001b[38;5;124mproportion\u001b[39m\u001b[38;5;124m'\u001b[39m, hue \u001b[38;5;241m=\u001b[39m \u001b[38;5;124m'\u001b[39m\u001b[38;5;124mword_gender\u001b[39m\u001b[38;5;124m'\u001b[39m, data \u001b[38;5;241m=\u001b[39m \u001b[43magg_df_long\u001b[49m)\n",
      "\u001b[0;31mNameError\u001b[0m: name 'agg_df_long' is not defined"
     ]
    }
   ],
   "source": [
    "## Once you've created agg_df_long with the columns proportion and word_gender, you should be able to run this\n",
    "sns.barplot(x='subreddit', y='proportion', hue = 'word_gender', data = agg_df_long)"
   ]
  },
  {
   "cell_type": "markdown",
   "metadata": {},
   "source": [
    "### EXERCISE 3\n",
    "\n",
    "Make your own analysis, with a different set of terms"
   ]
  },
  {
   "cell_type": "markdown",
   "metadata": {},
   "source": [
    "## TF-IDF\n",
    "\n",
    "There are more complicated approaches to summarization in Python, including using LIWC (see [here](https://pypi.org/project/liwc/)).\n",
    "\n",
    "Almost all approaches are based on a \"bag of words\" approach, where the order of words is totally ignored. This is obviously a big simplification, but can often work quite well.\n",
    "\n",
    "One thing we might want to do is to differentiate groups of texts based on how often words are used. The naive way is to just count how often words appear. However, the most common words will always appear first. So, computational linguists came up with \"term frequency--inverse document frequency\" (TF-IDF). This normalizes words based on how often they appear across groups of texts. A detailed explanation with code is [here](https://towardsdatascience.com/natural-language-processing-feature-engineering-using-tf-idf-e8b9d00e7e76).\n",
    "\n",
    "There are a number of NLP / text analysis libraries in Python. The one I'm most familiar with is scikit-learn, which is a machine learning library. NLTK, SpaCy, and textblob are some of the most popular. Here is how to run TF-IDF in scikit-learn."
   ]
  },
  {
   "cell_type": "code",
   "execution_count": null,
   "metadata": {},
   "outputs": [],
   "source": [
    "## First, we prepare the data for the TF-IDF tool.\n",
    "# We want each subreddit to be represented by a list of strings.\n",
    "# So, we take our grouped_text (which is a list of lists of words)\n",
    "# and change it into a list of three really long strings, where each\n",
    "# string is all the words that appeared for that subreddit.\n",
    "\n",
    "# This called a 'list comprehension'\n",
    "as_text = [' '.join(x) for x in grouped_text]\n",
    "\n",
    "# It is equivalent to the following for loop\n",
    "as_text = []\n",
    "for x in grouped_text:\n",
    "    as_text.append(' '.join(x))"
   ]
  },
  {
   "cell_type": "code",
   "execution_count": null,
   "metadata": {},
   "outputs": [],
   "source": [
    "from sklearn.feature_extraction.text import TfidfVectorizer\n",
    "\n",
    "# Just gets the 5000 most common words\n",
    "vectorizer = TfidfVectorizer(max_features=5000, stop_words='english')\n",
    "\n",
    "tfidf_result = vectorizer.fit_transform(as_text)\n",
    "feature_names = vectorizer.get_feature_names_out()\n",
    "dense = tfidf_result.todense()\n",
    "denselist = dense.tolist()\n",
    "df = pd.DataFrame(denselist, columns=feature_names).transpose()\n",
    "df.columns = list(grouped_text.index)"
   ]
  },
  {
   "cell_type": "code",
   "execution_count": null,
   "metadata": {},
   "outputs": [],
   "source": [
    "# This shows the values with the highest TF-IDF for r/Coronavirus\n",
    "df.sort_values('aww', ascending=False).head(20)"
   ]
  },
  {
   "cell_type": "markdown",
   "metadata": {},
   "source": [
    "## Relative frequency\n",
    "\n",
    "\n",
    "An even simpler approach that works pretty well when comparing just two \"documents\" is to rank how much more often a word appears in one rather than the other.\n"
   ]
  },
  {
   "cell_type": "code",
   "execution_count": 16,
   "metadata": {},
   "outputs": [],
   "source": [
    "politics_str = ' '.join(sr.loc[sr.subreddit == 'politics', 'all_text']).lower()\n",
    "covid_str = ' '.join(sr.loc[sr.subreddit == 'Coronavirus', 'all_text']).lower()"
   ]
  },
  {
   "cell_type": "code",
   "execution_count": 17,
   "metadata": {},
   "outputs": [],
   "source": [
    "def word_ratios(text):\n",
    "    counts = {}\n",
    "    tot_words = 0\n",
    "    for word in text.split():\n",
    "        counts[word] = counts.get(word, 0) + 1\n",
    "        tot_words +=1\n",
    "    result = {}\n",
    "    for word, count in counts.items():\n",
    "        result[word] = count/tot_words\n",
    "    return result\n",
    "    \n",
    "    \n",
    "politics_ratio = word_ratios(politics_str)\n",
    "covid_ratio = word_ratios(covid_str)"
   ]
  },
  {
   "cell_type": "code",
   "execution_count": 18,
   "metadata": {},
   "outputs": [],
   "source": [
    "ratio_diff = []\n",
    "for word in politics_ratio:\n",
    "    if word in covid_ratio:\n",
    "        ratio_diff.append((word, politics_ratio[word] - covid_ratio[word]))"
   ]
  },
  {
   "cell_type": "code",
   "execution_count": 19,
   "metadata": {},
   "outputs": [],
   "source": [
    "ratio_diff = sorted(ratio_diff, key = lambda x: x[1])"
   ]
  },
  {
   "cell_type": "markdown",
   "metadata": {},
   "source": [
    "Here are the words that appear more often in r/Coronavirus"
   ]
  },
  {
   "cell_type": "code",
   "execution_count": 20,
   "metadata": {},
   "outputs": [
    {
     "data": {
      "text/plain": [
       "[('covid-19', -0.020888477566596217),\n",
       " ('covid', -0.012544929169800238),\n",
       " ('vaccine', -0.00592151224450452),\n",
       " ('more', -0.005169286900006672),\n",
       " ('information', -0.004752876614738616),\n",
       " ('our', -0.004724119177071341),\n",
       " ('for', -0.004715598694414918),\n",
       " ('vaccination', -0.004380547049728374),\n",
       " ('are', -0.003921754318080493),\n",
       " ('in', -0.003903396786161282),\n",
       " ('health', -0.0037529976515266027),\n",
       " ('of', -0.0036447707007916177),\n",
       " ('there', -0.0033541814836345095),\n",
       " ('vaccines', -0.0031055833011634434),\n",
       " ('cases', -0.0030923399997225182)]"
      ]
     },
     "execution_count": 20,
     "metadata": {},
     "output_type": "execute_result"
    }
   ],
   "source": [
    "ratio_diff[:15]"
   ]
  },
  {
   "cell_type": "markdown",
   "metadata": {},
   "source": [
    "And here are those that appear more often in r/politics."
   ]
  },
  {
   "cell_type": "code",
   "execution_count": 21,
   "metadata": {},
   "outputs": [
    {
     "data": {
      "text/plain": [
       "[('biden', 0.008418094533021217),\n",
       " ('to', 0.0066828403369883875),\n",
       " ('the', 0.004575618874372623),\n",
       " ('texas', 0.0032892912474584077),\n",
       " ('bill', 0.0030318005794814544),\n",
       " ('on', 0.0030221543838544786),\n",
       " ('a', 0.002709801382600024),\n",
       " ('that', 0.002206546223422705),\n",
       " ('court', 0.0021136522597004167),\n",
       " ('law', 0.001782188016405662),\n",
       " ('his', 0.0016662137019796605),\n",
       " ('was', 0.0016506995657533103),\n",
       " ('from', 0.00162875463244231),\n",
       " ('calls', 0.0016230775454787474),\n",
       " ('white', 0.001588833874483722)]"
      ]
     },
     "execution_count": 21,
     "metadata": {},
     "output_type": "execute_result"
    }
   ],
   "source": [
    "ratio_diff[-15:][::-1] # The [::-1] just reverses the list"
   ]
  },
  {
   "cell_type": "markdown",
   "metadata": {},
   "source": [
    "## Classification\n",
    "\n",
    "Another commonly-used tool in NLP is classification. This is a \"supervised machine learning\" model, where you build a \"training set\" of items that are classified, and a machine learner uses that set to predict the classification of new items.\n",
    "\n",
    "One very common example is sentiment. In sentiment analysis, a random set of texts is manually classified as positive, neutral, or negative. This set is then used to train a classifier to predict the sentiment of unseen texts.\n",
    "\n",
    "It's beyond the scope of this class to learn how to do machine learning, but there are also pre-trained classifiers. One I found is from [textblob](https://textblob.readthedocs.io/en/dev/).\n",
    "\n",
    "NLTK also has a pre-trained classifier, trained on social media data, called VADER. That is pretty similar to what we're looking at, so this example shows how to use it.\n",
    "\n",
    "NLTK is interesting - the core is installed in Anaconda, so you should have it. However, to get various pieces to work you need to install them. So, we need to start by installing the vader lexicon."
   ]
  },
  {
   "cell_type": "code",
   "execution_count": 22,
   "metadata": {},
   "outputs": [
    {
     "name": "stderr",
     "output_type": "stream",
     "text": [
      "[nltk_data] Downloading package vader_lexicon to\n",
      "[nltk_data]     /home/jeremy/nltk_data...\n",
      "[nltk_data]   Package vader_lexicon is already up-to-date!\n"
     ]
    },
    {
     "data": {
      "text/plain": [
       "True"
      ]
     },
     "execution_count": 22,
     "metadata": {},
     "output_type": "execute_result"
    }
   ],
   "source": [
    "import nltk\n",
    "nltk.downloader.download('vader_lexicon')"
   ]
  },
  {
   "cell_type": "code",
   "execution_count": 23,
   "metadata": {},
   "outputs": [],
   "source": [
    "from nltk.sentiment.vader import SentimentIntensityAnalyzer\n",
    "\n",
    "analyzer = SentimentIntensityAnalyzer()\n",
    "\n",
    "def get_sentiment(sentence):\n",
    "    vs = analyzer.polarity_scores(sentence)\n",
    "    return vs['compound']\n",
    "\n",
    "sr['sentiment'] = sr.all_text.apply(get_sentiment)"
   ]
  },
  {
   "cell_type": "code",
   "execution_count": 24,
   "metadata": {},
   "outputs": [
    {
     "data": {
      "text/html": [
       "<div>\n",
       "<style scoped>\n",
       "    .dataframe tbody tr th:only-of-type {\n",
       "        vertical-align: middle;\n",
       "    }\n",
       "\n",
       "    .dataframe tbody tr th {\n",
       "        vertical-align: top;\n",
       "    }\n",
       "\n",
       "    .dataframe thead th {\n",
       "        text-align: right;\n",
       "    }\n",
       "</style>\n",
       "<table border=\"1\" class=\"dataframe\">\n",
       "  <thead>\n",
       "    <tr style=\"text-align: right;\">\n",
       "      <th></th>\n",
       "      <th>title</th>\n",
       "      <th>selftext</th>\n",
       "      <th>date</th>\n",
       "      <th>subreddit</th>\n",
       "      <th>all_text</th>\n",
       "      <th>sentiment</th>\n",
       "    </tr>\n",
       "    <tr>\n",
       "      <th>date</th>\n",
       "      <th></th>\n",
       "      <th></th>\n",
       "      <th></th>\n",
       "      <th></th>\n",
       "      <th></th>\n",
       "      <th></th>\n",
       "    </tr>\n",
       "  </thead>\n",
       "  <tbody>\n",
       "    <tr>\n",
       "      <th>2021-09-24 15:18:15</th>\n",
       "      <td>We’re the League of Women Voters! We launched ...</td>\n",
       "      <td>Hi! We’re activists and experts from the Leagu...</td>\n",
       "      <td>2021-09-24 15:18:15</td>\n",
       "      <td>politics</td>\n",
       "      <td>We’re the League of Women Voters! We launched ...</td>\n",
       "      <td>0.9822</td>\n",
       "    </tr>\n",
       "    <tr>\n",
       "      <th>2021-09-20 17:37:13</th>\n",
       "      <td>The \"What happened in your state last week?\" M...</td>\n",
       "      <td>Welcome to the 'What happened in your state la...</td>\n",
       "      <td>2021-09-20 17:37:13</td>\n",
       "      <td>politics</td>\n",
       "      <td>The \"What happened in your state last week?\" M...</td>\n",
       "      <td>0.9671</td>\n",
       "    </tr>\n",
       "    <tr>\n",
       "      <th>2021-09-13 16:08:17</th>\n",
       "      <td>The \"What happened in your state last week?\" M...</td>\n",
       "      <td>Welcome to the 'What happened in your state la...</td>\n",
       "      <td>2021-09-13 16:08:17</td>\n",
       "      <td>politics</td>\n",
       "      <td>The \"What happened in your state last week?\" M...</td>\n",
       "      <td>0.9671</td>\n",
       "    </tr>\n",
       "    <tr>\n",
       "      <th>2021-09-17 16:05:41</th>\n",
       "      <td>Free Chat Friday Thread</td>\n",
       "      <td>It's finally Friday! That means it's time to s...</td>\n",
       "      <td>2021-09-17 16:05:41</td>\n",
       "      <td>politics</td>\n",
       "      <td>Free Chat Friday Thread It's finally Friday! T...</td>\n",
       "      <td>0.9650</td>\n",
       "    </tr>\n",
       "    <tr>\n",
       "      <th>2021-09-14 02:54:07</th>\n",
       "      <td>Hello I know I'm different but my beautiful he...</td>\n",
       "      <td></td>\n",
       "      <td>2021-09-14 02:54:07</td>\n",
       "      <td>aww</td>\n",
       "      <td>Hello I know I'm different but my beautiful he...</td>\n",
       "      <td>0.9587</td>\n",
       "    </tr>\n",
       "  </tbody>\n",
       "</table>\n",
       "</div>"
      ],
      "text/plain": [
       "                                                                 title  \\\n",
       "date                                                                     \n",
       "2021-09-24 15:18:15  We’re the League of Women Voters! We launched ...   \n",
       "2021-09-20 17:37:13  The \"What happened in your state last week?\" M...   \n",
       "2021-09-13 16:08:17  The \"What happened in your state last week?\" M...   \n",
       "2021-09-17 16:05:41                            Free Chat Friday Thread   \n",
       "2021-09-14 02:54:07  Hello I know I'm different but my beautiful he...   \n",
       "\n",
       "                                                              selftext  \\\n",
       "date                                                                     \n",
       "2021-09-24 15:18:15  Hi! We’re activists and experts from the Leagu...   \n",
       "2021-09-20 17:37:13  Welcome to the 'What happened in your state la...   \n",
       "2021-09-13 16:08:17  Welcome to the 'What happened in your state la...   \n",
       "2021-09-17 16:05:41  It's finally Friday! That means it's time to s...   \n",
       "2021-09-14 02:54:07                                                      \n",
       "\n",
       "                                    date subreddit  \\\n",
       "date                                                 \n",
       "2021-09-24 15:18:15  2021-09-24 15:18:15  politics   \n",
       "2021-09-20 17:37:13  2021-09-20 17:37:13  politics   \n",
       "2021-09-13 16:08:17  2021-09-13 16:08:17  politics   \n",
       "2021-09-17 16:05:41  2021-09-17 16:05:41  politics   \n",
       "2021-09-14 02:54:07  2021-09-14 02:54:07       aww   \n",
       "\n",
       "                                                              all_text  \\\n",
       "date                                                                     \n",
       "2021-09-24 15:18:15  We’re the League of Women Voters! We launched ...   \n",
       "2021-09-20 17:37:13  The \"What happened in your state last week?\" M...   \n",
       "2021-09-13 16:08:17  The \"What happened in your state last week?\" M...   \n",
       "2021-09-17 16:05:41  Free Chat Friday Thread It's finally Friday! T...   \n",
       "2021-09-14 02:54:07  Hello I know I'm different but my beautiful he...   \n",
       "\n",
       "                     sentiment  \n",
       "date                            \n",
       "2021-09-24 15:18:15     0.9822  \n",
       "2021-09-20 17:37:13     0.9671  \n",
       "2021-09-13 16:08:17     0.9671  \n",
       "2021-09-17 16:05:41     0.9650  \n",
       "2021-09-14 02:54:07     0.9587  "
      ]
     },
     "execution_count": 24,
     "metadata": {},
     "output_type": "execute_result"
    }
   ],
   "source": [
    "sr.sort_values('sentiment', ascending=False).head()"
   ]
  },
  {
   "cell_type": "markdown",
   "metadata": {},
   "source": [
    "## Topic Modeling\n",
    "\n",
    "Finally, I'm going to show an example of topic modeling.\n",
    "\n",
    "This is complicated, both mathematically and in code. The `gensim` package has some smart defaults, and I'm showing here the most basic, simplest way to do LDA topic modelling. There is a good, slighlty more advanced [tutorial at the gensim site](https://radimrehurek.com/gensim/auto_examples/tutorials/run_lda.html).\n",
    "\n",
    "The basic idea of topic modeling is that you are trying to optimize the likelihood of a set of distributions of words over topics and topics over documents based on the documents that actually exist. The idea is that each document can be seen as being generated by a mix of topics, and we try to find the set of topics that best matches. This works best on a large set of documents, which are themselves each quite large. In this case, the posts that we have are actually quite short. Let's plot the distribution of sizes and use topic modeling on the one with the longest posts."
   ]
  },
  {
   "cell_type": "code",
   "execution_count": 25,
   "metadata": {},
   "outputs": [],
   "source": [
    "sr['logged_post_length'] = np.log1p(sr.all_text.str.len())"
   ]
  },
  {
   "cell_type": "code",
   "execution_count": 26,
   "metadata": {},
   "outputs": [
    {
     "data": {
      "image/png": "[encoded data removed]",
      "text/plain": [
       "<Figure size 432x288 with 1 Axes>"
      ]
     },
     "metadata": {
      "needs_background": "light"
     },
     "output_type": "display_data"
    }
   ],
   "source": [
    "sns.violinplot(data=sr, \n",
    "               y='logged_post_length',\n",
    "               x='subreddit'\n",
    "              );"
   ]
  },
  {
   "cell_type": "markdown",
   "metadata": {},
   "source": [
    "They all look pretty similar, but r/Coronavirus is maybe a bit longer, so let's use that."
   ]
  },
  {
   "cell_type": "code",
   "execution_count": 27,
   "metadata": {},
   "outputs": [
    {
     "name": "stderr",
     "output_type": "stream",
     "text": [
      "[nltk_data] Downloading package wordnet to /home/jeremy/nltk_data...\n",
      "[nltk_data]   Package wordnet is already up-to-date!\n"
     ]
    },
    {
     "data": {
      "text/plain": [
       "True"
      ]
     },
     "execution_count": 27,
     "metadata": {},
     "output_type": "execute_result"
    }
   ],
   "source": [
    "# Again, we need to do an NLTK download\n",
    "nltk.download('wordnet')"
   ]
  },
  {
   "cell_type": "code",
   "execution_count": 28,
   "metadata": {},
   "outputs": [],
   "source": [
    "import gensim.parsing.preprocessing as gpp\n",
    "from gensim.corpora import Dictionary\n",
    "from nltk.stem.wordnet import WordNetLemmatizer\n",
    "from gensim.models.ldamodel import LdaModel\n",
    "from pprint import pprint\n",
    "from nltk.tokenize import RegexpTokenizer\n",
    "\n",
    "def run_lda(docs, \n",
    "            n_topics, # How many topics to return\n",
    "            min_count = 20 # How many docs a word must appear in to be included\n",
    "           ):\n",
    "    # Split the documents into tokens. This creates a list of words for each document.\n",
    "    print(f\"Preprocessing documents...\")\n",
    "    lemmatizer = WordNetLemmatizer()\n",
    "    docs = [gpp.preprocess_string(x, filters=[gpp.strip_punctuation,\n",
    "                                              gpp.strip_multiple_whitespaces,\n",
    "                                              gpp.strip_numeric,\n",
    "                                              gpp.remove_stopwords,\n",
    "                                              gpp.strip_short\n",
    "                                             ]) for x in docs]\n",
    "    \n",
    "    # Lemmatize the words\n",
    "\n",
    "    dictionary = Dictionary(docs)\n",
    "    for doc in docs:\n",
    "        dictionary.add_documents([[lemmatizer.lemmatize(token) for token in doc]])\n",
    "    dictionary.filter_extremes(no_below=min_count, no_above=0.5)\n",
    "\n",
    "    corpus = [dictionary.doc2bow(doc) for doc in docs]\n",
    "    \n",
    "    print('Number of unique tokens: %d' % len(dictionary))\n",
    "    print('Number of documents: %d' % len(corpus))\n",
    "    \n",
    "    \n",
    "    # Train LDA model\n",
    "    print(\"Running the model...\")\n",
    "    # Set training parameters.\n",
    "    num_topics = n_topics\n",
    "    chunksize = 2000\n",
    "    passes = 20\n",
    "    iterations = 400\n",
    "    eval_every = None  # Don't evaluate model perplexity, takes too much time.\n",
    "\n",
    "    # Make a index to word dictionary.\n",
    "    #temp = dictionary[0]  # This is only to \"load\" the dictionary.\n",
    "    #id2word = dictionary.id2token\n",
    "\n",
    "    model = LdaModel(\n",
    "        corpus=corpus,\n",
    "        id2word=dictionary,\n",
    "        chunksize=chunksize,\n",
    "        alpha='auto',\n",
    "        eta='auto',\n",
    "        iterations=iterations,\n",
    "        num_topics=num_topics,\n",
    "        passes=passes,\n",
    "        eval_every=eval_every\n",
    "    )\n",
    "    \n",
    "    return (model, corpus, dictionary, docs)\n",
    "    "
   ]
  },
  {
   "cell_type": "markdown",
   "metadata": {},
   "source": [
    "## r/Coronavirus topics\n",
    "\n",
    "This code tries to look at the range of topics from the Coronavirus subreddit. It takes all of the different posts from just the Coronavirus subreddit and treats each one as a document. The problem is that they are almost all short (they are typically headlines of articles that are shared).\n",
    "\n",
    "Note that this may take a minute to run."
   ]
  },
  {
   "cell_type": "code",
   "execution_count": 43,
   "metadata": {},
   "outputs": [
    {
     "name": "stdout",
     "output_type": "stream",
     "text": [
      "Preprocessing documents...\n",
      "Number of unique tokens: 227\n",
      "Number of documents: 508\n",
      "Running the model...\n",
      "[(0,\n",
      "  '0.065*\"https\" + 0.046*\"www\" + 0.046*\"com\" + 0.042*\"Coronavirus\" + '\n",
      "  '0.032*\"reddit\" + 0.032*\"wiki\" + 0.026*\"COVID\" + 0.026*\"tracker\" + '\n",
      "  '0.026*\"information\" + 0.020*\"amp\"'),\n",
      " (1,\n",
      "  '0.201*\"COVID\" + 0.049*\"cases\" + 0.040*\"vaccines\" + 0.037*\"new\" + '\n",
      "  '0.030*\"says\" + 0.029*\"Covid\" + 0.027*\"Florida\" + 0.027*\"vaccinated\" + '\n",
      "  '0.022*\"Moderna\" + 0.019*\"CDC\"'),\n",
      " (2,\n",
      "  '0.179*\"vaccine\" + 0.108*\"COVID\" + 0.058*\"mandate\" + 0.030*\"Vaccines\" + '\n",
      "  '0.030*\"workers\" + 0.026*\"study\" + 0.025*\"virus\" + 0.022*\"immunity\" + '\n",
      "  '0.022*\"Nicki\" + 0.019*\"What\"'),\n",
      " (3,\n",
      "  '0.106*\"Covid\" + 0.041*\"coronavirus\" + 0.034*\"says\" + 0.034*\"The\" + '\n",
      "  '0.032*\"unvaccinated\" + 0.030*\"New\" + 0.030*\"pandemic\" + 0.030*\"health\" + '\n",
      "  '0.029*\"Vaccine\" + 0.027*\"care\"'),\n",
      " (4,\n",
      "  '0.073*\"Covid\" + 0.072*\"COVID\" + 0.042*\"Pfizer\" + 0.038*\"FDA\" + '\n",
      "  '0.032*\"booster\" + 0.030*\"deaths\" + 0.030*\"Are\" + 0.024*\"shot\" + '\n",
      "  '0.023*\"shots\" + 0.021*\"people\"')]\n"
     ]
    }
   ],
   "source": [
    "dataset = sr.loc[sr.subreddit == 'Coronavirus', 'all_text']\n",
    "model, corpus, dictionary, docs = run_lda(dataset, 5, min_count = 10)\n",
    "pprint(model.print_topics())"
   ]
  },
  {
   "cell_type": "markdown",
   "metadata": {},
   "source": [
    "### Going back to the original documents to understand the topics\n",
    "\n",
    "The most common words in a topic are helpful but they can be misleading. In order to make sure that topics are capturing something meaningful, it's important to go back to the original documents. This code shows how to do that.\n",
    "\n",
    "First, we get the topics for each document."
   ]
  },
  {
   "cell_type": "code",
   "execution_count": 53,
   "metadata": {},
   "outputs": [
    {
     "data": {
      "text/plain": [
       "[(0, 0.017005496),\n",
       " (1, 0.88320833),\n",
       " (2, 0.026466075),\n",
       " (3, 0.040989295),\n",
       " (4, 0.032330766)]"
      ]
     },
     "execution_count": 53,
     "metadata": {},
     "output_type": "execute_result"
    }
   ],
   "source": [
    "doc_topics = model.get_document_topics(corpus)\n",
    "\n",
    "doc_topics[0]"
   ]
  },
  {
   "cell_type": "markdown",
   "metadata": {},
   "source": [
    "This is basically a distribution of topics (by topic number) for each document. We have to do some work to connect this back to the documents themselves. First, let's put these into a dataframe."
   ]
  },
  {
   "cell_type": "code",
   "execution_count": 67,
   "metadata": {},
   "outputs": [],
   "source": [
    "result = []\n",
    "doc_id = 0\n",
    "# Loop through the topic distributions for each document\n",
    "for doc in doc_topics:\n",
    "    # Create a temporary dictionary for this document\n",
    "    curr_result = {}\n",
    "    # For each topic, add an entry to the dictionary\n",
    "    for topic_number, weight in doc:\n",
    "        curr_result[f\"topic_{topic_number}\"] = weight\n",
    "    # Then, add the dictionary to our list of dictionaries\n",
    "    result.append(curr_result)\n",
    "        \n",
    "# Turn the list of dictionaries into a dataframe\n",
    "doc_topic_df = pd.DataFrame(result)"
   ]
  },
  {
   "cell_type": "markdown",
   "metadata": {},
   "source": [
    "Then, let's add the original documents to the dataframe. It took me a bit of wrangling to figure out how to get it in the right format."
   ]
  },
  {
   "cell_type": "code",
   "execution_count": 70,
   "metadata": {},
   "outputs": [],
   "source": [
    "# This took some \n",
    "doc_topic_df['original_text'] = dataset.reset_index().all_text"
   ]
  },
  {
   "cell_type": "markdown",
   "metadata": {},
   "source": [
    "Now, we can sort by each topic, and show the text associated."
   ]
  },
  {
   "cell_type": "code",
   "execution_count": 72,
   "metadata": {},
   "outputs": [
    {
     "data": {
      "text/html": [
       "<div>\n",
       "<style scoped>\n",
       "    .dataframe tbody tr th:only-of-type {\n",
       "        vertical-align: middle;\n",
       "    }\n",
       "\n",
       "    .dataframe tbody tr th {\n",
       "        vertical-align: top;\n",
       "    }\n",
       "\n",
       "    .dataframe thead th {\n",
       "        text-align: right;\n",
       "    }\n",
       "</style>\n",
       "<table border=\"1\" class=\"dataframe\">\n",
       "  <thead>\n",
       "    <tr style=\"text-align: right;\">\n",
       "      <th></th>\n",
       "      <th>topic_0</th>\n",
       "      <th>topic_1</th>\n",
       "      <th>topic_2</th>\n",
       "      <th>topic_3</th>\n",
       "      <th>topic_4</th>\n",
       "      <th>original_text</th>\n",
       "    </tr>\n",
       "  </thead>\n",
       "  <tbody>\n",
       "    <tr>\n",
       "      <th>389</th>\n",
       "      <td>NaN</td>\n",
       "      <td>0.951202</td>\n",
       "      <td>0.011050</td>\n",
       "      <td>0.017162</td>\n",
       "      <td>0.013486</td>\n",
       "      <td>Brazil at lowest 14-day moving average for new...</td>\n",
       "    </tr>\n",
       "    <tr>\n",
       "      <th>401</th>\n",
       "      <td>NaN</td>\n",
       "      <td>0.944822</td>\n",
       "      <td>0.012507</td>\n",
       "      <td>0.019373</td>\n",
       "      <td>0.015263</td>\n",
       "      <td>Tennessee reports highest number of new COVID-...</td>\n",
       "    </tr>\n",
       "    <tr>\n",
       "      <th>189</th>\n",
       "      <td>NaN</td>\n",
       "      <td>0.944789</td>\n",
       "      <td>0.012508</td>\n",
       "      <td>0.019388</td>\n",
       "      <td>0.015279</td>\n",
       "      <td>Key data on U.S. J&amp;amp;J, Moderna COVID-19 boo...</td>\n",
       "    </tr>\n",
       "    <tr>\n",
       "      <th>382</th>\n",
       "      <td>NaN</td>\n",
       "      <td>0.944671</td>\n",
       "      <td>0.012507</td>\n",
       "      <td>0.019498</td>\n",
       "      <td>0.015287</td>\n",
       "      <td>Moderna combines COVID, flu, RSV vaccines in s...</td>\n",
       "    </tr>\n",
       "    <tr>\n",
       "      <th>305</th>\n",
       "      <td>NaN</td>\n",
       "      <td>0.944445</td>\n",
       "      <td>0.012508</td>\n",
       "      <td>0.019744</td>\n",
       "      <td>0.015266</td>\n",
       "      <td>21% of children hospitalized with COVID requir...</td>\n",
       "    </tr>\n",
       "    <tr>\n",
       "      <th>121</th>\n",
       "      <td>NaN</td>\n",
       "      <td>0.936423</td>\n",
       "      <td>0.014407</td>\n",
       "      <td>0.022327</td>\n",
       "      <td>0.017586</td>\n",
       "      <td>Texas couple asked to leave restaurant for wea...</td>\n",
       "    </tr>\n",
       "    <tr>\n",
       "      <th>114</th>\n",
       "      <td>NaN</td>\n",
       "      <td>0.936378</td>\n",
       "      <td>0.014407</td>\n",
       "      <td>0.022378</td>\n",
       "      <td>0.017580</td>\n",
       "      <td>DeSantis’ new Florida surgeon general question...</td>\n",
       "    </tr>\n",
       "    <tr>\n",
       "      <th>418</th>\n",
       "      <td>0.010915</td>\n",
       "      <td>0.925060</td>\n",
       "      <td>0.016990</td>\n",
       "      <td>0.026308</td>\n",
       "      <td>0.020728</td>\n",
       "      <td>A new nationwide study suggests that almost ha...</td>\n",
       "    </tr>\n",
       "    <tr>\n",
       "      <th>73</th>\n",
       "      <td>0.010915</td>\n",
       "      <td>0.925050</td>\n",
       "      <td>0.016987</td>\n",
       "      <td>0.026320</td>\n",
       "      <td>0.020728</td>\n",
       "      <td>Florida governor gives parents right to send i...</td>\n",
       "    </tr>\n",
       "    <tr>\n",
       "      <th>65</th>\n",
       "      <td>0.010915</td>\n",
       "      <td>0.925047</td>\n",
       "      <td>0.016987</td>\n",
       "      <td>0.026323</td>\n",
       "      <td>0.020728</td>\n",
       "      <td>Florida's new surgeon general Joseph Ladapo op...</td>\n",
       "    </tr>\n",
       "    <tr>\n",
       "      <th>428</th>\n",
       "      <td>0.010915</td>\n",
       "      <td>0.925043</td>\n",
       "      <td>0.016987</td>\n",
       "      <td>0.026316</td>\n",
       "      <td>0.020740</td>\n",
       "      <td>Florida reports 33K new COVID cases since Frid...</td>\n",
       "    </tr>\n",
       "    <tr>\n",
       "      <th>436</th>\n",
       "      <td>0.010915</td>\n",
       "      <td>0.925042</td>\n",
       "      <td>0.016987</td>\n",
       "      <td>0.026317</td>\n",
       "      <td>0.020740</td>\n",
       "      <td>Florida breaks COVID-19 deaths record fourth w...</td>\n",
       "    </tr>\n",
       "    <tr>\n",
       "      <th>228</th>\n",
       "      <td>0.010915</td>\n",
       "      <td>0.925033</td>\n",
       "      <td>0.016987</td>\n",
       "      <td>0.026308</td>\n",
       "      <td>0.020757</td>\n",
       "      <td>Two of California's Governor Gavin Newsom's ch...</td>\n",
       "    </tr>\n",
       "    <tr>\n",
       "      <th>84</th>\n",
       "      <td>0.010915</td>\n",
       "      <td>0.925031</td>\n",
       "      <td>0.016988</td>\n",
       "      <td>0.026335</td>\n",
       "      <td>0.020732</td>\n",
       "      <td>Students exposed to COVID can still go to scho...</td>\n",
       "    </tr>\n",
       "    <tr>\n",
       "      <th>199</th>\n",
       "      <td>0.010915</td>\n",
       "      <td>0.924967</td>\n",
       "      <td>0.016987</td>\n",
       "      <td>0.026402</td>\n",
       "      <td>0.020730</td>\n",
       "      <td>California reports lowest COVID-19 case rate i...</td>\n",
       "    </tr>\n",
       "    <tr>\n",
       "      <th>206</th>\n",
       "      <td>0.010915</td>\n",
       "      <td>0.924960</td>\n",
       "      <td>0.016988</td>\n",
       "      <td>0.026388</td>\n",
       "      <td>0.020749</td>\n",
       "      <td>Queensland records no new COVID-19 cases as 's...</td>\n",
       "    </tr>\n",
       "    <tr>\n",
       "      <th>237</th>\n",
       "      <td>0.010915</td>\n",
       "      <td>0.924949</td>\n",
       "      <td>0.016988</td>\n",
       "      <td>0.026405</td>\n",
       "      <td>0.020743</td>\n",
       "      <td>Florida passes 51,000 COVID deaths as vaccinat...</td>\n",
       "    </tr>\n",
       "    <tr>\n",
       "      <th>299</th>\n",
       "      <td>0.010915</td>\n",
       "      <td>0.924942</td>\n",
       "      <td>0.016988</td>\n",
       "      <td>0.026413</td>\n",
       "      <td>0.020743</td>\n",
       "      <td>Florida agencies that require COVID-19 vaccina...</td>\n",
       "    </tr>\n",
       "    <tr>\n",
       "      <th>306</th>\n",
       "      <td>0.010915</td>\n",
       "      <td>0.924710</td>\n",
       "      <td>0.016988</td>\n",
       "      <td>0.026646</td>\n",
       "      <td>0.020741</td>\n",
       "      <td>Texas doctors, seeing unprecedented numbers of...</td>\n",
       "    </tr>\n",
       "    <tr>\n",
       "      <th>17</th>\n",
       "      <td>0.013296</td>\n",
       "      <td>0.908707</td>\n",
       "      <td>0.020695</td>\n",
       "      <td>0.032047</td>\n",
       "      <td>0.025255</td>\n",
       "      <td>Preliminary research finds that even mild case...</td>\n",
       "    </tr>\n",
       "  </tbody>\n",
       "</table>\n",
       "</div>"
      ],
      "text/plain": [
       "      topic_0   topic_1   topic_2   topic_3   topic_4  \\\n",
       "389       NaN  0.951202  0.011050  0.017162  0.013486   \n",
       "401       NaN  0.944822  0.012507  0.019373  0.015263   \n",
       "189       NaN  0.944789  0.012508  0.019388  0.015279   \n",
       "382       NaN  0.944671  0.012507  0.019498  0.015287   \n",
       "305       NaN  0.944445  0.012508  0.019744  0.015266   \n",
       "121       NaN  0.936423  0.014407  0.022327  0.017586   \n",
       "114       NaN  0.936378  0.014407  0.022378  0.017580   \n",
       "418  0.010915  0.925060  0.016990  0.026308  0.020728   \n",
       "73   0.010915  0.925050  0.016987  0.026320  0.020728   \n",
       "65   0.010915  0.925047  0.016987  0.026323  0.020728   \n",
       "428  0.010915  0.925043  0.016987  0.026316  0.020740   \n",
       "436  0.010915  0.925042  0.016987  0.026317  0.020740   \n",
       "228  0.010915  0.925033  0.016987  0.026308  0.020757   \n",
       "84   0.010915  0.925031  0.016988  0.026335  0.020732   \n",
       "199  0.010915  0.924967  0.016987  0.026402  0.020730   \n",
       "206  0.010915  0.924960  0.016988  0.026388  0.020749   \n",
       "237  0.010915  0.924949  0.016988  0.026405  0.020743   \n",
       "299  0.010915  0.924942  0.016988  0.026413  0.020743   \n",
       "306  0.010915  0.924710  0.016988  0.026646  0.020741   \n",
       "17   0.013296  0.908707  0.020695  0.032047  0.025255   \n",
       "\n",
       "                                         original_text  \n",
       "389  Brazil at lowest 14-day moving average for new...  \n",
       "401  Tennessee reports highest number of new COVID-...  \n",
       "189  Key data on U.S. J&amp;J, Moderna COVID-19 boo...  \n",
       "382  Moderna combines COVID, flu, RSV vaccines in s...  \n",
       "305  21% of children hospitalized with COVID requir...  \n",
       "121  Texas couple asked to leave restaurant for wea...  \n",
       "114  DeSantis’ new Florida surgeon general question...  \n",
       "418  A new nationwide study suggests that almost ha...  \n",
       "73   Florida governor gives parents right to send i...  \n",
       "65   Florida's new surgeon general Joseph Ladapo op...  \n",
       "428  Florida reports 33K new COVID cases since Frid...  \n",
       "436  Florida breaks COVID-19 deaths record fourth w...  \n",
       "228  Two of California's Governor Gavin Newsom's ch...  \n",
       "84   Students exposed to COVID can still go to scho...  \n",
       "199  California reports lowest COVID-19 case rate i...  \n",
       "206  Queensland records no new COVID-19 cases as 's...  \n",
       "237  Florida passes 51,000 COVID deaths as vaccinat...  \n",
       "299  Florida agencies that require COVID-19 vaccina...  \n",
       "306  Texas doctors, seeing unprecedented numbers of...  \n",
       "17   Preliminary research finds that even mild case...  "
      ]
     },
     "execution_count": 72,
     "metadata": {},
     "output_type": "execute_result"
    }
   ],
   "source": [
    "doc_topic_df.sort_values('topic_1', ascending=False).head(20)"
   ]
  },
  {
   "cell_type": "code",
   "execution_count": null,
   "metadata": {},
   "outputs": [],
   "source": [
    "doc_topic_df.sort_values('topic_4', ascending=False).head(20)"
   ]
  },
  {
   "cell_type": "markdown",
   "metadata": {},
   "source": [
    "Jupyter automatically truncates the text, but to see the full text, we can look at the document based on the index number (the far-left column in the dataframe). For example, this is document 269"
   ]
  },
  {
   "cell_type": "code",
   "execution_count": null,
   "metadata": {},
   "outputs": [],
   "source": [
    "dataset[269]"
   ]
  },
  {
   "cell_type": "markdown",
   "metadata": {},
   "source": [
    "### Visualizing results\n",
    "\n",
    "There's a cool tool called LDAVis that previous students found, and that works well with gensim models. Here's how you run it."
   ]
  },
  {
   "cell_type": "code",
   "execution_count": null,
   "metadata": {},
   "outputs": [],
   "source": [
    "%matplotlib inline\n",
    "import pyLDAvis\n",
    "import pyLDAvis.gensim_models as gensimvis\n",
    "    \n",
    "pyLDAvis.enable_notebook()\n",
    "vis = gensimvis.prepare(model, corpus, dictionary)\n",
    "pyLDAvis.display(vis)"
   ]
  },
  {
   "cell_type": "markdown",
   "metadata": {},
   "source": [
    "## Finding the number of topics\n",
    "\n",
    "One approach to choosing _k_, the number of topics, is topic coherence. Here is one example of how to calculate this for many values of k. You'd then find the max, and choose that number of topics."
   ]
  },
  {
   "cell_type": "code",
   "execution_count": null,
   "metadata": {},
   "outputs": [],
   "source": [
    "from gensim.models.coherencemodel import CoherenceModel\n",
    "coherence = []\n",
    "for k in range(5,20):\n",
    "    print(f'Running with {k} topics')\n",
    "    model, corpus, dictionary, docs = run_lda(dataset, n_topics=k)\n",
    "    coherence_model = CoherenceModel(model=model, \n",
    "                               texts=docs, \n",
    "                               dictionary=dictionary, \n",
    "                               coherence='c_v')\n",
    "    coherence.append((coherence_model.get_coherence(), k))\n",
    "print(coherence)"
   ]
  },
  {
   "cell_type": "code",
   "execution_count": null,
   "metadata": {},
   "outputs": [],
   "source": [
    "sorted(coherence, reverse=True)"
   ]
  },
  {
   "cell_type": "markdown",
   "metadata": {},
   "source": [
    "### EXERCISE 4\n",
    "\n",
    "Where topic modeling really shines is in analyzing longer texts - for example, the subreddit [changemyview](https://www.reddit.com/r/changemyview/) has fairly long posts where people explain a controversial view that they hold.\n",
    "\n",
    "Try to figure out how to get a few hundred posts from changemyview using PRAW, and run a topic model on them, where the selftext of each post is a document."
   ]
  }
 ],
 "metadata": {
  "kernelspec": {
   "display_name": "teaching",
   "language": "python",
   "name": "python3"
  },
  "language_info": {
   "codemirror_mode": {
    "name": "ipython",
    "version": 3
   },
   "file_extension": ".py",
   "mimetype": "text/x-python",
   "name": "python",
   "nbconvert_exporter": "python",
   "pygments_lexer": "ipython3",
   "version": "3.9.16"
  }
 },
 "nbformat": 4,
 "nbformat_minor": 4
}
