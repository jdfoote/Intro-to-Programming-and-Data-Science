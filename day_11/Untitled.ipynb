{
 "cells": [
  {
   "cell_type": "code",
   "execution_count": 1,
   "id": "606630c6-80ea-4c9e-8c0e-6d2cd49a9e55",
   "metadata": {},
   "outputs": [],
   "source": [
    "import random"
   ]
  },
  {
   "cell_type": "code",
   "execution_count": 2,
   "id": "3243b70c-8b5a-45d7-ac9b-4726ca226b0e",
   "metadata": {},
   "outputs": [],
   "source": [
    "groups = ['Hazel', 'Paxton', 'Elisa', 'Bhakti', 'Keqin']"
   ]
  },
  {
   "cell_type": "code",
   "execution_count": 3,
   "id": "61b9f18d-b20f-4e27-ab69-1caf1380ee11",
   "metadata": {},
   "outputs": [],
   "source": [
    "random.shuffle(groups)"
   ]
  },
  {
   "cell_type": "code",
   "execution_count": 4,
   "id": "6f7abb08-2b78-47b9-beb4-6958f61c37a7",
   "metadata": {},
   "outputs": [
    {
     "data": {
      "text/plain": [
       "['Hazel', 'Elisa', 'Bhakti', 'Paxton', 'Keqin']"
      ]
     },
     "execution_count": 4,
     "metadata": {},
     "output_type": "execute_result"
    }
   ],
   "source": [
    "groups"
   ]
  }
 ],
 "metadata": {
  "kernelspec": {
   "display_name": "Python 3",
   "language": "python",
   "name": "python3"
  },
  "language_info": {
   "codemirror_mode": {
    "name": "ipython",
    "version": 3
   },
   "file_extension": ".py",
   "mimetype": "text/x-python",
   "name": "python",
   "nbconvert_exporter": "python",
   "pygments_lexer": "ipython3",
   "version": "3.8.8"
  }
 },
 "nbformat": 4,
 "nbformat_minor": 5
}
