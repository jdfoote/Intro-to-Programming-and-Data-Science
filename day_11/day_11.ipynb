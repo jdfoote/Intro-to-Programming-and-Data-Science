{
 "cells": [
  {
   "cell_type": "markdown",
   "metadata": {},
   "source": [
    "# Computational Text Analysis Part II: \n",
    "## This time it's personal"
   ]
  },
  {
   "cell_type": "markdown",
   "metadata": {},
   "source": [
    "In this lecture, I'm going to introduce a few more advanced computational text analysis approaches: Topic modeling, word embeddings, and LLM-based classifications."
   ]
  },
  {
   "cell_type": "markdown",
   "metadata": {},
   "source": [
    "## Topic Modeling\n",
    "\n",
    "The first example is topic modeling. The idea of topic modeling is to group documents (in this case, posts) which are similar to each other, and to characterize those groups somehow. In that sense, it is similar to qualitative inductive coding.\n",
    "\n",
    "There are a number of approaches. I'm going to show you a very vanilla version of BERTopic, which is a new, fancy approach which uses a large language model (LLM) in order to understand the semantic meaning of sentences in a corpus.\n",
    "\n",
    "To install it, run `conda install bertopic` in the terminal.\n",
    "\n",
    "The BERTopic library is really great, and has [great documentation and a website here](https://maartengr.github.io/BERTopic/index.html).\n",
    "\n",
    "The first step is to load a model. (Note that `hdbscan_model = ...` line is optional, and sets some parameters which help to avoid having lots of topics. The `representation_model` is also optional, but can help to identify more representative terms for each topic)"
   ]
  },
  {
   "cell_type": "code",
   "execution_count": 6,
   "metadata": {},
   "outputs": [],
   "source": [
    "# BERTopic example\n",
    "from hdbscan import HDBSCAN\n",
    "import pandas as pd\n",
    "from bertopic import BERTopic\n",
    "from bertopic.representation import KeyBERTInspired\n",
    "from sklearn.feature_extraction.text import CountVectorizer\n",
    "\n",
    "\n",
    "# Load a pre-trained BERT model\n",
    "hdbscan_model = HDBSCAN(min_cluster_size=25, metric='euclidean', cluster_selection_method='eom', prediction_data=True)\n",
    "representation_model = KeyBERTInspired()\n",
    "topic_model = BERTopic(language=\"english\", verbose=True, hdbscan_model=hdbscan_model, representation_model=representation_model)\n",
    "\n"
   ]
  },
  {
   "cell_type": "markdown",
   "metadata": {},
   "source": [
    "Let's load the subreddit data from last week. Because there are more `r/politics` posts than the other subreddits, we'll focus on those\n",
    "\n",
    "This next piece of code loads the data and trains the model. It may take a few minutes to run, but BERTopic has a nice progress bar so you know that it's working."
   ]
  },
  {
   "cell_type": "code",
   "execution_count": 7,
   "metadata": {},
   "outputs": [],
   "source": [
    "sr = pd.read_csv('https://raw.githubusercontent.com/jdfoote/Intro-to-Programming-and-Data-Science/refs/heads/master/resources/data/sr_post_data.csv')\n",
    "\n",
    "sr = sr[sr.subreddit == 'politics']\n",
    "# First we change NAs and removed/deleted to empty strings\n",
    "sr.loc[(pd.isna(sr.selftext)) | (sr.selftext.isin(['[removed]', '[deleted]'])), 'selftext'] = ''\n",
    "sr['all_text'] = sr.title + ' ' + sr.selftext\n",
    "\n",
    "dataset = sr.all_text.to_list()"
   ]
  },
  {
   "cell_type": "code",
   "execution_count": 8,
   "metadata": {},
   "outputs": [
    {
     "name": "stderr",
     "output_type": "stream",
     "text": [
      "2024-11-05 11:24:44,739 - BERTopic - Embedding - Transforming documents to embeddings.\n"
     ]
    },
    {
     "data": {
      "application/vnd.jupyter.widget-view+json": {
       "model_id": "68ffcab6d2ed400ba4e71609ba6a1c94",
       "version_major": 2,
       "version_minor": 0
      },
      "text/plain": [
       "Batches:   0%|          | 0/79 [00:00<?, ?it/s]"
      ]
     },
     "metadata": {},
     "output_type": "display_data"
    },
    {
     "name": "stderr",
     "output_type": "stream",
     "text": [
      "2024-11-05 11:25:07,855 - BERTopic - Embedding - Completed ✓\n",
      "2024-11-05 11:25:07,859 - BERTopic - Dimensionality - Fitting the dimensionality reduction algorithm\n",
      "2024-11-05 11:25:17,454 - BERTopic - Dimensionality - Completed ✓\n",
      "2024-11-05 11:25:17,456 - BERTopic - Cluster - Start clustering the reduced embeddings\n",
      "2024-11-05 11:25:17,600 - BERTopic - Cluster - Completed ✓\n",
      "2024-11-05 11:25:17,608 - BERTopic - Representation - Extracting topics from clusters using representation models.\n",
      "2024-11-05 11:25:27,016 - BERTopic - Representation - Completed ✓\n"
     ]
    }
   ],
   "source": [
    "topics, probs = topic_model.fit_transform(dataset)"
   ]
  },
  {
   "cell_type": "markdown",
   "metadata": {},
   "source": [
    "BERTopic decides how many topics are appropriate, and assigns each document to a topic. It also includes a \"miscellaneous\" topic (`Topic -1`) for documents that don't fit very well. This can include quite a few documents, as below."
   ]
  },
  {
   "cell_type": "code",
   "execution_count": 9,
   "metadata": {},
   "outputs": [
    {
     "data": {
      "text/html": [
       "<div>\n",
       "<style scoped>\n",
       "    .dataframe tbody tr th:only-of-type {\n",
       "        vertical-align: middle;\n",
       "    }\n",
       "\n",
       "    .dataframe tbody tr th {\n",
       "        vertical-align: top;\n",
       "    }\n",
       "\n",
       "    .dataframe thead th {\n",
       "        text-align: right;\n",
       "    }\n",
       "</style>\n",
       "<table border=\"1\" class=\"dataframe\">\n",
       "  <thead>\n",
       "    <tr style=\"text-align: right;\">\n",
       "      <th></th>\n",
       "      <th>Topic</th>\n",
       "      <th>Count</th>\n",
       "    </tr>\n",
       "  </thead>\n",
       "  <tbody>\n",
       "    <tr>\n",
       "      <th>5</th>\n",
       "      <td>0</td>\n",
       "      <td>419</td>\n",
       "    </tr>\n",
       "    <tr>\n",
       "      <th>0</th>\n",
       "      <td>-1</td>\n",
       "      <td>397</td>\n",
       "    </tr>\n",
       "    <tr>\n",
       "      <th>2</th>\n",
       "      <td>1</td>\n",
       "      <td>286</td>\n",
       "    </tr>\n",
       "    <tr>\n",
       "      <th>11</th>\n",
       "      <td>2</td>\n",
       "      <td>162</td>\n",
       "    </tr>\n",
       "    <tr>\n",
       "      <th>7</th>\n",
       "      <td>3</td>\n",
       "      <td>128</td>\n",
       "    </tr>\n",
       "    <tr>\n",
       "      <th>1</th>\n",
       "      <td>4</td>\n",
       "      <td>119</td>\n",
       "    </tr>\n",
       "    <tr>\n",
       "      <th>10</th>\n",
       "      <td>5</td>\n",
       "      <td>119</td>\n",
       "    </tr>\n",
       "    <tr>\n",
       "      <th>8</th>\n",
       "      <td>6</td>\n",
       "      <td>100</td>\n",
       "    </tr>\n",
       "    <tr>\n",
       "      <th>9</th>\n",
       "      <td>7</td>\n",
       "      <td>100</td>\n",
       "    </tr>\n",
       "    <tr>\n",
       "      <th>3</th>\n",
       "      <td>8</td>\n",
       "      <td>74</td>\n",
       "    </tr>\n",
       "    <tr>\n",
       "      <th>19</th>\n",
       "      <td>9</td>\n",
       "      <td>63</td>\n",
       "    </tr>\n",
       "    <tr>\n",
       "      <th>4</th>\n",
       "      <td>10</td>\n",
       "      <td>59</td>\n",
       "    </tr>\n",
       "    <tr>\n",
       "      <th>12</th>\n",
       "      <td>11</td>\n",
       "      <td>58</td>\n",
       "    </tr>\n",
       "    <tr>\n",
       "      <th>13</th>\n",
       "      <td>12</td>\n",
       "      <td>57</td>\n",
       "    </tr>\n",
       "    <tr>\n",
       "      <th>17</th>\n",
       "      <td>13</td>\n",
       "      <td>55</td>\n",
       "    </tr>\n",
       "    <tr>\n",
       "      <th>15</th>\n",
       "      <td>14</td>\n",
       "      <td>51</td>\n",
       "    </tr>\n",
       "    <tr>\n",
       "      <th>23</th>\n",
       "      <td>15</td>\n",
       "      <td>39</td>\n",
       "    </tr>\n",
       "    <tr>\n",
       "      <th>6</th>\n",
       "      <td>16</td>\n",
       "      <td>38</td>\n",
       "    </tr>\n",
       "    <tr>\n",
       "      <th>22</th>\n",
       "      <td>17</td>\n",
       "      <td>34</td>\n",
       "    </tr>\n",
       "    <tr>\n",
       "      <th>18</th>\n",
       "      <td>18</td>\n",
       "      <td>33</td>\n",
       "    </tr>\n",
       "    <tr>\n",
       "      <th>20</th>\n",
       "      <td>19</td>\n",
       "      <td>33</td>\n",
       "    </tr>\n",
       "    <tr>\n",
       "      <th>21</th>\n",
       "      <td>20</td>\n",
       "      <td>30</td>\n",
       "    </tr>\n",
       "    <tr>\n",
       "      <th>14</th>\n",
       "      <td>21</td>\n",
       "      <td>28</td>\n",
       "    </tr>\n",
       "    <tr>\n",
       "      <th>16</th>\n",
       "      <td>22</td>\n",
       "      <td>26</td>\n",
       "    </tr>\n",
       "  </tbody>\n",
       "</table>\n",
       "</div>"
      ],
      "text/plain": [
       "    Topic  Count\n",
       "5       0    419\n",
       "0      -1    397\n",
       "2       1    286\n",
       "11      2    162\n",
       "7       3    128\n",
       "1       4    119\n",
       "10      5    119\n",
       "8       6    100\n",
       "9       7    100\n",
       "3       8     74\n",
       "19      9     63\n",
       "4      10     59\n",
       "12     11     58\n",
       "13     12     57\n",
       "17     13     55\n",
       "15     14     51\n",
       "23     15     39\n",
       "6      16     38\n",
       "22     17     34\n",
       "18     18     33\n",
       "20     19     33\n",
       "21     20     30\n",
       "14     21     28\n",
       "16     22     26"
      ]
     },
     "execution_count": 9,
     "metadata": {},
     "output_type": "execute_result"
    }
   ],
   "source": [
    "topic_model.get_topic_freq()"
   ]
  },
  {
   "cell_type": "markdown",
   "metadata": {},
   "source": [
    "There are a bunch of cool visualizations and tools for understanding the topics. There are a bunch of them shown [on the BERTopic website](https://maartengr.github.io/BERTopic/getting_started/visualization/visualize_topics.html). Here are a few.\n",
    "\n",
    "This first one visualizes the topics. We can see that they are fairly clustered."
   ]
  },
  {
   "cell_type": "code",
   "execution_count": 10,
   "metadata": {},
   "outputs": [
    {
     "data": {
      "application/vnd.plotly.v1+json": {
       "config": {
        "plotlyServerURL": "https://plot.ly"
       },
       "data": [
        {
         "customdata": [
          [
           0,
           "vaccine | vaccines | vaccination | covid | vaccinated",
           419
          ],
          [
           1,
           "gop | bush | extremists | trump | republicans",
           286
          ],
          [
           2,
           "abortion | abortions | texans | texas | texasstyle",
           162
          ],
          [
           3,
           "polling | election | ballots | voter | polls",
           128
          ],
          [
           4,
           "biden | bidens | agenda | democrats | progressives",
           119
          ],
          [
           5,
           "rally | protesters | protest | capitol | riot",
           119
          ],
          [
           6,
           "haitians | haitian | migrants | deport | migrant",
           100
          ],
          [
           7,
           "taxes | tax | dems | irs | spending",
           100
          ],
          [
           8,
           "biden | audit | arizona | arizonas | audits",
           74
          ],
          [
           9,
           "milley | milleys | china | chinese | impeachment",
           63
          ],
          [
           10,
           "gala | aoc | dress | gown | rich",
           59
          ],
          [
           11,
           "debt | debtceiling | mcconnell | loan | gop",
           58
          ],
          [
           12,
           "manchin | manchins | joe | sanders | biden",
           57
          ],
          [
           13,
           "indictment | accused | indicted | fbi | alleged",
           55
          ],
          [
           14,
           "partisan | justices | partisanship | barrett | jurist",
           51
          ],
          [
           15,
           "ambassador | ambassadors | france | submarines | diplomatic",
           39
          ],
          [
           16,
           "subpoena | subpoenas | bannon | appointees | biden",
           38
          ],
          [
           17,
           "drone | civilians | terrorists | kabul | afghanistan",
           34
          ],
          [
           18,
           "pharma | drugprice | pharmaceutical | prescription | pharmabacked",
           33
          ],
          [
           19,
           "filibuster | senate | compromise | democrats | voting",
           33
          ],
          [
           20,
           "abbott | abbotts | greg | texas | governor",
           30
          ],
          [
           21,
           "afghanistan | afghan | taliban | blinken | blinkens",
           28
          ],
          [
           22,
           "lawsuit | niece | sues | taxes | alleging",
           26
          ]
         ],
         "hovertemplate": "<b>Topic %{customdata[0]}</b><br>%{customdata[1]}<br>Size: %{customdata[2]}",
         "legendgroup": "",
         "marker": {
          "color": "#B0BEC5",
          "line": {
           "color": "DarkSlateGrey",
           "width": 2
          },
          "size": [
           419,
           286,
           162,
           128,
           119,
           119,
           100,
           100,
           74,
           63,
           59,
           58,
           57,
           55,
           51,
           39,
           38,
           34,
           33,
           33,
           30,
           28,
           26
          ],
          "sizemode": "area",
          "sizeref": 0.261875,
          "symbol": "circle"
         },
         "mode": "markers",
         "name": "",
         "orientation": "v",
         "showlegend": false,
         "type": "scatter",
         "x": [
          2.683821678161621,
          2.468395948410034,
          -7.3250322341918945,
          3.766883134841919,
          7.764178276062012,
          3.1093270778656006,
          8.29990005493164,
          -9.466350555419922,
          4.101466178894043,
          2.2709903717041016,
          -9.227949142456055,
          -9.572539329528809,
          7.343819618225098,
          -2.323514461517334,
          -7.219361305236816,
          7.560262680053711,
          2.8157119750976562,
          8.55950927734375,
          -9.582391738891602,
          -9.03943920135498,
          4.120192050933838,
          8.169092178344727,
          -2.3235056400299072
         ],
         "xaxis": "x",
         "y": [
          9.078057289123535,
          8.70858097076416,
          5.177145957946777,
          10.378824234008789,
          6.199388027191162,
          8.582921028137207,
          5.536587238311768,
          17.528106689453125,
          10.765704154968262,
          8.867530822753906,
          17.892433166503906,
          17.899757385253906,
          6.167154788970947,
          -1.5673942565917969,
          5.282854080200195,
          6.547394275665283,
          8.43614673614502,
          5.941934108734131,
          17.103775024414062,
          17.52493667602539,
          11.050695419311523,
          5.817322254180908,
          -1.5674240589141846
         ],
         "yaxis": "y"
        }
       ],
       "layout": {
        "annotations": [
         {
          "showarrow": false,
          "text": "D1",
          "x": -11.019750499725342,
          "y": 9.391091662645339,
          "yshift": 10
         },
         {
          "showarrow": false,
          "text": "D2",
          "x": -0.5881574153900146,
          "xshift": 10,
          "y": 20.58472099304199
         }
        ],
        "height": 650,
        "hoverlabel": {
         "bgcolor": "white",
         "font": {
          "family": "Rockwell",
          "size": 16
         }
        },
        "legend": {
         "itemsizing": "constant",
         "tracegroupgap": 0
        },
        "margin": {
         "t": 60
        },
        "shapes": [
         {
          "line": {
           "color": "#CFD8DC",
           "width": 2
          },
          "type": "line",
          "x0": -0.5881574153900146,
          "x1": -0.5881574153900146,
          "y0": -1.8025376677513123,
          "y1": 20.58472099304199
         },
         {
          "line": {
           "color": "#9E9E9E",
           "width": 2
          },
          "type": "line",
          "x0": -11.019750499725342,
          "x1": 9.843435668945313,
          "y0": 9.391091662645339,
          "y1": 9.391091662645339
         }
        ],
        "sliders": [
         {
          "active": 0,
          "pad": {
           "t": 50
          },
          "steps": [
           {
            "args": [
             {
              "marker.color": [
               [
                "red",
                "#B0BEC5",
                "#B0BEC5",
                "#B0BEC5",
                "#B0BEC5",
                "#B0BEC5",
                "#B0BEC5",
                "#B0BEC5",
                "#B0BEC5",
                "#B0BEC5",
                "#B0BEC5",
                "#B0BEC5",
                "#B0BEC5",
                "#B0BEC5",
                "#B0BEC5",
                "#B0BEC5",
                "#B0BEC5",
                "#B0BEC5",
                "#B0BEC5",
                "#B0BEC5",
                "#B0BEC5",
                "#B0BEC5",
                "#B0BEC5"
               ]
              ]
             }
            ],
            "label": "Topic 0",
            "method": "update"
           },
           {
            "args": [
             {
              "marker.color": [
               [
                "#B0BEC5",
                "red",
                "#B0BEC5",
                "#B0BEC5",
                "#B0BEC5",
                "#B0BEC5",
                "#B0BEC5",
                "#B0BEC5",
                "#B0BEC5",
                "#B0BEC5",
                "#B0BEC5",
                "#B0BEC5",
                "#B0BEC5",
                "#B0BEC5",
                "#B0BEC5",
                "#B0BEC5",
                "#B0BEC5",
                "#B0BEC5",
                "#B0BEC5",
                "#B0BEC5",
                "#B0BEC5",
                "#B0BEC5",
                "#B0BEC5"
               ]
              ]
             }
            ],
            "label": "Topic 1",
            "method": "update"
           },
           {
            "args": [
             {
              "marker.color": [
               [
                "#B0BEC5",
                "#B0BEC5",
                "red",
                "#B0BEC5",
                "#B0BEC5",
                "#B0BEC5",
                "#B0BEC5",
                "#B0BEC5",
                "#B0BEC5",
                "#B0BEC5",
                "#B0BEC5",
                "#B0BEC5",
                "#B0BEC5",
                "#B0BEC5",
                "#B0BEC5",
                "#B0BEC5",
                "#B0BEC5",
                "#B0BEC5",
                "#B0BEC5",
                "#B0BEC5",
                "#B0BEC5",
                "#B0BEC5",
                "#B0BEC5"
               ]
              ]
             }
            ],
            "label": "Topic 2",
            "method": "update"
           },
           {
            "args": [
             {
              "marker.color": [
               [
                "#B0BEC5",
                "#B0BEC5",
                "#B0BEC5",
                "red",
                "#B0BEC5",
                "#B0BEC5",
                "#B0BEC5",
                "#B0BEC5",
                "#B0BEC5",
                "#B0BEC5",
                "#B0BEC5",
                "#B0BEC5",
                "#B0BEC5",
                "#B0BEC5",
                "#B0BEC5",
                "#B0BEC5",
                "#B0BEC5",
                "#B0BEC5",
                "#B0BEC5",
                "#B0BEC5",
                "#B0BEC5",
                "#B0BEC5",
                "#B0BEC5"
               ]
              ]
             }
            ],
            "label": "Topic 3",
            "method": "update"
           },
           {
            "args": [
             {
              "marker.color": [
               [
                "#B0BEC5",
                "#B0BEC5",
                "#B0BEC5",
                "#B0BEC5",
                "red",
                "#B0BEC5",
                "#B0BEC5",
                "#B0BEC5",
                "#B0BEC5",
                "#B0BEC5",
                "#B0BEC5",
                "#B0BEC5",
                "#B0BEC5",
                "#B0BEC5",
                "#B0BEC5",
                "#B0BEC5",
                "#B0BEC5",
                "#B0BEC5",
                "#B0BEC5",
                "#B0BEC5",
                "#B0BEC5",
                "#B0BEC5",
                "#B0BEC5"
               ]
              ]
             }
            ],
            "label": "Topic 4",
            "method": "update"
           },
           {
            "args": [
             {
              "marker.color": [
               [
                "#B0BEC5",
                "#B0BEC5",
                "#B0BEC5",
                "#B0BEC5",
                "#B0BEC5",
                "red",
                "#B0BEC5",
                "#B0BEC5",
                "#B0BEC5",
                "#B0BEC5",
                "#B0BEC5",
                "#B0BEC5",
                "#B0BEC5",
                "#B0BEC5",
                "#B0BEC5",
                "#B0BEC5",
                "#B0BEC5",
                "#B0BEC5",
                "#B0BEC5",
                "#B0BEC5",
                "#B0BEC5",
                "#B0BEC5",
                "#B0BEC5"
               ]
              ]
             }
            ],
            "label": "Topic 5",
            "method": "update"
           },
           {
            "args": [
             {
              "marker.color": [
               [
                "#B0BEC5",
                "#B0BEC5",
                "#B0BEC5",
                "#B0BEC5",
                "#B0BEC5",
                "#B0BEC5",
                "red",
                "#B0BEC5",
                "#B0BEC5",
                "#B0BEC5",
                "#B0BEC5",
                "#B0BEC5",
                "#B0BEC5",
                "#B0BEC5",
                "#B0BEC5",
                "#B0BEC5",
                "#B0BEC5",
                "#B0BEC5",
                "#B0BEC5",
                "#B0BEC5",
                "#B0BEC5",
                "#B0BEC5",
                "#B0BEC5"
               ]
              ]
             }
            ],
            "label": "Topic 6",
            "method": "update"
           },
           {
            "args": [
             {
              "marker.color": [
               [
                "#B0BEC5",
                "#B0BEC5",
                "#B0BEC5",
                "#B0BEC5",
                "#B0BEC5",
                "#B0BEC5",
                "#B0BEC5",
                "red",
                "#B0BEC5",
                "#B0BEC5",
                "#B0BEC5",
                "#B0BEC5",
                "#B0BEC5",
                "#B0BEC5",
                "#B0BEC5",
                "#B0BEC5",
                "#B0BEC5",
                "#B0BEC5",
                "#B0BEC5",
                "#B0BEC5",
                "#B0BEC5",
                "#B0BEC5",
                "#B0BEC5"
               ]
              ]
             }
            ],
            "label": "Topic 7",
            "method": "update"
           },
           {
            "args": [
             {
              "marker.color": [
               [
                "#B0BEC5",
                "#B0BEC5",
                "#B0BEC5",
                "#B0BEC5",
                "#B0BEC5",
                "#B0BEC5",
                "#B0BEC5",
                "#B0BEC5",
                "red",
                "#B0BEC5",
                "#B0BEC5",
                "#B0BEC5",
                "#B0BEC5",
                "#B0BEC5",
                "#B0BEC5",
                "#B0BEC5",
                "#B0BEC5",
                "#B0BEC5",
                "#B0BEC5",
                "#B0BEC5",
                "#B0BEC5",
                "#B0BEC5",
                "#B0BEC5"
               ]
              ]
             }
            ],
            "label": "Topic 8",
            "method": "update"
           },
           {
            "args": [
             {
              "marker.color": [
               [
                "#B0BEC5",
                "#B0BEC5",
                "#B0BEC5",
                "#B0BEC5",
                "#B0BEC5",
                "#B0BEC5",
                "#B0BEC5",
                "#B0BEC5",
                "#B0BEC5",
                "red",
                "#B0BEC5",
                "#B0BEC5",
                "#B0BEC5",
                "#B0BEC5",
                "#B0BEC5",
                "#B0BEC5",
                "#B0BEC5",
                "#B0BEC5",
                "#B0BEC5",
                "#B0BEC5",
                "#B0BEC5",
                "#B0BEC5",
                "#B0BEC5"
               ]
              ]
             }
            ],
            "label": "Topic 9",
            "method": "update"
           },
           {
            "args": [
             {
              "marker.color": [
               [
                "#B0BEC5",
                "#B0BEC5",
                "#B0BEC5",
                "#B0BEC5",
                "#B0BEC5",
                "#B0BEC5",
                "#B0BEC5",
                "#B0BEC5",
                "#B0BEC5",
                "#B0BEC5",
                "red",
                "#B0BEC5",
                "#B0BEC5",
                "#B0BEC5",
                "#B0BEC5",
                "#B0BEC5",
                "#B0BEC5",
                "#B0BEC5",
                "#B0BEC5",
                "#B0BEC5",
                "#B0BEC5",
                "#B0BEC5",
                "#B0BEC5"
               ]
              ]
             }
            ],
            "label": "Topic 10",
            "method": "update"
           },
           {
            "args": [
             {
              "marker.color": [
               [
                "#B0BEC5",
                "#B0BEC5",
                "#B0BEC5",
                "#B0BEC5",
                "#B0BEC5",
                "#B0BEC5",
                "#B0BEC5",
                "#B0BEC5",
                "#B0BEC5",
                "#B0BEC5",
                "#B0BEC5",
                "red",
                "#B0BEC5",
                "#B0BEC5",
                "#B0BEC5",
                "#B0BEC5",
                "#B0BEC5",
                "#B0BEC5",
                "#B0BEC5",
                "#B0BEC5",
                "#B0BEC5",
                "#B0BEC5",
                "#B0BEC5"
               ]
              ]
             }
            ],
            "label": "Topic 11",
            "method": "update"
           },
           {
            "args": [
             {
              "marker.color": [
               [
                "#B0BEC5",
                "#B0BEC5",
                "#B0BEC5",
                "#B0BEC5",
                "#B0BEC5",
                "#B0BEC5",
                "#B0BEC5",
                "#B0BEC5",
                "#B0BEC5",
                "#B0BEC5",
                "#B0BEC5",
                "#B0BEC5",
                "red",
                "#B0BEC5",
                "#B0BEC5",
                "#B0BEC5",
                "#B0BEC5",
                "#B0BEC5",
                "#B0BEC5",
                "#B0BEC5",
                "#B0BEC5",
                "#B0BEC5",
                "#B0BEC5"
               ]
              ]
             }
            ],
            "label": "Topic 12",
            "method": "update"
           },
           {
            "args": [
             {
              "marker.color": [
               [
                "#B0BEC5",
                "#B0BEC5",
                "#B0BEC5",
                "#B0BEC5",
                "#B0BEC5",
                "#B0BEC5",
                "#B0BEC5",
                "#B0BEC5",
                "#B0BEC5",
                "#B0BEC5",
                "#B0BEC5",
                "#B0BEC5",
                "#B0BEC5",
                "red",
                "#B0BEC5",
                "#B0BEC5",
                "#B0BEC5",
                "#B0BEC5",
                "#B0BEC5",
                "#B0BEC5",
                "#B0BEC5",
                "#B0BEC5",
                "#B0BEC5"
               ]
              ]
             }
            ],
            "label": "Topic 13",
            "method": "update"
           },
           {
            "args": [
             {
              "marker.color": [
               [
                "#B0BEC5",
                "#B0BEC5",
                "#B0BEC5",
                "#B0BEC5",
                "#B0BEC5",
                "#B0BEC5",
                "#B0BEC5",
                "#B0BEC5",
                "#B0BEC5",
                "#B0BEC5",
                "#B0BEC5",
                "#B0BEC5",
                "#B0BEC5",
                "#B0BEC5",
                "red",
                "#B0BEC5",
                "#B0BEC5",
                "#B0BEC5",
                "#B0BEC5",
                "#B0BEC5",
                "#B0BEC5",
                "#B0BEC5",
                "#B0BEC5"
               ]
              ]
             }
            ],
            "label": "Topic 14",
            "method": "update"
           },
           {
            "args": [
             {
              "marker.color": [
               [
                "#B0BEC5",
                "#B0BEC5",
                "#B0BEC5",
                "#B0BEC5",
                "#B0BEC5",
                "#B0BEC5",
                "#B0BEC5",
                "#B0BEC5",
                "#B0BEC5",
                "#B0BEC5",
                "#B0BEC5",
                "#B0BEC5",
                "#B0BEC5",
                "#B0BEC5",
                "#B0BEC5",
                "red",
                "#B0BEC5",
                "#B0BEC5",
                "#B0BEC5",
                "#B0BEC5",
                "#B0BEC5",
                "#B0BEC5",
                "#B0BEC5"
               ]
              ]
             }
            ],
            "label": "Topic 15",
            "method": "update"
           },
           {
            "args": [
             {
              "marker.color": [
               [
                "#B0BEC5",
                "#B0BEC5",
                "#B0BEC5",
                "#B0BEC5",
                "#B0BEC5",
                "#B0BEC5",
                "#B0BEC5",
                "#B0BEC5",
                "#B0BEC5",
                "#B0BEC5",
                "#B0BEC5",
                "#B0BEC5",
                "#B0BEC5",
                "#B0BEC5",
                "#B0BEC5",
                "#B0BEC5",
                "red",
                "#B0BEC5",
                "#B0BEC5",
                "#B0BEC5",
                "#B0BEC5",
                "#B0BEC5",
                "#B0BEC5"
               ]
              ]
             }
            ],
            "label": "Topic 16",
            "method": "update"
           },
           {
            "args": [
             {
              "marker.color": [
               [
                "#B0BEC5",
                "#B0BEC5",
                "#B0BEC5",
                "#B0BEC5",
                "#B0BEC5",
                "#B0BEC5",
                "#B0BEC5",
                "#B0BEC5",
                "#B0BEC5",
                "#B0BEC5",
                "#B0BEC5",
                "#B0BEC5",
                "#B0BEC5",
                "#B0BEC5",
                "#B0BEC5",
                "#B0BEC5",
                "#B0BEC5",
                "red",
                "#B0BEC5",
                "#B0BEC5",
                "#B0BEC5",
                "#B0BEC5",
                "#B0BEC5"
               ]
              ]
             }
            ],
            "label": "Topic 17",
            "method": "update"
           },
           {
            "args": [
             {
              "marker.color": [
               [
                "#B0BEC5",
                "#B0BEC5",
                "#B0BEC5",
                "#B0BEC5",
                "#B0BEC5",
                "#B0BEC5",
                "#B0BEC5",
                "#B0BEC5",
                "#B0BEC5",
                "#B0BEC5",
                "#B0BEC5",
                "#B0BEC5",
                "#B0BEC5",
                "#B0BEC5",
                "#B0BEC5",
                "#B0BEC5",
                "#B0BEC5",
                "#B0BEC5",
                "red",
                "#B0BEC5",
                "#B0BEC5",
                "#B0BEC5",
                "#B0BEC5"
               ]
              ]
             }
            ],
            "label": "Topic 18",
            "method": "update"
           },
           {
            "args": [
             {
              "marker.color": [
               [
                "#B0BEC5",
                "#B0BEC5",
                "#B0BEC5",
                "#B0BEC5",
                "#B0BEC5",
                "#B0BEC5",
                "#B0BEC5",
                "#B0BEC5",
                "#B0BEC5",
                "#B0BEC5",
                "#B0BEC5",
                "#B0BEC5",
                "#B0BEC5",
                "#B0BEC5",
                "#B0BEC5",
                "#B0BEC5",
                "#B0BEC5",
                "#B0BEC5",
                "#B0BEC5",
                "red",
                "#B0BEC5",
                "#B0BEC5",
                "#B0BEC5"
               ]
              ]
             }
            ],
            "label": "Topic 19",
            "method": "update"
           },
           {
            "args": [
             {
              "marker.color": [
               [
                "#B0BEC5",
                "#B0BEC5",
                "#B0BEC5",
                "#B0BEC5",
                "#B0BEC5",
                "#B0BEC5",
                "#B0BEC5",
                "#B0BEC5",
                "#B0BEC5",
                "#B0BEC5",
                "#B0BEC5",
                "#B0BEC5",
                "#B0BEC5",
                "#B0BEC5",
                "#B0BEC5",
                "#B0BEC5",
                "#B0BEC5",
                "#B0BEC5",
                "#B0BEC5",
                "#B0BEC5",
                "red",
                "#B0BEC5",
                "#B0BEC5"
               ]
              ]
             }
            ],
            "label": "Topic 20",
            "method": "update"
           },
           {
            "args": [
             {
              "marker.color": [
               [
                "#B0BEC5",
                "#B0BEC5",
                "#B0BEC5",
                "#B0BEC5",
                "#B0BEC5",
                "#B0BEC5",
                "#B0BEC5",
                "#B0BEC5",
                "#B0BEC5",
                "#B0BEC5",
                "#B0BEC5",
                "#B0BEC5",
                "#B0BEC5",
                "#B0BEC5",
                "#B0BEC5",
                "#B0BEC5",
                "#B0BEC5",
                "#B0BEC5",
                "#B0BEC5",
                "#B0BEC5",
                "#B0BEC5",
                "red",
                "#B0BEC5"
               ]
              ]
             }
            ],
            "label": "Topic 21",
            "method": "update"
           },
           {
            "args": [
             {
              "marker.color": [
               [
                "#B0BEC5",
                "#B0BEC5",
                "#B0BEC5",
                "#B0BEC5",
                "#B0BEC5",
                "#B0BEC5",
                "#B0BEC5",
                "#B0BEC5",
                "#B0BEC5",
                "#B0BEC5",
                "#B0BEC5",
                "#B0BEC5",
                "#B0BEC5",
                "#B0BEC5",
                "#B0BEC5",
                "#B0BEC5",
                "#B0BEC5",
                "#B0BEC5",
                "#B0BEC5",
                "#B0BEC5",
                "#B0BEC5",
                "#B0BEC5",
                "red"
               ]
              ]
             }
            ],
            "label": "Topic 22",
            "method": "update"
           }
          ]
         }
        ],
        "template": {
         "data": {
          "bar": [
           {
            "error_x": {
             "color": "rgb(36,36,36)"
            },
            "error_y": {
             "color": "rgb(36,36,36)"
            },
            "marker": {
             "line": {
              "color": "white",
              "width": 0.5
             },
             "pattern": {
              "fillmode": "overlay",
              "size": 10,
              "solidity": 0.2
             }
            },
            "type": "bar"
           }
          ],
          "barpolar": [
           {
            "marker": {
             "line": {
              "color": "white",
              "width": 0.5
             },
             "pattern": {
              "fillmode": "overlay",
              "size": 10,
              "solidity": 0.2
             }
            },
            "type": "barpolar"
           }
          ],
          "carpet": [
           {
            "aaxis": {
             "endlinecolor": "rgb(36,36,36)",
             "gridcolor": "white",
             "linecolor": "white",
             "minorgridcolor": "white",
             "startlinecolor": "rgb(36,36,36)"
            },
            "baxis": {
             "endlinecolor": "rgb(36,36,36)",
             "gridcolor": "white",
             "linecolor": "white",
             "minorgridcolor": "white",
             "startlinecolor": "rgb(36,36,36)"
            },
            "type": "carpet"
           }
          ],
          "choropleth": [
           {
            "colorbar": {
             "outlinewidth": 1,
             "tickcolor": "rgb(36,36,36)",
             "ticks": "outside"
            },
            "type": "choropleth"
           }
          ],
          "contour": [
           {
            "colorbar": {
             "outlinewidth": 1,
             "tickcolor": "rgb(36,36,36)",
             "ticks": "outside"
            },
            "colorscale": [
             [
              0,
              "#440154"
             ],
             [
              0.1111111111111111,
              "#482878"
             ],
             [
              0.2222222222222222,
              "#3e4989"
             ],
             [
              0.3333333333333333,
              "#31688e"
             ],
             [
              0.4444444444444444,
              "#26828e"
             ],
             [
              0.5555555555555556,
              "#1f9e89"
             ],
             [
              0.6666666666666666,
              "#35b779"
             ],
             [
              0.7777777777777778,
              "#6ece58"
             ],
             [
              0.8888888888888888,
              "#b5de2b"
             ],
             [
              1,
              "#fde725"
             ]
            ],
            "type": "contour"
           }
          ],
          "contourcarpet": [
           {
            "colorbar": {
             "outlinewidth": 1,
             "tickcolor": "rgb(36,36,36)",
             "ticks": "outside"
            },
            "type": "contourcarpet"
           }
          ],
          "heatmap": [
           {
            "colorbar": {
             "outlinewidth": 1,
             "tickcolor": "rgb(36,36,36)",
             "ticks": "outside"
            },
            "colorscale": [
             [
              0,
              "#440154"
             ],
             [
              0.1111111111111111,
              "#482878"
             ],
             [
              0.2222222222222222,
              "#3e4989"
             ],
             [
              0.3333333333333333,
              "#31688e"
             ],
             [
              0.4444444444444444,
              "#26828e"
             ],
             [
              0.5555555555555556,
              "#1f9e89"
             ],
             [
              0.6666666666666666,
              "#35b779"
             ],
             [
              0.7777777777777778,
              "#6ece58"
             ],
             [
              0.8888888888888888,
              "#b5de2b"
             ],
             [
              1,
              "#fde725"
             ]
            ],
            "type": "heatmap"
           }
          ],
          "heatmapgl": [
           {
            "colorbar": {
             "outlinewidth": 1,
             "tickcolor": "rgb(36,36,36)",
             "ticks": "outside"
            },
            "colorscale": [
             [
              0,
              "#440154"
             ],
             [
              0.1111111111111111,
              "#482878"
             ],
             [
              0.2222222222222222,
              "#3e4989"
             ],
             [
              0.3333333333333333,
              "#31688e"
             ],
             [
              0.4444444444444444,
              "#26828e"
             ],
             [
              0.5555555555555556,
              "#1f9e89"
             ],
             [
              0.6666666666666666,
              "#35b779"
             ],
             [
              0.7777777777777778,
              "#6ece58"
             ],
             [
              0.8888888888888888,
              "#b5de2b"
             ],
             [
              1,
              "#fde725"
             ]
            ],
            "type": "heatmapgl"
           }
          ],
          "histogram": [
           {
            "marker": {
             "line": {
              "color": "white",
              "width": 0.6
             }
            },
            "type": "histogram"
           }
          ],
          "histogram2d": [
           {
            "colorbar": {
             "outlinewidth": 1,
             "tickcolor": "rgb(36,36,36)",
             "ticks": "outside"
            },
            "colorscale": [
             [
              0,
              "#440154"
             ],
             [
              0.1111111111111111,
              "#482878"
             ],
             [
              0.2222222222222222,
              "#3e4989"
             ],
             [
              0.3333333333333333,
              "#31688e"
             ],
             [
              0.4444444444444444,
              "#26828e"
             ],
             [
              0.5555555555555556,
              "#1f9e89"
             ],
             [
              0.6666666666666666,
              "#35b779"
             ],
             [
              0.7777777777777778,
              "#6ece58"
             ],
             [
              0.8888888888888888,
              "#b5de2b"
             ],
             [
              1,
              "#fde725"
             ]
            ],
            "type": "histogram2d"
           }
          ],
          "histogram2dcontour": [
           {
            "colorbar": {
             "outlinewidth": 1,
             "tickcolor": "rgb(36,36,36)",
             "ticks": "outside"
            },
            "colorscale": [
             [
              0,
              "#440154"
             ],
             [
              0.1111111111111111,
              "#482878"
             ],
             [
              0.2222222222222222,
              "#3e4989"
             ],
             [
              0.3333333333333333,
              "#31688e"
             ],
             [
              0.4444444444444444,
              "#26828e"
             ],
             [
              0.5555555555555556,
              "#1f9e89"
             ],
             [
              0.6666666666666666,
              "#35b779"
             ],
             [
              0.7777777777777778,
              "#6ece58"
             ],
             [
              0.8888888888888888,
              "#b5de2b"
             ],
             [
              1,
              "#fde725"
             ]
            ],
            "type": "histogram2dcontour"
           }
          ],
          "mesh3d": [
           {
            "colorbar": {
             "outlinewidth": 1,
             "tickcolor": "rgb(36,36,36)",
             "ticks": "outside"
            },
            "type": "mesh3d"
           }
          ],
          "parcoords": [
           {
            "line": {
             "colorbar": {
              "outlinewidth": 1,
              "tickcolor": "rgb(36,36,36)",
              "ticks": "outside"
             }
            },
            "type": "parcoords"
           }
          ],
          "pie": [
           {
            "automargin": true,
            "type": "pie"
           }
          ],
          "scatter": [
           {
            "fillpattern": {
             "fillmode": "overlay",
             "size": 10,
             "solidity": 0.2
            },
            "type": "scatter"
           }
          ],
          "scatter3d": [
           {
            "line": {
             "colorbar": {
              "outlinewidth": 1,
              "tickcolor": "rgb(36,36,36)",
              "ticks": "outside"
             }
            },
            "marker": {
             "colorbar": {
              "outlinewidth": 1,
              "tickcolor": "rgb(36,36,36)",
              "ticks": "outside"
             }
            },
            "type": "scatter3d"
           }
          ],
          "scattercarpet": [
           {
            "marker": {
             "colorbar": {
              "outlinewidth": 1,
              "tickcolor": "rgb(36,36,36)",
              "ticks": "outside"
             }
            },
            "type": "scattercarpet"
           }
          ],
          "scattergeo": [
           {
            "marker": {
             "colorbar": {
              "outlinewidth": 1,
              "tickcolor": "rgb(36,36,36)",
              "ticks": "outside"
             }
            },
            "type": "scattergeo"
           }
          ],
          "scattergl": [
           {
            "marker": {
             "colorbar": {
              "outlinewidth": 1,
              "tickcolor": "rgb(36,36,36)",
              "ticks": "outside"
             }
            },
            "type": "scattergl"
           }
          ],
          "scattermapbox": [
           {
            "marker": {
             "colorbar": {
              "outlinewidth": 1,
              "tickcolor": "rgb(36,36,36)",
              "ticks": "outside"
             }
            },
            "type": "scattermapbox"
           }
          ],
          "scatterpolar": [
           {
            "marker": {
             "colorbar": {
              "outlinewidth": 1,
              "tickcolor": "rgb(36,36,36)",
              "ticks": "outside"
             }
            },
            "type": "scatterpolar"
           }
          ],
          "scatterpolargl": [
           {
            "marker": {
             "colorbar": {
              "outlinewidth": 1,
              "tickcolor": "rgb(36,36,36)",
              "ticks": "outside"
             }
            },
            "type": "scatterpolargl"
           }
          ],
          "scatterternary": [
           {
            "marker": {
             "colorbar": {
              "outlinewidth": 1,
              "tickcolor": "rgb(36,36,36)",
              "ticks": "outside"
             }
            },
            "type": "scatterternary"
           }
          ],
          "surface": [
           {
            "colorbar": {
             "outlinewidth": 1,
             "tickcolor": "rgb(36,36,36)",
             "ticks": "outside"
            },
            "colorscale": [
             [
              0,
              "#440154"
             ],
             [
              0.1111111111111111,
              "#482878"
             ],
             [
              0.2222222222222222,
              "#3e4989"
             ],
             [
              0.3333333333333333,
              "#31688e"
             ],
             [
              0.4444444444444444,
              "#26828e"
             ],
             [
              0.5555555555555556,
              "#1f9e89"
             ],
             [
              0.6666666666666666,
              "#35b779"
             ],
             [
              0.7777777777777778,
              "#6ece58"
             ],
             [
              0.8888888888888888,
              "#b5de2b"
             ],
             [
              1,
              "#fde725"
             ]
            ],
            "type": "surface"
           }
          ],
          "table": [
           {
            "cells": {
             "fill": {
              "color": "rgb(237,237,237)"
             },
             "line": {
              "color": "white"
             }
            },
            "header": {
             "fill": {
              "color": "rgb(217,217,217)"
             },
             "line": {
              "color": "white"
             }
            },
            "type": "table"
           }
          ]
         },
         "layout": {
          "annotationdefaults": {
           "arrowhead": 0,
           "arrowwidth": 1
          },
          "autotypenumbers": "strict",
          "coloraxis": {
           "colorbar": {
            "outlinewidth": 1,
            "tickcolor": "rgb(36,36,36)",
            "ticks": "outside"
           }
          },
          "colorscale": {
           "diverging": [
            [
             0,
             "rgb(103,0,31)"
            ],
            [
             0.1,
             "rgb(178,24,43)"
            ],
            [
             0.2,
             "rgb(214,96,77)"
            ],
            [
             0.3,
             "rgb(244,165,130)"
            ],
            [
             0.4,
             "rgb(253,219,199)"
            ],
            [
             0.5,
             "rgb(247,247,247)"
            ],
            [
             0.6,
             "rgb(209,229,240)"
            ],
            [
             0.7,
             "rgb(146,197,222)"
            ],
            [
             0.8,
             "rgb(67,147,195)"
            ],
            [
             0.9,
             "rgb(33,102,172)"
            ],
            [
             1,
             "rgb(5,48,97)"
            ]
           ],
           "sequential": [
            [
             0,
             "#440154"
            ],
            [
             0.1111111111111111,
             "#482878"
            ],
            [
             0.2222222222222222,
             "#3e4989"
            ],
            [
             0.3333333333333333,
             "#31688e"
            ],
            [
             0.4444444444444444,
             "#26828e"
            ],
            [
             0.5555555555555556,
             "#1f9e89"
            ],
            [
             0.6666666666666666,
             "#35b779"
            ],
            [
             0.7777777777777778,
             "#6ece58"
            ],
            [
             0.8888888888888888,
             "#b5de2b"
            ],
            [
             1,
             "#fde725"
            ]
           ],
           "sequentialminus": [
            [
             0,
             "#440154"
            ],
            [
             0.1111111111111111,
             "#482878"
            ],
            [
             0.2222222222222222,
             "#3e4989"
            ],
            [
             0.3333333333333333,
             "#31688e"
            ],
            [
             0.4444444444444444,
             "#26828e"
            ],
            [
             0.5555555555555556,
             "#1f9e89"
            ],
            [
             0.6666666666666666,
             "#35b779"
            ],
            [
             0.7777777777777778,
             "#6ece58"
            ],
            [
             0.8888888888888888,
             "#b5de2b"
            ],
            [
             1,
             "#fde725"
            ]
           ]
          },
          "colorway": [
           "#1F77B4",
           "#FF7F0E",
           "#2CA02C",
           "#D62728",
           "#9467BD",
           "#8C564B",
           "#E377C2",
           "#7F7F7F",
           "#BCBD22",
           "#17BECF"
          ],
          "font": {
           "color": "rgb(36,36,36)"
          },
          "geo": {
           "bgcolor": "white",
           "lakecolor": "white",
           "landcolor": "white",
           "showlakes": true,
           "showland": true,
           "subunitcolor": "white"
          },
          "hoverlabel": {
           "align": "left"
          },
          "hovermode": "closest",
          "mapbox": {
           "style": "light"
          },
          "paper_bgcolor": "white",
          "plot_bgcolor": "white",
          "polar": {
           "angularaxis": {
            "gridcolor": "rgb(232,232,232)",
            "linecolor": "rgb(36,36,36)",
            "showgrid": false,
            "showline": true,
            "ticks": "outside"
           },
           "bgcolor": "white",
           "radialaxis": {
            "gridcolor": "rgb(232,232,232)",
            "linecolor": "rgb(36,36,36)",
            "showgrid": false,
            "showline": true,
            "ticks": "outside"
           }
          },
          "scene": {
           "xaxis": {
            "backgroundcolor": "white",
            "gridcolor": "rgb(232,232,232)",
            "gridwidth": 2,
            "linecolor": "rgb(36,36,36)",
            "showbackground": true,
            "showgrid": false,
            "showline": true,
            "ticks": "outside",
            "zeroline": false,
            "zerolinecolor": "rgb(36,36,36)"
           },
           "yaxis": {
            "backgroundcolor": "white",
            "gridcolor": "rgb(232,232,232)",
            "gridwidth": 2,
            "linecolor": "rgb(36,36,36)",
            "showbackground": true,
            "showgrid": false,
            "showline": true,
            "ticks": "outside",
            "zeroline": false,
            "zerolinecolor": "rgb(36,36,36)"
           },
           "zaxis": {
            "backgroundcolor": "white",
            "gridcolor": "rgb(232,232,232)",
            "gridwidth": 2,
            "linecolor": "rgb(36,36,36)",
            "showbackground": true,
            "showgrid": false,
            "showline": true,
            "ticks": "outside",
            "zeroline": false,
            "zerolinecolor": "rgb(36,36,36)"
           }
          },
          "shapedefaults": {
           "fillcolor": "black",
           "line": {
            "width": 0
           },
           "opacity": 0.3
          },
          "ternary": {
           "aaxis": {
            "gridcolor": "rgb(232,232,232)",
            "linecolor": "rgb(36,36,36)",
            "showgrid": false,
            "showline": true,
            "ticks": "outside"
           },
           "baxis": {
            "gridcolor": "rgb(232,232,232)",
            "linecolor": "rgb(36,36,36)",
            "showgrid": false,
            "showline": true,
            "ticks": "outside"
           },
           "bgcolor": "white",
           "caxis": {
            "gridcolor": "rgb(232,232,232)",
            "linecolor": "rgb(36,36,36)",
            "showgrid": false,
            "showline": true,
            "ticks": "outside"
           }
          },
          "title": {
           "x": 0.05
          },
          "xaxis": {
           "automargin": true,
           "gridcolor": "rgb(232,232,232)",
           "linecolor": "rgb(36,36,36)",
           "showgrid": false,
           "showline": true,
           "ticks": "outside",
           "title": {
            "standoff": 15
           },
           "zeroline": false,
           "zerolinecolor": "rgb(36,36,36)"
          },
          "yaxis": {
           "automargin": true,
           "gridcolor": "rgb(232,232,232)",
           "linecolor": "rgb(36,36,36)",
           "showgrid": false,
           "showline": true,
           "ticks": "outside",
           "title": {
            "standoff": 15
           },
           "zeroline": false,
           "zerolinecolor": "rgb(36,36,36)"
          }
         }
        },
        "title": {
         "font": {
          "color": "Black",
          "size": 22
         },
         "text": "<b>Intertopic Distance Map</b>",
         "x": 0.5,
         "xanchor": "center",
         "y": 0.95,
         "yanchor": "top"
        },
        "width": 650,
        "xaxis": {
         "anchor": "y",
         "domain": [
          0,
          1
         ],
         "range": [
          -11.019750499725342,
          9.843435668945313
         ],
         "title": {
          "text": ""
         },
         "visible": false
        },
        "yaxis": {
         "anchor": "x",
         "domain": [
          0,
          1
         ],
         "range": [
          -1.8025376677513123,
          20.58472099304199
         ],
         "title": {
          "text": ""
         },
         "visible": false
        }
       }
      }
     },
     "metadata": {},
     "output_type": "display_data"
    }
   ],
   "source": [
    "topic_model.visualize_topics()"
   ]
  },
  {
   "cell_type": "markdown",
   "metadata": {},
   "source": [
    "This shows the top words and their probabilities for each of the top `n` topics"
   ]
  },
  {
   "cell_type": "code",
   "execution_count": 11,
   "metadata": {},
   "outputs": [
    {
     "data": {
      "application/vnd.plotly.v1+json": {
       "config": {
        "plotlyServerURL": "https://plot.ly"
       },
       "data": [
        {
         "marker": {
          "color": "#D55E00"
         },
         "orientation": "h",
         "type": "bar",
         "x": [
          0.49703121185302734,
          0.5015661716461182,
          0.5231889486312866,
          0.5732771754264832,
          0.5874034762382507
         ],
         "xaxis": "x",
         "y": [
          "vaccinated  ",
          "covid  ",
          "vaccination  ",
          "vaccines  ",
          "vaccine  "
         ],
         "yaxis": "y"
        },
        {
         "marker": {
          "color": "#0072B2"
         },
         "orientation": "h",
         "type": "bar",
         "x": [
          0.33900657296180725,
          0.35039767622947693,
          0.3758901357650757,
          0.3817981481552124,
          0.39149636030197144
         ],
         "xaxis": "x2",
         "y": [
          "republicans  ",
          "trump  ",
          "extremists  ",
          "bush  ",
          "gop  "
         ],
         "yaxis": "y2"
        },
        {
         "marker": {
          "color": "#CC79A7"
         },
         "orientation": "h",
         "type": "bar",
         "x": [
          0.3943215608596802,
          0.4054156243801117,
          0.4129597544670105,
          0.5092122554779053,
          0.5671368837356567
         ],
         "xaxis": "x3",
         "y": [
          "texasstyle  ",
          "texas  ",
          "texans  ",
          "abortions  ",
          "abortion  "
         ],
         "yaxis": "y3"
        },
        {
         "marker": {
          "color": "#E69F00"
         },
         "orientation": "h",
         "type": "bar",
         "x": [
          0.37809866666793823,
          0.37879320979118347,
          0.38023871183395386,
          0.3924359679222107,
          0.3964083790779114
         ],
         "xaxis": "x4",
         "y": [
          "polls  ",
          "voter  ",
          "ballots  ",
          "election  ",
          "polling  "
         ],
         "yaxis": "y4"
        },
        {
         "marker": {
          "color": "#56B4E9"
         },
         "orientation": "h",
         "type": "bar",
         "x": [
          0.29895728826522827,
          0.37053361535072327,
          0.4245612919330597,
          0.4628773033618927,
          0.620548665523529
         ],
         "xaxis": "x5",
         "y": [
          "progressives  ",
          "democrats  ",
          "agenda  ",
          "bidens  ",
          "biden  "
         ],
         "yaxis": "y5"
        },
        {
         "marker": {
          "color": "#009E73"
         },
         "orientation": "h",
         "type": "bar",
         "x": [
          0.38199055194854736,
          0.4533771872520447,
          0.4677756428718567,
          0.4751488268375397,
          0.5298660397529602
         ],
         "xaxis": "x6",
         "y": [
          "riot  ",
          "capitol  ",
          "protest  ",
          "protesters  ",
          "rally  "
         ],
         "yaxis": "y6"
        },
        {
         "marker": {
          "color": "#F0E442"
         },
         "orientation": "h",
         "type": "bar",
         "x": [
          0.45767444372177124,
          0.4777495563030243,
          0.5074442625045776,
          0.5374772548675537,
          0.5608046650886536
         ],
         "xaxis": "x7",
         "y": [
          "migrant  ",
          "deport  ",
          "migrants  ",
          "haitian  ",
          "haitians  "
         ],
         "yaxis": "y7"
        },
        {
         "marker": {
          "color": "#D55E00"
         },
         "orientation": "h",
         "type": "bar",
         "x": [
          0.3608050048351288,
          0.3608866333961487,
          0.37843117117881775,
          0.4116133749485016,
          0.4405422806739807
         ],
         "xaxis": "x8",
         "y": [
          "spending  ",
          "irs  ",
          "dems  ",
          "tax  ",
          "taxes  "
         ],
         "yaxis": "y8"
        },
        {
         "marker": {
          "color": "#0072B2"
         },
         "orientation": "h",
         "type": "bar",
         "x": [
          0.3595394492149353,
          0.36990928649902344,
          0.3836684823036194,
          0.4053348898887634,
          0.42246150970458984
         ],
         "xaxis": "x9",
         "y": [
          "audits  ",
          "arizonas  ",
          "arizona  ",
          "audit  ",
          "biden  "
         ],
         "yaxis": "y9"
        },
        {
         "marker": {
          "color": "#CC79A7"
         },
         "orientation": "h",
         "type": "bar",
         "x": [
          0.24896250665187836,
          0.27059561014175415,
          0.28150302171707153,
          0.47201621532440186,
          0.5308864712715149
         ],
         "xaxis": "x10",
         "y": [
          "impeachment  ",
          "chinese  ",
          "china  ",
          "milleys  ",
          "milley  "
         ],
         "yaxis": "y10"
        },
        {
         "marker": {
          "color": "#E69F00"
         },
         "orientation": "h",
         "type": "bar",
         "x": [
          0.34481531381607056,
          0.35484445095062256,
          0.37328004837036133,
          0.3805558681488037,
          0.4203197956085205
         ],
         "xaxis": "x11",
         "y": [
          "rich  ",
          "gown  ",
          "dress  ",
          "aoc  ",
          "gala  "
         ],
         "yaxis": "y11"
        },
        {
         "marker": {
          "color": "#56B4E9"
         },
         "orientation": "h",
         "type": "bar",
         "x": [
          0.35969749093055725,
          0.3692757487297058,
          0.38937875628471375,
          0.48163774609565735,
          0.5582216382026672
         ],
         "xaxis": "x12",
         "y": [
          "gop  ",
          "loan  ",
          "mcconnell  ",
          "debtceiling  ",
          "debt  "
         ],
         "yaxis": "y12"
        },
        {
         "marker": {
          "color": "#009E73"
         },
         "orientation": "h",
         "type": "bar",
         "x": [
          0.31427425146102905,
          0.3144940137863159,
          0.39246055483818054,
          0.5642049312591553,
          0.6359260082244873
         ],
         "xaxis": "x13",
         "y": [
          "biden  ",
          "sanders  ",
          "joe  ",
          "manchins  ",
          "manchin  "
         ],
         "yaxis": "y13"
        },
        {
         "marker": {
          "color": "#F0E442"
         },
         "orientation": "h",
         "type": "bar",
         "x": [
          0.38420695066452026,
          0.3913452625274658,
          0.42421209812164307,
          0.4268203377723694,
          0.432033896446228
         ],
         "xaxis": "x14",
         "y": [
          "alleged  ",
          "fbi  ",
          "indicted  ",
          "accused  ",
          "indictment  "
         ],
         "yaxis": "y14"
        },
        {
         "marker": {
          "color": "#D55E00"
         },
         "orientation": "h",
         "type": "bar",
         "x": [
          0.38861098885536194,
          0.4084853231906891,
          0.44793862104415894,
          0.46708816289901733,
          0.4859292805194855
         ],
         "xaxis": "x15",
         "y": [
          "jurist  ",
          "barrett  ",
          "partisanship  ",
          "justices  ",
          "partisan  "
         ],
         "yaxis": "y15"
        }
       ],
       "layout": {
        "annotations": [
         {
          "font": {
           "size": 16
          },
          "showarrow": false,
          "text": "Topic 0",
          "x": 0.0875,
          "xanchor": "center",
          "xref": "paper",
          "y": 1,
          "yanchor": "bottom",
          "yref": "paper"
         },
         {
          "font": {
           "size": 16
          },
          "showarrow": false,
          "text": "Topic 1",
          "x": 0.36250000000000004,
          "xanchor": "center",
          "xref": "paper",
          "y": 1,
          "yanchor": "bottom",
          "yref": "paper"
         },
         {
          "font": {
           "size": 16
          },
          "showarrow": false,
          "text": "Topic 2",
          "x": 0.6375000000000001,
          "xanchor": "center",
          "xref": "paper",
          "y": 1,
          "yanchor": "bottom",
          "yref": "paper"
         },
         {
          "font": {
           "size": 16
          },
          "showarrow": false,
          "text": "Topic 3",
          "x": 0.9125,
          "xanchor": "center",
          "xref": "paper",
          "y": 1,
          "yanchor": "bottom",
          "yref": "paper"
         },
         {
          "font": {
           "size": 16
          },
          "showarrow": false,
          "text": "Topic 4",
          "x": 0.0875,
          "xanchor": "center",
          "xref": "paper",
          "y": 0.7250000000000001,
          "yanchor": "bottom",
          "yref": "paper"
         },
         {
          "font": {
           "size": 16
          },
          "showarrow": false,
          "text": "Topic 5",
          "x": 0.36250000000000004,
          "xanchor": "center",
          "xref": "paper",
          "y": 0.7250000000000001,
          "yanchor": "bottom",
          "yref": "paper"
         },
         {
          "font": {
           "size": 16
          },
          "showarrow": false,
          "text": "Topic 6",
          "x": 0.6375000000000001,
          "xanchor": "center",
          "xref": "paper",
          "y": 0.7250000000000001,
          "yanchor": "bottom",
          "yref": "paper"
         },
         {
          "font": {
           "size": 16
          },
          "showarrow": false,
          "text": "Topic 7",
          "x": 0.9125,
          "xanchor": "center",
          "xref": "paper",
          "y": 0.7250000000000001,
          "yanchor": "bottom",
          "yref": "paper"
         },
         {
          "font": {
           "size": 16
          },
          "showarrow": false,
          "text": "Topic 8",
          "x": 0.0875,
          "xanchor": "center",
          "xref": "paper",
          "y": 0.45,
          "yanchor": "bottom",
          "yref": "paper"
         },
         {
          "font": {
           "size": 16
          },
          "showarrow": false,
          "text": "Topic 9",
          "x": 0.36250000000000004,
          "xanchor": "center",
          "xref": "paper",
          "y": 0.45,
          "yanchor": "bottom",
          "yref": "paper"
         },
         {
          "font": {
           "size": 16
          },
          "showarrow": false,
          "text": "Topic 10",
          "x": 0.6375000000000001,
          "xanchor": "center",
          "xref": "paper",
          "y": 0.45,
          "yanchor": "bottom",
          "yref": "paper"
         },
         {
          "font": {
           "size": 16
          },
          "showarrow": false,
          "text": "Topic 11",
          "x": 0.9125,
          "xanchor": "center",
          "xref": "paper",
          "y": 0.45,
          "yanchor": "bottom",
          "yref": "paper"
         },
         {
          "font": {
           "size": 16
          },
          "showarrow": false,
          "text": "Topic 12",
          "x": 0.0875,
          "xanchor": "center",
          "xref": "paper",
          "y": 0.175,
          "yanchor": "bottom",
          "yref": "paper"
         },
         {
          "font": {
           "size": 16
          },
          "showarrow": false,
          "text": "Topic 13",
          "x": 0.36250000000000004,
          "xanchor": "center",
          "xref": "paper",
          "y": 0.175,
          "yanchor": "bottom",
          "yref": "paper"
         },
         {
          "font": {
           "size": 16
          },
          "showarrow": false,
          "text": "Topic 14",
          "x": 0.6375000000000001,
          "xanchor": "center",
          "xref": "paper",
          "y": 0.175,
          "yanchor": "bottom",
          "yref": "paper"
         }
        ],
        "height": 1000,
        "hoverlabel": {
         "bgcolor": "white",
         "font": {
          "family": "Rockwell",
          "size": 16
         }
        },
        "showlegend": false,
        "template": {
         "data": {
          "bar": [
           {
            "error_x": {
             "color": "#2a3f5f"
            },
            "error_y": {
             "color": "#2a3f5f"
            },
            "marker": {
             "line": {
              "color": "white",
              "width": 0.5
             },
             "pattern": {
              "fillmode": "overlay",
              "size": 10,
              "solidity": 0.2
             }
            },
            "type": "bar"
           }
          ],
          "barpolar": [
           {
            "marker": {
             "line": {
              "color": "white",
              "width": 0.5
             },
             "pattern": {
              "fillmode": "overlay",
              "size": 10,
              "solidity": 0.2
             }
            },
            "type": "barpolar"
           }
          ],
          "carpet": [
           {
            "aaxis": {
             "endlinecolor": "#2a3f5f",
             "gridcolor": "#C8D4E3",
             "linecolor": "#C8D4E3",
             "minorgridcolor": "#C8D4E3",
             "startlinecolor": "#2a3f5f"
            },
            "baxis": {
             "endlinecolor": "#2a3f5f",
             "gridcolor": "#C8D4E3",
             "linecolor": "#C8D4E3",
             "minorgridcolor": "#C8D4E3",
             "startlinecolor": "#2a3f5f"
            },
            "type": "carpet"
           }
          ],
          "choropleth": [
           {
            "colorbar": {
             "outlinewidth": 0,
             "ticks": ""
            },
            "type": "choropleth"
           }
          ],
          "contour": [
           {
            "colorbar": {
             "outlinewidth": 0,
             "ticks": ""
            },
            "colorscale": [
             [
              0,
              "#0d0887"
             ],
             [
              0.1111111111111111,
              "#46039f"
             ],
             [
              0.2222222222222222,
              "#7201a8"
             ],
             [
              0.3333333333333333,
              "#9c179e"
             ],
             [
              0.4444444444444444,
              "#bd3786"
             ],
             [
              0.5555555555555556,
              "#d8576b"
             ],
             [
              0.6666666666666666,
              "#ed7953"
             ],
             [
              0.7777777777777778,
              "#fb9f3a"
             ],
             [
              0.8888888888888888,
              "#fdca26"
             ],
             [
              1,
              "#f0f921"
             ]
            ],
            "type": "contour"
           }
          ],
          "contourcarpet": [
           {
            "colorbar": {
             "outlinewidth": 0,
             "ticks": ""
            },
            "type": "contourcarpet"
           }
          ],
          "heatmap": [
           {
            "colorbar": {
             "outlinewidth": 0,
             "ticks": ""
            },
            "colorscale": [
             [
              0,
              "#0d0887"
             ],
             [
              0.1111111111111111,
              "#46039f"
             ],
             [
              0.2222222222222222,
              "#7201a8"
             ],
             [
              0.3333333333333333,
              "#9c179e"
             ],
             [
              0.4444444444444444,
              "#bd3786"
             ],
             [
              0.5555555555555556,
              "#d8576b"
             ],
             [
              0.6666666666666666,
              "#ed7953"
             ],
             [
              0.7777777777777778,
              "#fb9f3a"
             ],
             [
              0.8888888888888888,
              "#fdca26"
             ],
             [
              1,
              "#f0f921"
             ]
            ],
            "type": "heatmap"
           }
          ],
          "heatmapgl": [
           {
            "colorbar": {
             "outlinewidth": 0,
             "ticks": ""
            },
            "colorscale": [
             [
              0,
              "#0d0887"
             ],
             [
              0.1111111111111111,
              "#46039f"
             ],
             [
              0.2222222222222222,
              "#7201a8"
             ],
             [
              0.3333333333333333,
              "#9c179e"
             ],
             [
              0.4444444444444444,
              "#bd3786"
             ],
             [
              0.5555555555555556,
              "#d8576b"
             ],
             [
              0.6666666666666666,
              "#ed7953"
             ],
             [
              0.7777777777777778,
              "#fb9f3a"
             ],
             [
              0.8888888888888888,
              "#fdca26"
             ],
             [
              1,
              "#f0f921"
             ]
            ],
            "type": "heatmapgl"
           }
          ],
          "histogram": [
           {
            "marker": {
             "pattern": {
              "fillmode": "overlay",
              "size": 10,
              "solidity": 0.2
             }
            },
            "type": "histogram"
           }
          ],
          "histogram2d": [
           {
            "colorbar": {
             "outlinewidth": 0,
             "ticks": ""
            },
            "colorscale": [
             [
              0,
              "#0d0887"
             ],
             [
              0.1111111111111111,
              "#46039f"
             ],
             [
              0.2222222222222222,
              "#7201a8"
             ],
             [
              0.3333333333333333,
              "#9c179e"
             ],
             [
              0.4444444444444444,
              "#bd3786"
             ],
             [
              0.5555555555555556,
              "#d8576b"
             ],
             [
              0.6666666666666666,
              "#ed7953"
             ],
             [
              0.7777777777777778,
              "#fb9f3a"
             ],
             [
              0.8888888888888888,
              "#fdca26"
             ],
             [
              1,
              "#f0f921"
             ]
            ],
            "type": "histogram2d"
           }
          ],
          "histogram2dcontour": [
           {
            "colorbar": {
             "outlinewidth": 0,
             "ticks": ""
            },
            "colorscale": [
             [
              0,
              "#0d0887"
             ],
             [
              0.1111111111111111,
              "#46039f"
             ],
             [
              0.2222222222222222,
              "#7201a8"
             ],
             [
              0.3333333333333333,
              "#9c179e"
             ],
             [
              0.4444444444444444,
              "#bd3786"
             ],
             [
              0.5555555555555556,
              "#d8576b"
             ],
             [
              0.6666666666666666,
              "#ed7953"
             ],
             [
              0.7777777777777778,
              "#fb9f3a"
             ],
             [
              0.8888888888888888,
              "#fdca26"
             ],
             [
              1,
              "#f0f921"
             ]
            ],
            "type": "histogram2dcontour"
           }
          ],
          "mesh3d": [
           {
            "colorbar": {
             "outlinewidth": 0,
             "ticks": ""
            },
            "type": "mesh3d"
           }
          ],
          "parcoords": [
           {
            "line": {
             "colorbar": {
              "outlinewidth": 0,
              "ticks": ""
             }
            },
            "type": "parcoords"
           }
          ],
          "pie": [
           {
            "automargin": true,
            "type": "pie"
           }
          ],
          "scatter": [
           {
            "fillpattern": {
             "fillmode": "overlay",
             "size": 10,
             "solidity": 0.2
            },
            "type": "scatter"
           }
          ],
          "scatter3d": [
           {
            "line": {
             "colorbar": {
              "outlinewidth": 0,
              "ticks": ""
             }
            },
            "marker": {
             "colorbar": {
              "outlinewidth": 0,
              "ticks": ""
             }
            },
            "type": "scatter3d"
           }
          ],
          "scattercarpet": [
           {
            "marker": {
             "colorbar": {
              "outlinewidth": 0,
              "ticks": ""
             }
            },
            "type": "scattercarpet"
           }
          ],
          "scattergeo": [
           {
            "marker": {
             "colorbar": {
              "outlinewidth": 0,
              "ticks": ""
             }
            },
            "type": "scattergeo"
           }
          ],
          "scattergl": [
           {
            "marker": {
             "colorbar": {
              "outlinewidth": 0,
              "ticks": ""
             }
            },
            "type": "scattergl"
           }
          ],
          "scattermapbox": [
           {
            "marker": {
             "colorbar": {
              "outlinewidth": 0,
              "ticks": ""
             }
            },
            "type": "scattermapbox"
           }
          ],
          "scatterpolar": [
           {
            "marker": {
             "colorbar": {
              "outlinewidth": 0,
              "ticks": ""
             }
            },
            "type": "scatterpolar"
           }
          ],
          "scatterpolargl": [
           {
            "marker": {
             "colorbar": {
              "outlinewidth": 0,
              "ticks": ""
             }
            },
            "type": "scatterpolargl"
           }
          ],
          "scatterternary": [
           {
            "marker": {
             "colorbar": {
              "outlinewidth": 0,
              "ticks": ""
             }
            },
            "type": "scatterternary"
           }
          ],
          "surface": [
           {
            "colorbar": {
             "outlinewidth": 0,
             "ticks": ""
            },
            "colorscale": [
             [
              0,
              "#0d0887"
             ],
             [
              0.1111111111111111,
              "#46039f"
             ],
             [
              0.2222222222222222,
              "#7201a8"
             ],
             [
              0.3333333333333333,
              "#9c179e"
             ],
             [
              0.4444444444444444,
              "#bd3786"
             ],
             [
              0.5555555555555556,
              "#d8576b"
             ],
             [
              0.6666666666666666,
              "#ed7953"
             ],
             [
              0.7777777777777778,
              "#fb9f3a"
             ],
             [
              0.8888888888888888,
              "#fdca26"
             ],
             [
              1,
              "#f0f921"
             ]
            ],
            "type": "surface"
           }
          ],
          "table": [
           {
            "cells": {
             "fill": {
              "color": "#EBF0F8"
             },
             "line": {
              "color": "white"
             }
            },
            "header": {
             "fill": {
              "color": "#C8D4E3"
             },
             "line": {
              "color": "white"
             }
            },
            "type": "table"
           }
          ]
         },
         "layout": {
          "annotationdefaults": {
           "arrowcolor": "#2a3f5f",
           "arrowhead": 0,
           "arrowwidth": 1
          },
          "autotypenumbers": "strict",
          "coloraxis": {
           "colorbar": {
            "outlinewidth": 0,
            "ticks": ""
           }
          },
          "colorscale": {
           "diverging": [
            [
             0,
             "#8e0152"
            ],
            [
             0.1,
             "#c51b7d"
            ],
            [
             0.2,
             "#de77ae"
            ],
            [
             0.3,
             "#f1b6da"
            ],
            [
             0.4,
             "#fde0ef"
            ],
            [
             0.5,
             "#f7f7f7"
            ],
            [
             0.6,
             "#e6f5d0"
            ],
            [
             0.7,
             "#b8e186"
            ],
            [
             0.8,
             "#7fbc41"
            ],
            [
             0.9,
             "#4d9221"
            ],
            [
             1,
             "#276419"
            ]
           ],
           "sequential": [
            [
             0,
             "#0d0887"
            ],
            [
             0.1111111111111111,
             "#46039f"
            ],
            [
             0.2222222222222222,
             "#7201a8"
            ],
            [
             0.3333333333333333,
             "#9c179e"
            ],
            [
             0.4444444444444444,
             "#bd3786"
            ],
            [
             0.5555555555555556,
             "#d8576b"
            ],
            [
             0.6666666666666666,
             "#ed7953"
            ],
            [
             0.7777777777777778,
             "#fb9f3a"
            ],
            [
             0.8888888888888888,
             "#fdca26"
            ],
            [
             1,
             "#f0f921"
            ]
           ],
           "sequentialminus": [
            [
             0,
             "#0d0887"
            ],
            [
             0.1111111111111111,
             "#46039f"
            ],
            [
             0.2222222222222222,
             "#7201a8"
            ],
            [
             0.3333333333333333,
             "#9c179e"
            ],
            [
             0.4444444444444444,
             "#bd3786"
            ],
            [
             0.5555555555555556,
             "#d8576b"
            ],
            [
             0.6666666666666666,
             "#ed7953"
            ],
            [
             0.7777777777777778,
             "#fb9f3a"
            ],
            [
             0.8888888888888888,
             "#fdca26"
            ],
            [
             1,
             "#f0f921"
            ]
           ]
          },
          "colorway": [
           "#636efa",
           "#EF553B",
           "#00cc96",
           "#ab63fa",
           "#FFA15A",
           "#19d3f3",
           "#FF6692",
           "#B6E880",
           "#FF97FF",
           "#FECB52"
          ],
          "font": {
           "color": "#2a3f5f"
          },
          "geo": {
           "bgcolor": "white",
           "lakecolor": "white",
           "landcolor": "white",
           "showlakes": true,
           "showland": true,
           "subunitcolor": "#C8D4E3"
          },
          "hoverlabel": {
           "align": "left"
          },
          "hovermode": "closest",
          "mapbox": {
           "style": "light"
          },
          "paper_bgcolor": "white",
          "plot_bgcolor": "white",
          "polar": {
           "angularaxis": {
            "gridcolor": "#EBF0F8",
            "linecolor": "#EBF0F8",
            "ticks": ""
           },
           "bgcolor": "white",
           "radialaxis": {
            "gridcolor": "#EBF0F8",
            "linecolor": "#EBF0F8",
            "ticks": ""
           }
          },
          "scene": {
           "xaxis": {
            "backgroundcolor": "white",
            "gridcolor": "#DFE8F3",
            "gridwidth": 2,
            "linecolor": "#EBF0F8",
            "showbackground": true,
            "ticks": "",
            "zerolinecolor": "#EBF0F8"
           },
           "yaxis": {
            "backgroundcolor": "white",
            "gridcolor": "#DFE8F3",
            "gridwidth": 2,
            "linecolor": "#EBF0F8",
            "showbackground": true,
            "ticks": "",
            "zerolinecolor": "#EBF0F8"
           },
           "zaxis": {
            "backgroundcolor": "white",
            "gridcolor": "#DFE8F3",
            "gridwidth": 2,
            "linecolor": "#EBF0F8",
            "showbackground": true,
            "ticks": "",
            "zerolinecolor": "#EBF0F8"
           }
          },
          "shapedefaults": {
           "line": {
            "color": "#2a3f5f"
           }
          },
          "ternary": {
           "aaxis": {
            "gridcolor": "#DFE8F3",
            "linecolor": "#A2B1C6",
            "ticks": ""
           },
           "baxis": {
            "gridcolor": "#DFE8F3",
            "linecolor": "#A2B1C6",
            "ticks": ""
           },
           "bgcolor": "white",
           "caxis": {
            "gridcolor": "#DFE8F3",
            "linecolor": "#A2B1C6",
            "ticks": ""
           }
          },
          "title": {
           "x": 0.05
          },
          "xaxis": {
           "automargin": true,
           "gridcolor": "#EBF0F8",
           "linecolor": "#EBF0F8",
           "ticks": "",
           "title": {
            "standoff": 15
           },
           "zerolinecolor": "#EBF0F8",
           "zerolinewidth": 2
          },
          "yaxis": {
           "automargin": true,
           "gridcolor": "#EBF0F8",
           "linecolor": "#EBF0F8",
           "ticks": "",
           "title": {
            "standoff": 15
           },
           "zerolinecolor": "#EBF0F8",
           "zerolinewidth": 2
          }
         }
        },
        "title": {
         "font": {
          "color": "Black",
          "size": 22
         },
         "text": "Topic Word Scores",
         "x": 0.5,
         "xanchor": "center",
         "yanchor": "top"
        },
        "width": 1000,
        "xaxis": {
         "anchor": "y",
         "domain": [
          0,
          0.175
         ],
         "showgrid": true
        },
        "xaxis10": {
         "anchor": "y10",
         "domain": [
          0.275,
          0.45
         ],
         "showgrid": true
        },
        "xaxis11": {
         "anchor": "y11",
         "domain": [
          0.55,
          0.7250000000000001
         ],
         "showgrid": true
        },
        "xaxis12": {
         "anchor": "y12",
         "domain": [
          0.825,
          1
         ],
         "showgrid": true
        },
        "xaxis13": {
         "anchor": "y13",
         "domain": [
          0,
          0.175
         ],
         "showgrid": true
        },
        "xaxis14": {
         "anchor": "y14",
         "domain": [
          0.275,
          0.45
         ],
         "showgrid": true
        },
        "xaxis15": {
         "anchor": "y15",
         "domain": [
          0.55,
          0.7250000000000001
         ],
         "showgrid": true
        },
        "xaxis16": {
         "anchor": "y16",
         "domain": [
          0.825,
          1
         ],
         "showgrid": true
        },
        "xaxis2": {
         "anchor": "y2",
         "domain": [
          0.275,
          0.45
         ],
         "showgrid": true
        },
        "xaxis3": {
         "anchor": "y3",
         "domain": [
          0.55,
          0.7250000000000001
         ],
         "showgrid": true
        },
        "xaxis4": {
         "anchor": "y4",
         "domain": [
          0.825,
          1
         ],
         "showgrid": true
        },
        "xaxis5": {
         "anchor": "y5",
         "domain": [
          0,
          0.175
         ],
         "showgrid": true
        },
        "xaxis6": {
         "anchor": "y6",
         "domain": [
          0.275,
          0.45
         ],
         "showgrid": true
        },
        "xaxis7": {
         "anchor": "y7",
         "domain": [
          0.55,
          0.7250000000000001
         ],
         "showgrid": true
        },
        "xaxis8": {
         "anchor": "y8",
         "domain": [
          0.825,
          1
         ],
         "showgrid": true
        },
        "xaxis9": {
         "anchor": "y9",
         "domain": [
          0,
          0.175
         ],
         "showgrid": true
        },
        "yaxis": {
         "anchor": "x",
         "domain": [
          0.825,
          1
         ],
         "showgrid": true
        },
        "yaxis10": {
         "anchor": "x10",
         "domain": [
          0.275,
          0.45
         ],
         "showgrid": true
        },
        "yaxis11": {
         "anchor": "x11",
         "domain": [
          0.275,
          0.45
         ],
         "showgrid": true
        },
        "yaxis12": {
         "anchor": "x12",
         "domain": [
          0.275,
          0.45
         ],
         "showgrid": true
        },
        "yaxis13": {
         "anchor": "x13",
         "domain": [
          0,
          0.175
         ],
         "showgrid": true
        },
        "yaxis14": {
         "anchor": "x14",
         "domain": [
          0,
          0.175
         ],
         "showgrid": true
        },
        "yaxis15": {
         "anchor": "x15",
         "domain": [
          0,
          0.175
         ],
         "showgrid": true
        },
        "yaxis16": {
         "anchor": "x16",
         "domain": [
          0,
          0.175
         ],
         "showgrid": true
        },
        "yaxis2": {
         "anchor": "x2",
         "domain": [
          0.825,
          1
         ],
         "showgrid": true
        },
        "yaxis3": {
         "anchor": "x3",
         "domain": [
          0.825,
          1
         ],
         "showgrid": true
        },
        "yaxis4": {
         "anchor": "x4",
         "domain": [
          0.825,
          1
         ],
         "showgrid": true
        },
        "yaxis5": {
         "anchor": "x5",
         "domain": [
          0.55,
          0.7250000000000001
         ],
         "showgrid": true
        },
        "yaxis6": {
         "anchor": "x6",
         "domain": [
          0.55,
          0.7250000000000001
         ],
         "showgrid": true
        },
        "yaxis7": {
         "anchor": "x7",
         "domain": [
          0.55,
          0.7250000000000001
         ],
         "showgrid": true
        },
        "yaxis8": {
         "anchor": "x8",
         "domain": [
          0.55,
          0.7250000000000001
         ],
         "showgrid": true
        },
        "yaxis9": {
         "anchor": "x9",
         "domain": [
          0.275,
          0.45
         ],
         "showgrid": true
        }
       }
      }
     },
     "metadata": {},
     "output_type": "display_data"
    }
   ],
   "source": [
    "topic_model.visualize_barchart(top_n_topics=15)"
   ]
  },
  {
   "cell_type": "markdown",
   "metadata": {},
   "source": [
    "We can also visualize how much topics are used over time."
   ]
  },
  {
   "cell_type": "code",
   "execution_count": 12,
   "metadata": {},
   "outputs": [
    {
     "name": "stderr",
     "output_type": "stream",
     "text": [
      "30it [04:16,  8.55s/it]\n"
     ]
    }
   ],
   "source": [
    "timestamps = sr[sr.subreddit=='politics'].date.to_list()\n",
    "topics_over_time = topic_model.topics_over_time(dataset, timestamps, nr_bins=30)"
   ]
  },
  {
   "cell_type": "code",
   "execution_count": 13,
   "metadata": {},
   "outputs": [
    {
     "data": {
      "application/vnd.plotly.v1+json": {
       "config": {
        "plotlyServerURL": "https://plot.ly"
       },
       "data": [
        {
         "hoverinfo": "text",
         "hovertext": [
          "<b>Topic 0</b><br>Words: vaccine, vaccines, unvaccinated, pandemic, covid",
          "<b>Topic 0</b><br>Words: vaccine, immunity, unvaccinated, immune, biden",
          "<b>Topic 0</b><br>Words: vaccination, vaccinated, vaccine, vaccines, pandemic",
          "<b>Topic 0</b><br>Words: vaccinated, vaccine, covid, covid19, pandemic",
          "<b>Topic 0</b><br>Words: vaccine, vaccines, vaccinated, covid, unvaccinated",
          "<b>Topic 0</b><br>Words: vaccine, vaccination, covid, covid19, unvaccinated",
          "<b>Topic 0</b><br>Words: vaccine, vaccines, vaccination, vaccinated, covid",
          "<b>Topic 0</b><br>Words: vaccine, vaccinated, unvaccinated, desantis, pandemic",
          "<b>Topic 0</b><br>Words: vaccine, vaccines, vaccinations, unvaccinated, masks",
          "<b>Topic 0</b><br>Words: vaccine, vaccines, vaccinations, vaccinated, covid",
          "<b>Topic 0</b><br>Words: vaccine, vaccination, vaccines, vaccinated, unvaccinated",
          "<b>Topic 0</b><br>Words: covid, covid19, vaccine, vaccinated, vaccines",
          "<b>Topic 0</b><br>Words: covid, covidloving, vaccine, covid19, vaccines",
          "<b>Topic 0</b><br>Words: covid, pandemic, covid19, coronavirus, vaccine",
          "<b>Topic 0</b><br>Words: vaccine, vaccines, covid, vaccinated, vaccination",
          "<b>Topic 0</b><br>Words: vaccine, vaccination, vaccinated, covid, pandemic",
          "<b>Topic 0</b><br>Words: vaccine, vaccinated, mandate, covid, mandates",
          "<b>Topic 0</b><br>Words: vaccine, vaccines, vaccinated, covid, coronavirus",
          "<b>Topic 0</b><br>Words: vaccine, vaccines, vaccination, vaccinate, covid",
          "<b>Topic 0</b><br>Words: covid, covid19, pandemic, vaccinated, unvaccinated",
          "<b>Topic 0</b><br>Words: vaccine, vaccinations, vaccinated, vaccines, pandemic",
          "<b>Topic 0</b><br>Words: covid, covid19, vaccine, vaccination, vaccines",
          "<b>Topic 0</b><br>Words: vaccinations, vaccine, unvaccinated, vaccines, covid",
          "<b>Topic 0</b><br>Words: mandates, masks, mask, vaccine, mandate",
          "<b>Topic 0</b><br>Words: surgeon, vaccine, vaccines, immunity, covid",
          "<b>Topic 0</b><br>Words: covid, covidoverwhelmed, pandemics, covid19, quarantine",
          "<b>Topic 0</b><br>Words: mandate, mandates, mask, vaccinated, ban",
          "<b>Topic 0</b><br>Words: covid, covid19, vaccinated, pandemic, vaccine",
          "<b>Topic 0</b><br>Words: vaccine, vaccines, vaccinated, unvaccinated, pandemic",
          "<b>Topic 0</b><br>Words: covid, vaccinated, vaccine, covid19, unvaccinated"
         ],
         "marker": {
          "color": "#E69F00"
         },
         "mode": "lines",
         "name": "0_vaccine_vaccines_vaccination_covid",
         "type": "scatter",
         "x": [
          "2021-09-11T03:41:05.361000",
          "2021-09-11T15:12:07.633333",
          "2021-09-12T02:23:02.266666",
          "2021-09-12T13:33:56.900000",
          "2021-09-13T00:44:51.533333",
          "2021-09-13T11:55:46.166666",
          "2021-09-13T23:06:40.800000",
          "2021-09-14T10:17:35.433333",
          "2021-09-14T21:28:30.066666",
          "2021-09-15T08:39:24.700000",
          "2021-09-15T19:50:19.333333",
          "2021-09-16T07:01:13.966666",
          "2021-09-16T18:12:08.600000",
          "2021-09-17T05:23:03.233333",
          "2021-09-17T16:33:57.866666",
          "2021-09-18T03:44:52.500000",
          "2021-09-18T14:55:47.133333",
          "2021-09-19T02:06:41.766666",
          "2021-09-19T13:17:36.400000",
          "2021-09-20T00:28:31.033333",
          "2021-09-20T11:39:25.666666",
          "2021-09-20T22:50:20.300000",
          "2021-09-21T10:01:14.933333",
          "2021-09-21T21:12:09.566666",
          "2021-09-22T08:23:04.200000",
          "2021-09-22T19:33:58.833333",
          "2021-09-23T06:44:53.466666",
          "2021-09-23T17:55:48.100000",
          "2021-09-24T05:06:42.733333",
          "2021-09-24T16:17:37.366666"
         ],
         "y": [
          17,
          21,
          6,
          24,
          6,
          30,
          10,
          26,
          11,
          23,
          18,
          15,
          16,
          11,
          28,
          9,
          12,
          7,
          14,
          7,
          18,
          5,
          12,
          8,
          15,
          17,
          13,
          5,
          5,
          10
         ]
        },
        {
         "hoverinfo": "text",
         "hovertext": [
          "<b>Topic 1</b><br>Words: terrorism, 911, extremism, evidence, afghanistan",
          "<b>Topic 1</b><br>Words: terrorism, extremists, terrorists, threat, violent",
          "<b>Topic 1</b><br>Words: bush, extremism, trump, 911, extremists",
          "<b>Topic 1</b><br>Words: republicans, gop, trump, republican, trumps",
          "<b>Topic 1</b><br>Words: gop, wars, republicans, trump, democrats",
          "<b>Topic 1</b><br>Words: trump, trumps, 2024, donald, bush",
          "<b>Topic 1</b><br>Words: hillary, clinton, democrats, trump, gop",
          "<b>Topic 1</b><br>Words: trump, donald, gop, untruthful, trumps",
          "<b>Topic 1</b><br>Words: trump, mcconnell, presidency, moderates, democrats",
          "<b>Topic 1</b><br>Words: gop, trump, democrats, donald, trumps",
          "<b>Topic 1</b><br>Words: lie, trump, election, politics, trumps",
          "<b>Topic 1</b><br>Words: elections, trump, election, gop, mcconnell",
          "<b>Topic 1</b><br>Words: trump, election, reelection, trumpism, impeach",
          "<b>Topic 1</b><br>Words: gop, republicans, republican, trumpism, trump",
          "<b>Topic 1</b><br>Words: georgia, election, impeach, trump, 2020",
          "<b>Topic 1</b><br>Words: dogma, trumpism, donald, trump, voter",
          "<b>Topic 1</b><br>Words: gop, mcconnell, trump, hyperpartisanship, republicans",
          "<b>Topic 1</b><br>Words: rhetoric, election, democracy, fascism, trump",
          "<b>Topic 1</b><br>Words: mcconnell, gop, republican, republicans, democrats",
          "<b>Topic 1</b><br>Words: impeach, mcconnell, gop, republicans, senators",
          "<b>Topic 1</b><br>Words: conservatives, democrats, republicans, mcconnell, libs",
          "<b>Topic 1</b><br>Words: polite, election, trump, voters, overturn",
          "<b>Topic 1</b><br>Words: campaign, baseless, election, claims, voting",
          "<b>Topic 1</b><br>Words: campaign, trump, trumps, mcconnell, terrorism",
          "<b>Topic 1</b><br>Words: fraud, elections, trump, baseless, trumps",
          "<b>Topic 1</b><br>Words: trump, cheney, trumps, bushtrump, presidential",
          "<b>Topic 1</b><br>Words: gop, trump, mcconnell, donald, trumps",
          "<b>Topic 1</b><br>Words: mcconnell, gop, republican, republicans, lindsey",
          "<b>Topic 1</b><br>Words: trumpism, trump, gop, trumps, democrats",
          "<b>Topic 1</b><br>Words: republicans, democrats, falsehoods, conservatives, mccarthy"
         ],
         "marker": {
          "color": "#56B4E9"
         },
         "mode": "lines",
         "name": "1_gop_bush_extremists_trump",
         "type": "scatter",
         "x": [
          "2021-09-11T03:41:05.361000",
          "2021-09-11T15:12:07.633333",
          "2021-09-12T02:23:02.266666",
          "2021-09-12T13:33:56.900000",
          "2021-09-13T00:44:51.533333",
          "2021-09-13T11:55:46.166666",
          "2021-09-13T23:06:40.800000",
          "2021-09-14T10:17:35.433333",
          "2021-09-14T21:28:30.066666",
          "2021-09-15T08:39:24.700000",
          "2021-09-15T19:50:19.333333",
          "2021-09-16T07:01:13.966666",
          "2021-09-16T18:12:08.600000",
          "2021-09-17T05:23:03.233333",
          "2021-09-17T16:33:57.866666",
          "2021-09-18T03:44:52.500000",
          "2021-09-18T14:55:47.133333",
          "2021-09-19T02:06:41.766666",
          "2021-09-19T13:17:36.400000",
          "2021-09-20T00:28:31.033333",
          "2021-09-20T11:39:25.666666",
          "2021-09-20T22:50:20.300000",
          "2021-09-21T10:01:14.933333",
          "2021-09-21T21:12:09.566666",
          "2021-09-22T08:23:04.200000",
          "2021-09-22T19:33:58.833333",
          "2021-09-23T06:44:53.466666",
          "2021-09-23T17:55:48.100000",
          "2021-09-24T05:06:42.733333",
          "2021-09-24T16:17:37.366666"
         ],
         "y": [
          12,
          30,
          13,
          15,
          11,
          13,
          3,
          10,
          5,
          6,
          6,
          16,
          10,
          12,
          11,
          3,
          7,
          6,
          13,
          4,
          15,
          1,
          16,
          7,
          12,
          7,
          7,
          4,
          6,
          5
         ]
        },
        {
         "hoverinfo": "text",
         "hovertext": [
          "<b>Topic 2</b><br>Words: texans, texass, texasstyle, texas, relocate",
          "<b>Topic 2</b><br>Words: abortion, abortions, texasstyle, texas, texass",
          "<b>Topic 2</b><br>Words: abortion, abortions, reproductive, restricting, rights",
          "<b>Topic 2</b><br>Words: abortion, texans, texas, roe, states",
          "<b>Topic 2</b><br>Words: abortion, abortions, kavanaughs, texans, texass",
          "<b>Topic 2</b><br>Words: abortion, abortions, parenthood, texasstyle, texas",
          "<b>Topic 2</b><br>Words: abortion, abortions, roe, kavanaughs, rapists",
          "<b>Topic 2</b><br>Words: kavanaugh, kavanaughs, abortion, abortions, texas",
          "<b>Topic 2</b><br>Words: abortion, abortions, kavanaughs, texas, texasstyle",
          "<b>Topic 2</b><br>Words: abortion, abortions, texass, texas, texans",
          "<b>Topic 2</b><br>Words: abortion, abortions, roe, texans, texass",
          "<b>Topic 2</b><br>Words: abortion, abortions, filibuster, roe, fascism",
          "<b>Topic 2</b><br>Words: abortion, abortions, texasstyle, voters, texans",
          "<b>Topic 2</b><br>Words: abortion, abortions, abstinence, veto, roe",
          "<b>Topic 2</b><br>Words: abortion, abortions, texans, texas, texasstyle",
          "<b>Topic 2</b><br>Words: abortion, abortions, pregnant, contraception, reproductive",
          "<b>Topic 2</b><br>Words: abortion, abortions, texans, texasstyle, texas",
          "<b>Topic 2</b><br>Words: abortion, abortions, texans, texas, texasstyle",
          "<b>Topic 2</b><br>Words: abortion, abortions, texas, texans, texasstyle",
          "<b>Topic 2</b><br>Words: roe, abortion, abortions, law, mississippi",
          "<b>Topic 2</b><br>Words: abortion, roe, lawsuits, court, sued",
          "<b>Topic 2</b><br>Words: abortion, abortions, texans, texas, sued",
          "<b>Topic 2</b><br>Words: abortioninducing, abortion, abortions, roe, pregnant",
          "<b>Topic 2</b><br>Words: abortion, texas, roe, amendment, law",
          "<b>Topic 2</b><br>Words: abortion, abortionrights, abortions, texasstyle, texas",
          "<b>Topic 2</b><br>Words: abortion, abortionrights, abortions, florida, justices",
          "<b>Topic 2</b><br>Words: abortion, abortions, restrict, roe, florida",
          "<b>Topic 2</b><br>Words: abortion, abortions, roe, kavanaugh, supreme",
          "<b>Topic 2</b><br>Words: legislation, abortion, policies, abortions, blackouts",
          "<b>Topic 2</b><br>Words: abortion, abortions, kavanaughs, republican, rights"
         ],
         "marker": {
          "color": "#009E73"
         },
         "mode": "lines",
         "name": "2_abortion_abortions_texans_texas",
         "type": "scatter",
         "x": [
          "2021-09-11T03:41:05.361000",
          "2021-09-11T15:12:07.633333",
          "2021-09-12T02:23:02.266666",
          "2021-09-12T13:33:56.900000",
          "2021-09-13T00:44:51.533333",
          "2021-09-13T11:55:46.166666",
          "2021-09-13T23:06:40.800000",
          "2021-09-14T10:17:35.433333",
          "2021-09-14T21:28:30.066666",
          "2021-09-15T08:39:24.700000",
          "2021-09-15T19:50:19.333333",
          "2021-09-16T07:01:13.966666",
          "2021-09-16T18:12:08.600000",
          "2021-09-17T05:23:03.233333",
          "2021-09-17T16:33:57.866666",
          "2021-09-18T03:44:52.500000",
          "2021-09-18T14:55:47.133333",
          "2021-09-19T02:06:41.766666",
          "2021-09-19T13:17:36.400000",
          "2021-09-20T00:28:31.033333",
          "2021-09-20T11:39:25.666666",
          "2021-09-20T22:50:20.300000",
          "2021-09-21T10:01:14.933333",
          "2021-09-21T21:12:09.566666",
          "2021-09-22T08:23:04.200000",
          "2021-09-22T19:33:58.833333",
          "2021-09-23T06:44:53.466666",
          "2021-09-23T17:55:48.100000",
          "2021-09-24T05:06:42.733333",
          "2021-09-24T16:17:37.366666"
         ],
         "y": [
          2,
          7,
          2,
          6,
          2,
          5,
          6,
          5,
          6,
          4,
          5,
          3,
          1,
          3,
          5,
          2,
          6,
          3,
          3,
          2,
          19,
          5,
          14,
          7,
          8,
          10,
          7,
          8,
          2,
          4
         ]
        },
        {
         "hoverinfo": "text",
         "hovertext": [
          "<b>Topic 3</b><br>Words: californias, governor, californians, california, governors",
          "<b>Topic 3</b><br>Words: newsom, election, elections, newsoms, gavin",
          "<b>Topic 3</b><br>Words: ballots, voters, ballot, asian, votes",
          "<b>Topic 3</b><br>Words: recall, polling, polls, editorial, ballot",
          "<b>Topic 3</b><br>Words: larry, elder, evangelical, recall, evangelicals",
          "<b>Topic 3</b><br>Words: election, newsom, polls, polling, recall",
          "<b>Topic 3</b><br>Words: larry, election, fraud, voter, voters",
          "<b>Topic 3</b><br>Words: ballots, ballot, voter, election, polling",
          "<b>Topic 3</b><br>Words: newsom, newsoms, governor, gubernatorial, recall",
          "<b>Topic 3</b><br>Words: recall, california, californias, gop, republicans",
          "<b>Topic 3</b><br>Words: recalls, recall, california, californians, californias",
          "<b>Topic 3</b><br>Words: recall, ballots, elections, newsoms, ballot",
          "<b>Topic 3</b><br>Words: recall, newsom, newsoms, schwarzenegger, election",
          "<b>Topic 3</b><br>Words: newsom, gavin, newsoms, zoning, election",
          "<b>Topic 3</b><br>Words: covid, newsom, vaccination, newsoms, recall",
          "<b>Topic 3</b><br>Words: recall, newsom, election, voters, voter",
          "<b>Topic 3</b><br>Words: californias, california, recall, partisan, fresno",
          "<b>Topic 3</b><br>Words: californias, californians, gop, california, voter",
          "<b>Topic 3</b><br>Words: gavin, newsom, newsoms, election, polls",
          "<b>Topic 3</b><br>Words: recall, californians, californias, california, election",
          "<b>Topic 3</b><br>Words: rigged, ppc, election, voters, polling",
          "<b>Topic 3</b><br>Words: abbott, budowsky, newsoms, gubernatorial, newsom",
          "<b>Topic 3</b><br>Words: appraisals, homeowners, whites, latino, low",
          "<b>Topic 3</b><br>Words: newsom, newsoms, editorial, abortion, drought",
          "<b>Topic 3</b><br>Words: history, rewrite, losers, dangerous, recall",
          "<b>Topic 3</b><br>Words: californians, californias, california, virginias, rural"
         ],
         "marker": {
          "color": "#F0E442"
         },
         "mode": "lines",
         "name": "3_polling_election_ballots_voter",
         "type": "scatter",
         "x": [
          "2021-09-11T03:41:05.361000",
          "2021-09-11T15:12:07.633333",
          "2021-09-12T02:23:02.266666",
          "2021-09-12T13:33:56.900000",
          "2021-09-13T00:44:51.533333",
          "2021-09-13T11:55:46.166666",
          "2021-09-13T23:06:40.800000",
          "2021-09-14T10:17:35.433333",
          "2021-09-14T21:28:30.066666",
          "2021-09-15T08:39:24.700000",
          "2021-09-15T19:50:19.333333",
          "2021-09-16T07:01:13.966666",
          "2021-09-16T18:12:08.600000",
          "2021-09-17T05:23:03.233333",
          "2021-09-17T16:33:57.866666",
          "2021-09-18T03:44:52.500000",
          "2021-09-18T14:55:47.133333",
          "2021-09-19T02:06:41.766666",
          "2021-09-19T13:17:36.400000",
          "2021-09-20T11:39:25.666666",
          "2021-09-20T22:50:20.300000",
          "2021-09-22T08:23:04.200000",
          "2021-09-23T06:44:53.466666",
          "2021-09-23T17:55:48.100000",
          "2021-09-24T05:06:42.733333",
          "2021-09-24T16:17:37.366666"
         ],
         "y": [
          2,
          6,
          1,
          7,
          6,
          10,
          12,
          18,
          13,
          13,
          4,
          5,
          7,
          2,
          1,
          2,
          6,
          2,
          1,
          2,
          1,
          1,
          1,
          2,
          1,
          2
         ]
        },
        {
         "hoverinfo": "text",
         "hovertext": [
          "<b>Topic 4</b><br>Words: polls, biden, bidens, slips, direction",
          "<b>Topic 4</b><br>Words: biden, bidens, presidency, decades, trump",
          "<b>Topic 4</b><br>Words: crises, biden, israeli, pivotal, un",
          "<b>Topic 4</b><br>Words: biden, bidens, democrat, democrats, yang",
          "<b>Topic 4</b><br>Words: chants, biden, bidens, joe, football",
          "<b>Topic 4</b><br>Words: biden, bidens, chants, ambassadorships, supporters",
          "<b>Topic 4</b><br>Words: biden, bidens, corruption, americans, trump",
          "<b>Topic 4</b><br>Words: senator, biden, bidens, puppeteer, presidency",
          "<b>Topic 4</b><br>Words: biden, rating, approval, bidens, slips",
          "<b>Topic 4</b><br>Words: biden, bidens, agenda, democrats, opposed",
          "<b>Topic 4</b><br>Words: biden, bidens, pope, politics, trump",
          "<b>Topic 4</b><br>Words: biden, presidency, bidens, president, statistic",
          "<b>Topic 4</b><br>Words: biden, bidens, dishonest, lie, senators",
          "<b>Topic 4</b><br>Words: biden, trump, bidens, democracy, agenda",
          "<b>Topic 4</b><br>Words: agenda, liberals, democrats, plane, dem",
          "<b>Topic 4</b><br>Words: biden, bidens, netanyahu, allies, chuck",
          "<b>Topic 4</b><br>Words: biden, bidens, netanyahu, putin, musk",
          "<b>Topic 4</b><br>Words: biden, bidens, chuck, reporter, fox",
          "<b>Topic 4</b><br>Words: biden, bidens, disloyalty, trump, allies",
          "<b>Topic 4</b><br>Words: biden, bidens, presidential, diplomacy, trump",
          "<b>Topic 4</b><br>Words: biden, bidens, presidency, trump, agenda",
          "<b>Topic 4</b><br>Words: biden, bidens, progressives, agenda, democrats",
          "<b>Topic 4</b><br>Words: biden, bidens, rating, moderates, majority",
          "<b>Topic 4</b><br>Words: biden, bidens, trump, donald, president",
          "<b>Topic 4</b><br>Words: biden, bidens, agenda, democrats, trump",
          "<b>Topic 4</b><br>Words: biden, bidens, presidential, democrats, presidency",
          "<b>Topic 4</b><br>Words: biden, bidens, trump, voters, democrats"
         ],
         "marker": {
          "color": "#D55E00"
         },
         "mode": "lines",
         "name": "4_biden_bidens_agenda_democrats",
         "type": "scatter",
         "x": [
          "2021-09-11T03:41:05.361000",
          "2021-09-11T15:12:07.633333",
          "2021-09-12T02:23:02.266666",
          "2021-09-12T13:33:56.900000",
          "2021-09-13T00:44:51.533333",
          "2021-09-13T11:55:46.166666",
          "2021-09-13T23:06:40.800000",
          "2021-09-14T10:17:35.433333",
          "2021-09-15T08:39:24.700000",
          "2021-09-15T19:50:19.333333",
          "2021-09-16T07:01:13.966666",
          "2021-09-16T18:12:08.600000",
          "2021-09-17T05:23:03.233333",
          "2021-09-17T16:33:57.866666",
          "2021-09-18T03:44:52.500000",
          "2021-09-19T13:17:36.400000",
          "2021-09-20T00:28:31.033333",
          "2021-09-20T11:39:25.666666",
          "2021-09-20T22:50:20.300000",
          "2021-09-21T10:01:14.933333",
          "2021-09-21T21:12:09.566666",
          "2021-09-22T08:23:04.200000",
          "2021-09-22T19:33:58.833333",
          "2021-09-23T06:44:53.466666",
          "2021-09-23T17:55:48.100000",
          "2021-09-24T05:06:42.733333",
          "2021-09-24T16:17:37.366666"
         ],
         "y": [
          1,
          2,
          2,
          2,
          1,
          2,
          2,
          2,
          1,
          6,
          3,
          2,
          3,
          2,
          2,
          8,
          5,
          9,
          4,
          8,
          9,
          9,
          9,
          7,
          6,
          5,
          7
         ]
        }
       ],
       "layout": {
        "height": 450,
        "hoverlabel": {
         "bgcolor": "white",
         "font": {
          "family": "Rockwell",
          "size": 16
         }
        },
        "legend": {
         "title": {
          "text": "<b>Global Topic Representation"
         }
        },
        "template": {
         "data": {
          "bar": [
           {
            "error_x": {
             "color": "rgb(36,36,36)"
            },
            "error_y": {
             "color": "rgb(36,36,36)"
            },
            "marker": {
             "line": {
              "color": "white",
              "width": 0.5
             },
             "pattern": {
              "fillmode": "overlay",
              "size": 10,
              "solidity": 0.2
             }
            },
            "type": "bar"
           }
          ],
          "barpolar": [
           {
            "marker": {
             "line": {
              "color": "white",
              "width": 0.5
             },
             "pattern": {
              "fillmode": "overlay",
              "size": 10,
              "solidity": 0.2
             }
            },
            "type": "barpolar"
           }
          ],
          "carpet": [
           {
            "aaxis": {
             "endlinecolor": "rgb(36,36,36)",
             "gridcolor": "white",
             "linecolor": "white",
             "minorgridcolor": "white",
             "startlinecolor": "rgb(36,36,36)"
            },
            "baxis": {
             "endlinecolor": "rgb(36,36,36)",
             "gridcolor": "white",
             "linecolor": "white",
             "minorgridcolor": "white",
             "startlinecolor": "rgb(36,36,36)"
            },
            "type": "carpet"
           }
          ],
          "choropleth": [
           {
            "colorbar": {
             "outlinewidth": 1,
             "tickcolor": "rgb(36,36,36)",
             "ticks": "outside"
            },
            "type": "choropleth"
           }
          ],
          "contour": [
           {
            "colorbar": {
             "outlinewidth": 1,
             "tickcolor": "rgb(36,36,36)",
             "ticks": "outside"
            },
            "colorscale": [
             [
              0,
              "#440154"
             ],
             [
              0.1111111111111111,
              "#482878"
             ],
             [
              0.2222222222222222,
              "#3e4989"
             ],
             [
              0.3333333333333333,
              "#31688e"
             ],
             [
              0.4444444444444444,
              "#26828e"
             ],
             [
              0.5555555555555556,
              "#1f9e89"
             ],
             [
              0.6666666666666666,
              "#35b779"
             ],
             [
              0.7777777777777778,
              "#6ece58"
             ],
             [
              0.8888888888888888,
              "#b5de2b"
             ],
             [
              1,
              "#fde725"
             ]
            ],
            "type": "contour"
           }
          ],
          "contourcarpet": [
           {
            "colorbar": {
             "outlinewidth": 1,
             "tickcolor": "rgb(36,36,36)",
             "ticks": "outside"
            },
            "type": "contourcarpet"
           }
          ],
          "heatmap": [
           {
            "colorbar": {
             "outlinewidth": 1,
             "tickcolor": "rgb(36,36,36)",
             "ticks": "outside"
            },
            "colorscale": [
             [
              0,
              "#440154"
             ],
             [
              0.1111111111111111,
              "#482878"
             ],
             [
              0.2222222222222222,
              "#3e4989"
             ],
             [
              0.3333333333333333,
              "#31688e"
             ],
             [
              0.4444444444444444,
              "#26828e"
             ],
             [
              0.5555555555555556,
              "#1f9e89"
             ],
             [
              0.6666666666666666,
              "#35b779"
             ],
             [
              0.7777777777777778,
              "#6ece58"
             ],
             [
              0.8888888888888888,
              "#b5de2b"
             ],
             [
              1,
              "#fde725"
             ]
            ],
            "type": "heatmap"
           }
          ],
          "heatmapgl": [
           {
            "colorbar": {
             "outlinewidth": 1,
             "tickcolor": "rgb(36,36,36)",
             "ticks": "outside"
            },
            "colorscale": [
             [
              0,
              "#440154"
             ],
             [
              0.1111111111111111,
              "#482878"
             ],
             [
              0.2222222222222222,
              "#3e4989"
             ],
             [
              0.3333333333333333,
              "#31688e"
             ],
             [
              0.4444444444444444,
              "#26828e"
             ],
             [
              0.5555555555555556,
              "#1f9e89"
             ],
             [
              0.6666666666666666,
              "#35b779"
             ],
             [
              0.7777777777777778,
              "#6ece58"
             ],
             [
              0.8888888888888888,
              "#b5de2b"
             ],
             [
              1,
              "#fde725"
             ]
            ],
            "type": "heatmapgl"
           }
          ],
          "histogram": [
           {
            "marker": {
             "line": {
              "color": "white",
              "width": 0.6
             }
            },
            "type": "histogram"
           }
          ],
          "histogram2d": [
           {
            "colorbar": {
             "outlinewidth": 1,
             "tickcolor": "rgb(36,36,36)",
             "ticks": "outside"
            },
            "colorscale": [
             [
              0,
              "#440154"
             ],
             [
              0.1111111111111111,
              "#482878"
             ],
             [
              0.2222222222222222,
              "#3e4989"
             ],
             [
              0.3333333333333333,
              "#31688e"
             ],
             [
              0.4444444444444444,
              "#26828e"
             ],
             [
              0.5555555555555556,
              "#1f9e89"
             ],
             [
              0.6666666666666666,
              "#35b779"
             ],
             [
              0.7777777777777778,
              "#6ece58"
             ],
             [
              0.8888888888888888,
              "#b5de2b"
             ],
             [
              1,
              "#fde725"
             ]
            ],
            "type": "histogram2d"
           }
          ],
          "histogram2dcontour": [
           {
            "colorbar": {
             "outlinewidth": 1,
             "tickcolor": "rgb(36,36,36)",
             "ticks": "outside"
            },
            "colorscale": [
             [
              0,
              "#440154"
             ],
             [
              0.1111111111111111,
              "#482878"
             ],
             [
              0.2222222222222222,
              "#3e4989"
             ],
             [
              0.3333333333333333,
              "#31688e"
             ],
             [
              0.4444444444444444,
              "#26828e"
             ],
             [
              0.5555555555555556,
              "#1f9e89"
             ],
             [
              0.6666666666666666,
              "#35b779"
             ],
             [
              0.7777777777777778,
              "#6ece58"
             ],
             [
              0.8888888888888888,
              "#b5de2b"
             ],
             [
              1,
              "#fde725"
             ]
            ],
            "type": "histogram2dcontour"
           }
          ],
          "mesh3d": [
           {
            "colorbar": {
             "outlinewidth": 1,
             "tickcolor": "rgb(36,36,36)",
             "ticks": "outside"
            },
            "type": "mesh3d"
           }
          ],
          "parcoords": [
           {
            "line": {
             "colorbar": {
              "outlinewidth": 1,
              "tickcolor": "rgb(36,36,36)",
              "ticks": "outside"
             }
            },
            "type": "parcoords"
           }
          ],
          "pie": [
           {
            "automargin": true,
            "type": "pie"
           }
          ],
          "scatter": [
           {
            "fillpattern": {
             "fillmode": "overlay",
             "size": 10,
             "solidity": 0.2
            },
            "type": "scatter"
           }
          ],
          "scatter3d": [
           {
            "line": {
             "colorbar": {
              "outlinewidth": 1,
              "tickcolor": "rgb(36,36,36)",
              "ticks": "outside"
             }
            },
            "marker": {
             "colorbar": {
              "outlinewidth": 1,
              "tickcolor": "rgb(36,36,36)",
              "ticks": "outside"
             }
            },
            "type": "scatter3d"
           }
          ],
          "scattercarpet": [
           {
            "marker": {
             "colorbar": {
              "outlinewidth": 1,
              "tickcolor": "rgb(36,36,36)",
              "ticks": "outside"
             }
            },
            "type": "scattercarpet"
           }
          ],
          "scattergeo": [
           {
            "marker": {
             "colorbar": {
              "outlinewidth": 1,
              "tickcolor": "rgb(36,36,36)",
              "ticks": "outside"
             }
            },
            "type": "scattergeo"
           }
          ],
          "scattergl": [
           {
            "marker": {
             "colorbar": {
              "outlinewidth": 1,
              "tickcolor": "rgb(36,36,36)",
              "ticks": "outside"
             }
            },
            "type": "scattergl"
           }
          ],
          "scattermapbox": [
           {
            "marker": {
             "colorbar": {
              "outlinewidth": 1,
              "tickcolor": "rgb(36,36,36)",
              "ticks": "outside"
             }
            },
            "type": "scattermapbox"
           }
          ],
          "scatterpolar": [
           {
            "marker": {
             "colorbar": {
              "outlinewidth": 1,
              "tickcolor": "rgb(36,36,36)",
              "ticks": "outside"
             }
            },
            "type": "scatterpolar"
           }
          ],
          "scatterpolargl": [
           {
            "marker": {
             "colorbar": {
              "outlinewidth": 1,
              "tickcolor": "rgb(36,36,36)",
              "ticks": "outside"
             }
            },
            "type": "scatterpolargl"
           }
          ],
          "scatterternary": [
           {
            "marker": {
             "colorbar": {
              "outlinewidth": 1,
              "tickcolor": "rgb(36,36,36)",
              "ticks": "outside"
             }
            },
            "type": "scatterternary"
           }
          ],
          "surface": [
           {
            "colorbar": {
             "outlinewidth": 1,
             "tickcolor": "rgb(36,36,36)",
             "ticks": "outside"
            },
            "colorscale": [
             [
              0,
              "#440154"
             ],
             [
              0.1111111111111111,
              "#482878"
             ],
             [
              0.2222222222222222,
              "#3e4989"
             ],
             [
              0.3333333333333333,
              "#31688e"
             ],
             [
              0.4444444444444444,
              "#26828e"
             ],
             [
              0.5555555555555556,
              "#1f9e89"
             ],
             [
              0.6666666666666666,
              "#35b779"
             ],
             [
              0.7777777777777778,
              "#6ece58"
             ],
             [
              0.8888888888888888,
              "#b5de2b"
             ],
             [
              1,
              "#fde725"
             ]
            ],
            "type": "surface"
           }
          ],
          "table": [
           {
            "cells": {
             "fill": {
              "color": "rgb(237,237,237)"
             },
             "line": {
              "color": "white"
             }
            },
            "header": {
             "fill": {
              "color": "rgb(217,217,217)"
             },
             "line": {
              "color": "white"
             }
            },
            "type": "table"
           }
          ]
         },
         "layout": {
          "annotationdefaults": {
           "arrowhead": 0,
           "arrowwidth": 1
          },
          "autotypenumbers": "strict",
          "coloraxis": {
           "colorbar": {
            "outlinewidth": 1,
            "tickcolor": "rgb(36,36,36)",
            "ticks": "outside"
           }
          },
          "colorscale": {
           "diverging": [
            [
             0,
             "rgb(103,0,31)"
            ],
            [
             0.1,
             "rgb(178,24,43)"
            ],
            [
             0.2,
             "rgb(214,96,77)"
            ],
            [
             0.3,
             "rgb(244,165,130)"
            ],
            [
             0.4,
             "rgb(253,219,199)"
            ],
            [
             0.5,
             "rgb(247,247,247)"
            ],
            [
             0.6,
             "rgb(209,229,240)"
            ],
            [
             0.7,
             "rgb(146,197,222)"
            ],
            [
             0.8,
             "rgb(67,147,195)"
            ],
            [
             0.9,
             "rgb(33,102,172)"
            ],
            [
             1,
             "rgb(5,48,97)"
            ]
           ],
           "sequential": [
            [
             0,
             "#440154"
            ],
            [
             0.1111111111111111,
             "#482878"
            ],
            [
             0.2222222222222222,
             "#3e4989"
            ],
            [
             0.3333333333333333,
             "#31688e"
            ],
            [
             0.4444444444444444,
             "#26828e"
            ],
            [
             0.5555555555555556,
             "#1f9e89"
            ],
            [
             0.6666666666666666,
             "#35b779"
            ],
            [
             0.7777777777777778,
             "#6ece58"
            ],
            [
             0.8888888888888888,
             "#b5de2b"
            ],
            [
             1,
             "#fde725"
            ]
           ],
           "sequentialminus": [
            [
             0,
             "#440154"
            ],
            [
             0.1111111111111111,
             "#482878"
            ],
            [
             0.2222222222222222,
             "#3e4989"
            ],
            [
             0.3333333333333333,
             "#31688e"
            ],
            [
             0.4444444444444444,
             "#26828e"
            ],
            [
             0.5555555555555556,
             "#1f9e89"
            ],
            [
             0.6666666666666666,
             "#35b779"
            ],
            [
             0.7777777777777778,
             "#6ece58"
            ],
            [
             0.8888888888888888,
             "#b5de2b"
            ],
            [
             1,
             "#fde725"
            ]
           ]
          },
          "colorway": [
           "#1F77B4",
           "#FF7F0E",
           "#2CA02C",
           "#D62728",
           "#9467BD",
           "#8C564B",
           "#E377C2",
           "#7F7F7F",
           "#BCBD22",
           "#17BECF"
          ],
          "font": {
           "color": "rgb(36,36,36)"
          },
          "geo": {
           "bgcolor": "white",
           "lakecolor": "white",
           "landcolor": "white",
           "showlakes": true,
           "showland": true,
           "subunitcolor": "white"
          },
          "hoverlabel": {
           "align": "left"
          },
          "hovermode": "closest",
          "mapbox": {
           "style": "light"
          },
          "paper_bgcolor": "white",
          "plot_bgcolor": "white",
          "polar": {
           "angularaxis": {
            "gridcolor": "rgb(232,232,232)",
            "linecolor": "rgb(36,36,36)",
            "showgrid": false,
            "showline": true,
            "ticks": "outside"
           },
           "bgcolor": "white",
           "radialaxis": {
            "gridcolor": "rgb(232,232,232)",
            "linecolor": "rgb(36,36,36)",
            "showgrid": false,
            "showline": true,
            "ticks": "outside"
           }
          },
          "scene": {
           "xaxis": {
            "backgroundcolor": "white",
            "gridcolor": "rgb(232,232,232)",
            "gridwidth": 2,
            "linecolor": "rgb(36,36,36)",
            "showbackground": true,
            "showgrid": false,
            "showline": true,
            "ticks": "outside",
            "zeroline": false,
            "zerolinecolor": "rgb(36,36,36)"
           },
           "yaxis": {
            "backgroundcolor": "white",
            "gridcolor": "rgb(232,232,232)",
            "gridwidth": 2,
            "linecolor": "rgb(36,36,36)",
            "showbackground": true,
            "showgrid": false,
            "showline": true,
            "ticks": "outside",
            "zeroline": false,
            "zerolinecolor": "rgb(36,36,36)"
           },
           "zaxis": {
            "backgroundcolor": "white",
            "gridcolor": "rgb(232,232,232)",
            "gridwidth": 2,
            "linecolor": "rgb(36,36,36)",
            "showbackground": true,
            "showgrid": false,
            "showline": true,
            "ticks": "outside",
            "zeroline": false,
            "zerolinecolor": "rgb(36,36,36)"
           }
          },
          "shapedefaults": {
           "fillcolor": "black",
           "line": {
            "width": 0
           },
           "opacity": 0.3
          },
          "ternary": {
           "aaxis": {
            "gridcolor": "rgb(232,232,232)",
            "linecolor": "rgb(36,36,36)",
            "showgrid": false,
            "showline": true,
            "ticks": "outside"
           },
           "baxis": {
            "gridcolor": "rgb(232,232,232)",
            "linecolor": "rgb(36,36,36)",
            "showgrid": false,
            "showline": true,
            "ticks": "outside"
           },
           "bgcolor": "white",
           "caxis": {
            "gridcolor": "rgb(232,232,232)",
            "linecolor": "rgb(36,36,36)",
            "showgrid": false,
            "showline": true,
            "ticks": "outside"
           }
          },
          "title": {
           "x": 0.05
          },
          "xaxis": {
           "automargin": true,
           "gridcolor": "rgb(232,232,232)",
           "linecolor": "rgb(36,36,36)",
           "showgrid": false,
           "showline": true,
           "ticks": "outside",
           "title": {
            "standoff": 15
           },
           "zeroline": false,
           "zerolinecolor": "rgb(36,36,36)"
          },
          "yaxis": {
           "automargin": true,
           "gridcolor": "rgb(232,232,232)",
           "linecolor": "rgb(36,36,36)",
           "showgrid": false,
           "showline": true,
           "ticks": "outside",
           "title": {
            "standoff": 15
           },
           "zeroline": false,
           "zerolinecolor": "rgb(36,36,36)"
          }
         }
        },
        "title": {
         "font": {
          "color": "Black",
          "size": 22
         },
         "text": "<b>Topics over Time</b>",
         "x": 0.4,
         "xanchor": "center",
         "y": 0.95,
         "yanchor": "top"
        },
        "width": 1250,
        "xaxis": {
         "showgrid": true
        },
        "yaxis": {
         "showgrid": true,
         "title": {
          "text": "Frequency"
         }
        }
       }
      }
     },
     "metadata": {},
     "output_type": "display_data"
    }
   ],
   "source": [
    "topic_model.visualize_topics_over_time(topics_over_time, top_n_topics=5)"
   ]
  },
  {
   "cell_type": "markdown",
   "metadata": {},
   "source": [
    "### Qualitative Analyses\n",
    "\n",
    "I think it's really vital to get back into the actual text data in order to make sure that the topics really represent what you think they do. One way to do that is to extract the documents most closely associated with each topic.\n",
    "\n",
    "First, we get info about each document and how well it matches the topic."
   ]
  },
  {
   "cell_type": "code",
   "execution_count": 266,
   "metadata": {},
   "outputs": [],
   "source": [
    "doc_df = topic_model.get_document_info(dataset)\n",
    "\n",
    "# Remove the -1 topic, which is the \"garbage\" topic\n",
    "doc_df = doc_df.loc[doc_df.Topic != -1]"
   ]
  },
  {
   "cell_type": "markdown",
   "metadata": {},
   "source": [
    "Then, we sort by \"Probability\", which is the likelihood that the document belongs to the assigned topic, group by topic, and take the top `num_docs` documents for each topic.\n",
    "\n",
    "I print these, but in practice what you probably want to do is save the output, so you can look at it in Excel or similar. (i.e., `top_docs.to_csv('top_documents.csv')`)"
   ]
  },
  {
   "cell_type": "code",
   "execution_count": 267,
   "metadata": {},
   "outputs": [],
   "source": [
    "num_docs = 20\n",
    "top_docs = doc_df.sort_values('Probability', ascending=False).groupby('Topic').head(num_docs)\n",
    "top_docs = top_docs.sort_values('Topic').loc[:, ['Topic', 'Probability', 'Document']]"
   ]
  },
  {
   "cell_type": "code",
   "execution_count": 268,
   "metadata": {},
   "outputs": [
    {
     "name": "stdout",
     "output_type": "stream",
     "text": [
      "Topic 0\n",
      "['Sorry, a Coronavirus Infection Might Not Be Enough to Protect You '\n",
      " 'Red leaning areas do have higher infection rates per study '\n",
      " 'L.A. County plans to require COVID vaccine proof at indoor bars, nightclubs and more '\n",
      " 'A Florida chiropractor signed hundreds of mask exemption forms for students. Now, the district has tightened its mask policy '\n",
      " 'Pandemic frustrations zero in on unvaccinated Americans '\n",
      " 'Broward will reward vaccinated county workers and subject the unvaccinated to charges and testing '\n",
      " 'Will the Biden Administration Mandate Vaccines for Flying? That sound you hear is the gang at Fox News screaming in a pitch only dogs can hear. '\n",
      " 'Florida AG Ashley Moody suing Biden administration over COVID-19 vaccine mandate '\n",
      " 'Missouri Is the Next Front in the COVID Culture War '\n",
      " 'Joy Reid calls GOP a ‘Covid-loving death cult’| ‘You love Covid so much you want it to spread into schools, at the office, in the Walmart, on the cruise ships and in the club’ says MSNBC host '\n",
      " 'At first Virginia gubernatorial debate, McAuliffe walks back support for ending qualified immunity for police '\n",
      " 'Will the Bus Driver Ever Come? Or the Substitute Teacher or Cafeteria Worker? Just weeks into the new year, schools are struggling to fill jobs. Low pay, few benefits and erratic schedules are keeping workers away. '\n",
      " \"Ron DeSantis' 'Disastrous' COVID-19 Response Ripped In Viral 'Florida Is Vietnam' Video | The Florida Republican's response to the pandemic is hammered in author Don Winslow's latest video, which has topped 1 million views. \"\n",
      " '50,000 Floridians killed by COVID-19, taking only one month since 40,000 died '\n",
      " 'Biden says Republican governors undermining his vaccine mandates are putting lives at risk '\n",
      " 'Students fight back against book ban that includes Rosa Parks, Malala and Sesame Street '\n",
      " 'Overwhelmed With COVID Patients, Oregon Hospitals Postpone Surgeries And Cancer Care '\n",
      " 'DeSantis says Biden administration is hurting Florida by ‘seizing control’ of COVID treatments '\n",
      " 'Perspective | Natural immunity to covid is powerful. Policymakers seem afraid to say so. '\n",
      " '24 GOP state attorneys general threaten lawsuit over federal COVID-19 vaccine mandates ']\n",
      "\n",
      "\n",
      "\n",
      "Topic 1\n",
      "['Democrats Continue to Struggle With Men of Color '\n",
      " 'Trump endorsements stoke dissension in GOP ranks '\n",
      " 'GOP Strategists Fret Trump’s “Fraud” Talk Encourages Voters to Skip Midterms '\n",
      " 'Opinion: George W. Bush reminds us that Republicans once believed in democracy '\n",
      " \"Pelosi said the Republican Party has been hijacked by a 'cult' and slammed Trump's 'disdain for governance' \"\n",
      " 'Republicans are inadvertently suppressing their own voters '\n",
      " \"'Disturbing for democracy': Americans are divided into two media worlds, survey shows \"\n",
      " 'Republican Calls Trump ‘a Cancer for the Country,’ Forced to Retire Early '\n",
      " \"McConnell joked that Trump's ex-secretary of state could deny calling Trump a 'moron' because he actually called him a 'fucking moron': book \"\n",
      " 'Rep. Stefanik claims in ads that Democrats seek a ‘permanent election insurrection’ by providing pathways to citizenship '\n",
      " \"Graham Told Trump That Trumpism 'Will Die' If GOP Loses in 2022 \"\n",
      " 'CNN poll: America turns irate, glum '\n",
      " \"Then-CIA director Gina Haspel said Trump's post-election behavior was 'insanity' and he was 'acting out like a 6-year-old with a tantrum,' book says \"\n",
      " \"McConnell's final remark to Trump was 'you lost the election' as the defeated president railed at him for not embracing the Big Lie: book \"\n",
      " 'Ohio House Republican, Calling Trump ‘a Cancer,’ Bows Out of 2022 '\n",
      " 'Republicans become less tethered to reality; Democrats engrossed in policy wrangling '\n",
      " \"Barr Warned Trump That He Would Lose the Election Because Suburban Voters 'Just Think You're a Fucking Asshole,' Book Says \"\n",
      " 'Willam Barr Warned Trump That Suburban Voters ‘Think You’re An Asshole,’ Says Book '\n",
      " 'Opinion: The right-wing media is helping Trump destroy democracy. A new poll shows how. '\n",
      " 'Lindsey Graham told Trump he ‘f*****’ his presidency, new book claims ']\n",
      "\n",
      "\n",
      "\n",
      "Topic 2\n",
      "['How Texas’ Abortion Ban Will Lead to More At-Home Abortions '\n",
      " 'Corporate Backlash Builds Against Texas’s Abortion Ban: “Policies That Restrict Reproductive Health Are Bad for Business” '\n",
      " 'Texas Republicans Can’t Stop All Medical Abortions: The state is trying to regulate something it can’t: the decentralized distribution of pills largely originating in Mexico, where abortion is no longer a crime. '\n",
      " 'Jim Crow tactics reborn in Texas abortion law, deputizing citizens to enforce legally suspect provisions '\n",
      " 'Could Texas abortion ban strategy be double-edged sword? '\n",
      " 'Texas abortion law: What women make of six-week abortion ban '\n",
      " 'Why Republicans Are Scared of Texas’ New Abortion Ban '\n",
      " \"Texas women are now going online for abortion pills info after state's new ban, says nonprofit \"\n",
      " 'More than 50 companies sign letter opposing Texas abortion law '\n",
      " 'Texas’s largest companies stay silent on state abortion ban despite outrage '\n",
      " 'Sixth Circuit Blocks Tennessee Abortion Bans: “Access to Abortion Is a Constitutionally Protected Right” '\n",
      " 'Texas’ near-total abortion ban caps a decadeslong war by conservative legislators to block access to the procedure '\n",
      " 'Texas’ Abortion Law Traps Desperate Teenagers '\n",
      " 'Texas neighbors report influx of women seeking abortions '\n",
      " \"Don't Be Fooled By Religious Arguments For Texas' Abortion Law. It's Un-Christian. \"\n",
      " 'Opinion | Republicans will rue the Texas abortion law '\n",
      " \"Texas abortion law strains clinics: 'Exactly what we feared' \"\n",
      " 'New Mexico braces for influx after Supreme Court allows Texas abortion restrictions '\n",
      " 'First Texas Came for Abortion. Now It’s Going After Voting Rights. '\n",
      " 'Federal government announces funding for emergency contraception for Texans impacted by near-total abortion ban ']\n",
      "\n",
      "\n",
      "\n",
      "Topic 3\n",
      "['Editorial: Did Gavin Newson survive recall too easily to get the wake-up call he needed? '\n",
      " \"Schwarzenegger says Californians 'made the right decision' not to recall Newsom \"\n",
      " 'Donald Trump says \"We cannot trust mail in ballots,\" after Gavin Newsom recall win '\n",
      " 'Newsom signs long-awaited bills to increase housing density in California '\n",
      " \"California's Real Recall Result Is A Green Light For Tyranny \"\n",
      " \"Arnold Schwarzenegger says voters were right to retain Newsom, calls GOP field 'disastrous' \"\n",
      " \"GOP's Elder concedes California recall, hints: 'Stay tuned' \"\n",
      " 'GOP suffers historic embarrassment in California recall '\n",
      " 'After recall flop, struggling California Republicans once again fighting over future '\n",
      " 'Republicans overplayed their hand in California -\\x80\\x93 and Democrats are laughing '\n",
      " 'The GOP’s Trumpy Bet on California Doesn’t Pay Off '\n",
      " 'What the Election Results Tell Us About California '\n",
      " 'California GOP licks wounds after another lopsided loss '\n",
      " 'The California Recall Results Were a Resounding Win for Common Sense '\n",
      " 'QAnon Claims the California Recall Was ‘Rigged,’ But It Wasn’t Even Close '\n",
      " \"Democrats warn of 'canary in the coal mine' for Latino voters in California recall \"\n",
      " 'California recall election lays bare how out of touch GOP is on Covid mitigation policy '\n",
      " \"'A $276 million waste': California Democrats seek changes to recall process after Newsom's landslide \"\n",
      " 'Caitlyn Jenner got absolutely destroyed in Gavin Newsom recall election '\n",
      " 'Full speed ahead on overhauling California recalls ']\n",
      "\n",
      "\n",
      "\n",
      "Topic 4\n",
      "['Toyota, Honda oppose U.S. House electric vehicle tax plan '\n",
      " \"Democrats want to tax the very rich. Here's who they are \"\n",
      " 'SALT Break Would Erase Most of House’s Tax Hikes for Top 1% '\n",
      " 'Opinion: What the war of moderates vs. liberals over taxes on the rich is really about '\n",
      " 'A leaked tax plan draft shows how Democrats want to raise $2.9 trillion from wealthy Americans and big corporations, rolling back Trump-era tax cuts '\n",
      " 'The tart truth underlying SALT repeal arguments '\n",
      " 'House Democrats take step back from Biden on tax hikes '\n",
      " 'Peter Thiel Gamed Silicon Valley, Donald Trump, and Democracy to Make Billions, Tax-Free '\n",
      " \"Democrats' tax plan would cut bills for most Americans -congressional panel \"\n",
      " 'Democrats Plan To Tax The Rich Lets Billionaires Keep Paying Less Than Average Workers '\n",
      " 'Democrats may leave a tax loophole billionaires love untouched. Closing it would dent the fortunes of Jeff Bezos and Elon Musk. '\n",
      " 'U.S. Senate Democrats float stock buyback tax as part of $3.5 trillion bill '\n",
      " 'U.S. House Democrats seek to roll back Trump tax cuts for wealthy, corporations '\n",
      " \"Why corporations and the wealthy should back Democrats' middle-class tax cut \"\n",
      " 'House Democrats are scared to tax billionaires – that’s a costly mistake '\n",
      " \"Democrats Hope To Undo Many Trump Tax Cuts To Fund Biden's $3.5 Trillion Budget Plan \"\n",
      " 'Dems propose tax hikes for the rich, corporations to pay for $3.5T spending plan '\n",
      " 'Democrats seek corporate, wealthy tax hikes for $3.5 trillion plan '\n",
      " 'Democrats Try To Hide a $3 Trillion Tax Increase From Voters. The plan would make a liar out of Biden on a level reminiscent of George H.W. Bush\\'s betrayal of his \"read my lips\" tax pledge. '\n",
      " 'Democrats look to hike taxes on the rich and corporations to pay for $3.5 trillion budget bill ']\n",
      "\n",
      "\n",
      "\n",
      "Topic 5\n",
      "['Yes 🙌 take that Biden. We take care of ourselves down here in Florida! 🤘 '\n",
      " 'Aides try to keep Biden away from unscripted events or long interviews, book claims '\n",
      " \"The problem of Republican questioning Biden's legitimacy gets worse | In April, a national poll found 70 percent of Republicans rejecting the legitimacy of Biden's presidency. Five months later, it's even worse. \"\n",
      " 'Iowa Poll: 62% of Iowans disapprove of the job Joe Biden is doing as president '\n",
      " 'Opinion | Biden’s agenda is in trouble. It’s absolutely clear who is to blame. '\n",
      " 'Fox News can now report that Biden has failed to unite the country '\n",
      " \"Fareed: Biden's policy is more Trump than Obama \"\n",
      " 'Donald Trump Trounces Joe Biden by Ten Points in 2024 Rematch '\n",
      " 'Biden sinks in swing districts '\n",
      " 'The Most Important Statistic of the Biden Presidency '\n",
      " 'If Joe Biden fails this week, his entire domestic agenda is done for at least 15 months '\n",
      " 'Opinion: Biden delivers straight talk — and wins kudos '\n",
      " \"Biden's credibility is in tatters \"\n",
      " 'Biden slips, again, in polls as Americans worry country heading in wrong direction '\n",
      " \"NBC's Chuck Todd says Biden has 'a pretty big credibility crisis' after weekend setbacks \"\n",
      " \"20 Years After 9/11 Attacks, How Joe Biden's Approval Rating Stacks Up to George W. Bush's \"\n",
      " 'America first: Trump was all talk — Biden is actually doing it '\n",
      " 'Majority Says Biden Isn’t ‘Mentally Sharp’: Poll '\n",
      " 'Biden called Trump a f***ing a**hole over man ‘toys’ and giant TV screens he added to White House '\n",
      " \"Biden launches plan to address 'silent killer': extreme heat \"]\n",
      "\n",
      "\n",
      "\n",
      "Topic 6\n",
      "['Far-right rally draws small crowd, large police presence at Capitol '\n",
      " 'Pro-insurrectionists gather for a small, short rally at Capitol Hill '\n",
      " 'Police outnumber protesters at right-wing Capitol rally '\n",
      " 'Small crowd gathers near Capitol to protest treatment of those jailed in Jan. 6 riot '\n",
      " \"Here's everything we know about the September 18 right-wing rally in DC \"\n",
      " 'Rally In Support Of Capitol Attackers Draws A Small Crowd '\n",
      " 'Low turnout, low drama mark rally for jailed pro-Trump rioters '\n",
      " 'Law enforcement \"taking no chances\" on September 18 rally at U.S. Capitol '\n",
      " \"Trump voices support for Saturday's pro-Capitol riots rally \"\n",
      " \"Lindsey Graham: Police need 'to take a firm line' with Sept. 18 rally attendees \"\n",
      " 'Senate offices closing on Friday ahead of pro-Capitol riot rally '\n",
      " 'Far-right groups tell supporters planned Washington rally is a government ‘trap’ '\n",
      " 'Massive Capitol security operation awaits rally to support hundreds charged in deadly January riot '\n",
      " 'Police Say They’re Ready For Rally Supporting Jan. 6 Rioters '\n",
      " 'Capitol Hill on high alert ahead of rally in support of January 6 rioters '\n",
      " 'Capitol Area on Edge Over Right-Wing Protest of Jan. 6 Arrests '\n",
      " 'U.S. Capitol on high alert as pro-Trump demonstrators converge for rally '\n",
      " 'DC police say they’re prepared for rally at the US Capitol supporting imprisoned Jan. 6 rioters '\n",
      " 'January 6 vs. September 18: How law enforcement hopes to prevent another riot '\n",
      " \"Capitol Police chief warns of 'chatter' about possible violence during far-right rally \"]\n",
      "\n",
      "\n",
      "\n",
      "Topic 7\n",
      "['Biden administration appeals order to stop expelling migrants under health law '\n",
      " 'Biden administration to ramp up deportation flights to Haiti, aiming to deter mass migration into Texas '\n",
      " 'Biden fails to keep his promise to Haitian migrants as the administration honors Title 42. '\n",
      " \"Maxine Waters Calls Haiti Migrant Treatment 'Worse Than What We Witnessed in Slavery' \"\n",
      " 'Haitians see history of racist policies in migrant treatment '\n",
      " 'House Democrats demand answers by Friday about the Border Patrol’s treatment of Haitian migrants. '\n",
      " \"'Those people will pay' - Biden vows action for border patrol agents' treatment of Haitian migrants \"\n",
      " \"Biden says there will be consequences over Haiti migrants' treatment \"\n",
      " 'Maxine Waters: What we witnessed with Haitian migrants takes us back hundreds of years '\n",
      " \"Israeli man seeks UK asylum to avoid participating in 'apartheid' \"\n",
      " 'Why Trump Didn’t Have a Haitian-Migrant Crisis. Constant vigilance and cooperation with Mexico made the difference '\n",
      " 'Biden admin seeks contractor to run migrant detention facility at Gitmo, guards who speak Creole '\n",
      " 'Biden Admin Says Borders Are Not Open, 14,000 Haitian Migrants Say Otherwise '\n",
      " 'Biden Administration to Deport Haitians in South Texas '\n",
      " '‘Joe Biden nou fache’: Protesters in Miami demand asylum for Haitian migrants at border '\n",
      " 'Biden admin to step up deportation of Haitians to address migrant surge, documents say '\n",
      " 'In Targeting Haitians, Biden May Execute the Largest Mass Expulsion of Asylum-Seekers in Recent History '\n",
      " 'Biden Decides Haitian Migrants at US-Mexico Border Will Promptly Be Sent Home '\n",
      " 'The Biden administration is looking for contractors and guards for a migrant detention facility in Guantanamo Bay — stirring outrage in lawmakers and advocates '\n",
      " 'EXPLAINER: Biden uses Trump-era tool against Haiti migrants ']\n",
      "\n",
      "\n",
      "\n",
      "Topic 8\n",
      "['White House says Biden has confidence in Milley after book reveals top general, fearing Trump, conferred with China to avert war '\n",
      " \"Pentagon defends Milley's calls to top Chinese general in final months of Trump presidency, saying such calls are vital to avoiding conflict \"\n",
      " 'Milley: Calls to China were `perfectly’ within scope of job '\n",
      " 'Trump Put Milley in an Impossible Position '\n",
      " 'Did Gen. Mark Milley overstep on nuclear launch meeting, call to China? '\n",
      " 'Gen. Milley assured China of no military strike by Trump: book '\n",
      " \"Preventing war: Why Gen. Mark Milley's secret calls to China deserves a medal \"\n",
      " 'General Milley Should Be Fired for Holding Secret, Personal Talks with China '\n",
      " \"Gen. Mark Milley acted to limit Trump's military capabilities \"\n",
      " 'John Bolton defends Milley’s ‘unquestioned’ patriotism as Trump world rages over China call '\n",
      " 'Joint Chiefs Chairman Milley becomes lightning rod on right '\n",
      " \"Milley's office defends call with Chinese official against Trump's 'treason' allegations \"\n",
      " 'Why Milley checked nuclear procedures, called China in final days of Trump presidency '\n",
      " 'Former Joint Chiefs chair: Nothing unusual about Milley’s contacts with China | “Having communications with counterparts around the world is routine,” Michael Mullen said. '\n",
      " 'Mark Milley And His Ilk Are Disgracing The U.S. Military To The Entire World-Gen. Mark Milley’s abhorrent behavior is a symptom of a greater problem: an elite class that thinks itself above accountability and the norms of American democracy '\n",
      " 'Milley stands by communications with China amid backlash sparked by new book revelations '\n",
      " 'If the China Story Is True, Milley Has to Go '\n",
      " 'Ex-Joint Chiefs Chair Defends Milley’s Efforts To Keep Trump From Dragging US Into War With China '\n",
      " 'Milley defends calls to Chinese as effort to avoid conflict '\n",
      " \"Gen. Mark Milley told his Chinese counterpart the US was '100 percent steady' after the Capitol riot but privately thought the siege was 'treason': book \"]\n",
      "\n",
      "\n",
      "\n",
      "Topic 9\n",
      "[\"Maricopa County: GOP-backed Arizona 'audit' confirms Biden won \"\n",
      " 'Arizona could mandate that students learn about 9/11 terrorist attacks '\n",
      " 'Arizona audit results reveal Trump lost to Biden by even bigger margin '\n",
      " 'Trump blames media after Arizona audit finds Biden won '\n",
      " \"Trump actually lost Arizona's largest county by hundreds more votes, according to GOP 'audit' \"\n",
      " \"Five takeaways from Arizona's audit results \"\n",
      " \"Trump reportedly deletes statement praising 'highly respected' GOP auditors after they confirmed that Biden won Arizona \"\n",
      " \"'Poetic justice': Arizona 2020 vote audit reportedly widens Biden margin of victory \"\n",
      " 'Joe Biden won in Maricopa County by more votes than originally tallied '\n",
      " 'LIVE - Arizona Election \"Fraud\" \"Audit\" Final Report Presentation '\n",
      " \"Well, well. Look who was spotted at the 'reunion' of Senate audit volunteers Opinion: The attendees at Wednesday's 'reunion' of Senate audit workers shows just how independent and unbiased this audit really is. \"\n",
      " 'Sham audit backfires on Arizona GOP, Biden won by a wider margin '\n",
      " 'Draft report from partisan Arizona review confirms Biden defeated Trump in Maricopa County last November '\n",
      " 'Maricopa County GOP audit confirms Biden 2020 victory in Arizona '\n",
      " 'Arizona Supreme Court allows release of Senate audit records '\n",
      " 'Arizona 2020 ballot review to be made public September 24 '\n",
      " 'Maricopa County: Draft of Cyber Ninjas election review says Biden won '\n",
      " 'Arizona Republicans to release findings of widely panned election audit '\n",
      " 'Even The Arizona GOP’s Fake Election Audit Failed To Find Evidence Of Fraud '\n",
      " 'Conspiracy Firm Behind Arizona Audit Defies Order to Release Behind-the-Scenes Texts ']\n",
      "\n",
      "\n",
      "\n",
      "Topic 10\n",
      "['Democrats face GOP blockage on raising debt ceiling as time is running out '\n",
      " 'Democrats to Pair Spending Bill With Raising Debt Ceiling, Pressuring G.O.P. '\n",
      " 'Mitch McConnell says the GOP will vote for the US to default on its debt '\n",
      " \"Republicans grow defiant against raising the nation's debt limit \"\n",
      " 'Opinion: This shouldn’t be hard: Republicans must help the U.S. avoid default '\n",
      " 'Senate GOP says it will allow debt default; Democrats rush to avert economic crisis | Analysis '\n",
      " 'Democratic Leadership Calls GOP Bluff: Vote For Bill, Or Risk Shutdown AND Debt Default '\n",
      " \"GOP senator will 'probably' vote for debt-limit increase \"\n",
      " 'White House warns of economic catastrophe without action on debt limit '\n",
      " 'A $100 million loan on Trump Tower in Manhattan has been placed on a bank watch list, due to a slump in occupancy, reports say '\n",
      " 'Mitch McConnell is trying to troll Democrats — but the debt limit fight will blow back on the GOP '\n",
      " 'Republicans see opportunity in U.S. debt-ceiling standoff '\n",
      " 'Anxious Democrats float Plan B: Raise debt ceiling on party-line vote '\n",
      " 'Democrats release debt ceiling bill that funds government through Dec. 3 '\n",
      " 'Shutdown, default odds increase as GOP buckles up to block debt limit hike '\n",
      " 'Mitch McConnell says the GOP will not vote to increase debt ceiling '\n",
      " 'Opinion: Mitch McConnell’s debt limit game-playing is lunacy, and we should say so '\n",
      " 'On debt ceiling, McConnell led Republicans will vote against raising borrowing limit '\n",
      " 'Democrats would shoulder more blame than Republicans if US defaults on debt: poll '\n",
      " 'Factbox: Congress confronts U.S. debt ceiling drama - again ']\n",
      "\n",
      "\n",
      "\n",
      "Topic 11\n",
      "['Joe Manchin Got the Voting Bill He Wanted. Time to Pass It. '\n",
      " 'Joe Manchin insists he ‘can’t vote for’ $3.5tn spending bill '\n",
      " 'Manchin favors trimming Biden budget plan by more than half '\n",
      " 'Manchin says he opposes Dems’ $3.5T infrastructure bill '\n",
      " \"Manchin says he can't support Biden's $3.5 trillion spending plan \"\n",
      " 'Manchin\\'s Obstruction of Build Back Better Act Is \\'Absolutely Not Acceptable,\\' Says Sanders|\"Many of us made a major compromise in going from the $6 trillion bill that we wanted\" to the proposed $3.5 trillion package, said Sen. Bernie Sanders. '\n",
      " 'Sen. Joe Manchin says there’s no way to pass $3.5 trillion budget bill by September 27 '\n",
      " 'Manchin Denies He Meets with Fossil Fuel Lobbyists Weekly But Says, ‘I Keep My Door Open for Everybody’ | The senator responded to accusations from Rep. Alexandria Ocasio-Cortez and other progressives who have accused him of being bought by corporate lobbyists '\n",
      " \"Sen. Joe Manchin says he won't vote for $3.5 trillion spending bill \"\n",
      " 'Sens. Manchin and Sanders square off as Democrats clash over $3.5 trillion economic package '\n",
      " 'Manchin: I will not vote for $3.5 trillion bill '\n",
      " 'Opinion: Joe Manchin repeats a dangerous myth about government benefits and work '\n",
      " 'How much damage will Joe Manchin do? A new voting rights push offers a clue. '\n",
      " \"Biden told Sen. Joe Manchin to support his $1.9 trillion coronavirus stimulus because 'if you don't come along, you're really fucking me,' book says \"\n",
      " 'Manchin keeps Washington guessing on what he wants '\n",
      " 'Manchin lobbies McConnell on election reform bill '\n",
      " 'Biden fails to win over Manchin on $3.5T budget: report '\n",
      " 'Katie Porter Pans Manchin for “Fiscally Irresponsible” Opposition to $3.5T Bill '\n",
      " 'As Democrats try to agree a $3.5 trillion spending plan, Sen. Joe Manchin — whose vote is essential — wants to cut the cost by almost 60% '\n",
      " 'Biden meets with Sens. Manchin, Sinema as Democrats try to build support for $3.5 trillion bill ']\n",
      "\n",
      "\n",
      "\n",
      "Topic 12\n",
      "['Kentucky man and GOP operative, pardoned by President Trump, charged in illegal campaign scam '\n",
      " 'Durham Grand Jury Indicts Lawyer At DNC-Linked Firm '\n",
      " 'Democratic Lawyer Michael Sussmann Indicted, Accused Of Lying To FBI In Russia Probe '\n",
      " 'Longtime GOP operatives charged with funneling Russian national’s money to Trump, RNC '\n",
      " 'Lawyer charged in probe of Trump-Russia investigation '\n",
      " 'Special prosecutor John Durham charges ex-attorney for Clinton campaign with lying to FBI '\n",
      " 'GOP operatives charged with funneling $25,000 from Russian citizen to Trump campaign in 2016 '\n",
      " 'Republican Party operatives charged with arranging illegal Trump campaign contribution '\n",
      " 'Durham Expected to Indict Clinton-Linked Attorney Involved in Russia Probe '\n",
      " 'FBI director faces new scrutiny over investigation of Brett Kavanaugh '\n",
      " 'FBI fires agent accused of failing to properly investigate Larry Nassar '\n",
      " \"In Durham probe, grand jury indicts attorney with ties to Hillary Clinton's presidential campaign \"\n",
      " 'Fresh proof the Russiagate ‘scandal’ was created by the Hillary Clinton campaign '\n",
      " 'Durham is said to be seeking indictment of lawyer whose firm represented Hillary Clinton’s campaign '\n",
      " 'Attorney who advised Clinton campaign indicted in U.S. Trump-Russia probe '\n",
      " 'A 40-year friend of a Capitol Police officer reported him to the FBI for disclosing the secure location of lawmakers on January 6, report says '\n",
      " 'Hillary Clinton used the deep state to fabricate the Russia collusion narrative '\n",
      " \"Patrick Byrne, the pro-Trump former Overstock CEO admits funneling cash to his ex-lover Maria Butina, the glamorous spy elected to Russia's parliament this week \"\n",
      " 'Durham Is Said to Seek Indictment of Lawyer at Firm With Democratic Ties '\n",
      " 'Lawyer who allegedly advised Clinton campaign charged with lying to FBI in tip about possible Trump-Russia bank link ']\n",
      "\n",
      "\n",
      "\n",
      "Topic 13\n",
      "[\"Powerful or hypocritical? AOC's 'Tax the Rich' dress at Met Gala draws mixed reactions \"\n",
      " 'Alexandria Ocasio-Cortez sends political message in first Met Gala appearance. '\n",
      " 'AOC wears ‘Tax the Rich’ dress to Met Gala '\n",
      " 'A.O.C.’s Met Gala Dress Triggered Strong Reactions '\n",
      " 'Opinion: AOC accomplished her Met Gala mission. But performative social justice is still a problem. '\n",
      " 'AOC responds to criticism of ‘tax the rich’ dress worn at Met Gala '\n",
      " 'Ethics complaint filed over Ocasio-Cortez appearance at Met Gala '\n",
      " \"AOC used her first Met Gala appearance to send a message: 'Tax the Rich' \"\n",
      " \"AOC's 'Tax the rich' dress designer owes tax debt in multiple states \"\n",
      " 'AOC’s ‘Tax the Rich’ dress designer Aurora James owes debt in multiple states '\n",
      " 'Conservative group files ethics complaint against AOC for attending Met Gala | “We are confident we complied with all ethics rules,\" Ocasio-Cortez\\'s office said in a statement. '\n",
      " 'Isn’t it a bit hypocritical for AOC to attend a $30k event wearing a dress saying tax the rich? '\n",
      " \"AOC's 'tax the rich' dress: Who qualifies as wealthy? And how much are they getting taxed? \"\n",
      " 'Actor Michael Rapaport calls out AOC over Met Gala dress '\n",
      " \"The Problem With the Met Gala Wasn't AOC's Dress, It Was Pandemic Hypocrisy \"\n",
      " 'AOC defends polarizing ‘Tax the Rich’ Met Gala dress: ‘The medium is the message’ '\n",
      " 'Ocasio-Cortez defends attendance of Met Gala amid GOP uproar '\n",
      " 'Opinion: Despite AOC’s infamous dress, Democrats are getting cold feet on actually taxing the rich '\n",
      " 'PolitiFact - No, AOC didn’t pay for her Met Gala ticket or dress '\n",
      " '‘Tax The Rich’ AOC Wore $450 Earrings, $600 Shoes To Met Gala: Report ']\n",
      "\n",
      "\n",
      "\n",
      "Topic 14\n",
      "['The Supreme Court Justices Really Are “A Bunch of Partisan Hacks” '\n",
      " 'Clarence Thomas says Supreme Court could be \"most dangerous\" branch '\n",
      " 'Op-Ed: Are Supreme Court justices ‘partisan hacks’? All the evidence says yes '\n",
      " 'Barrett concerned about public perception of Supreme Court '\n",
      " \"We're watching the implosion of the Supreme Court in real time \"\n",
      " \"Justice Amy Coney Barrett argues Supreme Court isn't 'a bunch of partisan hacks' \"\n",
      " 'Opinion: Every Supreme Court speech from the past few weeks, but ‘partisanship’ is ‘a rodent problem’ '\n",
      " 'Justice Clarence Thomas Says The Supreme Court Is Flawed But Still Works : npr '\n",
      " 'The Supreme Court is drunk on its own power '\n",
      " 'Clarence Thomas warns Supreme Court should not wade into politics '\n",
      " 'Opinion: The Supreme Court doesn’t just suffer from political hackery. It’s more insidious than that. '\n",
      " 'Supreme Court justices say the institution must be nonpartisan — but they make it political '\n",
      " 'Clarence Thomas criticizes judges for veering into politics '\n",
      " 'Clarence Thomas insists supreme court justices do not rule based on politics '\n",
      " 'The Leftist Lawyers Who Think the Supreme Court Sucks '\n",
      " 'The Supreme Court is on defense: Justices speak out to calm growing dissatisfaction '\n",
      " 'Clarence Thomas Insists That He Isn’t A Partisan Hack Either '\n",
      " \"Justice Clarence Thomas says Supreme Court 'may have become the most dangerous' branch of the government \"\n",
      " 'If Amy Coney Barrett means what she just said, she should resign from the Supreme Court right now '\n",
      " 'How Amy Coney Barrett might know she’s a political hack ']\n",
      "\n",
      "\n",
      "\n",
      "Topic 15\n",
      "['White House moving to release information on Trump to congressional investigators '\n",
      " \"Steve Bannon Confirms His Involvement in January 6 Insurrection on 'War Room' Podcast \"\n",
      " 'Biden will not invoke executive privilege on Trump records in Jan. 6 probe -White House '\n",
      " 'Trump Bid to Stop Biden Releasing Jan 6 Info Likely to Fail: Experts '\n",
      " \"Bannon says he discussed how to 'kill this administration in the crib' with Trump before Jan. 6 \"\n",
      " 'Jan. 6 investigation accelerates as it turns toward Trump '\n",
      " 'Biden decides it would be inappropriate to assert executive privilege in January 6 investigation '\n",
      " \"The January 6 Commission Must Remain Merciless in Investigating Trump and His Lackeys' Roles \"\n",
      " \"The Bannon Subpoena Is Just the Beginning. Congress' Jan. 6 Investigation Is Going Big \"\n",
      " \"CNN reporter says Steve Bannon's admission creates a 'huge problem' \"\n",
      " 'Steve Bannon admits he helped plan 6 January Trump rally to ‘kill the Biden presidency in the crib’ '\n",
      " 'Megathread: House Jan. 6 Select Committee Issues Subpoenas for Former Trump Aides and Advisers The Jan 6. select committee investigating the deadly Capitol riot has subpoenaed four aides to former President Trump for testimony and documents.'\n",
      " 'Democrats saw how Donald Trump stymied prior probes — and are adjusting tactics for their Jan. 6 probe. '\n",
      " 'Jan. 6 panel subpoenas four ex-Trump aides Bannon, Meadows '\n",
      " 'Biden Declines to Shield Trump WH Records From 1/6 Committee, Invoke Executive Privilege '\n",
      " 'Biden will allow Jan. 6 investigators access to Trump records, White House says | Biden \"concluded that it would not be appropriate to assert executive privilege\" on Trump\\'s behalf, White House press secretary Jen Psaki said. '\n",
      " 'Steve Bannon prepped Jeffrey Epstein for CBS interview, Michael Wolff claims '\n",
      " 'Trump’s White House chief of staff is target of Capitol attack records request. House select committee investigating 6 January wants telecom and social media companies to preserve records on Mark Meadows. '\n",
      " 'Jan. 6 probe request sends hundreds of pages to Trump team for review '\n",
      " 'Opinion: After two years, this is the best Trump’s chosen investigator can do? ']\n",
      "\n",
      "\n",
      "\n",
      "Topic 16\n",
      "['Obama suggests requiring everyone to vote \"\\'If everybody voted, then it would completely change the political map in this country,\\' he said, adding that mandatory voting would \\'counteract money more than anything.\\'\" '\n",
      " 'Senate parliamentarian sets back Dems’ immigration push '\n",
      " 'Why Did Senate Democrats Strip Ethics Reform From Their Voting Rights Bill? The upper chamber’s alternative to the For the People Act does not include any of that bill’s safeguards against the abuses of the Trump era. '\n",
      " 'Senate Democrats near agreement on new voting rights legislation '\n",
      " 'U.S. Senate leader Schumer opens door to passing election reform bill without Republican help '\n",
      " 'After immigration ruling, Democrats’ once-sweeping agenda continues to shrink '\n",
      " 'Democrats Urged to \\'Ignore\\' Parliamentarian\\'s Advice Against Path to Citizenship | \"Ignore this ruling or get a new one. The GOP didn\\'t hesitate when they pushed their corporate agenda.\" '\n",
      " 'Democrats unveil voting rights compromise bill '\n",
      " 'Opinion: If Republicans can’t get behind an issue as fundamental as voting, Democrats must push through their bill '\n",
      " 'Democrats propose a compromise voting rights bill. '\n",
      " 'Freedom to Vote Act—For Capitalist Parties Only '\n",
      " 'Al Franken: ‘I’m Keeping My Options Open’ for Another Senate Run '\n",
      " 'Biden Says He Will Push Senate on Filibuster Reform Over Voting Rights '\n",
      " 'Democrats unlikely to get immigration measure in $3.5 trillion budget proposal after Senate parliamentarian ruling '\n",
      " 'Opinion | I marched for voting rights in 1963 and 2021. It’s time for Congress to do its job. '\n",
      " 'Beto O’Rourke: Democrats Will Lose Majorities If They Don’t Pass Voting Rights Bill '\n",
      " 'Senate Democrats unveil new voting rights bill '\n",
      " \"Senate parliamentarian rejects Democrats’ immigration bid| 'The policy changes of this proposal far outweigh the budgetary impact,' parliamentarian says \"\n",
      " 'Dan Patrick warns Democrats are allowing in immigrants for “silent revolution,” mirroring language of far-right extremists '\n",
      " 'Democrats propose a compromise voting rights bill. ']\n",
      "\n",
      "\n",
      "\n",
      "Topic 17\n",
      "['In escalation over submarine deal, France recalls envoys from U.S. and Australia '\n",
      " 'France recalls ambassadors to U.S., Australia over submarine deal '\n",
      " 'France to recall ambassadors in US and Australia after AUKUS submarine deal snub '\n",
      " 'France recalls ambassadors to U.S., Australia over sub deal '\n",
      " 'France recalls its ambassador to the U.S. in protest of Biden’s submarine deal with Australia. '\n",
      " 'France recalls ambassadors to US, Australia over submarine spat '\n",
      " 'France recalls its ambassadors to the US and Australia over new national security partnership '\n",
      " 'France recalls ambassadors from U.S. and Australia over submarine deal '\n",
      " \"France's Macron to speak to Biden about submarine deal \"\n",
      " 'Expressing fury over the Australia submarine deal, France cancels a gala celebrating relations with the U.S. '\n",
      " 'France Is Outraged by U.S. Nuclear Submarine Deal With Australia '\n",
      " 'Biden and UK to help Australia acquire nuclear-powered submarines in new pushback on China '\n",
      " 'France cancels Washington reception and tones down celebrations of US-French Revolutionary War victory amid submarine spat '\n",
      " 'Nuclear subs and a diplomatic blowup: The US-France clash, explained '\n",
      " 'China and France furious at new U.S. pact with Australia, Britain '\n",
      " 'Why Biden Is Taking The Rare Step Of Sharing Nuclear Submarine Tech With Australia '\n",
      " 'US-Australia submarine deal rocks NATO alliance '\n",
      " 'France accuses Australia, US of ‘lying’ over submarine deal '\n",
      " \"I'm honestly very curious as to what all the liberals think about what's happening in Australia? Do you think it could happen here? Where would you put your foot down? \"\n",
      " 'France says Australian submarine deal with U.S., U.K. is a slap in the face. And it is. ']\n",
      "\n",
      "\n",
      "\n",
      "Topic 18\n",
      "['Afghan family ravaged by U.S. drone strike mistake wants headstones for the dead — and possible new life in America '\n",
      " 'The Pentagon Now Says A Drone Strike In Afghanistan Killed Only Civilians '\n",
      " \"Pentagon admits Kabul drone strike was 'tragic mistake' after killing 10 civilians, no terrorists \"\n",
      " 'U.S. drone strike in Kabul mistakenly killed civilians, not terrorists, Pentagon says '\n",
      " 'CIA warned children were possibly present seconds before US missile killed 10 '\n",
      " 'U.S. airstrike in Kabul last month killed 10 civilians including seven children, Pentagon says '\n",
      " 'US admits Kabul drone strike killed civilians '\n",
      " 'France says head of Islamic State in Sahara has been killed. '\n",
      " 'General Admits Kabul Drone Strike Was ‘Terrible Mistake’ That Killed 10 Innocents '\n",
      " 'US military admits it killed 10 civilians and targeted wrong vehicle in Kabul airstrike '\n",
      " 'US drone strike mistakenly targeted Afghan aid worker, investigation finds '\n",
      " 'Two new reports raise doubts about drone strike rationale '\n",
      " 'Three Sunday shows ignored NYT report on botched drone strike Pentagon now admits killed 10 Afghan civilians '\n",
      " 'Reports: U.S. Drone Strike Targeted Aid Worker Carrying Water, Not Explosives '\n",
      " \"US general admits drone strike near Afghan airport that killed 10 was a 'mistake' \"\n",
      " 'US Kabul drone strike appears to have killed an Afghan who worked for a US aid group: report '\n",
      " 'US admits Kabul strike killed 10 civilians and not Islamic State militants '\n",
      " 'Report: Final US Drone Strike In Afghanistan Killed Aid Worker And Family, Not ISIS Fighters '\n",
      " \"Under Donald Trump, drone strikes far exceed Obama's numbers \"\n",
      " 'Pentagon admits error in U.S. drone strike that killed 10 civilians in Afghanistan ']\n",
      "\n",
      "\n",
      "\n",
      "Topic 19\n",
      "['Big Pharma Greed \\'Literally Killing Americans,\\' Sanders Says Outside Drug Lobby HQ | \"How many people need to die, how many people need to get unnecessarily sicker, before Congress is prepared to take on the greed of the prescription drug industry?\" asked Sen. Bernie Sanders. '\n",
      " \"Centrist Democrats threaten Biden's agenda over opposition to lower drug prices \"\n",
      " 'AOC Would Have Cast the Winning Vote for Drug Price Reform '\n",
      " 'So-called Dem ‘moderates’ sabotage Medicare power to bargain drug prices '\n",
      " 'Opinion: Do Democrats have what it takes to stand up to the pharmaceutical industry? '\n",
      " 'Pharma and medical companies donated over $750K to Kyrsten Sinema before she opposed drug bill '\n",
      " \"Sanders Says There's 'No Excuse' for Any Democrat to Oppose Lowering Drug Prices \"\n",
      " 'Dark-Money Group to Donors: Reconciliation Bill Can Still Be Killed | In a leaked email, No Labels’ director praised Sen. Kyrsten Sinema for her “heroic efforts” on the infrastructure bill. '\n",
      " 'Democrats suffer blow on drug pricing as 3 moderates buck party '\n",
      " \"'Unacceptable': 3 Corporate Dems Threaten to Block Drug Pricing Reform in Reconciliation Bill \"\n",
      " 'Yep. Sinema’s Cratering Back Home '\n",
      " 'Kyrsten Sinema Threatens to Kill Her Own Infrastructure Bill '\n",
      " 'Guess what the three Democrats blocking lower medication prices have in common? '\n",
      " 'Sinema tells White House she’s opposed to current prescription drug plan '\n",
      " 'Big Pharma Has a Friend in Kyrsten Sinema| Kyrsten Sinema has received some of the most Big Pharma money of any Democrat in the Senate — and a pharma-backed dark money group started running ads for her just before she threatened to take down Democrats’ drug pricing plan. '\n",
      " 'Kyrsten Sinema Is Corporate Lobbies’ Million-Dollar Woman '\n",
      " 'Sinema Cueing Up To Go Indy (Must Read) '\n",
      " 'Hate group praises out Sen. Kyrsten Sinema for helping to doom LGBTQ rights bill '\n",
      " 'We Need to Shrink Big Pharma Until It’s Small Enough to Drown in a Bathtub '\n",
      " 'Sanders Blasts Conservative Democrats for Siding With Big Pharma Over Voters ']\n",
      "\n",
      "\n",
      "\n",
      "Topic 20\n",
      "['More Republicans call on Biden to designate Taliban as terrorist group '\n",
      " 'GOP congressman accuses Blinken of treason and won’t end rant at Afghanistan hearing '\n",
      " 'Americans Are Still Being Held Hostage By the Taliban. Biden Is Headed to the Beach. '\n",
      " \"Biden overruled Blinken and Austin's attempts to extend US presence in Afghanistan, new Woodward/Costa book says \"\n",
      " \"Biden thought Obama was manipulated by his generals over Afghanistan and pledged that 'the military doesn't fuck around with me': book \"\n",
      " 'Republicans grilling Antony Blinken on Afghanistan wanted a scandal so badly they ruined the hearing '\n",
      " \"'Fatally flawed': Top Senate Democrat blasts Biden administration's Afghanistan withdrawal \"\n",
      " 'Alexandria Ocasio-Cortez urges Biden to help Afghan U.N. employees escape to America '\n",
      " \"Trump triggered Biden's Afghanistan disaster. Now Blinken's stuck with it. \"\n",
      " 'Blinken defends Afghanistan withdrawal: \"We inherited a deadline; we didn\\'t inherit a plan\" '\n",
      " 'Why is Biden prosecuting Assange for telling the truth about Afghanistan? '\n",
      " 'GOP lawmaker threatens to delay Biden national security nominees over Afghanistan '\n",
      " 'Blinken testifies on Afghanistan: \"We inherited a deadline, but not a plan\" '\n",
      " '20 years after 9/11, Biden faces uncertain path to closing Guantánamo Bay '\n",
      " 'Trump Slams Biden Over Afghan Civilian Deaths by Airstrike—Which Jumped 330% Under His Watch '\n",
      " 'After Afghanistan pullout, US seeks NATO basing, intel pacts '\n",
      " 'Trump Hits Biden On 9/11 Over Afghanistan Disaster: We’ll ‘Struggle To Recover From The Embarrassment This Incompetence Has Caused’ '\n",
      " 'NATO Chief Backs Biden, Saying Europe Was Consulted on Afghanistan '\n",
      " 'Biden Underwater On Job Approval And Handling Of Key Issues, Quinnipiac University National Poll Finds; More Than 6 In 10 Americans Believe U.S. Troops Will Return To Afghanistan '\n",
      " 'Afghanistan Was a Ponzi Scheme Sold to the American Public ']\n",
      "\n",
      "\n",
      "\n",
      "Topic 21\n",
      "['Project Veritas Says It Got Scammed Out of $165,000 '\n",
      " 'Project Veritas says hackers scammed it out of $165,000 '\n",
      " 'Epik hack reveals prominent, Trump-supporting websites under subpoena investigation '\n",
      " 'Anonymous says it will release massive trove of secrets from far-right web host '\n",
      " 'TMZ sold to FOX Entertainment '\n",
      " 'Facebook paid billions extra to the FTC to spare Zuckerberg in data suit, shareholders allege '\n",
      " 'Anonymous leaks gigabytes of data from Alt-Right web host Epik '\n",
      " \"Facebook made money from dangerous 'abortion reversal' ads that targeted teens and were seen 18.4 million times \"\n",
      " 'Ex-Infowars Star Sells Mysterious Gadget Dubbed the ‘Cucks’ '\n",
      " \"Scoop: Sinema's secret spreadsheets \"\n",
      " 'Alt-right finds new partners in hate on China’s internet '\n",
      " 'Early Facebook investor: “What we need are criminal investigations” '\n",
      " 'Alleged QAnon leader is selling NFTs of Trump tweets to fund new ‘Bill of Rights’ '\n",
      " 'Failed to file What are they hiding? 🤔 '\n",
      " 'Anonymous Hacks Texas GOP Website, Floods It With Memes '\n",
      " '\"The fascist side of the Internet\" gets hacked: Proud Boys, QAnon websites fall victim to Anonymous '\n",
      " \"Huge hack reveals embarrassing details of who's behind Proud Boys and other far-right websites \"\n",
      " 'The Hunter Biden Email Cover-Up Is a Scandal. Yes, a new book says, Joe Biden was involved in his son’s shady international business deals '\n",
      " 'Confirmation of Hunter Biden’s laptop also confirms media’s ethics are putrid '\n",
      " 'Scoop: Biden to tap privacy hawk for FTC post ']\n",
      "\n",
      "\n",
      "\n"
     ]
    }
   ],
   "source": [
    "for topic, group in top_docs.groupby('Topic'):\n",
    "    print(f\"Topic {topic}\")\n",
    "    print(group.Document.values)\n",
    "    print(\"\\n\\n\")"
   ]
  },
  {
   "cell_type": "markdown",
   "metadata": {},
   "source": [
    "### EXERCISE 1\n",
    "\n",
    "Where topic modeling really shines is in analyzing longer texts - for example, the subreddit [changemyview](https://www.reddit.com/r/changemyview/) has fairly long posts where people explain a controversial view that they hold.\n",
    "\n",
    "Try to figure out how to get a few hundred posts from changemyview using PRAW, and run a topic model on them, where the selftext of each post is a document."
   ]
  },
  {
   "cell_type": "code",
   "execution_count": null,
   "metadata": {},
   "outputs": [],
   "source": []
  },
  {
   "cell_type": "markdown",
   "metadata": {},
   "source": [
    "## Word Embeddings\n",
    "\n",
    "The next method is word embeddings. Word embeddings crete a multidimensional \"space\" and then place words in that space based on the words that they appear near in a corpus. There are a bunch of complex versions of word embeddings, and complex uses for them. Indeed, BERTopic uses word embeddings, as do LLMs. \n",
    "\n",
    "The embeddings themselves can also be interesting, as we can think of them as putting words into a contextualized semantic space. We can then compare how different groups or communities contextualized different terms or concepts differently.\n",
    "\n",
    "I'm going to teach you a simple version of word embeddings called Word2Vec. In this example, we'll build the model from scratch, but another option is to use something like BERT to build on a pre-trained model.\n",
    "\n",
    "Much of what follows is borrowed from [Laura Nelson's wonderful example](https://github.com/lknelson/DH-Institute-2017/blob/d20246758d6da88dfedbad2e75933ad4ef370930/07-Word2Vec/Word2Vec.ipynb).\n",
    "\n",
    "We will use Laura's code as template to look at differences between some recent comments on `r/Purdue` and `r/IndianaUniversity`"
   ]
  },
  {
   "cell_type": "code",
   "execution_count": 41,
   "metadata": {},
   "outputs": [],
   "source": [
    "import numpy as np\n",
    "#import pandas as pd\n",
    "#from sklearn.metrics import pairwise\n",
    "#from sklearn.manifold import MDS, TSNE\n",
    "\n",
    "import gensim\n",
    "import nltk\n",
    "from nltk.tokenize import word_tokenize, sent_tokenize\n",
    "\n",
    "from string import punctuation\n"
   ]
  },
  {
   "cell_type": "code",
   "execution_count": 42,
   "metadata": {},
   "outputs": [],
   "source": [
    "\n",
    "def fast_tokenize(text):\n",
    "    \n",
    "    # Get a list of punctuation marks\n",
    "    \n",
    "    lower_case = text.lower()\n",
    "    \n",
    "    # Iterate through text removing punctuation characters\n",
    "    no_punct = \"\".join([char for char in lower_case if char not in punctuation])\n",
    "    \n",
    "    # Split text over whitespace into list of words\n",
    "    tokens = no_punct.split()\n",
    "    \n",
    "    return tokens\n"
   ]
  },
  {
   "cell_type": "code",
   "execution_count": 43,
   "metadata": {},
   "outputs": [],
   "source": [
    "def tokenize_sr(df, sr_name):\n",
    "    sr_data = df[df.subreddit==sr_name].body.to_list()\n",
    "    sr_data = [fast_tokenize(text) for text in sr_data]\n",
    "    sr_data = [text for text in sr_data if len(text) > 0]\n",
    "    return sr_data\n",
    "\n",
    "df = pd.read_csv('https://raw.githubusercontent.com/jdfoote/Intro-to-Programming-and-Data-Science/refs/heads/master/resources/data/purdue_iu_comments.csv')\n",
    "purdue_data = tokenize_sr(df, 'Purdue')\n",
    "iu_data = tokenize_sr(df, 'IndianaUniversity')\n"
   ]
  },
  {
   "cell_type": "markdown",
   "metadata": {},
   "source": [
    "Word2Vec actually has two different options for algorithms. CBOW (Continuous Bag of Words) and Skip-Gram.\n",
    "\n",
    "I won't focus on the details here. In general, CBOW is is faster and does well with frequent words, while Skip-Gram can be better for rare words.\n",
    "\n",
    "Parameters for the `gensim` `Word2Vec` function that you might want to adjust:\n",
    "\n",
    "* vector_size: Number of dimensions for embedding model\n",
    "* window: Number of context words to observe in each direction\n",
    "* min_count: Words must appear this many times to be included\n",
    "* max_vocab_size: Maximum number of words to consider (will remove less frequent words)\n",
    "* sg (Skip-Gram): '0' indicates CBOW model; '1' indicates Skip-Gram\n",
    "* alpha: Learning rate\n",
    "* epochs: Number of passes (iterations) through dataset\n",
    "\n",
    "Note: The code below uses the default for all values except for `sg`. In general, you probably don't need to change any of the parameters."
   ]
  },
  {
   "cell_type": "code",
   "execution_count": 44,
   "metadata": {},
   "outputs": [],
   "source": [
    "purdue_model, iu_model = (gensim.models.Word2Vec(x, vector_size=100, window=5,\n",
    "                               min_count=5, max_vocab_size=None, sg=1, alpha=0.025, epochs=5) for x in [purdue_data, iu_data])"
   ]
  },
  {
   "cell_type": "markdown",
   "metadata": {},
   "source": [
    "We should now have vectors for each common word that appears in the data. Each word is represented by 100 numbers (its location in the 100-dimension meaning space)"
   ]
  },
  {
   "cell_type": "code",
   "execution_count": 272,
   "metadata": {},
   "outputs": [
    {
     "data": {
      "text/plain": [
       "array([ 0.42650676,  0.2423227 ,  0.4340216 ,  0.1232065 , -0.00371701,\n",
       "       -0.45077795, -0.00652294,  0.22863336,  0.05336555, -0.38784248,\n",
       "       -0.17059462, -0.30575195, -0.06730964, -0.0582826 ,  0.15157396,\n",
       "       -0.05116662, -0.04489793,  0.08904201,  0.05273012, -0.4681878 ,\n",
       "        0.386036  ,  0.07347596,  0.27227664, -0.1489299 , -0.28774157,\n",
       "        0.13151063, -0.18973255,  0.05411329,  0.0546989 ,  0.13433374,\n",
       "       -0.05010374,  0.08429157, -0.2429416 , -0.09779704, -0.12813367,\n",
       "        0.35818008,  0.37954837, -0.12390593, -0.12781247, -0.23319471,\n",
       "        0.06319663, -0.03309186, -0.10148015,  0.01792365,  0.5536579 ,\n",
       "       -0.18210748, -0.13849355,  0.04882931, -0.02414883,  0.1733538 ,\n",
       "        0.22831964, -0.17154573, -0.28409106, -0.01810449,  0.00270636,\n",
       "        0.13850257,  0.00569986,  0.02664356, -0.03922816, -0.00855842,\n",
       "       -0.14857441, -0.06613347, -0.08124437,  0.12198006, -0.10080033,\n",
       "        0.06520334,  0.13152489, -0.07359037, -0.18478926,  0.47377646,\n",
       "       -0.23919423,  0.09919229,  0.12167404,  0.08140023,  0.34137443,\n",
       "        0.13635351,  0.20921971, -0.24009623, -0.1472462 ,  0.30039293,\n",
       "       -0.04908902,  0.34868205,  0.0480953 ,  0.08995079,  0.10070235,\n",
       "       -0.1408853 ,  0.2090282 ,  0.44304058,  0.13845867, -0.16301091,\n",
       "        0.08312149,  0.1406213 ,  0.13200931,  0.12024669, -0.16389772,\n",
       "        0.1654146 ,  0.33757997, -0.06349906,  0.06639903,  0.00376589],\n",
       "      dtype=float32)"
      ]
     },
     "execution_count": 272,
     "metadata": {},
     "output_type": "execute_result"
    }
   ],
   "source": [
    "purdue_model.wv['study']"
   ]
  },
  {
   "cell_type": "markdown",
   "metadata": {},
   "source": [
    "We can now do things like look at which terms are most similar to a given topic in both communities. For example, this shows the words most similar to \"sports\" and \"studying\""
   ]
  },
  {
   "cell_type": "code",
   "execution_count": 255,
   "metadata": {},
   "outputs": [
    {
     "name": "stdout",
     "output_type": "stream",
     "text": [
      "Purdue similar words to study: [('sleeping', 0.9779280424118042), ('hardest', 0.9761364459991455), ('aspects', 0.9753471612930298), ('101', 0.9752112627029419), ('friendship', 0.9741437435150146), ('raise', 0.9737470746040344), ('harrys', 0.9724946022033691), ('hc', 0.9722948670387268), ('18th', 0.9717273712158203), ('laptop', 0.9712340831756592)]\n",
      "IU similar words to study: [('extracurriculars', 0.9869362115859985), ('stress', 0.9844495058059692), ('limit', 0.9833267331123352), ('miss', 0.9829302430152893), ('haha', 0.9819132089614868), ('typical', 0.9812778830528259), ('handle', 0.9812208414077759), ('da', 0.9806753396987915), ('sharing', 0.9803783297538757), ('shouldn’t', 0.9802150130271912)]\n"
     ]
    }
   ],
   "source": [
    "print(f\"Purdue similar words to study: {purdue_model.wv.most_similar('studying')}\")\n",
    "print(f\"IU similar words to study: {iu_model.wv.most_similar('studying')}\")"
   ]
  },
  {
   "cell_type": "code",
   "execution_count": 258,
   "metadata": {},
   "outputs": [
    {
     "name": "stdout",
     "output_type": "stream",
     "text": [
      "Purdue similar words to sports: [('immigrants', 0.9894766211509705), ('dark', 0.9888549447059631), ('media', 0.9886048436164856), ('modern', 0.9876541495323181), ('discussion', 0.9866571426391602), ('minds', 0.9865592122077942), ('offense', 0.986454427242279), ('stations', 0.9858655333518982), ('pets', 0.9857378005981445), ('gold', 0.9857314229011536)]\n",
      "IU similar words to sports: [('consulting', 0.9733580946922302), ('ib', 0.9721837043762207), ('you’d', 0.9718393683433533), ('mentor', 0.9717192053794861), ('coats', 0.9706007838249207), ('jump', 0.9705644249916077), ('annoying', 0.9703823328018188), ('unhappy', 0.9700692296028137), ('concepts', 0.9698516726493835), ('effectively', 0.9697093963623047)]\n"
     ]
    }
   ],
   "source": [
    "print(f\"Purdue similar words to sports: {purdue_model.wv.most_similar('sports')}\")\n",
    "print(f\"IU similar words to sports: {iu_model.wv.most_similar('sports')}\")"
   ]
  },
  {
   "cell_type": "markdown",
   "metadata": {},
   "source": [
    "### Exercise\n",
    "\n",
    "Identify topics where you think IU and Purdue commenters might differ and figure out how to display those differences."
   ]
  },
  {
   "cell_type": "code",
   "execution_count": null,
   "metadata": {},
   "outputs": [],
   "source": []
  },
  {
   "cell_type": "markdown",
   "metadata": {},
   "source": [
    "## Using LLMs for research\n",
    "\n",
    "The last thing I want to show you is some example code for using LLMs (like ChatGPT or Claude) in your work.\n",
    "\n",
    "They are incredible, fleixible tools, which have a broad semantic understanding of texts, and can be used in a lot of the same ways as a trained undergraduate.\n",
    "\n",
    "For example, let's say we wanted to identify the different hobbies that people do at each school.\n",
    "\n",
    "In a sense, what we're doing is programming an LLM agent using natural langauge. So, we want to come up with a prompt. I'll show you \"few-shot\" prompting, which gives a few examples for the agent. This can often be helpful, especially when a task might be ambiguous. Unlike most of the programs we've written so far, you may receive different results with even small changes to a prompt. It's a stochastic process.\n",
    "\n",
    "Another thing is that you will need an API key. Using these models isn't but they are quite cheap.\n",
    "\n",
    "I'll show you the Anthropic (Claude.ai) API, but OpenAI's is quite similar.\n",
    "\n",
    "You can buy $5 worth of credits and create an account at https://console.anthropic.com/. This is also where you'll get an API key, which you should save in a file called `anthropic_credentials.py`\n",
    "\n",
    "On that page, you can also get Claude.ai's help in generating a prompt (wild, I know!). The below is generated with its help, plus some additional changes when things didn't work right.\n",
    "\n"
   ]
  },
  {
   "cell_type": "code",
   "execution_count": 249,
   "metadata": {},
   "outputs": [],
   "source": [
    "import anthropic\n",
    "import anthropic_credentials\n",
    "from anthropic._exceptions import InternalServerError, RateLimitError\n",
    "import time\n",
    "\n",
    "client = anthropic.Anthropic(\n",
    "    api_key=anthropic_credentials.api_key,\n",
    ")\n",
    "\n",
    "# You can use haiku for a cheaper model\n",
    "model = \"claude-3-5-sonnet-20241022\"\n",
    "\n",
    "def get_classifications(comments, num_comments):\n",
    "    try:\n",
    "        message = client.messages.create(\n",
    "            model=model,\n",
    "            max_tokens=2000,\n",
    "            temperature=0,\n",
    "            messages=[\n",
    "            {\n",
    "                \"role\": \"user\",\n",
    "                \"content\": [\n",
    "                    {\n",
    "                        \"type\": \"text\",\n",
    "                        \"text\": f\"\"\"\n",
    "                        You are an AI assistant tasked with analyzing Reddit comments from Purdue University and Indiana University (IU) subreddits. Your goal is to identify and extract the hobbies and things that people like to do at each schoool.\n",
    "                        You will be given {num_comments} comments at a time. Here the Reddit comments you need to analyze:\n",
    "\n",
    "<reddit_comments>\n",
    "{comments}\n",
    "</reddit_comments>\n",
    "\n",
    "Your task is to process each comment individually, determining if it mentions a hobby or activity that people do at either Purdue or IU. \n",
    "A hobby or activity is any pastime or interest that people engage in for pleasure or relaxation, other than their academic studies.\n",
    "\n",
    "For each comment, follow these steps:\n",
    "1. Read the comment carefully.\n",
    "2. Determine if the comment mentions a hobby or activity that people do at Purdue or IU.\n",
    "3. If a hobby or activity is mentioned, extract a description of the hobby or activity, and try to categorize it.\n",
    "4. If no hobby is mentioned, move on to the next comment.\n",
    "\n",
    "\n",
    "After analyzing all comments, compile your findings into a JSON array of the hobbies (the extracted hobby description or null if no hobby was found). This JSON array should be your only output.\n",
    "\n",
    "Here's an example of the expected JSON output structure for the following input comments:\n",
    "\n",
    "[\"There's not much to do here, but you can always join a club or organization\", \"Math 231 is super tough - don't take it\", \"Can't wait for the basketball game\"]\n",
    "\n",
    "```json\n",
    "[\"clubs and organizations\", null, \"basketball\"]\n",
    "```\n",
    "\n",
    "Remember:\n",
    "- Focus only on hobbies that are explicitly stated in the comments, but you can be generous in your interpretation of what constitutes a hobby.\n",
    "- If more than one hobby is mentioned in a given, only extract the most prominent one. Don't extract multiple hobbies from the same comment.\n",
    "- Do not make inferences or assumptions about potential hobbies that are not clearly expressed.\n",
    "- If no hobbies or activities are found in the comment, then return an empty string.\n",
    "- ONLY return the JSON, without any newlines or any additional commentary.\n",
    "- Return one entry for each comment, even if no hobbies or activities are found. You should have {num_comments} entries in your JSON output.\n",
    "\n",
    "Begin your analysis now, processing each comment individually before compiling the final JSON output.\n",
    "\"\"\"\n",
    "                    }\n",
    "                ]\n",
    "            },\n",
    "        ]\n",
    "    )\n",
    "    except (InternalServerError, RateLimitError) as e:\n",
    "        print(f\"Error {e}: Retrying after 30 seconds\")\n",
    "        time.sleep(30)\n",
    "        message = get_classifications(comments, num_comments)\n",
    "    return message"
   ]
  },
  {
   "cell_type": "markdown",
   "metadata": {},
   "source": [
    "The code below is one version of how you might do this, and is the result of running into some issues with other approaches.\n",
    "\n",
    "I found out that if you have too many comments, then it doesn't always keep track of which is which, so I batched them into groups of 10.\n",
    "\n",
    "Then, if it still returns the wrong number, I go one comment at a time.\n",
    "\n",
    "Also, note that I write out comments directly to a file, and skip to where I left off. This is a good practice so you don't have to start over if there's a network error."
   ]
  },
  {
   "cell_type": "code",
   "execution_count": 273,
   "metadata": {},
   "outputs": [],
   "source": [
    "comments = df.body.to_list()\n",
    "\n",
    "# Batch the comments into groups of 10\n",
    "batch_size = 10\n",
    "comment_batches = [[{'text': x} for x in comments[i:i+batch_size]] for i in range(0, len(comments), batch_size)]\n"
   ]
  },
  {
   "cell_type": "code",
   "execution_count": null,
   "metadata": {},
   "outputs": [],
   "source": [
    "hobbies_fn = 'hobbies.csv'\n",
    "try:\n",
    "    with open(hobbies_fn, 'r') as f:\n",
    "        hobbies = []\n",
    "        for line in f:\n",
    "            hobbies.append(line)\n",
    "except FileNotFoundError:\n",
    "    hobbies = []\n",
    "hobbies_count = len(hobbies)\n",
    "\n",
    "i = 0\n",
    "with open(hobbies_fn, 'a') as f:\n",
    "    for batch in comment_batches:\n",
    "        i += len(batch)\n",
    "        if i <= hobbies_count:\n",
    "            continue\n",
    "        # If we're partway through a batch, we need to start where we left off\n",
    "        if (i - hobbies_count) < batch_size:\n",
    "            batch = batch[(hobbies_count % batch_size):]\n",
    "\n",
    "        print(f\"Processing batch {i//batch_size} of {len(comment_batches)}\")\n",
    "        response = get_classifications(batch, batch_size)\n",
    "        curr_hobbies = json.loads(response.content[0].text)\n",
    "        # Sometimes it returns the wrong number of hobbies, so we need to reprocess one at a time\n",
    "        if len(curr_hobbies) != len(batch):\n",
    "            curr_hobbies = []\n",
    "            for comment in batch:\n",
    "                response = get_classifications([comment], 1)\n",
    "                curr_hobby = json.loads(response.content[0].text)[0]\n",
    "                if len(curr_hobby) != 1:\n",
    "                    curr_hobby = \"\"\n",
    "                curr_hobbies.append(curr_hobby)\n",
    "            \n",
    "        for hobby in curr_hobbies:\n",
    "            if hobby is None:\n",
    "                hobby = \"\"\n",
    "            f.write(hobby + '\\n')"
   ]
  },
  {
   "cell_type": "markdown",
   "metadata": {},
   "source": [
    "We can then put the hobbies back into the original dataframe, and do things like filter by them, compare them across campuses, etc."
   ]
  },
  {
   "cell_type": "code",
   "execution_count": 252,
   "metadata": {},
   "outputs": [],
   "source": [
    "with open(hobbies_fn, 'r') as f:\n",
    "    hobbies = []\n",
    "    for line in f:\n",
    "        hobbies.append(line.strip())\n",
    "\n",
    "df['hobby'] = hobbies"
   ]
  },
  {
   "cell_type": "code",
   "execution_count": 259,
   "metadata": {},
   "outputs": [],
   "source": [
    "df.to_csv('purdue_iu_comments_hobbies.csv', index=False)"
   ]
  },
  {
   "cell_type": "code",
   "execution_count": 261,
   "metadata": {},
   "outputs": [
    {
     "data": {
      "text/html": [
       "<div>\n",
       "<style scoped>\n",
       "    .dataframe tbody tr th:only-of-type {\n",
       "        vertical-align: middle;\n",
       "    }\n",
       "\n",
       "    .dataframe tbody tr th {\n",
       "        vertical-align: top;\n",
       "    }\n",
       "\n",
       "    .dataframe thead th {\n",
       "        text-align: right;\n",
       "    }\n",
       "</style>\n",
       "<table border=\"1\" class=\"dataframe\">\n",
       "  <thead>\n",
       "    <tr style=\"text-align: right;\">\n",
       "      <th></th>\n",
       "      <th>body</th>\n",
       "      <th>hobby</th>\n",
       "    </tr>\n",
       "  </thead>\n",
       "  <tbody>\n",
       "    <tr>\n",
       "      <th>10</th>\n",
       "      <td>Looking for club info? Consider checking [Boil...</td>\n",
       "      <td>clubs</td>\n",
       "    </tr>\n",
       "    <tr>\n",
       "      <th>14</th>\n",
       "      <td>Surprises me how many people don't look both w...</td>\n",
       "      <td>biking</td>\n",
       "    </tr>\n",
       "    <tr>\n",
       "      <th>16</th>\n",
       "      <td>great photos!</td>\n",
       "      <td>photography</td>\n",
       "    </tr>\n",
       "    <tr>\n",
       "      <th>17</th>\n",
       "      <td>Hi!  \\n\\nI am a professional photographer and ...</td>\n",
       "      <td>photography</td>\n",
       "    </tr>\n",
       "    <tr>\n",
       "      <th>20</th>\n",
       "      <td>We are trying to catch it but animal control i...</td>\n",
       "      <td>animal rescue</td>\n",
       "    </tr>\n",
       "    <tr>\n",
       "      <th>23</th>\n",
       "      <td>https://preview.redd.it/nkrxy9qq75wd1.jpeg?wid...</td>\n",
       "      <td>animal watching</td>\n",
       "    </tr>\n",
       "    <tr>\n",
       "      <th>32</th>\n",
       "      <td>The veterinary school has a vet clinic. I'd im...</td>\n",
       "      <td>visiting the veterinary school clinic</td>\n",
       "    </tr>\n",
       "    <tr>\n",
       "      <th>34</th>\n",
       "      <td>Check to see if the Humane Society is open</td>\n",
       "      <td>visiting the Humane Society</td>\n",
       "    </tr>\n",
       "    <tr>\n",
       "      <th>36</th>\n",
       "      <td>Oh trust me I would've adopted it in a heartbe...</td>\n",
       "      <td>adopting pets</td>\n",
       "    </tr>\n",
       "    <tr>\n",
       "      <th>44</th>\n",
       "      <td>Counter-point: the 2021 and 2022 Football seas...</td>\n",
       "      <td>watching football and basketball games</td>\n",
       "    </tr>\n",
       "    <tr>\n",
       "      <th>46</th>\n",
       "      <td>Wrong. Both basketball and the volleyball team...</td>\n",
       "      <td>basketball and volleyball</td>\n",
       "    </tr>\n",
       "    <tr>\n",
       "      <th>58</th>\n",
       "      <td>Talk it over with the CoE's therapist to help ...</td>\n",
       "      <td>seeking therapy for stress management</td>\n",
       "    </tr>\n",
       "    <tr>\n",
       "      <th>60</th>\n",
       "      <td>Nothing really, for FYE, it’s engr 131, 132, p...</td>\n",
       "      <td>robotics team</td>\n",
       "    </tr>\n",
       "    <tr>\n",
       "      <th>66</th>\n",
       "      <td>Im in indianapolis too. I have a fairly engine...</td>\n",
       "      <td>robotics</td>\n",
       "    </tr>\n",
       "    <tr>\n",
       "      <th>77</th>\n",
       "      <td>Never was the same after that shit box of a ba...</td>\n",
       "      <td>going to bars</td>\n",
       "    </tr>\n",
       "    <tr>\n",
       "      <th>82</th>\n",
       "      <td>I used to stop there and eat at DQ after footb...</td>\n",
       "      <td>eating at Dairy Queen after football games</td>\n",
       "    </tr>\n",
       "    <tr>\n",
       "      <th>85</th>\n",
       "      <td>It's wasn't great back in the early 90's eithe...</td>\n",
       "      <td>watching movies at the theater</td>\n",
       "    </tr>\n",
       "    <tr>\n",
       "      <th>87</th>\n",
       "      <td>I bought so many $4 large pizzas from papa Joh...</td>\n",
       "      <td>eating pizza</td>\n",
       "    </tr>\n",
       "    <tr>\n",
       "      <th>90</th>\n",
       "      <td>Purdue West had a grocery store until 2005, so...</td>\n",
       "      <td>grocery shopping</td>\n",
       "    </tr>\n",
       "    <tr>\n",
       "      <th>93</th>\n",
       "      <td>That's what it was called. God, what a complet...</td>\n",
       "      <td>hanging out at Purdue West</td>\n",
       "    </tr>\n",
       "  </tbody>\n",
       "</table>\n",
       "</div>"
      ],
      "text/plain": [
       "                                                 body  \\\n",
       "10  Looking for club info? Consider checking [Boil...   \n",
       "14  Surprises me how many people don't look both w...   \n",
       "16                                      great photos!   \n",
       "17  Hi!  \\n\\nI am a professional photographer and ...   \n",
       "20  We are trying to catch it but animal control i...   \n",
       "23  https://preview.redd.it/nkrxy9qq75wd1.jpeg?wid...   \n",
       "32  The veterinary school has a vet clinic. I'd im...   \n",
       "34         Check to see if the Humane Society is open   \n",
       "36  Oh trust me I would've adopted it in a heartbe...   \n",
       "44  Counter-point: the 2021 and 2022 Football seas...   \n",
       "46  Wrong. Both basketball and the volleyball team...   \n",
       "58  Talk it over with the CoE's therapist to help ...   \n",
       "60  Nothing really, for FYE, it’s engr 131, 132, p...   \n",
       "66  Im in indianapolis too. I have a fairly engine...   \n",
       "77  Never was the same after that shit box of a ba...   \n",
       "82  I used to stop there and eat at DQ after footb...   \n",
       "85  It's wasn't great back in the early 90's eithe...   \n",
       "87  I bought so many $4 large pizzas from papa Joh...   \n",
       "90  Purdue West had a grocery store until 2005, so...   \n",
       "93  That's what it was called. God, what a complet...   \n",
       "\n",
       "                                         hobby  \n",
       "10                                       clubs  \n",
       "14                                      biking  \n",
       "16                                 photography  \n",
       "17                                 photography  \n",
       "20                               animal rescue  \n",
       "23                             animal watching  \n",
       "32       visiting the veterinary school clinic  \n",
       "34                 visiting the Humane Society  \n",
       "36                               adopting pets  \n",
       "44      watching football and basketball games  \n",
       "46                   basketball and volleyball  \n",
       "58       seeking therapy for stress management  \n",
       "60                               robotics team  \n",
       "66                                    robotics  \n",
       "77                               going to bars  \n",
       "82  eating at Dairy Queen after football games  \n",
       "85              watching movies at the theater  \n",
       "87                                eating pizza  \n",
       "90                            grocery shopping  \n",
       "93                  hanging out at Purdue West  "
      ]
     },
     "execution_count": 261,
     "metadata": {},
     "output_type": "execute_result"
    }
   ],
   "source": [
    "df.loc[df.hobby != '', ['body', 'hobby']].head(20)"
   ]
  },
  {
   "cell_type": "code",
   "execution_count": 276,
   "metadata": {},
   "outputs": [
    {
     "data": {
      "text/html": [
       "<div>\n",
       "<style scoped>\n",
       "    .dataframe tbody tr th:only-of-type {\n",
       "        vertical-align: middle;\n",
       "    }\n",
       "\n",
       "    .dataframe tbody tr th {\n",
       "        vertical-align: top;\n",
       "    }\n",
       "\n",
       "    .dataframe thead th {\n",
       "        text-align: right;\n",
       "    }\n",
       "</style>\n",
       "<table border=\"1\" class=\"dataframe\">\n",
       "  <thead>\n",
       "    <tr style=\"text-align: right;\">\n",
       "      <th></th>\n",
       "      <th>body</th>\n",
       "      <th>author</th>\n",
       "      <th>score</th>\n",
       "      <th>created_utc</th>\n",
       "      <th>post_id</th>\n",
       "      <th>hobby</th>\n",
       "    </tr>\n",
       "    <tr>\n",
       "      <th>subreddit</th>\n",
       "      <th></th>\n",
       "      <th></th>\n",
       "      <th></th>\n",
       "      <th></th>\n",
       "      <th></th>\n",
       "      <th></th>\n",
       "    </tr>\n",
       "  </thead>\n",
       "  <tbody>\n",
       "    <tr>\n",
       "      <th>IndianaUniversity</th>\n",
       "      <td>1345</td>\n",
       "      <td>1345</td>\n",
       "      <td>1345</td>\n",
       "      <td>1345</td>\n",
       "      <td>1345</td>\n",
       "      <td>1345</td>\n",
       "    </tr>\n",
       "    <tr>\n",
       "      <th>Purdue</th>\n",
       "      <td>991</td>\n",
       "      <td>991</td>\n",
       "      <td>991</td>\n",
       "      <td>991</td>\n",
       "      <td>991</td>\n",
       "      <td>991</td>\n",
       "    </tr>\n",
       "  </tbody>\n",
       "</table>\n",
       "</div>"
      ],
      "text/plain": [
       "                   body  author  score  created_utc  post_id  hobby\n",
       "subreddit                                                          \n",
       "IndianaUniversity  1345    1345   1345         1345     1345   1345\n",
       "Purdue              991     991    991          991      991    991"
      ]
     },
     "execution_count": 276,
     "metadata": {},
     "output_type": "execute_result"
    }
   ],
   "source": [
    "df[df.hobby != ''].groupby('subreddit').count()"
   ]
  }
 ],
 "metadata": {
  "kernelspec": {
   "display_name": "teaching",
   "language": "python",
   "name": "python3"
  },
  "language_info": {
   "codemirror_mode": {
    "name": "ipython",
    "version": 3
   },
   "file_extension": ".py",
   "mimetype": "text/x-python",
   "name": "python",
   "nbconvert_exporter": "python",
   "pygments_lexer": "ipython3",
   "version": "3.9.19"
  }
 },
 "nbformat": 4,
 "nbformat_minor": 2
}
