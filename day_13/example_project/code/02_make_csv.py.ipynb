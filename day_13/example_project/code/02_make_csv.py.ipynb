{
 "cells": [
  {
   "cell_type": "code",
   "execution_count": 20,
   "metadata": {},
   "outputs": [],
   "source": [
    "import json\n",
    "import pandas as pd\n",
    "import pprint\n",
    "\n",
    "raw_data = '../data/raw_data.json'\n",
    "cleaned_csv = '../data/purdue_tweets.csv'\n",
    "\n",
    "with open(raw_data, 'r') as f:\n",
    "    tweets = json.load(f)\n",
    "    "
   ]
  },
  {
   "cell_type": "code",
   "execution_count": 25,
   "metadata": {},
   "outputs": [],
   "source": [
    "result = {'text':[],\n",
    "          'timestamp': [],\n",
    "          'favorite_count': [],\n",
    "          'followers': [],\n",
    "          'friends_count': []\n",
    "         }\n",
    "for tweet in tweets:\n",
    "    #pprint.pprint(tweet['user'])\n",
    "    result['text'].append(tweet['text'])\n",
    "    result['timestamp'].append(tweet['created_at'])\n",
    "    result['favorite_count'].append(tweet['favorite_count'])\n",
    "    result['followers'].append(tweet['user']['followers_count'])\n",
    "    result['friends_count'].append(tweet['user']['friends_count'])"
   ]
  },
  {
   "cell_type": "code",
   "execution_count": 26,
   "metadata": {},
   "outputs": [],
   "source": [
    "df = pd.DataFrame(result)\n",
    "df.to_csv(cleaned_csv, index=False)"
   ]
  }
 ],
 "metadata": {
  "kernelspec": {
   "display_name": "py3",
   "language": "python",
   "name": "py3"
  },
  "language_info": {
   "codemirror_mode": {
    "name": "ipython",
    "version": 3
   },
   "file_extension": ".py",
   "mimetype": "text/x-python",
   "name": "python",
   "nbconvert_exporter": "python",
   "pygments_lexer": "ipython3",
   "version": "3.7.5"
  }
 },
 "nbformat": 4,
 "nbformat_minor": 2
}
