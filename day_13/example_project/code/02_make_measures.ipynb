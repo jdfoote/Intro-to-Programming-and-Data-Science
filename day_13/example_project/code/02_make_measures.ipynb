{
 "cells": [
  {
   "cell_type": "markdown",
   "metadata": {},
   "source": [
    "## Cleaning the data\n",
    "\n",
    "Here, we're going to clean the data. This can take a lot of forms, and often includes looking at the raw data and identifying issues.\n",
    "\n",
    "We're going to look for missing data, since there shouldn't be any. We will also create a new measure for the number of words in the comment.\n",
    "\n",
    "If we had a more complicated question, we would do more complicated stuff in this step, like creating networks from comment trees or doing sentiment analysis or classifying comments."
   ]
  },
  {
   "cell_type": "code",
   "execution_count": 1,
   "metadata": {},
   "outputs": [],
   "source": [
    "import pandas as pd\n",
    "import pprint\n",
    "\n",
    "raw_data = '../data/raw_data.csv'\n",
    "cleaned_csv = '../data/processed_data.csv'"
   ]
  },
  {
   "cell_type": "code",
   "execution_count": 2,
   "metadata": {},
   "outputs": [
    {
     "data": {
      "text/plain": [
       "author                       0\n",
       "body                         1\n",
       "created_utc                  0\n",
       "id                           0\n",
       "link_id                      0\n",
       "parent_id                    0\n",
       "depth                        0\n",
       "score                        0\n",
       "score_hidden                 0\n",
       "upvotes                      0\n",
       "downvotes                    0\n",
       "subreddit                    0\n",
       "submission_id                0\n",
       "submission_title             0\n",
       "submission_created_utc       0\n",
       "submission_author            0\n",
       "submission_num_comments      0\n",
       "submission_score             0\n",
       "submission_body            584\n",
       "submission_url               0\n",
       "dtype: int64"
      ]
     },
     "execution_count": 2,
     "metadata": {},
     "output_type": "execute_result"
    }
   ],
   "source": [
    "df = pd.read_csv(raw_data)\n",
    "# Count missings in each column\n",
    "df.apply(lambda x: sum(pd.isna(x)), axis=0)\n"
   ]
  },
  {
   "cell_type": "code",
   "execution_count": 3,
   "metadata": {},
   "outputs": [],
   "source": [
    "df = df[pd.isna(df.body) == False]"
   ]
  },
  {
   "cell_type": "code",
   "execution_count": 4,
   "metadata": {},
   "outputs": [],
   "source": [
    "# Drop columns that are not needed\n",
    "df = df.loc[:, ['body', 'depth', 'score', 'subreddit', 'upvotes', 'downvotes', 'created_utc']]\n",
    "# Create a new column for the length of the comment\n",
    "df['comment_length'] = df['body'].apply(lambda x: len(str(x)))\n",
    "\n"
   ]
  },
  {
   "cell_type": "code",
   "execution_count": 5,
   "metadata": {},
   "outputs": [],
   "source": [
    "# Write out the cleaned data\n",
    "df.to_csv(cleaned_csv, index=False)"
   ]
  }
 ],
 "metadata": {
  "kernelspec": {
   "display_name": "teaching",
   "language": "python",
   "name": "python3"
  },
  "language_info": {
   "codemirror_mode": {
    "name": "ipython",
    "version": 3
   },
   "file_extension": ".py",
   "mimetype": "text/x-python",
   "name": "python",
   "nbconvert_exporter": "python",
   "pygments_lexer": "ipython3",
   "version": "3.9.19"
  }
 },
 "nbformat": 4,
 "nbformat_minor": 2
}
