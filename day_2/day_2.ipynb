{
 "cells": [
  {
   "cell_type": "markdown",
   "metadata": {},
   "source": [
    "# Variables, Conditionals, and Functions\n",
    "\n",
    "Today's lesson will go over three key programming principles: variables, conditionals, and functions."
   ]
  },
  {
   "cell_type": "markdown",
   "metadata": {},
   "source": [
    "## Variables\n",
    "\n",
    "I like to think of variables as containers. They hold things that you want to use later in your program.\n",
    "\n",
    "We assign something to a variable (i.e., put something into a variable \"container\") using the `=` operator. For example, this stores the value `7` in the variable `x`."
   ]
  },
  {
   "cell_type": "code",
   "execution_count": null,
   "metadata": {},
   "outputs": [],
   "source": [
    "x = 7"
   ]
  },
  {
   "cell_type": "markdown",
   "metadata": {},
   "source": [
    "Once we have created a variable, we can manipulate it using the name of the variable. For example, we can add stuff and multiply `x`."
   ]
  },
  {
   "cell_type": "code",
   "execution_count": null,
   "metadata": {},
   "outputs": [],
   "source": [
    "(x + 5) * 7"
   ]
  },
  {
   "cell_type": "markdown",
   "metadata": {},
   "source": [
    "Now, let's see what x is"
   ]
  },
  {
   "cell_type": "code",
   "execution_count": null,
   "metadata": {},
   "outputs": [],
   "source": [
    "print(x)"
   ]
  },
  {
   "cell_type": "markdown",
   "metadata": {},
   "source": [
    "It didn't change because we usually need to save the output of an operation or else it disappears. Commonly, we will just save the output back to the same variable.\n",
    "\n",
    "The following is bad math but good computer science. The equals symbol isn't saying that the two sides are equal, it is _assigning_ the value on the right to the variable on the left."
   ]
  },
  {
   "cell_type": "code",
   "execution_count": null,
   "metadata": {},
   "outputs": [],
   "source": [
    "x = (x + 5) * 7\n",
    "\n",
    "x"
   ]
  },
  {
   "cell_type": "markdown",
   "metadata": {},
   "source": [
    "Variables can hold basically anything in Python. We will learn more about all of these concepts later in the course, but this includes lists, dictionaries, and functions.\n",
    "\n",
    "For example, this changes x to a list"
   ]
  },
  {
   "cell_type": "code",
   "execution_count": null,
   "metadata": {},
   "outputs": [],
   "source": [
    "x = [1,3,4,5]"
   ]
  },
  {
   "cell_type": "markdown",
   "metadata": {},
   "source": [
    "Now, it has different properties and we can do different things with it. We can't, for example, run the same code as before to add 5 and multiply by 7."
   ]
  },
  {
   "cell_type": "code",
   "execution_count": null,
   "metadata": {},
   "outputs": [],
   "source": [
    "(x + 5) * 7"
   ]
  },
  {
   "cell_type": "markdown",
   "metadata": {},
   "source": [
    "But we could add an element to it"
   ]
  },
  {
   "cell_type": "code",
   "execution_count": null,
   "metadata": {},
   "outputs": [],
   "source": [
    "x.append(6)\n",
    "\n",
    "x"
   ]
  },
  {
   "cell_type": "markdown",
   "metadata": {},
   "source": [
    "## Conditionals"
   ]
  },
  {
   "cell_type": "markdown",
   "metadata": {},
   "source": [
    "It's fairly common that we will want to run some pieces of code under some conditions and others under other conditions.\n",
    "\n",
    "_Boolean expressions_ help us to do that. These are statements that evaluate to `True` or `False`, and we can combine these with _conditional statements_ to do what we want.\n",
    "\n",
    "For example, the code below is a boolean expression. Note that `==` is closer to the mathematical usage of `=`, and it can be read as \"is equal to\""
   ]
  },
  {
   "cell_type": "code",
   "execution_count": null,
   "metadata": {},
   "outputs": [],
   "source": [
    "x = 3\n",
    "\n",
    "x = x + 1\n",
    "\n",
    "x == 4"
   ]
  },
  {
   "cell_type": "markdown",
   "metadata": {},
   "source": [
    "These expressions can be arbitrarily complex and contain multiple expressions within them, connected by `and` and `or` and even nested within parentheses.\n",
    "\n",
    "Typically, it is bad practice to make these expressions very complex and you should think about a new way to do what you are doing if you find yourself combining more than a couple expressions."
   ]
  },
  {
   "cell_type": "code",
   "execution_count": null,
   "metadata": {},
   "outputs": [],
   "source": [
    "x > 3 and x < 5 and x != 3.5 or x < 2"
   ]
  },
  {
   "cell_type": "markdown",
   "metadata": {},
   "source": [
    "### if, elif, and else\n",
    "\n",
    "Now, let's combine a boolean expression with a conditional statement."
   ]
  },
  {
   "cell_type": "code",
   "execution_count": null,
   "metadata": {},
   "outputs": [],
   "source": [
    "x = input(\"What is your name?\")\n",
    "\n",
    "if x == 'Jeremy':\n",
    "    print('Yo, J!')\n",
    "elif x == 'Test' or x == 'test':\n",
    "    print('Testing code is working')\n",
    "else:\n",
    "    print(\"Hello, \" + x)"
   ]
  },
  {
   "cell_type": "markdown",
   "metadata": {},
   "source": [
    "In the code above, `if` starts the conditional statement. We have a boolean expression following `if`, follwed by a colon (`:`).\n",
    "\n",
    "We then indent four spaces (`Tab` will do this by default in Jupyter), and write some more code. Whatever code is indented here is run if and only if the boolean expression evaluates to `True`.\n",
    "\n",
    "An `if` statement can stand on its own, like so:"
   ]
  },
  {
   "cell_type": "code",
   "execution_count": null,
   "metadata": {},
   "outputs": [],
   "source": [
    "n = 3\n",
    "\n",
    "if n < 10:\n",
    "    print(\"Number is less than 10\")"
   ]
  },
  {
   "cell_type": "markdown",
   "metadata": {},
   "source": [
    "`elif` and `else`, on the other hand, can only exist with an `if` statement. You can have as many `elif` statements as you like. Python will go through them in order and run the code following the first `if` or `elif` that evaluates to `True`. If none of them evaluate to `True`, then any code following the (optional) `else` statement will be run."
   ]
  },
  {
   "cell_type": "code",
   "execution_count": null,
   "metadata": {},
   "outputs": [],
   "source": [
    "if n < 1:\n",
    "    print('Less than 1')\n",
    "elif n < 3:\n",
    "    print(\"Less than 3 but greater than or equal to 1\")\n",
    "elif n < 6:\n",
    "    print(\"Less than 6 but greater than or equal to 3\")\n",
    "elif n < 5:\n",
    "    print(\"This code will never be run\")\n",
    "else:\n",
    "    print(\"Greater than or equal to 6\")\n",
    "    "
   ]
  },
  {
   "cell_type": "markdown",
   "metadata": {},
   "source": [
    "With `if` and `elif` only one chunk of code will be run, and we need to think carefully about the order in which we write it.\n",
    "\n",
    "Sometimes, we may want code to run every time a condition is met. In this case, we can use multiple `if` statements instead."
   ]
  },
  {
   "cell_type": "code",
   "execution_count": null,
   "metadata": {},
   "outputs": [],
   "source": [
    "if n < 10:\n",
    "    print(\"Less than 10\")\n",
    "if n < 8:\n",
    "    print(\"Less than 8\")\n",
    "if n < 4:\n",
    "    print(\"Less than 4\")"
   ]
  },
  {
   "cell_type": "markdown",
   "metadata": {},
   "source": [
    "## try and except"
   ]
  },
  {
   "cell_type": "markdown",
   "metadata": {},
   "source": [
    "Sometimes, we may need to \"catch\" an exception. For example, we might have a variable that we want to convert to a number. Many strings (like 'hello') can't be converted to a number, and so Python will yell at us and quit."
   ]
  },
  {
   "cell_type": "code",
   "execution_count": null,
   "metadata": {},
   "outputs": [],
   "source": [
    "int('hello')"
   ]
  },
  {
   "cell_type": "markdown",
   "metadata": {},
   "source": [
    "We may want to \"catch\" this problem, and do something else instead (like give the user an error message)"
   ]
  },
  {
   "cell_type": "code",
   "execution_count": null,
   "metadata": {},
   "outputs": [],
   "source": [
    "x = input(\"How old are you?\")\n",
    "\n",
    "try:\n",
    "    x = int(x)\n",
    "    print(\"You are \" + str(x) + \" years old\")\n",
    "except ValueError:\n",
    "    print(x + \" is not a number\")"
   ]
  },
  {
   "cell_type": "markdown",
   "metadata": {},
   "source": [
    "## Functions\n",
    "\n",
    "Functions are just pieces of code that take in an input (or a set of inputs), do something with those inputs, and (typically) produce an output.\n",
    "\n",
    "For example, `print()`, which we have already seen, takes in an input, tries to convert it to a string, and prints it to the screen.\n",
    "\n",
    "`int()` takes in a string and converts it to an integer."
   ]
  },
  {
   "cell_type": "code",
   "execution_count": null,
   "metadata": {},
   "outputs": [],
   "source": [
    "x = '4'\n",
    "\n",
    "int(x) + 3"
   ]
  },
  {
   "cell_type": "markdown",
   "metadata": {},
   "source": [
    "We can also create our own functions. We do this using `def` followed by the function name, and the parameters that the function takes.\n",
    "\n",
    "These parameters are then available to manipulate inside the function. Finally, we `return` the output."
   ]
  },
  {
   "cell_type": "code",
   "execution_count": null,
   "metadata": {},
   "outputs": [],
   "source": [
    "def add_nums(x, y):\n",
    "    result = x + y\n",
    "    return result\n",
    "\n",
    "add_nums(3, 4)"
   ]
  },
  {
   "cell_type": "markdown",
   "metadata": {},
   "source": [
    "We can also have default values. For example, maybe we usually want to square numbers but sometimes we want to raise them to another power."
   ]
  },
  {
   "cell_type": "code",
   "execution_count": null,
   "metadata": {},
   "outputs": [],
   "source": [
    "def raise_num_to_power(x, power = 2):\n",
    "    result = x ** power\n",
    "    return result"
   ]
  },
  {
   "cell_type": "code",
   "execution_count": null,
   "metadata": {},
   "outputs": [],
   "source": [
    "raise_num_to_power(3)"
   ]
  },
  {
   "cell_type": "code",
   "execution_count": null,
   "metadata": {},
   "outputs": [],
   "source": [
    "raise_num_to_power(3, 3)"
   ]
  }
 ],
 "metadata": {
  "kernelspec": {
   "display_name": "Python 3",
   "language": "python",
   "name": "python3"
  },
  "language_info": {
   "codemirror_mode": {
    "name": "ipython",
    "version": 3
   },
   "file_extension": ".py",
   "mimetype": "text/x-python",
   "name": "python",
   "nbconvert_exporter": "python",
   "pygments_lexer": "ipython3",
   "version": "3.9.16"
  }
 },
 "nbformat": 4,
 "nbformat_minor": 4
}
