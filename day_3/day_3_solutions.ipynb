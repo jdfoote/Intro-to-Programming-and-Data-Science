{
 "cells": [
  {
   "cell_type": "markdown",
   "metadata": {},
   "source": [
    "## Py4E exercises"
   ]
  },
  {
   "cell_type": "markdown",
   "metadata": {},
   "source": [
    "5.1 Write a program which repeatedly reads numbers until the user enters “done”. Once “done” is entered, print out the total, count, and average of the numbers. If the user enters anything other than a number, detect their mistake using try and except and print an error message and skip to the next number."
   ]
  },
  {
   "cell_type": "code",
   "execution_count": 9,
   "metadata": {},
   "outputs": [
    {
     "name": "stdin",
     "output_type": "stream",
     "text": [
      "Enter a number: 34\n",
      "Enter a number: a\n"
     ]
    },
    {
     "name": "stdout",
     "output_type": "stream",
     "text": [
      "Invalid input\n"
     ]
    },
    {
     "name": "stdin",
     "output_type": "stream",
     "text": [
      "Enter a number: 76\n",
      "Enter a number: done\n"
     ]
    },
    {
     "name": "stdout",
     "output_type": "stream",
     "text": [
      "All done\n",
      "110.0 2 55.0\n"
     ]
    }
   ],
   "source": [
    "num = 0\n",
    "tot = 0.0\n",
    "\n",
    "while True:\n",
    "    number = input(\"Enter a number:\")\n",
    "    if number == \"done\":\n",
    "        break\n",
    "    try:\n",
    "        num1 = float(number)\n",
    "    except:\n",
    "        print(\"Invalid input\")\n",
    "        continue\n",
    "    num = num + 1\n",
    "    tot = tot + num1\n",
    "\n",
    "print(\"All done\")\n",
    "print(tot, num, tot/num)"
   ]
  },
  {
   "cell_type": "markdown",
   "metadata": {},
   "source": [
    "5.2 Write another program that prompts for a list of numbers as above and at the end prints out both the maximum and minimum of the numbers instead of the average."
   ]
  },
  {
   "cell_type": "code",
   "execution_count": null,
   "metadata": {},
   "outputs": [],
   "source": []
  },
  {
   "cell_type": "markdown",
   "metadata": {},
   "source": [
    "6.5: Take the following Python code that stores a string:\n",
    "\n",
    "`s = 'X-DSPAM-Confidence:0.8475'`\n",
    "\n",
    "Use find and string slicing to extract the portion of the string after the colon character and then use the `float` function to convert the extracted string into a floating point number."
   ]
  },
  {
   "cell_type": "code",
   "execution_count": 14,
   "metadata": {},
   "outputs": [
    {
     "name": "stdout",
     "output_type": "stream",
     "text": [
      "0.8475\n"
     ]
    }
   ],
   "source": [
    "s = 'X-DSPAM-Confidence:0.8475'\n",
    "\n",
    "a = s.find(':')\n",
    "a_new = float(s[a+1:])\n",
    "print(a_new)\n"
   ]
  },
  {
   "cell_type": "markdown",
   "metadata": {},
   "source": [
    "8.6 Rewrite the program that prompts the user for a list of numbers and prints out the maximum and minimum of the numbers at the end when the user enters “done”. Write the program to store the numbers the user enters in a list and use the max() and min() functions to compute the maximum and minimum numbers after the loop completes."
   ]
  },
  {
   "cell_type": "code",
   "execution_count": 5,
   "metadata": {},
   "outputs": [
    {
     "name": "stdin",
     "output_type": "stream",
     "text": [
      "Enter a number: done\n"
     ]
    },
    {
     "name": "stdout",
     "output_type": "stream",
     "text": [
      "Maximum is equal to None\n",
      "Minimum is equal to None\n"
     ]
    }
   ],
   "source": [
    "nums = []\n",
    "\n",
    "while True:\n",
    "    inp = input(\"Enter a number:\")\n",
    "    if inp == \"done\":\n",
    "        break\n",
    "    try:\n",
    "        value = float(inp)\n",
    "        nums.append(value)\n",
    "    except:\n",
    "        print(\"Invalid input\")\n",
    "        continue\n",
    "        \n",
    "if len(nums) == 0:\n",
    "    maxim = None\n",
    "    mini = None\n",
    "else:\n",
    "    maxim = max(nums)\n",
    "    mini = min(nums)\n",
    "\n",
    "print(f\"Maximum is equal to {maxim}\")\n",
    "print(f\"Minimum is equal to {mini}\")"
   ]
  },
  {
   "cell_type": "markdown",
   "metadata": {},
   "source": [
    "## Wordplay exercises"
   ]
  },
  {
   "cell_type": "markdown",
   "metadata": {},
   "source": [
    "Find all words that start with 'a' and are 9 or more letters long."
   ]
  },
  {
   "cell_type": "code",
   "execution_count": 6,
   "metadata": {},
   "outputs": [],
   "source": [
    "import scrabble"
   ]
  },
  {
   "cell_type": "markdown",
   "metadata": {},
   "source": [
    "What is the longest word that starts with a 'q'?"
   ]
  },
  {
   "cell_type": "code",
   "execution_count": null,
   "metadata": {},
   "outputs": [],
   "source": []
  },
  {
   "cell_type": "markdown",
   "metadata": {},
   "source": [
    "Find all words that end with 'nge'"
   ]
  },
  {
   "cell_type": "code",
   "execution_count": null,
   "metadata": {},
   "outputs": [],
   "source": [
    "for word in scrabble.wordlist:\n",
    "    if word[-3:] == 'nge':\n",
    "        print(word)"
   ]
  },
  {
   "cell_type": "markdown",
   "metadata": {},
   "source": [
    "Find a word that matches \"a\\*ey\" (here \"*\" means any letter). Are there any words that match?"
   ]
  },
  {
   "cell_type": "code",
   "execution_count": null,
   "metadata": {},
   "outputs": [],
   "source": [
    "for word in scrabble.wordlist:\n",
    "    if len(word) >=4:\n",
    "        initial = word[0]\n",
    "        third_letter = word[2]\n",
    "        fourth_letter = word[3]\n",
    "        if initial == 'a' and third_letter == 'e' and fourth_letter == 'y':\n",
    "            print(word)"
   ]
  },
  {
   "cell_type": "code",
   "execution_count": 11,
   "metadata": {},
   "outputs": [
    {
     "data": {
      "text/plain": [
       "-1"
      ]
     },
     "execution_count": 11,
     "metadata": {},
     "output_type": "execute_result"
    }
   ],
   "source": [
    "'they'.find('ey')"
   ]
  },
  {
   "cell_type": "code",
   "execution_count": 18,
   "metadata": {},
   "outputs": [],
   "source": [
    "\n",
    "def get_words(letters_between):\n",
    "    matches = []\n",
    "    for word in scrabble.wordlist:\n",
    "        a_loc = word.find('a')\n",
    "        if a_loc == -1:\n",
    "            continue\n",
    "        ey_loc = word.find('ey')\n",
    "        if ey_loc == -1:\n",
    "            continue\n",
    "        if ey_loc == a_loc + 1 + letters_between:\n",
    "            matches.append(word)\n",
    "    print(matches)"
   ]
  },
  {
   "cell_type": "code",
   "execution_count": 19,
   "metadata": {},
   "outputs": [
    {
     "name": "stdout",
     "output_type": "stream",
     "text": [
      "['aftereye', 'aftereyed', 'aftereyeing', 'aftereyes', 'aftereying', 'baddeleyite', 'baddeleyites', 'cabbagey', 'dahabeeyah', 'dahabeeyahs', 'garbagey', 'garganey', 'garganeys', 'headachey', 'latchkey', 'latchkeys', 'malarkey', 'malarkeys', 'mangabey', 'mangabeys', 'pamphrey', 'pamphreys', 'strathspey', 'strathspeys', 'tabooley', 'tabooleys']\n"
     ]
    }
   ],
   "source": [
    "get_words(4)"
   ]
  },
  {
   "cell_type": "markdown",
   "metadata": {},
   "source": [
    "Print every other word that matches the condition in (1) above."
   ]
  },
  {
   "cell_type": "code",
   "execution_count": null,
   "metadata": {},
   "outputs": [],
   "source": []
  },
  {
   "cell_type": "markdown",
   "metadata": {},
   "source": [
    "Find at least one word that uses all five vowels in order."
   ]
  },
  {
   "cell_type": "code",
   "execution_count": 12,
   "metadata": {},
   "outputs": [
    {
     "name": "stdout",
     "output_type": "stream",
     "text": [
      "abstemious\n",
      "abstemiously\n",
      "abstemiousness\n",
      "abstentious\n",
      "adventitious\n",
      "adventitiously\n",
      "aeruginous\n",
      "amentiferous\n",
      "androdioecious\n",
      "andromonoecious\n",
      "anemophilous\n",
      "antenniferous\n",
      "antireligious\n",
      "arenicolous\n",
      "argentiferous\n",
      "arsenious\n",
      "arteriovenous\n",
      "asclepiadaceous\n",
      "autecious\n",
      "autoecious\n",
      "autoeciously\n",
      "bacteriophagous\n",
      "caesious\n",
      "cavernicolous\n",
      "chaetiferous\n",
      "facetious\n",
      "facetiously\n",
      "facetiousness\n",
      "facetiousnesses\n",
      "facinerious\n",
      "flagelliferous\n",
      "garnetiferous\n",
      "halfseriously\n",
      "hamamelidaceous\n",
      "lateritious\n",
      "parecious\n",
      "paroecious\n",
      "quadrigeminous\n",
      "sacrilegious\n",
      "sacrilegiously\n",
      "sarraceniaceous\n",
      "ultraserious\n",
      "valerianaceous\n"
     ]
    }
   ],
   "source": [
    "vowels = ['a','e','i','o','u']\n",
    "for word in scrabble.wordlist:\n",
    "    curr_word = word\n",
    "    has_all_vowels = True\n",
    "    for vowel in vowels:\n",
    "        if vowel not in word:\n",
    "            has_all_vowels = False\n",
    "            break\n",
    "        else:\n",
    "            vowel_location = word.find(vowel)\n",
    "            word = word[vowel_location:]\n",
    "    if has_all_vowels:\n",
    "        print(curr_word)\n",
    "        "
   ]
  },
  {
   "cell_type": "code",
   "execution_count": 13,
   "metadata": {},
   "outputs": [
    {
     "name": "stdout",
     "output_type": "stream",
     "text": [
      "abstemious\n",
      "abstemiously\n",
      "abstemiousness\n",
      "abstentious\n",
      "adventitious\n",
      "adventitiously\n",
      "amentiferous\n",
      "antenniferous\n",
      "arenicolous\n",
      "argentiferous\n",
      "arsenious\n",
      "arteriovenous\n",
      "asclepiadaceous\n",
      "bacteriophagous\n",
      "caesious\n",
      "cavernicolous\n",
      "chaetiferous\n",
      "facetious\n",
      "facetiously\n",
      "facetiousness\n",
      "facetiousnesses\n",
      "flagelliferous\n",
      "garnetiferous\n",
      "halfseriously\n",
      "hamamelidaceous\n",
      "lateritious\n",
      "parecious\n",
      "sarraceniaceous\n",
      "valerianaceous\n"
     ]
    }
   ],
   "source": [
    "vowels = ['a','e','i','o','u']\n",
    "for word in scrabble.wordlist:\n",
    "    last_vowel = None\n",
    "    match = True\n",
    "    for vowel in vowels:\n",
    "        idx = word.find(vowel)\n",
    "        if idx == -1:\n",
    "            match = False\n",
    "            break\n",
    "        if not last_vowel:\n",
    "            last_vowel = idx\n",
    "        elif idx < last_vowel:\n",
    "            match = False\n",
    "            break\n",
    "        else:\n",
    "            last_vowel = idx\n",
    "    if match:\n",
    "        print(word)"
   ]
  }
 ],
 "metadata": {
  "kernelspec": {
   "display_name": "Python 3",
   "language": "python",
   "name": "python3"
  },
  "language_info": {
   "codemirror_mode": {
    "name": "ipython",
    "version": 3
   },
   "file_extension": ".py",
   "mimetype": "text/x-python",
   "name": "python",
   "nbconvert_exporter": "python",
   "pygments_lexer": "ipython3",
   "version": "3.8.8"
  }
 },
 "nbformat": 4,
 "nbformat_minor": 4
}
