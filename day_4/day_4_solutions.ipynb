{
 "cells": [
  {
   "cell_type": "markdown",
   "metadata": {},
   "source": [
    "## PY4E\n",
    "\n",
    "7.1 Write a program to read through a file and print the contents of the file (line by line) all in upper case."
   ]
  },
  {
   "cell_type": "code",
   "execution_count": null,
   "metadata": {},
   "outputs": [],
   "source": [
    "file_loc = input(\"File location?\")\n",
    "fhand = open(file_loc)\n",
    "\n",
    "for line in fhand:\n",
    "    all_caps = line.upper()\n",
    "    print(all_caps)"
   ]
  },
  {
   "cell_type": "markdown",
   "metadata": {},
   "source": [
    "7.2\n",
    "Write a program to prompt for a file name, and then read through the file and look for lines of the form:\n",
    "\n",
    "X-DSPAM-Confidence: 0.8475\n",
    "\n",
    "When you encounter a line that starts with “X-DSPAM-Confidence:” pull apart the line to extract the floating-point number on the line. Count these lines and then compute the total of the spam confidence values from these lines. When you reach the end of the file, print out the average spam confidence."
   ]
  },
  {
   "cell_type": "code",
   "execution_count": 8,
   "metadata": {},
   "outputs": [
    {
     "name": "stdout",
     "output_type": "stream",
     "text": [
      "Average spam confidence: 0.7507185185185187\n"
     ]
    }
   ],
   "source": [
    "with open('mbox-short.txt') as fh:\n",
    "    count = 0\n",
    "    average = 0\n",
    "    for line in fh:\n",
    "        if not line.startswith('X-DSPAM-Confidence:'):\n",
    "            continue\n",
    "        new = line.find(':')\n",
    "        float_val = float(line[new+2:])\n",
    "        #average += float(line[20:-1].strip())\n",
    "        count = count + 1\n",
    "    print(f\"Average spam confidence: {average/count}\")"
   ]
  },
  {
   "cell_type": "markdown",
   "metadata": {},
   "source": [
    "7.3\n",
    "Sometimes when programmers get bored or want to have a bit of fun, they add a harmless Easter Egg to their program. Modify the program that prompts the user for the file name so that it prints a funny message when the user types in the exact file name “na na boo boo”. The program should behave normally for all other files which exist and don’t exist."
   ]
  },
  {
   "cell_type": "code",
   "execution_count": null,
   "metadata": {},
   "outputs": [],
   "source": []
  },
  {
   "cell_type": "markdown",
   "metadata": {},
   "source": [
    "## Wordplay\n",
    "\n",
    "For every letter, print the word that uses that character the most. Hint: use two nested for loops. First one is\n",
    "\n",
    "```python\n",
    "for letter in 'abcdefghijklmnopqrstuvwxyz':\n",
    "    # do something\n",
    "```"
   ]
  },
  {
   "cell_type": "code",
   "execution_count": 2,
   "metadata": {},
   "outputs": [],
   "source": [
    "import scrabble"
   ]
  },
  {
   "cell_type": "code",
   "execution_count": null,
   "metadata": {},
   "outputs": [],
   "source": [
    "for letter in 'abcdefghijklmnopqrstuvwxyz':\n",
    "    most_letters = []\n",
    "    num_letters = 0\n",
    "    for word in scrabble.wordlist:\n",
    "        curr_count = word.count(letter)\n",
    "        if curr_count > num_letters:\n",
    "            num_letters = curr_count\n",
    "            most_letters = [word]\n",
    "        elif curr_count == num_letters:\n",
    "            most_letters.append(word)\n",
    "    print(f\"The word with the most {letter}'s is {most_letters}\")"
   ]
  },
  {
   "cell_type": "markdown",
   "metadata": {},
   "source": [
    "Find the longest word where no character appears more than 1 time. (Hint: look up counters)"
   ]
  },
  {
   "cell_type": "code",
   "execution_count": 3,
   "metadata": {},
   "outputs": [],
   "source": [
    "def letters_appear_once(word):\n",
    "    for letter in word:\n",
    "        if word.count(letter) > 1:\n",
    "            return False\n",
    "    return True\n",
    "\n",
    "\n",
    "candidates = []\n",
    "for word in scrabble.wordlist:\n",
    "    if letters_appear_once(word):\n",
    "        candidates.append(word)\n"
   ]
  },
  {
   "cell_type": "code",
   "execution_count": 5,
   "metadata": {},
   "outputs": [
    {
     "name": "stdout",
     "output_type": "stream",
     "text": [
      "dermatoglyphics\n"
     ]
    }
   ],
   "source": [
    "print(max(candidates, key=len))"
   ]
  },
  {
   "cell_type": "code",
   "execution_count": 7,
   "metadata": {},
   "outputs": [],
   "source": [
    "longest_word = []\n",
    "max_length = 0\n",
    "\n",
    "for word in candidates:\n",
    "    if len(word) > max_length:\n",
    "        longest_word = [word]\n",
    "        max_length = len(word)\n",
    "    elif len(word) == max_length:\n",
    "        longest_word.append(word)\n",
    "    else:\n",
    "        continue"
   ]
  },
  {
   "cell_type": "code",
   "execution_count": 8,
   "metadata": {},
   "outputs": [
    {
     "data": {
      "text/plain": [
       "['dermatoglyphics', 'uncopyrightable']"
      ]
     },
     "execution_count": 8,
     "metadata": {},
     "output_type": "execute_result"
    }
   ],
   "source": [
    "longest_word"
   ]
  },
  {
   "cell_type": "markdown",
   "metadata": {},
   "source": [
    "   \n",
    "Use Python to find one other interesting fact about the data set. Examples (that you can't use) might be:\n",
    "        One of the words that is tied for the most vowels is aquifoliaceous\n",
    "        The word with the highest consonant to vowel ratio is sulphhydryls"
   ]
  },
  {
   "cell_type": "code",
   "execution_count": null,
   "metadata": {},
   "outputs": [],
   "source": []
  }
 ],
 "metadata": {
  "kernelspec": {
   "display_name": "Python 3",
   "language": "python",
   "name": "python3"
  },
  "language_info": {
   "codemirror_mode": {
    "name": "ipython",
    "version": 3
   },
   "file_extension": ".py",
   "mimetype": "text/x-python",
   "name": "python",
   "nbconvert_exporter": "python",
   "pygments_lexer": "ipython3",
   "version": "3.8.8"
  }
 },
 "nbformat": 4,
 "nbformat_minor": 4
}
