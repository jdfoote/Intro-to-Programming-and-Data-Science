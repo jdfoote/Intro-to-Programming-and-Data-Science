{
 "cells": [
  {
   "cell_type": "markdown",
   "metadata": {},
   "source": [
    "# Introduction to Dictionaries"
   ]
  },
  {
   "cell_type": "markdown",
   "metadata": {},
   "source": [
    "Dictionaries are sort of like lists, except that we access them with a key, rather than with the index. A key can be a number of different objects: a string, a number, or even a tuple (which we will talk about in a moment).\n",
    "\n",
    "Dictionaries are within \"curly braces\"-- `{}` -- and each key is separated by the value with a colon.\n",
    "\n",
    "The following creates a new dictionary, and then shows how to add or edit entries."
   ]
  },
  {
   "cell_type": "code",
   "execution_count": 1,
   "metadata": {},
   "outputs": [
    {
     "name": "stdout",
     "output_type": "stream",
     "text": [
      "{'Purdue': 6, 'IU': 2, 'Northwestern': 0, 'Michigan': 5}\n"
     ]
    }
   ],
   "source": [
    "basketball_wins = {'Purdue': 5,\n",
    "                   'IU': 2,\n",
    "                   'Northwestern': 0}\n",
    "\n",
    "# To add a new entry\n",
    "basketball_wins['Michigan'] = 5\n",
    "\n",
    "# The same syntax updates an existing entry\n",
    "basketball_wins['Purdue'] = 6\n",
    "\n",
    "print(basketball_wins)"
   ]
  },
  {
   "cell_type": "code",
   "execution_count": 2,
   "metadata": {},
   "outputs": [
    {
     "data": {
      "text/plain": [
       "dict_items([('Purdue', 6), ('IU', 2), ('Northwestern', 0), ('Michigan', 5)])"
      ]
     },
     "execution_count": 2,
     "metadata": {},
     "output_type": "execute_result"
    }
   ],
   "source": [
    "basketball_wins.items()"
   ]
  },
  {
   "cell_type": "markdown",
   "metadata": {},
   "source": [
    "You access the data in a dictionary by the key. Unlike a list, you can't access an item in a dictionary by an index number (because the index number could also be a key!)"
   ]
  },
  {
   "cell_type": "code",
   "execution_count": null,
   "metadata": {},
   "outputs": [],
   "source": [
    "basketball_wins['Purdue']"
   ]
  },
  {
   "cell_type": "code",
   "execution_count": null,
   "metadata": {},
   "outputs": [],
   "source": [
    "# But you get an KeyError if it doesn't exist\n",
    "\n",
    "basketball_wins['Wisconsin']"
   ]
  },
  {
   "cell_type": "markdown",
   "metadata": {},
   "source": [
    "Dictionary keys can be any \"immutable\" object in Python, but they are most often strings or numbers."
   ]
  },
  {
   "cell_type": "markdown",
   "metadata": {},
   "source": [
    "While the keys must be unique and don't change, the values can change. The following code takes in a string and counts how often each letter appears."
   ]
  },
  {
   "cell_type": "code",
   "execution_count": null,
   "metadata": {},
   "outputs": [],
   "source": [
    "string = \"\"\"\n",
    "I have been one acquainted with the night.\n",
    "I have walked out in rain—and back in rain.\n",
    "I have outwalked the furthest city light.\n",
    "\n",
    "I have looked down the saddest city lane.\n",
    "I have passed by the watchman on his beat\n",
    "And dropped my eyes, unwilling to explain.\n",
    "\n",
    "I have stood still and stopped the sound of feet\n",
    "When far away an interrupted cry\n",
    "Came over houses from another street,\n",
    "\n",
    "But not to call me back or say good-bye;\n",
    "And further still at an unearthly height,\n",
    "One luminary clock against the sky\n",
    "\n",
    "Proclaimed the time was neither wrong nor right. \n",
    "I have been one acquainted with the night.\n",
    "\"\"\"\n",
    "string = string.lower()\n",
    "letter_dict = {}\n",
    "for letter in string:\n",
    "    # Don't count new lines or spaces\n",
    "    if letter in ['\\n',' ']:\n",
    "        continue\n",
    "    if letter in letter_dict: # Check if the key exists\n",
    "        letter_dict[letter] = letter_dict[letter] + 1\n",
    "    else: # If it doesn't exist, then create it with the value 1\n",
    "        letter_dict[letter] = 1\n",
    "        \n",
    "print(letter_dict)\n"
   ]
  },
  {
   "cell_type": "markdown",
   "metadata": {},
   "source": [
    "### Excercise 1 \n",
    "\n",
    "See if you can modify the code above to count how often each _word_ appears instead."
   ]
  },
  {
   "cell_type": "code",
   "execution_count": null,
   "metadata": {},
   "outputs": [],
   "source": [
    "string = \"\"\"\n",
    "I have been one acquainted with the night.\n",
    "I have walked out in rain—and back in rain.\n",
    "I have outwalked the furthest city light.\n",
    "\n",
    "I have looked down the saddest city lane.\n",
    "I have passed by the watchman on his beat\n",
    "And dropped my eyes, unwilling to explain.\n",
    "\n",
    "I have stood still and stopped the sound of feet\n",
    "When far away an interrupted cry\n",
    "Came over houses from another street,\n",
    "\n",
    "But not to call me back or say good-bye;\n",
    "And further still at an unearthly height,\n",
    "One luminary clock against the sky\n",
    "\n",
    "Proclaimed the time was neither wrong nor right. \n",
    "I have been one acquainted with the night.\n",
    "\"\"\"\n",
    "\n",
    "string = string.lower()\n",
    "## Your code here\n"
   ]
  },
  {
   "cell_type": "markdown",
   "metadata": {},
   "source": [
    "## Approaches for dealing with missing dictionary keys\n",
    "\n",
    "This pattern of either modifying an existing dictionary entry or creating a new key is very common, and there are a few approaches for handling it.\n",
    "\n",
    "1. The first is what I did above - using an if statement to check if the entry exists, e.g.:\n",
    "\n",
    "```python\n",
    "if letter in letter_dict:\n",
    "    letter_dict[letter] = letter_dict[letter] + 1\n",
    "else:\n",
    "    letter_dict[letter] = 1\n",
    "```\n",
    "\n",
    "2. A very similar approach is used below: instead of `if`, we use a `try...except` clause, e.g.\n",
    "\n",
    "```python\n",
    "try:\n",
    "    letter_dict[letter] = letter_dict[letter] + 1\n",
    "except keyError:\n",
    "    letter_dict[letter] = 1\n",
    "```\n",
    "\n",
    "3. A shorter, but slightly less readable approach is to use the `get` method of a dictionary. In the code below, `letter_dict.get(letter, 0)` will return the value for the key `letter` if it exists, or it will return `0` if the key doesn't exist \n",
    "\n",
    "```python\n",
    "letter_dict[letter] = letter_dict.get(letter, 0) + 1\n",
    "```\n",
    "\n",
    "4. Finally, the `collections` package has a [defualtdict](https://docs.python.org/3.7/library/collections.html#collections.defaultdict) which lets you create a dictionary with a built in default.\n",
    "\n",
    "```python\n",
    "import collections\n",
    "letter_dict = collections.defaultdict(int)\n",
    "...\n",
    "letter_dict[letter] = letter_dict[letter] + 1\n",
    "```\n",
    "\n",
    "For most things in python, the language tries to have one right way to do things. In this case, I think that any of these options are just fine and are basically equivalent. Use whichever makes the most sense to you."
   ]
  },
  {
   "cell_type": "markdown",
   "metadata": {},
   "source": [
    "## Tuples\n",
    "\n",
    "Tuples are very similar to lists. They are created with parentheses -- `()` -- rather than with square brackets. "
   ]
  },
  {
   "cell_type": "code",
   "execution_count": null,
   "metadata": {},
   "outputs": [],
   "source": [
    "my_tuple = (4,13,'hello')"
   ]
  },
  {
   "cell_type": "markdown",
   "metadata": {},
   "source": [
    "Like lists, items in a tuple can be accessed by indexing."
   ]
  },
  {
   "cell_type": "code",
   "execution_count": null,
   "metadata": {},
   "outputs": [],
   "source": [
    "my_tuple[1]"
   ]
  },
  {
   "cell_type": "markdown",
   "metadata": {},
   "source": [
    "However, tuples are \"immutable\", meaning that they can't be changed after they are created. So, things like \"append\" and \"pop\" won't work.\n",
    "\n",
    "This immutability is (for complicated reasons) an important attribute of dictionary keys, and tuples can be used as dictionary keys. For example, let's say you wanted to store the population of cities in the US. You might create a dictionary like this:"
   ]
  },
  {
   "cell_type": "code",
   "execution_count": null,
   "metadata": {},
   "outputs": [],
   "source": [
    "population_dict = {('Georgia', 'Atlanta'): 498000,\n",
    "              ('Illinois', 'Atlanta'): 1692,\n",
    "              ('Illinois', 'Chicago'): 2750000\n",
    "             }"
   ]
  },
  {
   "cell_type": "markdown",
   "metadata": {},
   "source": [
    "## Example\n",
    "\n",
    "The following code takes a csv table of city populations that I grabbed from the US Census bureau API and saved [here](https://raw.githubusercontent.com/jdfoote/Intro-to-Programming-and-Data-Science/master/resources/data/uscities.csv). The first few lines below downloads the file. The next bit of code converts the file into a dictionary that looks like the above."
   ]
  },
  {
   "cell_type": "code",
   "execution_count": null,
   "metadata": {},
   "outputs": [],
   "source": [
    "import csv\n",
    "import requests\n",
    "import codecs\n",
    "\n",
    "# This downloads the file and then opens it. You could also save it to your computer, and open it in the normal way\n",
    "f = requests.get('https://raw.githubusercontent.com/jdfoote/Intro-to-Programming-and-Data-Science/master/resources/data/uscities.csv')\n",
    "f_csv = csv.reader(codecs.iterdecode(f.iter_lines(), 'utf-8'))\n",
    "next(f_csv) # This just skips the header row, so it isn't in our data\n",
    "\n",
    "population_dict = {}\n",
    "for row in f_csv:\n",
    "     # To get these numbers, I just opened the CSV file and looked at which columns had this data\n",
    "    city = row[1]\n",
    "    state = row[2]\n",
    "    population = int(row[0])\n",
    "    if (state, city) in population_dict: # Check for the same city twice in the same state\n",
    "        print(f\"{(state, city)} appears twice in the data\")\n",
    "    else:\n",
    "        population_dict[(state, city)] = population\n",
    "        \n",
    "# This code prints the first few items in the dictionary, to make sure it looks like it's right\n",
    "print(list(population_dict.items())[:5])"
   ]
  },
  {
   "cell_type": "markdown",
   "metadata": {},
   "source": [
    "It looks right, so let's press on.\n",
    "\n",
    "By using tuples as keys, you can do things like summarize by one or the other entries in the tuple."
   ]
  },
  {
   "cell_type": "code",
   "execution_count": null,
   "metadata": {},
   "outputs": [],
   "source": [
    "state_populations = {}\n",
    "for state_city in population_dict:\n",
    "    state = state_city[0] # Extract the state from the key\n",
    "    city_pop = population_dict[state_city] # Extract the population from the value\n",
    "    try: # If the key exists, then add the population\n",
    "        state_populations[state] = state_populations[state] + city_pop\n",
    "    except KeyError: # Otherwise set the value to the population\n",
    "        state_populations[state] = city_pop\n",
    "    \n",
    "print(state_populations)"
   ]
  },
  {
   "cell_type": "markdown",
   "metadata": {},
   "source": [
    "## Excercise 2\n",
    "\n",
    "Reuse and modify the code above so that it prints a dictionary of the total population of cities that start with each letter of the alphabet. The output should look something like:\n",
    "\n",
    "`{'A': 10205308, 'B': 12556367, ...}` "
   ]
  }
 ],
 "metadata": {
  "kernelspec": {
   "display_name": "Python 3",
   "language": "python",
   "name": "python3"
  },
  "language_info": {
   "codemirror_mode": {
    "name": "ipython",
    "version": 3
   },
   "file_extension": ".py",
   "mimetype": "text/x-python",
   "name": "python",
   "nbconvert_exporter": "python",
   "pygments_lexer": "ipython3",
   "version": "3.8.8"
  }
 },
 "nbformat": 4,
 "nbformat_minor": 4
}
