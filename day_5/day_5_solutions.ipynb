{
 "cells": [
  {
   "cell_type": "markdown",
   "metadata": {},
   "source": [
    "## PY4E Ch 9"
   ]
  },
  {
   "cell_type": "markdown",
   "metadata": {},
   "source": [
    "Exercise 2: Write a program that categorizes each mail message by which day of the week the commit was done. To do this look for lines that start with “From”, then look for the third word and keep a running count of each of the days of the week. At the end of the program print out the contents of your dictionary (order does not matter).\n",
    "\n",
    "Sample Line:\n",
    "\n",
    "``` \n",
    "From stephen.marquard@uct.ac.za Sat Jan  5 09:14:16 2008\n",
    "```\n",
    "\n",
    "Sample Execution:\n",
    "\n",
    "```python\n",
    "    python dow.py\n",
    "    Enter a file name: mbox-short.txt\n",
    "    {'Fri': 20, 'Thu': 6, 'Sat': 1}\n",
    "```"
   ]
  },
  {
   "cell_type": "code",
   "execution_count": 1,
   "metadata": {},
   "outputs": [
    {
     "name": "stdout",
     "output_type": "stream",
     "text": [
      "{'Sat': 1, 'Fri': 20, 'Thu': 6}\n"
     ]
    }
   ],
   "source": [
    "day_count = {}\n",
    "\n",
    "file_name = file_name = \"./mbox-short.txt\"\n",
    "with open(file_name, \"r\") as input_file:\n",
    "\n",
    "    for line in input_file:\n",
    "        if line.startswith(\"From \"):\n",
    "            day = line.split(\" \")[2]\n",
    "            day_count[day] = day_count.get(day, 0) + 1\n",
    "\n",
    "print(day_count)\n"
   ]
  },
  {
   "cell_type": "markdown",
   "metadata": {},
   "source": [
    "Exercise 3: Write a program to read through a mail log, build a histogram using a dictionary to count how many messages have come from each email address, and print the dictionary.\n",
    "\n",
    "    Enter file name: mbox-short.txt\n",
    "    {'gopal.ramasammycook@gmail.com': 1, 'louis@media.berkeley.edu': 3,\n",
    "    'cwen@iupui.edu': 5, 'antranig@caret.cam.ac.uk': 1,\n",
    "    'rjlowe@iupui.edu': 2, 'gsilver@umich.edu': 3,\n",
    "    'david.horwitz@uct.ac.za': 4, 'wagnermr@iupui.edu': 1,\n",
    "    'zqian@umich.edu': 4, 'stephen.marquard@uct.ac.za': 2,\n",
    "    'ray@media.berkeley.edu': 1}"
   ]
  },
  {
   "cell_type": "code",
   "execution_count": null,
   "metadata": {},
   "outputs": [],
   "source": [
    "#fname = input(\"Enter file name: \")\n",
    "fname = 'mbox-short.txt'\n",
    "\n",
    "emails_dict = {}\n",
    "\n",
    "with open(fname, 'r') as fhand:\n",
    "    for line in fhand:\n",
    "        # the space in \"From \" is important or it grabs \"From:\" lines with no date\n",
    "        if line.startswith(\"From \"):\n",
    "            words = line.split()\n",
    "            email = words[1]\n",
    "            if email in emails_dict: # add count if it's there\n",
    "                emails_dict[email] += 1\n",
    "            else: # intialize at 1 if not\n",
    "                emails_dict[email] = 1\n",
    "\n",
    "print(emails_dict)\n"
   ]
  },
  {
   "cell_type": "markdown",
   "metadata": {},
   "source": [
    "Exercise 4: Add code to the above program to figure out who has the most messages in the file. After all the data has been read and the dictionary has been created, look through the dictionary using a maximum loop (see Chapter 5: Maximum and minimum loops) to find who has the most messages and print how many messages the person has.\n",
    "\n",
    "    Enter a file name: mbox-short.txt\n",
    "    cwen@iupui.edu 5\n",
    "\n",
    "    Enter a file name: mbox.txt\n",
    "    zqian@umich.edu 195"
   ]
  },
  {
   "cell_type": "code",
   "execution_count": 6,
   "metadata": {},
   "outputs": [],
   "source": [
    "def get_messages_by_email(**kwargs):\n",
    "    \"\"\"\n",
    "    Retrieves the number of messages by email address from a given file.\n",
    "    Parameters:\n",
    "    - kwargs (dict): Optional keyword arguments.\n",
    "        - fname (str): The name of the file to read messages from. If not provided, the user will be prompted to enter a file name.\n",
    "    Returns:\n",
    "    - output (dict): A dictionary containing the number of messages for each email address.\n",
    "    \"\"\"\n",
    "\n",
    "    if 'fname' in kwargs.keys():\n",
    "        fname = kwargs['fname']\n",
    "    else:\n",
    "        fname = input(\"Enter a file name:\")\n",
    "    \n",
    "    print(f\"Input fname: {fname}\")\n",
    "    output = {}\n",
    "    try:\n",
    "        with open(f\"./{fname}\", 'r') as f:\n",
    "            for line in f.readlines():\n",
    "                if line.startswith(\"From\"):\n",
    "                    try:\n",
    "                        day_of_week = line.split()[2]\n",
    "                    except IndexError:\n",
    "                        continue\n",
    "                    email = line.split()[1]\n",
    "                    output[email] = output.get(email, 0)\n",
    "                    output[email] += 1\n",
    "    except FileNotFoundError:\n",
    "        print(\"File not found in current working directory.\")\n",
    "    return output\n",
    "\n",
    "def who_has_the_most_messages(messages_by_email_dict):\n",
    "    \"\"\"\n",
    "    Returns the email address with the highest number of messages.\n",
    "\n",
    "    Parameters:\n",
    "    - messages_by_email_dict (dict): A dictionary containing email addresses as keys and the number of messages as values.\n",
    "\n",
    "    Returns:\n",
    "    - tuple: A tuple containing the email address with the highest number of messages and the corresponding message count.\n",
    "    \"\"\"\n",
    "    \n",
    "    highest_email = ''\n",
    "    highest_count = None\n",
    "    for email, count in messages_by_email_dict.items():\n",
    "        if highest_count == None or count > highest_count:\n",
    "            highest_count = count\n",
    "            highest_email = email\n",
    "    result = f\"The email address used most was {highest_email}, which was used {highest_count} times.\"\n",
    "    return result\n",
    "\n",
    "    \n",
    "    return max(messages_by_email_dict.items(), key=lambda x: x[1])\n",
    "\n",
    "\n"
   ]
  },
  {
   "cell_type": "code",
   "execution_count": 7,
   "metadata": {},
   "outputs": [
    {
     "name": "stdout",
     "output_type": "stream",
     "text": [
      "Input fname: mbox-short.txt\n"
     ]
    },
    {
     "data": {
      "text/plain": [
       "'The email address used most was cwen@iupui.edu, which was used 5 times.'"
      ]
     },
     "execution_count": 7,
     "metadata": {},
     "output_type": "execute_result"
    }
   ],
   "source": [
    "messages_by_email = get_messages_by_email(fname=\"mbox-short.txt\")\n",
    "who_has_the_most_messages(messages_by_email_dict=messages_by_email)\n"
   ]
  },
  {
   "cell_type": "markdown",
   "metadata": {},
   "source": [
    "## 9.5\n",
    "\n",
    "This program records the domain name (instead of the address) where the message was sent from instead of who the mail came from (i.e., the whole email address). At the end of the program, print out the contents of your dictionary."
   ]
  },
  {
   "cell_type": "markdown",
   "metadata": {},
   "source": [
    "## PY4E Ch 10"
   ]
  },
  {
   "cell_type": "markdown",
   "metadata": {},
   "source": [
    "Exercise 1: Revise a previous program as follows: Read and parse the “From” lines and pull out the addresses from the line. Count the number of messages from each person using a dictionary.\n",
    "\n",
    "After all the data has been read, print the person with the most commits by creating a list of (count, email) tuples from the dictionary. Then sort the list in reverse order and print out the person who has the most commits.\n",
    "\n",
    "    Sample Line:\n",
    "    From stephen.marquard@uct.ac.za Sat Jan  5 09:14:16 2008\n",
    "\n",
    "    Enter a file name: mbox-short.txt\n",
    "    cwen@iupui.edu 5\n",
    "\n",
    "    Enter a file name: mbox.txt\n",
    "    zqian@umich.edu 195"
   ]
  },
  {
   "cell_type": "code",
   "execution_count": null,
   "metadata": {},
   "outputs": [],
   "source": [
    "\n",
    "\n",
    "file_name = input(\"Enter the file name: \")\n",
    "\n",
    "try:\n",
    "    with open(file_name, 'r') as file:\n",
    "        for line in file:\n",
    "            if line.startswith('From '):\n",
    "                words = line.split()\n",
    "                time_str = words[5]\n",
    "                \n",
    "                hour = time_str.split(':')[0]\n",
    "                hour_counts[hour] = hour_counts.get(hour, 0) + 1\n",
    "    print(\"\\nHour Distribution:\")\n",
    "    for hour, count in sorted(hour_counts.items()):\n",
    "        print(f\"{hour}: {count}\")\n",
    "\n",
    "except FileNotFoundError:\n",
    "    print(f\"Error: The file '{file_name}' was not found.\")```\n"
   ]
  },
  {
   "cell_type": "markdown",
   "metadata": {},
   "source": [
    "Exercise 2: This program counts the distribution of the hour of the day for each of the messages. You can pull the hour from the “From” line by finding the time string and then splitting that string into parts using the colon character. Once you have accumulated the counts for each hour, print out the counts, one per line, sorted by hour as shown below.\n",
    "\n",
    "    python timeofday.py\n",
    "    Enter a file name: mbox-short.txt\n",
    "    04 3\n",
    "    06 1\n",
    "    07 1\n",
    "    09 2\n",
    "    10 3\n",
    "    11 6\n",
    "    14 1\n",
    "    15 2\n",
    "    16 4\n",
    "    17 2\n",
    "    18 1\n",
    "    19 1"
   ]
  },
  {
   "cell_type": "code",
   "execution_count": null,
   "metadata": {},
   "outputs": [],
   "source": []
  },
  {
   "cell_type": "markdown",
   "metadata": {},
   "source": [
    "### 10.3\n",
    "\n",
    "Exercise 3: Write a program that reads a file and prints the letters in decreasing order of frequency.\n",
    "\n",
    "Your program should convert all the input to lower case and only count the letters a-z. Your program should not count spaces, digits, punctuation, or anything other than the letters a-z. Find text samples from several different languages and see how letter frequency varies between languages. Compare your results with the tables at https://wikipedia.org/wiki/Letter_frequencies."
   ]
  },
  {
   "cell_type": "code",
   "execution_count": 2,
   "metadata": {},
   "outputs": [
    {
     "name": "stdout",
     "output_type": "stream",
     "text": [
      "[('e', 5436), ('a', 5223), ('i', 4494), ('o', 4174), ('r', 4064), ('t', 4050), ('s', 3738), ('u', 3123), ('c', 3088), ('n', 2575), ('p', 2497), ('m', 2436), ('d', 2004), ('l', 1832), ('h', 1392), ('f', 1257), ('k', 1167), ('b', 1134), ('g', 1027), ('v', 997), ('j', 959), ('y', 643), ('w', 586), ('x', 482), ('z', 78), ('q', 57)]\n"
     ]
    }
   ],
   "source": [
    "# List of letters\n",
    "\n",
    "import string\n",
    "\n",
    "letters = list(string.ascii_lowercase)\n",
    "\n",
    "fn = input(\"Enter file name: \")\n",
    "\n",
    "letter_count = {}\n",
    "\n",
    "with open(fn, 'r') as f:\n",
    "    for line in f:\n",
    "        line = line.lower()\n",
    "        for letter in line:\n",
    "            if letter in letters:\n",
    "                if letter in letter_count:\n",
    "                    letter_count[letter] += 1\n",
    "                else:\n",
    "                    letter_count[letter] = 1\n",
    "\n",
    "sorted_letter_count = sorted(letter_count.items(), key=lambda x: x[1], reverse=True)\n",
    "\n",
    "print(sorted_letter_count)\n"
   ]
  },
  {
   "cell_type": "markdown",
   "metadata": {},
   "source": [
    "## Jeremy's Notebook Exercises\n",
    "\n",
    "1. See if you can modify the code above to count how often each word appears instead."
   ]
  },
  {
   "cell_type": "code",
   "execution_count": 16,
   "metadata": {},
   "outputs": [],
   "source": [
    "string = \"\"\"\n",
    "I have been one acquainted with the night.\n",
    "I have walked out in rain—and back in rain.\n",
    "I have outwalked the furthest city light.\n",
    "\n",
    "I have looked down the saddest city lane.\n",
    "I have passed by the watchman on his beat\n",
    "And dropped my eyes, unwilling to explain.\n",
    "\n",
    "I have stood still and stopped the sound of feet\n",
    "When far away an interrupted cry\n",
    "Came over houses from another street,\n",
    "\n",
    "But not to call me back or say good-bye;\n",
    "And further still at an unearthly height,\n",
    "One luminary clock against the sky\n",
    "\n",
    "Proclaimed the time was neither wrong nor right. \n",
    "I have been one acquainted with the night.\n",
    "\"\"\"\n",
    "\n",
    "string = string.lower()\n",
    "string = string.replace('—', ' ')\n",
    "string = string.replace(',', '')"
   ]
  },
  {
   "cell_type": "code",
   "execution_count": null,
   "metadata": {},
   "outputs": [],
   "source": []
  },
  {
   "cell_type": "markdown",
   "metadata": {},
   "source": [
    "2. Reuse and modify the code above so that it prints a dictionary of the total population of cities that start with each letter of the alphabet."
   ]
  },
  {
   "cell_type": "code",
   "execution_count": null,
   "metadata": {},
   "outputs": [],
   "source": []
  },
  {
   "cell_type": "markdown",
   "metadata": {},
   "source": [
    "## Babynames\n",
    "\n",
    "\n",
    "Search for your own name. Are there both boys and girls that have your name? Is it more popular for one group than for the other?\n"
   ]
  },
  {
   "cell_type": "code",
   "execution_count": 3,
   "metadata": {},
   "outputs": [],
   "source": [
    "NAMES_LIST = \"./baby_names/yob2022.txt\"\n",
    "\n",
    "# Creates two empty dictionaries - one for boys and one for girls\n",
    "boys = {}\n",
    "girls = {}\n",
    "\n",
    "for line in open(NAMES_LIST, 'r').readlines():\n",
    "    name, sex, count = line.strip().split(\",\")\n",
    "    count = int(count)\n",
    "    # Puts data about females in one dictionary and about males in the other\n",
    "    if sex == \"F\":\n",
    "        girls[name.lower()] = count\n",
    "    elif sex == \"M\":\n",
    "        boys[name.lower()] = count"
   ]
  },
  {
   "cell_type": "markdown",
   "metadata": {},
   "source": [
    "\n",
    "Are there more boys' names or girls' names? What about for particular first letters? What about for ''every'' first letter?\n"
   ]
  },
  {
   "cell_type": "code",
   "execution_count": null,
   "metadata": {},
   "outputs": [],
   "source": []
  },
  {
   "cell_type": "markdown",
   "metadata": {},
   "source": [
    "What is the longest name in the dataset?\n"
   ]
  },
  {
   "cell_type": "code",
   "execution_count": null,
   "metadata": {},
   "outputs": [],
   "source": []
  },
  {
   "cell_type": "markdown",
   "metadata": {},
   "source": [
    "What is the most common name and how often does it occur?"
   ]
  },
  {
   "cell_type": "code",
   "execution_count": null,
   "metadata": {},
   "outputs": [],
   "source": []
  },
  {
   "cell_type": "markdown",
   "metadata": {},
   "source": [
    "What is the least common name and how often does it occur? Does that concern you?"
   ]
  },
  {
   "cell_type": "code",
   "execution_count": null,
   "metadata": {},
   "outputs": [],
   "source": []
  },
  {
   "cell_type": "markdown",
   "metadata": {},
   "source": [
    "How many boys and girls are described in the dataset (i.e., how many boys and girls born in 2018 have names given to at least four others)?\n"
   ]
  },
  {
   "cell_type": "code",
   "execution_count": null,
   "metadata": {},
   "outputs": [],
   "source": []
  },
  {
   "cell_type": "markdown",
   "metadata": {},
   "source": [
    "How many boys' names are also girls' names? How many girls' names are also boys' names?"
   ]
  },
  {
   "cell_type": "code",
   "execution_count": null,
   "metadata": {},
   "outputs": [],
   "source": []
  },
  {
   "cell_type": "markdown",
   "metadata": {},
   "source": [
    "How many names are subsets of other names?"
   ]
  },
  {
   "cell_type": "code",
   "execution_count": null,
   "metadata": {},
   "outputs": [],
   "source": []
  },
  {
   "cell_type": "markdown",
   "metadata": {},
   "source": [
    "\n",
    "What is the most popular girls' name that is also a boys' name?\n"
   ]
  },
  {
   "cell_type": "code",
   "execution_count": null,
   "metadata": {},
   "outputs": [],
   "source": []
  },
  {
   "cell_type": "markdown",
   "metadata": {},
   "source": [
    "Write a function that takes a prefix as input and prints the number of boys and girls with that prefix (e.g., get_names(\"m\") would list all names that start with \"m\" and get_names(\"ma\") would only list those that start with \"ma\")."
   ]
  },
  {
   "cell_type": "code",
   "execution_count": null,
   "metadata": {},
   "outputs": [],
   "source": []
  }
 ],
 "metadata": {
  "kernelspec": {
   "display_name": "teaching",
   "language": "python",
   "name": "python3"
  },
  "language_info": {
   "codemirror_mode": {
    "name": "ipython",
    "version": 3
   },
   "file_extension": ".py",
   "mimetype": "text/x-python",
   "name": "python",
   "nbconvert_exporter": "python",
   "pygments_lexer": "ipython3",
   "version": "3.9.19"
  }
 },
 "nbformat": 4,
 "nbformat_minor": 4
}
