{
 "cells": [
  {
   "cell_type": "markdown",
   "metadata": {},
   "source": [
    "## PY4E Ch 9"
   ]
  },
  {
   "cell_type": "markdown",
   "metadata": {},
   "source": [
    "Exercise 2: Write a program that categorizes each mail message by which day of the week the commit was done. To do this look for lines that start with “From”, then look for the third word and keep a running count of each of the days of the week. At the end of the program print out the contents of your dictionary (order does not matter).\n",
    "\n",
    "Sample Line:\n",
    "\n",
    "``` \n",
    "From stephen.marquard@uct.ac.za Sat Jan  5 09:14:16 2008\n",
    "```\n",
    "\n",
    "Sample Execution:\n",
    "\n",
    "```python\n",
    "    python dow.py\n",
    "    Enter a file name: mbox-short.txt\n",
    "    {'Fri': 20, 'Thu': 6, 'Sat': 1}\n",
    "```"
   ]
  },
  {
   "cell_type": "code",
   "execution_count": 3,
   "metadata": {},
   "outputs": [
    {
     "name": "stdout",
     "output_type": "stream",
     "text": [
      "{'Sat': 1, 'Fri': 20, 'Thu': 6}\n"
     ]
    }
   ],
   "source": [
    "with open('mbox-short.txt') as f:\n",
    "    dict_day = {}\n",
    "    for line in f:\n",
    "        if line.startswith('From '):\n",
    "            day = line.split()[2]\n",
    "        words = line.split()\n",
    "        if len(words) < 3 or words[0] != 'From':\n",
    "            continue\n",
    "        else:\n",
    "            day = words[2]\n",
    "            dict_day[day] = dict_day.get(day, 0) + 1\n",
    "print(dict_day)"
   ]
  },
  {
   "cell_type": "code",
   "execution_count": 5,
   "metadata": {},
   "outputs": [
    {
     "data": {
      "text/plain": [
       "0"
      ]
     },
     "execution_count": 5,
     "metadata": {},
     "output_type": "execute_result"
    }
   ],
   "source": [
    "dict_day.get('Friday', 0)"
   ]
  },
  {
   "cell_type": "code",
   "execution_count": 2,
   "metadata": {},
   "outputs": [
    {
     "ename": "IndexError",
     "evalue": "list index out of range",
     "output_type": "error",
     "traceback": [
      "\u001b[0;31m---------------------------------------------------------------------------\u001b[0m",
      "\u001b[0;31mIndexError\u001b[0m                                Traceback (most recent call last)",
      "\u001b[0;32m<ipython-input-2-ecd71a4c1698>\u001b[0m in \u001b[0;36m<module>\u001b[0;34m\u001b[0m\n\u001b[1;32m      3\u001b[0m     \u001b[0;32mfor\u001b[0m \u001b[0mline\u001b[0m \u001b[0;32min\u001b[0m \u001b[0mf\u001b[0m\u001b[0;34m:\u001b[0m\u001b[0;34m\u001b[0m\u001b[0;34m\u001b[0m\u001b[0m\n\u001b[1;32m      4\u001b[0m         \u001b[0mwords\u001b[0m \u001b[0;34m=\u001b[0m \u001b[0mline\u001b[0m\u001b[0;34m.\u001b[0m\u001b[0msplit\u001b[0m\u001b[0;34m(\u001b[0m\u001b[0;34m)\u001b[0m\u001b[0;34m\u001b[0m\u001b[0;34m\u001b[0m\u001b[0m\n\u001b[0;32m----> 5\u001b[0;31m         \u001b[0;32mif\u001b[0m \u001b[0mwords\u001b[0m\u001b[0;34m[\u001b[0m\u001b[0;36m0\u001b[0m\u001b[0;34m]\u001b[0m \u001b[0;34m!=\u001b[0m \u001b[0;34m'From'\u001b[0m \u001b[0;32mor\u001b[0m \u001b[0mlen\u001b[0m\u001b[0;34m(\u001b[0m\u001b[0mwords\u001b[0m\u001b[0;34m)\u001b[0m \u001b[0;34m<\u001b[0m \u001b[0;36m3\u001b[0m\u001b[0;34m:\u001b[0m\u001b[0;34m\u001b[0m\u001b[0;34m\u001b[0m\u001b[0m\n\u001b[0m\u001b[1;32m      6\u001b[0m             \u001b[0;32mcontinue\u001b[0m\u001b[0;34m\u001b[0m\u001b[0;34m\u001b[0m\u001b[0m\n\u001b[1;32m      7\u001b[0m         \u001b[0;32melse\u001b[0m\u001b[0;34m:\u001b[0m\u001b[0;34m\u001b[0m\u001b[0;34m\u001b[0m\u001b[0m\n",
      "\u001b[0;31mIndexError\u001b[0m: list index out of range"
     ]
    }
   ],
   "source": [
    "with open('mbox-short.txt') as f:\n",
    "    dict_day = {}\n",
    "    for line in f:\n",
    "        if line.startswith('From '):\n",
    "            day = line.split()[2]\n",
    "        words = line.split()\n",
    "        if len(words) < 3 or words[0] != 'From':\n",
    "            continue\n",
    "        else:\n",
    "            if words[2] not in dict_day:\n",
    "                dict_day[words[2]] = 1\n",
    "            else:\n",
    "                dict_day[words[2]] += 1\n",
    "print(dict_day)"
   ]
  },
  {
   "cell_type": "markdown",
   "metadata": {},
   "source": [
    "Exercise 3: Write a program to read through a mail log, build a histogram using a dictionary to count how many messages have come from each email address, and print the dictionary.\n",
    "\n",
    "    Enter file name: mbox-short.txt\n",
    "    {'gopal.ramasammycook@gmail.com': 1, 'louis@media.berkeley.edu': 3,\n",
    "    'cwen@iupui.edu': 5, 'antranig@caret.cam.ac.uk': 1,\n",
    "    'rjlowe@iupui.edu': 2, 'gsilver@umich.edu': 3,\n",
    "    'david.horwitz@uct.ac.za': 4, 'wagnermr@iupui.edu': 1,\n",
    "    'zqian@umich.edu': 4, 'stephen.marquard@uct.ac.za': 2,\n",
    "    'ray@media.berkeley.edu': 1}"
   ]
  },
  {
   "cell_type": "code",
   "execution_count": null,
   "metadata": {},
   "outputs": [],
   "source": []
  },
  {
   "cell_type": "markdown",
   "metadata": {},
   "source": [
    "Exercise 4: Add code to the above program to figure out who has the most messages in the file. After all the data has been read and the dictionary has been created, look through the dictionary using a maximum loop (see Chapter 5: Maximum and minimum loops) to find who has the most messages and print how many messages the person has.\n",
    "\n",
    "    Enter a file name: mbox-short.txt\n",
    "    cwen@iupui.edu 5\n",
    "\n",
    "    Enter a file name: mbox.txt\n",
    "    zqian@umich.edu 195"
   ]
  },
  {
   "cell_type": "code",
   "execution_count": 8,
   "metadata": {},
   "outputs": [
    {
     "name": "stdout",
     "output_type": "stream",
     "text": [
      "The person with the most messages is ['Fri'], who had 20 messages\n"
     ]
    }
   ],
   "source": [
    "max_val = 0\n",
    "max_key = []\n",
    "for k, v in dict_day.items():\n",
    "    if v > max_val:\n",
    "        max_val = v\n",
    "        max_key = [k]\n",
    "    elif v == max_val:\n",
    "        max_key.append(k)\n",
    "        \n",
    "print(f\"The person with the most messages is {max_key}, who had {max_val} messages\")"
   ]
  },
  {
   "cell_type": "markdown",
   "metadata": {},
   "source": [
    "## PY4E Ch 10"
   ]
  },
  {
   "cell_type": "markdown",
   "metadata": {},
   "source": [
    "Exercise 1: Revise a previous program as follows: Read and parse the “From” lines and pull out the addresses from the line. Count the number of messages from each person using a dictionary.\n",
    "\n",
    "After all the data has been read, print the person with the most commits by creating a list of (count, email) tuples from the dictionary. Then sort the list in reverse order and print out the person who has the most commits.\n",
    "\n",
    "    Sample Line:\n",
    "    From stephen.marquard@uct.ac.za Sat Jan  5 09:14:16 2008\n",
    "\n",
    "    Enter a file name: mbox-short.txt\n",
    "    cwen@iupui.edu 5\n",
    "\n",
    "    Enter a file name: mbox.txt\n",
    "    zqian@umich.edu 195"
   ]
  },
  {
   "cell_type": "code",
   "execution_count": null,
   "metadata": {},
   "outputs": [],
   "source": []
  },
  {
   "cell_type": "markdown",
   "metadata": {},
   "source": [
    "Exercise 2: This program counts the distribution of the hour of the day for each of the messages. You can pull the hour from the “From” line by finding the time string and then splitting that string into parts using the colon character. Once you have accumulated the counts for each hour, print out the counts, one per line, sorted by hour as shown below.\n",
    "\n",
    "    python timeofday.py\n",
    "    Enter a file name: mbox-short.txt\n",
    "    04 3\n",
    "    06 1\n",
    "    07 1\n",
    "    09 2\n",
    "    10 3\n",
    "    11 6\n",
    "    14 1\n",
    "    15 2\n",
    "    16 4\n",
    "    17 2\n",
    "    18 1\n",
    "    19 1"
   ]
  },
  {
   "cell_type": "code",
   "execution_count": null,
   "metadata": {},
   "outputs": [],
   "source": []
  },
  {
   "cell_type": "markdown",
   "metadata": {},
   "source": [
    "## Jeremy's Notebook Exercises\n",
    "\n",
    "1. See if you can modify the code above to count how often each word appears instead."
   ]
  },
  {
   "cell_type": "code",
   "execution_count": 16,
   "metadata": {},
   "outputs": [],
   "source": [
    "string = \"\"\"\n",
    "I have been one acquainted with the night.\n",
    "I have walked out in rain—and back in rain.\n",
    "I have outwalked the furthest city light.\n",
    "\n",
    "I have looked down the saddest city lane.\n",
    "I have passed by the watchman on his beat\n",
    "And dropped my eyes, unwilling to explain.\n",
    "\n",
    "I have stood still and stopped the sound of feet\n",
    "When far away an interrupted cry\n",
    "Came over houses from another street,\n",
    "\n",
    "But not to call me back or say good-bye;\n",
    "And further still at an unearthly height,\n",
    "One luminary clock against the sky\n",
    "\n",
    "Proclaimed the time was neither wrong nor right. \n",
    "I have been one acquainted with the night.\n",
    "\"\"\"\n",
    "\n",
    "string = string.lower()\n",
    "string = string.replace('—', ' ')\n",
    "string = string.replace(',', '')\n",
    "poem_words = string.split()\n",
    "\n"
   ]
  },
  {
   "cell_type": "markdown",
   "metadata": {},
   "source": [
    "2. Reuse and modify the code above so that it prints a dictionary of the total population of cities that start with each letter of the alphabet."
   ]
  },
  {
   "cell_type": "code",
   "execution_count": 16,
   "metadata": {},
   "outputs": [
    {
     "name": "stdout",
     "output_type": "stream",
     "text": [
      "[(('Alabama', 'Abbeville city'), 2560), (('Alabama', 'Adamsville city'), 4281), (('Alabama', 'Addison town'), 718), (('Alabama', 'Akron town'), 328), (('Alabama', 'Alabaster city'), 33487)]\n"
     ]
    }
   ],
   "source": [
    "import csv\n",
    "import requests\n",
    "import codecs\n",
    "\n",
    "# This downloads the file and then opens it. You could also save it to your computer, and open it in the normal way\n",
    "f = requests.get('https://raw.githubusercontent.com/jdfoote/Intro-to-Programming-and-Data-Science/master/resources/data/uscities.csv')\n",
    "f_csv = csv.reader(codecs.iterdecode(f.iter_lines(), 'utf-8'))\n",
    "next(f_csv) # This just skips the header row, so it isn't in our data\n",
    "\n",
    "population_dict = {}\n",
    "for row in f_csv:\n",
    "     # To get these numbers, I just opened the CSV file and looked at which columns had this data\n",
    "    city = row[1]\n",
    "    state = row[2]\n",
    "    population = int(row[0])\n",
    "    if (state, city) in population_dict: # Check for the same city twice in the same state\n",
    "        print(f\"{(state, city)} appears twice in the data\")\n",
    "    else:\n",
    "        population_dict[(state, city)] = population\n",
    "        \n",
    "# This code prints the first few items in the dictionary, to make sure it looks like it's right\n",
    "print(list(population_dict.items())[:5])"
   ]
  },
  {
   "cell_type": "markdown",
   "metadata": {},
   "source": [
    "## Babynames\n",
    "\n",
    "\n",
    "Search for your own name. Are there both boys and girls that have your name? Is it more popular for one group than for the other?\n"
   ]
  },
  {
   "cell_type": "code",
   "execution_count": null,
   "metadata": {},
   "outputs": [],
   "source": []
  },
  {
   "cell_type": "markdown",
   "metadata": {},
   "source": [
    "\n",
    "Are there more boys' names or girls' names? What about for particular first letters? What about for ''every'' first letter?\n"
   ]
  },
  {
   "cell_type": "code",
   "execution_count": null,
   "metadata": {},
   "outputs": [],
   "source": []
  },
  {
   "cell_type": "markdown",
   "metadata": {},
   "source": [
    "What is the longest name in the dataset?\n"
   ]
  },
  {
   "cell_type": "code",
   "execution_count": null,
   "metadata": {},
   "outputs": [],
   "source": []
  },
  {
   "cell_type": "markdown",
   "metadata": {},
   "source": [
    "What is the most common name and how often does it occur?"
   ]
  },
  {
   "cell_type": "code",
   "execution_count": null,
   "metadata": {},
   "outputs": [],
   "source": []
  },
  {
   "cell_type": "markdown",
   "metadata": {},
   "source": [
    "What is the least common name and how often does it occur? Does that concern you?"
   ]
  },
  {
   "cell_type": "code",
   "execution_count": 20,
   "metadata": {},
   "outputs": [],
   "source": [
    "NAMES_LIST = \"babynames/yob2018.txt\"\n",
    "\n",
    "boys = {}\n",
    "girls = {}\n",
    "\n",
    "for line in open(NAMES_LIST, 'r').readlines():\n",
    "    name, sex, count = line.strip().split(\",\")\n",
    "    count = int(count)\n",
    "\n",
    "    if sex == \"F\":\n",
    "        girls[name.lower()] = count\n",
    "    elif sex == \"M\":\n",
    "        boys[name.lower()] = count"
   ]
  },
  {
   "cell_type": "code",
   "execution_count": 22,
   "metadata": {},
   "outputs": [
    {
     "name": "stdout",
     "output_type": "stream",
     "text": [
      "aabir 5\n"
     ]
    }
   ],
   "source": [
    "min_count = None\n",
    "min_name = None\n",
    "for name, count in boys.items():\n",
    "    if min_count is None or count < min_count:\n",
    "        min_count = count\n",
    "        min_name = name\n",
    "print(min_name, min_count)"
   ]
  },
  {
   "cell_type": "code",
   "execution_count": 26,
   "metadata": {},
   "outputs": [
    {
     "data": {
      "text/plain": [
       "'aaban'"
      ]
     },
     "execution_count": 26,
     "metadata": {},
     "output_type": "execute_result"
    }
   ],
   "source": [
    "min(boys)"
   ]
  },
  {
   "cell_type": "code",
   "execution_count": 38,
   "metadata": {},
   "outputs": [],
   "source": [
    "def divide_val(x):\n",
    "    if x == 3:\n",
    "        return 0\n",
    "    return x"
   ]
  },
  {
   "cell_type": "code",
   "execution_count": 34,
   "metadata": {},
   "outputs": [],
   "source": [
    "l = [1,2,3]"
   ]
  },
  {
   "cell_type": "code",
   "execution_count": 41,
   "metadata": {},
   "outputs": [
    {
     "ename": "SyntaxError",
     "evalue": "invalid syntax (<ipython-input-41-0dd8107d8e47>, line 1)",
     "output_type": "error",
     "traceback": [
      "\u001b[0;36m  File \u001b[0;32m\"<ipython-input-41-0dd8107d8e47>\"\u001b[0;36m, line \u001b[0;32m1\u001b[0m\n\u001b[0;31m    max(l, key=lambda x: return x if not x==3 else 0)\u001b[0m\n\u001b[0m                         ^\u001b[0m\n\u001b[0;31mSyntaxError\u001b[0m\u001b[0;31m:\u001b[0m invalid syntax\n"
     ]
    }
   ],
   "source": [
    "max(l, key=lambda x: return x if not x==3 else 0)"
   ]
  },
  {
   "cell_type": "code",
   "execution_count": 31,
   "metadata": {},
   "outputs": [
    {
     "data": {
      "text/plain": [
       "'bo'"
      ]
     },
     "execution_count": 31,
     "metadata": {},
     "output_type": "execute_result"
    }
   ],
   "source": [
    "min(boys, key=len)"
   ]
  },
  {
   "cell_type": "code",
   "execution_count": 30,
   "metadata": {},
   "outputs": [
    {
     "data": {
      "text/plain": [
       "5953"
      ]
     },
     "execution_count": 30,
     "metadata": {},
     "output_type": "execute_result"
    }
   ],
   "source": [
    "boys.get('aaron')"
   ]
  },
  {
   "cell_type": "markdown",
   "metadata": {},
   "source": [
    "How many boys and girls are described in the dataset (i.e., how many boys and girls born in 2018 have names given to at least four others)?\n"
   ]
  },
  {
   "cell_type": "code",
   "execution_count": null,
   "metadata": {},
   "outputs": [],
   "source": [
    "Y"
   ]
  },
  {
   "cell_type": "markdown",
   "metadata": {},
   "source": [
    "How many boys' names are also girls' names? How many girls' names are also boys' names?"
   ]
  },
  {
   "cell_type": "code",
   "execution_count": null,
   "metadata": {},
   "outputs": [],
   "source": [
    "Y"
   ]
  },
  {
   "cell_type": "markdown",
   "metadata": {},
   "source": [
    "How many names are subsets of other names?"
   ]
  },
  {
   "cell_type": "code",
   "execution_count": null,
   "metadata": {},
   "outputs": [],
   "source": [
    "Y"
   ]
  },
  {
   "cell_type": "markdown",
   "metadata": {},
   "source": [
    "\n",
    "What is the most popular girls' name that is also a boys' name?\n"
   ]
  },
  {
   "cell_type": "code",
   "execution_count": null,
   "metadata": {},
   "outputs": [],
   "source": []
  },
  {
   "cell_type": "markdown",
   "metadata": {},
   "source": [
    "Write a function that takes a prefix as input and prints the number of boys and girls with that prefix (e.g., get_names(\"m\") would list all names that start with \"m\" and get_names(\"ma\") would only list those that start with \"ma\")."
   ]
  },
  {
   "cell_type": "code",
   "execution_count": null,
   "metadata": {},
   "outputs": [],
   "source": []
  }
 ],
 "metadata": {
  "kernelspec": {
   "display_name": "Python 3",
   "language": "python",
   "name": "python3"
  },
  "language_info": {
   "codemirror_mode": {
    "name": "ipython",
    "version": 3
   },
   "file_extension": ".py",
   "mimetype": "text/x-python",
   "name": "python",
   "nbconvert_exporter": "python",
   "pygments_lexer": "ipython3",
   "version": "3.8.8"
  }
 },
 "nbformat": 4,
 "nbformat_minor": 4
}
