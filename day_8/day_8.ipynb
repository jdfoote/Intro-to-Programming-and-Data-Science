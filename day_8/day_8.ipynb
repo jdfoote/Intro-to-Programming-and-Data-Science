{
 "cells": [
  {
   "cell_type": "markdown",
   "metadata": {},
   "source": [
    "# Using APIs to Get Data From the Internet"
   ]
  },
  {
   "cell_type": "markdown",
   "metadata": {},
   "source": [
    "\n",
    "**API** means Application Programmer Interface\n",
    "\n",
    "An API is a set of instructions that describe how computers can interact with each other to request and receive information.\n",
    "\n",
    "Some important questions we will ask that help us discover APIs is below.\n",
    "\n",
    "|Question | In technical terms |\n",
    "|:---------|:--------------------|\n",
    "|Where is my data? | What is the domain? |\n",
    "|How do I learn what data is available?| Where is the documentation? |\n",
    "|How do I request specific data?| How do I formulate a URL for a specific purpose? |\n",
    "|How do I interpret the data?| What is the structure and format of the output?|\n",
    "\n"
   ]
  },
  {
   "cell_type": "markdown",
   "metadata": {},
   "source": [
    "**Let's walk through an example in the browser**\n",
    "\n",
    "PlaceKitten!\n",
    "\n",
    "In a browser, go to http://www.placekitten.com\n",
    "\n",
    "|In technical terms | PlaceKitten |\n",
    "|:---------|:--------------------|\n",
    "|What is the domain? | http://www.placekitten.com |\n",
    "|Where is the documentation?| The documentation is on the home page. |\n",
    "|How do I formulate a URL for a specific purpose? | You put it in the url like http://www.placekitten/width/height |\n",
    "|What is the structure and format of the output?| It's an image! |"
   ]
  },
  {
   "cell_type": "markdown",
   "metadata": {},
   "source": [
    "# Accessing placekitten in python\n",
    "\n",
    "We're going to use a special library called <code>requests</code>"
   ]
  },
  {
   "cell_type": "code",
   "execution_count": 50,
   "metadata": {},
   "outputs": [],
   "source": [
    "from IPython.display import display, Image  # This line lets you display images. We'll use that in a bit.\n",
    "\n",
    "# This line lets you use python to download data from the web.\n",
    "import requests\n",
    "import pandas as pd"
   ]
  },
  {
   "cell_type": "code",
   "execution_count": 55,
   "metadata": {},
   "outputs": [],
   "source": [
    "# Get a 200 by 300 image from placekitten.\n",
    "r = requests.get('http://www.placekitten.com/400/300')"
   ]
  },
  {
   "cell_type": "code",
   "execution_count": 56,
   "metadata": {},
   "outputs": [
    {
     "data": {
      "text/plain": [
       "200"
      ]
     },
     "execution_count": 56,
     "metadata": {},
     "output_type": "execute_result"
    }
   ],
   "source": [
    "# Look at the status code\n",
    "r.status_code"
   ]
  },
  {
   "cell_type": "code",
   "execution_count": 57,
   "metadata": {},
   "outputs": [
    {
     "data": {
      "text/plain": [
       "b'\\xff\\xd8\\xff\\xe0\\x00\\x10JFIF\\x00\\x01\\x01\\x01\\x00`\\x00`\\x00\\x00\\xff\\xfe\\x00;CREATOR: gd-jpeg v1.0 (using IJG JPEG v80), quality = 65\\n\\xff\\xdb\\x00C\\x00\\x0b\\x08\\x08\\n\\x08\\x07\\x0b\\n\\t\\n\\r\\x0c\\x0b\\r\\x11\\x1c\\x12\\x11\\x0f\\x0f\\x11\"\\x19\\x1a\\x14\\x1c)$+*($\\'\\'-2@7-0=0\\'\\'8L9=CEHIH+6OUNFT@GHE\\xff\\xdb\\x00C\\x01\\x0c\\r\\r\\x11\\x0f\\x11!\\x12\\x12!E.\\'.EEEEEEEEEEEEEEEEEEEEEEEEEEEEEEEEEEEEEEEEEEEEEEEEEE\\xff\\xc0\\x00\\x11\\x08\\x01,\\x01\\x90\\x03\\x01\"\\x00\\x02\\x11\\x01\\x03\\x11\\x01\\xff\\xc4\\x00\\x1f\\x00\\x00\\x01\\x05\\x01\\x01\\x01\\x01\\x01\\x01\\x00\\x00\\x00\\x00\\x00\\x00\\x00\\x00\\x01\\x02\\x03\\x04\\x05\\x06\\x07\\x08\\t\\n\\x0b\\xff\\xc4\\x00\\xb5\\x10\\x00\\x02\\x01\\x03\\x03\\x02\\x04\\x03\\x05\\x05\\x04\\x04\\x00\\x00\\x01}\\x01\\x02\\x03\\x00\\x04\\x11\\x05\\x12!1A\\x06\\x13Qa\\x07\"q\\x142\\x81\\x91\\xa1\\x08#B\\xb1\\xc1\\x15R\\xd1\\xf0$3br\\x82\\t\\n\\x16\\x17\\x18\\x19\\x1a%&\\'()*456789:CDEFGHIJSTUVWXYZcdefghijstuvwxyz\\x83\\x84\\x85\\x86\\x87\\x88\\x89\\x8a\\x92\\x93\\x94\\x95\\x96\\x97\\x98\\x99\\x9a\\xa2\\xa3\\xa4\\xa5\\xa6\\xa7\\xa8\\xa9\\xaa\\xb2\\xb3\\xb4\\xb5\\xb6\\xb7\\xb8\\xb9\\xba\\xc2\\xc3\\xc4\\xc5\\xc6\\xc7\\xc8\\xc9\\xca\\xd2\\xd3\\xd4\\xd5\\xd6\\xd7\\xd8\\xd9\\xda\\xe1\\xe2\\xe3\\xe4\\xe5\\xe6\\xe7\\xe8\\xe9\\xea\\xf1\\xf2\\xf3\\xf4\\xf5\\xf6\\xf7\\xf8\\xf9\\xfa\\xff\\xc4\\x00\\x1f\\x01\\x00\\x03\\x01\\x01\\x01\\x01\\x01\\x01\\x01\\x01\\x01\\x00\\x00\\x00\\x00\\x00\\x00\\x01\\x02\\x03\\x04\\x05\\x06\\x07\\x08\\t\\n\\x0b\\xff\\xc4\\x00\\xb5\\x11\\x00\\x02\\x01\\x02\\x04\\x04\\x03\\x04\\x07\\x05\\x04\\x04\\x00\\x01\\x02w\\x00\\x01\\x02\\x03\\x11\\x04\\x05!1\\x06\\x12AQ\\x07aq\\x13\"2\\x81\\x08\\x14B\\x91\\xa1\\xb1\\xc1\\t#3R\\xf0\\x15br\\xd1\\n\\x16$4\\xe1%\\xf1\\x17\\x18\\x19\\x1a&\\'()*56789:CDEFGHIJSTUVWXYZcdefghijstuvwxyz\\x82\\x83\\x84\\x85\\x86\\x87\\x88\\x89\\x8a\\x92\\x93\\x94\\x95\\x96\\x97\\x98\\x99\\x9a\\xa2\\xa3\\xa4\\xa5\\xa6\\xa7\\xa8\\xa9\\xaa\\xb2\\xb3\\xb4\\xb5\\xb6\\xb7\\xb8\\xb9\\xba\\xc2\\xc3\\xc4\\xc5\\xc6\\xc7\\xc8\\xc9\\xca\\xd2\\xd3\\xd4\\xd5\\xd6\\xd7\\xd8\\xd9\\xda\\xe2\\xe3\\xe4\\xe5\\xe6\\xe7\\xe8\\xe9\\xea\\xf2\\xf3\\xf4\\xf5\\xf6\\xf7\\xf8\\xf9\\xfa\\xff\\xda\\x00\\x0c\\x03\\x01\\x00\\x02\\x11\\x03\\x11\\x00?\\x00\\xec\\x13\\xee\\xd3^\\x9c\\x9d)\\xafL\\x82:\\x86K\\x04\\xb9\\x0e\\xf2\\x02U\\x06H\\xea*ns\\xc5N\\xa4>\\x9b:\\xf4;\\x87?\\x9dL\\xb6*\\x1b\\x9c\\xb5\\xd4\\x16\\xc0\\x95H\\xa3\\x00u\\x18\\x1f\\xadg\\xcbcjAh\\xd3an\\xf1\\xb1\\x19\\xfe\\x95\\xabsnK\\x122\\xc7\\xd75D\\xa2\\xa6T\\x8f\\xa9\\xc9\\xcdr\\xect\\xd8\\xa3-\\xbd\\xc8\\x88\\x84\\x91\\xa6\\x04\\xe7k\\xe3uf\\xe9\\xf1\\xb4w\\x87\\xccR\\xa7wz\\xdeG1\\x9c`2\\xf5\\xe0\\xe0\\xd4R\\x88\\'m\\xaf\\xba6\\'\\xe5l\\x7f#ZFm\\x19\\xca\\t\\x9d\\x16\\x9e\\x7fv*\\xc3\\xfd\\xea\\xc4\\xb0\\xbb\\x92\\xcd\\xc2I\\xfb\\xc8\\x8f\\xf1\\x0e\\xa3\\xebZ\\xc9:J~V\\x04\\x1e\\x86\\xb7RR\\xd8\\xc9\\xa6\\x81\\xeb:\\xf3\\xa1\\xad\\'\\xe9Y\\xb7\\x9d\\r1\\x19M\\xd6\\xa6\\x82\\xa1n\\xb5<\\x02\\xa4\\tEO\\x1dB:\\xd4\\xd1\\xf5\\xa42\\xdat\\xa9\\x96\\xa2N\\x952\\xd5\\x08\\x91jU\\xa8\\xd6\\xa4Z\\x00x\\xa7\\nAN\\x14\\x00R\\xd1K@\\tKE-\\x00\\x14\\xb8\\xa0R\\xd00\\xa5\\xedE5\\xd8*\\xf3@\\x03\\x1cu\\xaa2\\xc7%\\xdb\\x15\\x87\\x1bA\\xf9\\x9c\\xf4Z\\x9d\\xb6\\xca\\x8d4\\xceb\\xb7N\\xe7\\x8d\\xdf\\xfdj\\xcc\\xbb\\xd6\\x83B\\xc9k\\xb4(\\xe1A\\xe8+\\x19O\\xa24\\x8c:\\xb2\\xd3\\xcb\\x05\\x84m\\x1c\\x01\\x89?y\\x80\\xcb?\\xf8\\n\\xe7\\xefn\\xc4\\xb2e\\x94yk\\xf7A5\\x0c\\x977\\x12\\x02J\\xbbd\\xf2@\\xe2\\xab\\xaa\\x16l\\xb0$\\x9e\\xd5\\x9d\\x8d\\x92\\x1f$\\x86a\\x8c~\\x1e\\x95]\\xd4/\\\\U\\xb2\\x8d\\x8cm }*\\xb4\\xdd:R*\\xca\\xc41\\xcb\\xb2\\xe11\\xd79\\xae\\xc3LP.\\x01\\x1d\\x08\\x06\\xb8\\xc5\\xc2\\xc9\\xbb\\xf0\\xae\\xcbF\\xcb\\x08[=V\\xae\\x9f\\xc4eQisf\\xef\\xfe=\\xdb\\xe9\\\\%\\xe7:\\x80\\xfa\\xd7w{\\xc5\\xbb}+\\x84\\xb9\\xe7P\\x15\\xd5\\xd0\\xe6{\\x9bVc\\xe4\\x15p\\xf4\\xaa\\xb6\\x83\\xe4\\x15h\\xf4\\xa9\\x02\\xb4\\x95\\\\\\xd5\\x89*\\x03\\xd6\\x81\\x8a\\xb5 \\xa8\\xd4T\\xa2\\x90\\rj\\x89\\xba\\xd4\\xadQ\\x1e\\xb4\\x08\\x9e\\xcf\\xfdmmI\\xc4\\x07\\xe9X\\xd6C\\xf7\\x95\\xb37\\xfa\\x83\\xf4\\xa6\\x80\\x99~\\xed1\\xeaE\\xfb\\xb4\\xc7\\xa6\\x04x\\xabP(67\\x1e\\xb9\\x1f\\xd6\\xabw\\xab6\\xc4\\xb5\\xbd\\xc2\\x0f@je\\xb3*\\x1f\\x121]3\\x93\\xdb5Nh\\x14\\x83\\xc5i\\xed\\x18n\\x9dj\\x95\\xc1\\x01\\x8fz\\xe1OS\\xd0j\\xc6D\\xd1\\x05\\xceU\\xb1\\xefT\\xd9\\xd0\\x027\\xbf>\\xbcV\\xc4\\x99q\\xdb\\x8e\\xc7\\x9a\\xcf\\x9a\\xdf~r8\\xf5\\x18\\x15\\xaaFOR\\x9cW\\xab\\x1bmn=\\x0eN\\r^\\x8a\\xf5_\\x94p\\x18z\\x1a\\xa4\\xf6\\xaa\\xa3\\x00*\\x03\\xfcG9\\xaad,d\\x80w\\x10z\\x1av \\xeb \\xbf\\x12\\x02\\x8f\\xc3pj+\\xa2\\n\\x9cV\\x1d\\xbe\\xa4\\xb90\\xc9\\x94l|\\xa5\\xbf\\xa1\\xab\\xdec\\x98\\xc9\\x1f2\\xe0\\x1c\\xfaV\\x91\\xa9\\xd2FR\\x87b&\\xebV \\xe9U\\xdb \\xf3S\\xdb\\x9e+C2j\\x9e*\\x82\\xa7\\x8a\\x90\\xcbi\\xd2\\xa7Z\\x85*e\\xaa\\x11*\\xd4\\x8bQ\\xadJ(\\x01\\xe2\\x94Ss\\x8a]\\xdc\\x00:\\x9a\\x06<sK\\x8aA\\xc58P!)h\\xa5\\xa0\\x02\\x81M,\\x01\\xc7z\\x8d\\xae\\x125\\xcb\\x1a.;\\x12\\xb3\\x04\\x19&\\xa1\\x03\\xccS<\\xe0\\xac@\\xe1S\\xbb\\xff\\x00\\xf5\\xa9\\x03/\\x95\\xf6\\x9b\\x85!\\x01\\xca)\\xef\\xeek\\x07Y\\xd5>\\xd1\\x13\\xa0\\x90\\x90N\\xd3\\x83\\x80\\x00\\xeb\\x8a\\xc2S\\xbb\\xb25\\x8cm\\xab\\x13U\\xd5\\x85\\xdb\\x98RP\\xa8\\x87\\x96\\x07\\x81Y\\xd2^Fp\\xb1\\xc8\\xed\\xb7\\xf8\\x8a\\xf5\\xfdsY!\\x16g\\xfd\\xdb\\x15\\x8c\\x9e\\x15\\x9b\\xadZ\\x86\\xdb\\x9c\\x1e\\xa3\\xb6\\x0f\\xf8RH\\xbb\\x96\\x84\\xc4\\x8f\\x95\\x03{\\xf7\\xa9\\x1419a\\x8f\\xf8\\x15\\x11@\\xbf\\xdf\\xc7\\xbf\\x14\\xe6\\x924\\xe8\\xee\\xdf\\x9e?\\x9d;w\\x04\\xc1\\xd4\\x01\\xd4U\\t\\xcf=\\xb1R\\xcbx\\x9c\\x80\\xbf\\x9df\\xcb0/\\xf5\\xf7\\xac\\xd9\\xa2w\\x1f\\x9c8>\\x95\\xd8\\xf8x\\x96\\x8a2k\\x8a\\x03$\\x13\\x9cWk\\xe1\\xbcy\\t\\xedUO\\xe23\\xa9\\xb1\\xb7}\\xc5\\xb3}+\\x84\\x9b\\x9dF\\xbb\\xab\\xff\\x00\\xf8\\xf6o\\xa5p\\xaf\\xce\\xa0k\\xad\\xecr\\xbd\\xcd\\xeb_\\xb8*\\xcbt\\xaa\\xf6\\xa3\\xe4\\x15e\\xbaT\\x81VJ\\x80\\xf5\\xa9\\xe4\\xa8H\\xe6\\x81\\x8a\\xb5(\\xa8\\xd6\\xa4\\xa4\\x03\\x1a\\xa25+Tg\\xad\\x02,\\xd8\\x8f\\xdeV\\xbd\\xc7\\x16\\xe7\\xe9YV#\\xe7\\xadK\\x9f\\xf8\\xf7?Jh\\x19azS\\x1e\\x9e\\xbfv\\x9a\\xf4\\xc0\\x8f\\xbdZ\\xb3\\x19Y\\xfa\\xfd\\xc3U{\\xd5\\x8b&\"f_\\xef\\xa9\\x14\\xa5\\xb3*;\\x99R\\xf1\\xbc\\x03\\xde\\xb3\\xddw63\\x93W\\xae\\x01\\x12\\xc8\\x0f\\x075E\\x8e\\xd7\\xc9\\xaf6\\xf6=7\\xa8\\xd3\\x0eO\\xccG\\xe3P\\xce\\x88\\x8avg=8?\\xe7\\x15`\\x81 \\xc6\\x1c\\xe7\\xd0\\xe2\\xa2h\\x95>\\xea >\\xb9,\\x7f\\x9dm\\x19]\\x19J&<\\xc8\\xfb\\xce\\x14\\x13\\xf5\\xe6\\xa1hI_\\x98\\x06\\x03\\x8c\\xf5\\xc7\\xd0\\xd6\\xa5\\xc4h\\x89\\x97\\x04\\x9c\\xf7\\x18\\xfd+2F\\x19<~|\\xd6\\x844Q\\x9a\\xccFK\\xa4\\x9f/\\xafB)\\xd6\\xfa\\x94\\x96\\xf2l`[\\xb8l\\x7f:\\xb1\\xe7\\x9c\\xfd\\xde:`\\xf7\\xaaw\\xb6\\xff\\x00\\xc7\\x19\\xeb\\xf7s\\xdb\\xda\\x8b\\x10\\xd1\\xbb\\x05\\xc47\\xb1\\xe1HW\\xc6B\\x9e\\xff\\x00JU-\\x03\\x15\\x90m\\xf45\\xcb\\xc1r\\x0b\\xedbcq\\xeb\\xeb\\xf5\\xad\\x8b=Qn\\xd1\\xad\\xeeN$\\x1d\\t\\xefS\\xacv\\x16\\x8fsr8\\xcc\\x8aX\\x1e\\x95$jP\\x80\\xd5\\x93o|\\xf6Ryr\\x0f\\x95\\x89\\xe6\\xb4\\xe0\\xd4 \\x9eeR\\x7f\\xfa\\xd5j\\xa6\\xba\\x92\\xe1\\xa6\\x85\\xb0\\xe0f\\xa5\\x13(b3\\xd0UK\\xe9\\xa2L\\xb4g\\xee\\xe3#\\xde\\xb1\\xc6\\xaadR\\x10\\x12\\xc7\\xa8=\\x87z\\xd7\\x99\\x19\\xf2\\xb3\\xa6\\x13\\x8c\\x8ex\"\\x9e\\x97+\\xb01<W9\\x0c\\xf7\\x12\\xc0\\xa7\\x95#<\\xfd85\\t\\xbdi\\x14\\xe1\\xfeD\\xca\\xf1\\xdc\\xd1\\xcc>S[R\\xd6\\x043\\x05V\\xe3\\xaf\\xd6\\xa7\\xd3\\xb5h\\xe5\\x8c\\xb36X\\x0e\\x95\\xc6\\xdd\\xdd}\\xa2gQ\\x90\\x10u\\xaa\\xd6\\xd7\\xcd\\x0b\\x10\\xacOl\\x0fJ\\x9dw+M\\x8fJ{\\xf8\\xc4E\\xc3\\x0cc\\xd6\\x96=F\\x16\\x0b\\x87\\x19\"\\xb8K{\\xa9na|\\x1c\\xa1;1\\xea{\\n\\xb9,R\\xd9@\\x19\\x1b;W\\x80z\\x9fSU\\xccO)\\xdb\\x19\\xd7\\x9c0\\xe2\\x98.T\\xa3\\x10y\\x1cW\\x105\\xa9\\xc0\\xdd\\xc8G\\xfb\\xa4\\xf7\\xabV\\x97s\\xc6|\\xc7\\'\\x07\\xb5\\'4\\x95\\xc1F\\xec\\xdf\\x92\\xf7\\xe5\\r\\x9c\\xb3\\xf0\\x00\\xa9\\xa1\\x81`As~\\xdd\\x07\\x11\\x93\\xd7\\xebYzxL\\x1b\\x89\\xceDc8\\xf4\\xac\\xdd_\\\\i\\xeeI\\x07p\\\\\\x85\\\\\\xf01\\xdc\\xd7+\\x93\\x93:\\x14R/\\xeb\\x9a\\xa1\\xba\\x8f\\xef\\x84@x\\x1e\\xa7\\xfc+\\x06F\\r\\xb6$\\x95\\x9b\\x8f\\x99\\x80\\xe5\\x89\\xe7\\x00zUD\\x9d\\xee\\xee\\x06\\xfcH\\x88\\x0b\\xb1~\\x98\\xfa{\\x9e?\\x1a\\xb2\\xb3m\\x07aS#r\\xceW\\xaf\\xd3\\x8a\\xd6*\\xc8\\x96\\xf5\\x15Z8_k\\xb1\\x07\\xdb\\x92*\\xccSB\\xc0\\x03<\\xce?\\xbb\\x81\\x8a\\x866\\x8c}\\xf0\\x1f=p\\x83\\xf9\\xd5\\x94\\x92 8\\x88c\\xd1@\\\\~5\\xa2D\\xdcY\\'\\x8dW\\x0b\\tU\\xf5\\'$\\xd5\\x19ggl\\xed v\\x04\\xd5\\xc9f\\x89G\\xcb\\x1a\\x83\\xf9\\xfe\\xa6\\xb3\\xe5\\xb9\\xc1=\\x17\\xe8\\xb4\\x98\")$`9\\xa8\\x83\\x82y\\xa6\\xcb6\\xee\\x074\\x89\\xc0\\xc95\\x9b4D\\xc3%\\xd4\\x03]\\xe7\\x87\\xd0,1\\x8fj\\xe1mc3N\\xa1O\\x04\\xd7\\xa0h\\xca\\x17j\\x8e\\xc3\\x15T\\xf73\\xa8\\xf4/\\xea?\\xf1\\xec\\xdfJ\\xe1\\xfa\\xea\\x06\\xbb}K\\xfe=\\x9a\\xb8\\x85\\xe7Pj\\xe9{\\x1c\\xefs\\xa0\\xb6\\x1f \\xab\\r\\xd2\\xa1\\xb6\\x1f \\xa9\\x9b\\xa5H\\x15d\\xa8H\\xa9\\xe4\\xa8M\\x00*\\xd3\\xfbS\\x16\\xa4\\xedHc\\x1a\\xa2=jV\\xa8\\x8fZ\\x00\\xb9`>z\\xd2\\xba\\xff\\x00\\x8fs\\xf4\\xac\\xed?\\xef\\xd6\\x8d\\xe7\\xfc{\\x9f\\xa54&Z_\\xbbLzr\\xf4\\xa6=0\\x19B\\xbf\\x97\"\\xb0\\xea\\x0eh\\xa6\\xb5\\x00E\\xab\\xc4\\x12r\\xeb\\xd1\\xb9\\xacYO5\\xd4\\xcd\\x18\\xb9\\xb6\\x8d\\xd8g\\x03ms\\x9a\\x8d\\xb3[\\x92T\\x90\\xbe\\xd5\\xe7\\xd4\\x8f,\\xd9\\xe9\\xd2\\x974Q\\x04{Y\\xb0X\\x0f\\xadM\\xe5\\xe7;Z%\\x1e\\xa5\\xc75\\x96\\xe5\\xc7+H\\xb2981\\x93\\xfe\\xe9\\xa1i\\xb2-\\xc6\\xfb\\x97\\x9a\\xd0\\x9c\\xe6\\\\\\xe7\\xb0`\\x05P\\x9e\\xd9P\\x9f\\xba?\\x1c\\xd4\\xfe`E?!\\xcf\\xd6\\xabH\\xb7\\x12\\x82R=\\xab\\xeaj\\xe3&\\xfa\\x19\\xca6\\xeagL\\xa1I\\xc0\\xfc\\xba\\xd4\\x0b(\\x01\\x92O\\xba\\xdf\\xec\\xf4>\\xb5fDe\\xeb\\x82}\\x87\\xf8UI\\x9c(\\xe7\\xff\\x00\\xd7Z\\x18\\xb2\\x85\\xea\\xb4r\\xe5\\xb3\\x80{\\xf3P\\xb8\\xcb\\xa9\\xcf\\x19\\xc8aW\\x9c\\x8b\\x88\\xfc\\xb3\\x8f0\\x0f\\x97\\x8e\\xbe\\xd5A@W\\x03i\\xc7\\xd78\\xa6f\\xd1\\xac\\xd3\\x19\\xad\\xd5\\x89\\xf9\\xb3\\x82}\\xa9m\\xa4\\xdb \\x00\\x91\\xcf^\\xf5Adq\\x11\\xd9\\x82:\\x91W-\\xe0\\xf3Dlz1\\xc9\\x07\\xbf\\xf9\\xcdE\\x87sI\\xa4\\x95\\xc4\\x85I\\xf9\\x80\\xc6j\\xb5\\xb4\\xeb\\x1d\\xe1\\x8dJ\\xb4\\x8e\\x08\\x03\\xb1\\xe6\\x96\\xee\\xfd\\x12\\xd6=\\xad\\x85$\\x83\\xcf8\\x19\\xac\\x8d\\x1d\\xc4\\xba\\x86\\x19\\xb8RH\\xf6\\xf4\\xfeuj\\xf6%\\xeet\\xf7W\\x8boj\\xe4\\x02\\xa2M\\xc1s\\xc6\\x07\\xb8\\xaefMFc\\xb8\\xa2(\\x0b\\xc9Q\\xf8\\x7f\\x88\\xad{\\xf2\\x8e\\xd2\\x03\\xf3\\x04\\xc7\\xcb\\xf4\\x07\\xfc+\\x9a\\x17H\\xd2\\xca\\xe4\\x1f\\xdeH\\xc3#\\x81\\x8c\\xff\\x00\\xf5\\xc58\\x93#B9\\xa6\\x8430\\x18\\x90\\x9c\\x92>\\xf5V\\x0ccY\\x89R\\x1ba\\xfc\\xf7b\\xa47b@\\x04\\xa432\\xf9j=2z\\xff\\x00\\x9fZ\\xaa\\xed\\xf6\\xbd\\xd1\\x990\\x01\\x1d\\xbdH\\xff\\x00\\x1a\\xab\\x88\\xd6\\xd2\\xe6I\\x16\\x08Q\\xb0\\xd1\\xfc\\xecq\\xd4\\xe4c\\xf9\\xd6\\x9d\\xf5\\xe1\\x16\\xb3;\\x10\\xaa\\x13\\x0b\\x8fRy\\xff\\x00>\\xf5\\xcf\\xe8\\xeea\\x12\\xc8\\x14\\xe4.\\x0b{qSj\\xf7\\x8d\\x1a\\x94R<\\xac\\xf6\\xeeq\\xff\\x00\\xd6\\xa9z\\xb2\\x93\\xd0\\xd2\\xb0\\x9a+\\xa8\\xc1l\\x00\\x17\\x18=\\xb0I\\x15;\\xdc\\x9c\\x1f4\\x11\\x9cc\\xde\\xb14;\\x88T)\\x99\\xb3\\xb8\\x1e}\\x0f\\xa5oK*\\\\\\xaa\\x82\\x06Y\\x0e\\xdf\\xf6\\x7f\\xfa\\xf5\\x12\\xecTY9\\xd4\\x02Xyk\\x92\\xae@?\\x9f5\\x85\\xa8?\\x90w1\\xcb\\xb1$\\x8fBz\\xd5\\xab\\x96+\\x10\\xdav\\xaa\\x02\\xd9\\xf5\\xe2\\xaa\\xac>sG\\xe7\\x1c\\x16rN\\xee\\xa8\\xa3\\x92O\\xe1S\\x18\\x94\\xd8\\xd0\\xdeM\\xb2D\\xbf!\\x94\\xefc\\xd4\\x908\\x1f\\xd7\\xf4\\xa7\\xc6v\\x9c\\xe7\\xf15\\x0c\\xf2y\\xf7\\x1ef\\x02#}\\xd5\\x1e\\x83\\x81N\\x11\\x80r\\xf9\\xf6\\x15\\xaa \\xb4&@9\\x93q\\xf4PM#_l\\x19\\\\\\x0fn\\xa6\\x98\\xb1\\xdb\\xca\\x02\\x99J\\x9fB8\\xa6\\xbd\\x90\\x8e3\"\\x85\\x96?\\xef.N?Z\\xb4\"\\xb4\\xb7\\x0f#\\x1d\\xccNi\\x81\\xcex&\\x98\\xef\\x1e\\xec*\\x11\\xf5&\\xa5\\x05\\x07n~\\xb5\\x0c\\xb4=A<\\x93R.\\xd6lT%\\xb0)\\xd1\\x9cc\\x1dMKVW*\\xf76t\\x98\\x87\\x9f\\xbb\\x18\\x0b]\\xa6\\x8f\\x82\\xe7\\x15\\xc8\\xe9\\xa9\\xe5C\\xbd\\x8eI5\\xd6\\xe8\\x9c\\xe4\\xd5R2\\xa8\\xf5/j\\x7f\\xf1\\xea\\xd5\\xc4\\xc43~\\xd5\\xda\\xea\\xbf\\xf1\\xea\\xd5\\xc5A\\xcd\\xf3\\xfdk\\xa1\\xecc\\xd4\\xe8\\xad\\xfe\\xe0\\xa9\\x9f\\xa5Eo\\xf7\\x05H\\xfd*@\\xad%BjY\\x0f5\\t<\\xd01\\xebO\\xa8\\xd4\\xd3\\xb3\\xc5 \\x11\\xcd@M=\\xda\\xa1\\'\\x9a\\x04ii\\xdfxV\\x85\\xe9\\xff\\x00G?J\\xcf\\xd3z\\x8a\\xbf}\\xff\\x00\\x1e\\xe7\\xe9M\\x08\\xb4\\xbd)\\x8fO^\\x95\\x1b\\xd3\\x18\\xd1McJ:\\xd3Z\\x81\\x17l\\x88\\x96\\xdd\\xe3\\x03\\xe6\\xebY\\x9a\\x98\\xdd\\x0b)\\xe3\\x15f\\xd6\\xe5\\xad\\xe5\\xca\\x9e;\\x8a\\x8fWP\\xd1\\x19P\\xe40\\xe6\\xb9\\xeb\\xc2\\xea\\xe7U\\t\\xd9\\xd8\\xe5\\x00`\\xe4n\\\\v\\xc1\\xe6\\x9c\\xdb\\x06C\\xeev\\xf4\\xaa\\x93n\\x12\\x1f\\x97\\xf1\\xa9!\\x96F\\x1bKp\\xbf\\x90\\xaex;\\x1d\\xf2\\xd4\\x97\\xcd\\x91\\x7f\\xd5\\xe2%\\xf5\\x07\\x9a\\x86S\\xbc\\x9d\\xc5\\xe6a\\xfc;\\xbaR\\xc9q\\x0c_4\\x9c\\xfa0\\x1f\\xc8\\x1f\\xebQ\\x0b\\xe5\\x90\\x11\\x11US\\xeb\\xcb\\x93\\xf4\\xff\\x00\\n\\xdbF`\\xee\\x88\\xe6\\x8e@\\xbf2(=\\x94\\xb5fL\\xd8l2\\xfe\\x99\\x15~M\\x8e\\xa5\\x93\\x03\\xd5\\x98\\x11U\\x0cQ\\x96\\xf9Ho_\\x9a\\x82$\\xcam\\xc1\\xce\\x00\\xfav\\xa1\\x94\\xb2\\x9b\\x958u9p?\\x9f\\xe3\\xfez\\xd5\\xb7\\x80l\\xc9Q\\xb78\\xe7\\xadC\\n,\\x05\\x8f\\xf0c\\xe6S\\xceE\\x172eh\\x8aK!e\\xc6\\xf3\\x8f\\x97\\xa6G\\xff\\x00Z\\xb4\\xfc\\xef&6\\xe7\\x00c\\x039\\xff\\x00=\\xbf*\\xa9$Q\\xa4\\xe0\\xc5\\x8c\\x92\\ndp\\x7f\\xcf\\xf4\\xa4\\xbef\\xf2\\xd9Tm\\xdd\\x8c\\x03\\xd4\\x028\\xff\\x00>\\xd4\\xc82\\xb5K\\xbf0\\x85C\\x90==\\xea\\xc6\\x94R\\xd6\\x17\\x99\\x882:\\x90\\x01\\xf5\\xc8?\\xe3Y\\xecV\\x14\\x0f\\x8e[\\x9f\\xe9Si\\xb15\\xe5\\xea\\xab\\x02\"$\\x12A\\xe83\\xff\\x00\\xeb\\xad-\\xa1=N\\x88\\xc6\\xc6%\\xda\\xdb\\xa4\\x9b\\x05\\xf9\\xce\\x07\\x1f\\xcf\\xfck\\x16\\xe1!\\xb7\\x80\\xdbl \\xbb\\x80}pq\\xfe\\x15\\xd2\\xc6\\xb1\\xa5\\xb4\\xe2#\\xc0\\x00\\x06\\x1dv\\xe38\\xfc\\x80\\xaem!\\xff\\x00\\x89\\xb9\\xf3WrFT\\xf3\\xd0\\x8e\\xbf\\xce\\xa6#eI-\\xd8^E\\x10R|\\xae\\xbf\\xed\\x0c\\xe74\\xe1\\x19\\x9e\\xf6E\\x8c\\x15\\xe3#\\xdb\\x00\\xe3\\xfaT\\x91H_Q\\xf2YxL\\x83\\xeb\\xd7\\xff\\x00\\xafH\\x99\\x82\\xfeE\\x00\\xfe\\xf0\\x9e\\xbd\\x86r*\\xc94-\\x7fuj\\x15\\x07\\xf7\\xd1\\xb8\\xe7\\xaf\\xff\\x00^\\xb3\\xefe\\xccK\\x0c\\xa3%\\x0f\\x1e\\xe2\\xb6^?\\x96c\\n09]\\xbc\\xf6#\\x07\\xf38\\xfc\\xab\\x1fX\\x83%$\\x8b\\x9f^{\\xf1\\xc7\\xebR\\xb7\\x1b)D\\xfe]\\xd3\\xaa\\xf1\\x19\\'\\x1fJ\\xe9\\xec\\xa7\\x0fpK\\xb6J\\x02\\xe3\\xf9\\x81\\\\\\x92I\\xb8a\\x8e\\x06G?J\\xdb\\xd3\\xa6\\x8e4\\x0e\\x0f\\xca\\xaa|\\xcf\\\\c\\x1f\\xcc\\xd3\\x92\\x04\\xcd\\t\\xe5e1\\xca>\\xe18\\x0b\\x8f~\\x9f\\xa0\\xa9\\x9e\\x13\\xf6\\x02K\\x0f6bwg\\x8f\\x979\\xfdO\\xf2\\xf7\\xaa\\xd0\\\\\\xac\\x97ee\\xe2\\x15S!#\\xb0\\xc6\\x7f<\\xf1\\xf5\"\\x95fk\\xa9D\\x8e\\xdbT\\xb0\\x04g<`q\\xf8\\x0c\\x0f\\xca\\xb3\\xb5\\x8b\\xbd\\xc1b@T 2?\\xae8\\xcdN\\xd6\\xf8]\\xd2\\x15\\xc9\\xf5\\xa5\\x8eTf\\'\\x19\\x00\\xf0=y\\xa9QE\\xc4\\x9b\\xe4r\\x81\\x87\\xca\\x07\\x0c\\xc3\\xdb\\xd0{\\x9f\\xc34\\xd028\\xa1r\\x08\\x84\\x83\\xbb\\x80\\xa5I\\xc9\\xf4\\xe2\\x95\\xa0\\x926\\xcb\\xa2\\xc4\\xc7\\xf8\\x8c\\xca\\x84\\x1f\\xa194^\\xdf\\xc9onc\\xb5a\\x12\\xe7\\xa2u#\\xdc\\xf5?\\xe7\\x81Y\\x0fq+\\xf1,@\\x82z\\xf45\\xa1&\\x84\\x96fA\\xb8=\\xbb\\x1cv\\x912O\\xb8\\x07\\x9f\\xadP\\x9a\\'\\x89\\xf1$o\\x1bz0\\xc5U2\\x04\\x93\\xe5\\x18\\xf5\\x19\\xc85`]I\\x18\\n\\x1c\\xb4}B\\xb7#\\xf24\\x8a$\\x857|\\xc7\\xa0\\xa9U\\xd6<\\xbbp\\xa3\\xb9\\xa2\\x0b\\xabl|\\xe8A\\xff\\x00a\\xb8\\xfc\\x8d^\\x8e\\xde\\xd6\\xea<\\x99\\xb1\\xe8\\xae\\xb8\\x1f\\xa6k6\\xee^\\xc5\\x9b+\\xb5\\xbb\\xb7V\\x88aU\\xb1]\\xa6\\x84>S\\\\N\\x99n\\x16\\x00#h\\xd8\\t\\x0fC\\xfe8\\xae\\xe3C\\x1f\\xbb\\xe6\\xb4\\x81\\x8c\\x8b:\\xb7\\xfc{\\x1a\\xe3-\\xff\\x00\\xe3\\xf5\\xfe\\xb5\\xd9j\\xfc[\\x1a\\xe3my\\xbb\\x7f\\xadl\\xf63\\xeatP}\\xd1O\\x90\\xf1L\\x87\\xee\\x8aY\\rH\\x15d5\\t<\\xd4\\x92\\x1a\\x84\\xd02E4\\xa4\\xd3\\x05)4\\x80k\\x9a\\x8b9\\xa7\\xbd0P\\x06\\xa6\\x99\\xd4U\\xeb\\xf3\\xfe\\x8e\\xdfJ\\xa5\\xa6\\xf6\\xabz\\x8f\\xfc{\\x9f\\xa54IqO\\x15\\x1b\\x9ap<Tni\\x8c@i\\x1a\\x80i\\x1a\\x80\\x18:\\xd5\\xe8\\xad\\xd6{r\\xac3\\x91TA\\x19\\xad;\\x068c\\xe8**|%\\xd3\\xdc\\xe2u\\xebh\\xacgl\\xbe\\xd0zf\\xb9\\xc7\\xd4r\\xc1\\x01\\x1bG\\xbfZ\\xd0\\xf1\\xb2\\xcf\\xfd\\xa4w1\\xd9\\xfc#\\xb1\\xaeQ79#\\xb8\\xae5\\x13\\xbe26\\x1a\\xe29\\xa4\\xda\\xd2\\x8c\\x81\\xe9\\x9ao\\x99\\x12\\x0c&\\xe2}p2k-]\\xa3l\\xd6\\xad\\x90I\\x18\\t\"#?\\xc5\\x9cU%m\\x8ar\\xba\\xd4\\x9dd/\\xbb\\xcd@\\xca\\xa3\\x86\\'s\\x0f\\xf3\\xf4\\xa5\\x89\\xc3|\\xc0\\xb6\\x07p?\\x98\\xed\\xfez\\xd4\\xb2Y$n\\xa49\\x04p>lf\\x9d,\\x0b\\x012\\x1d\\xc1\\xf8\\x04\\xf7\\xc7\\xb8\\xefZla&\\x99(\\xe57\\xae\\n\\x81\\x92\\x07z\\xa1;\\xae\\x0b\\xa1,\\xa4\\x10T\\xfaT\\xf7\\x0c\\xbb#h\\x9c\\xc6\\x0f$\\xa1\\xca\\xfe^\\x9fO\\xca\\xb3\\x129\\x90\\x84r\\t\\xdd\\x9f\\\\\\xaf\\xb1\\xfci[\\xa9\\x93d\\x90\\x1f,\"\\xc9\\x8cM\\x92\\xac\\xdcml\\xf1\\xf9\\xf0)&-8\\xca\\x82\\x1d_i\\xc8\\xe7\\x1c\\xff\\x00#\\xfc\\xe9\\xef\\x03J\\xaf\\x11R\\xc5H\\xdazt\\xe8~\\xbd\\xaa\\xec1\\xfe\\xe8H\\xeb\\xf3\\x15\\xcb\\xe0}\\xe0q\\x8f\\xd7\\x02\\xa8\\x83\\x95\\xd4 \\'\\xcan\\x81\\xfb\\x7fv\\xb6<?\\x0c~Q\\\\\\xa8V\\xc2\\xb6z\\x91\\xeb\\x9f\\xc75CV2Kr\\x91\\xc6\\xbbUF2;\\xe7\\x1f\\xe1Lk\\xd1\\x1d\\xc3\\x18_\\x03\\x03\\x91\\xd8\\xe0g\\xf9~\\xb5[\\xa1u:\\x1bF\\x12[8\\x8c\\x12\\xac\\x011\\x81\\xc8\\xc6?\\xc0\\xd470,Ws37\\xde\\xc4y\\xe9\\xb7\\x03$\\xff\\x00/\\xce\\x9f\\xa3]\\xc5\\x1cH\\xe0)\\x91\\x89\\xfc\\x13?5Ou\\x03Mks3`<\\x91\\xfe\\x00g {\\xf0E!\\x9c\\xe6\\xc2/\\xe3\\x93 \\x17\\xe0m=\\xf2j\\xf4q$\\xb7J\\xcb\\x90\\xea\\xbb\\xf3\\x8e\\xa78\\xc7\\xd7\\x04~\\x95W\\xc8+\\xb1\\xd8\\xb0\\x11\\xb1T\\xff\\x00k\\x1d\\xff\\x00QZ:\\x11r\\xae\\x93(,K\\x1c\\xf5\\xed\\x8f\\xe9LD\\xbei\\x12\\x12\\x00\\x1bT\\xa9N\\x99!s\\xfdj\\xa6\\xab\\x04jV\\x05q\\x96l\\x909\\xdax\\xff\\x00\\x1a\\x9e\\xfd\\x916y\\x84+\\x00F\\xee\\x99\\xc7_\\xf0\\xae~\\xf6\\xfd\\xe5\\x95v6p1\\xb8ubz\\x9a\\x12\\x06W\\x89\\x83\\xc9\\xb1\\xd7\\x8c\\xe4\\x81\\xec+j(\\xd2\\x1bY\\xce>P\\x8a\\xa7\\x9e\\xbc\\xff\\x00\\xf6#\\xf3\\xack{i\\x1a@\\xdc\\x0c\\x1e~\\x9c\\x7f\\x8dt\\xb6\\xf1\\xa3\\xdb*9\\xc4`\\xeer\\x07U\\\\\\x7f3N@\\x88\\xdc\\xac1D\\x8d\\x80fP\\xceO\\x07\\xd8~\\xb9?Q\\xe9U\\xc4\\xca\\x1c\\x83\\x9e[\\x8fs\\xfeqR\\xddM\\xf6\\x97v\\x18b\\xcf\\xf2\\x8fC\\xc8\\xff\\x00\\n\\x99c\\x8e\\xda?5\\xd7|\\xcc\\xbf\\xbbW\\x1d9\\xe1\\xb1\\xef\\xd8R\\x00\\x89\\xbe\\xc2\\xadq0\\x06R0\\x91\\x9eFOr?\\x90\\xfczu\\x95\\xaeO\\xd9\\xda@wK\\'V5\\x9d2\\x9d\\xab\\xe6\\xe5\\x98\\xff\\x00\\x13\\x1c\\x92z\\x9c\\xfb\\xe4\\xd5\\x98\\xe2iQ\\x1c\\x81\\x1c\\n9v\\xe0\\x13\\xed\\xeb\\xf8R\\x18\\xe1\\t\\x90\\x02\\xc5\\xb6\\x13\\xce>\\xf3\\x1f\\xe8*;\\x84w\\x0c>TN\\xc0z\\x7fZ\\xbcg\\x89yW/\\x8e8\\\\d\\xfbg\\xfc(_ \\x12\\xcc\\xaeOA\\xf3\\x8c\\x9f\\xd2\\x9ac0\\x1a&R\\xcd\\xb7j\\xfa\\xb5B\\xd2\\x9cm\\x19\\xad\\x8b\\xd8\\x91\\xa2%w\\xc4\\x99\\xeb\\x90\\xc4\\xff\\x00*\\xca\\xf2\\x906VU9\\xec\\xc0\\x83\\xfe\\x1f\\xad\\x0fQ\\xa7b4\\xc98\\x19\\xcdo\\xe8\\xb6\\xef\\xb4\\xb4\\xa4\\x91\\xd9k:\\x1bb\\xac\\x1bnW\\xbb)\\xc8\\xfd+z\\xdaP\\x96\\xe7\\xcb\\x03\\x8e\\x95\\x0c\\xab\\x96\\xecbf\\x91\\x81\\x00\\r\\xdd\\x07j\\xec\\xb4d\\xd8\\x86\\xb9\\x8d\\x1a\"\\xe43d\\x9e\\xe6\\xbb\\x1d>=\\x91\\xd6\\xb02d:\\xc1\\xff\\x00F5\\xc7\\xdasv\\xff\\x00Z\\xeb\\xb5\\x83\\xfb\\x83\\\\\\x8d\\x9f\\xfc}?\\xd6\\xb5{\\x19\\xf5:(~\\xe8\\xa5\\x93\\xa5$?tQ/J\\x91\\x94\\xe4\\xebQT\\xb2u\\xa8\\xbb\\xd0\\x03\\x85)\\xa4\\x14\\xb4\\x80cS1R5GH\\r]4t\\xab\\x1a\\x91\\xff\\x00G?J\\x83N\\xe8*]L\\xff\\x00\\xa3\\x9f\\xa5R\\x11d?\\x14\\xc6zP\\xa7\\x15\\x1b\\xa9\\xa60\\x0fHd\\xf7\\xa8\\xc9\\xc5FZ\\x81\\x13\\x07\\xe6\\xae\\xd9\\\\a\\xca\\x9e\\xe2\\xa8F\\x84\\xf2i\\x92Hbm\\xc0\\xe0\\x8aSWEE\\xd9\\x98\\xde,\\x8b\\xccFV9\\x1d\\xb3\\\\\\x04\\x99\\x82l\\x83\\xb8\\x0f\\xce\\xbd\\x07]\\x90Ok\\xbb\\xa9\\xc5y\\xe4\\xfb\\xbc\\xc6\\x04r\\x0e\\x00#\\x15\\xcb\\x05}\\x19\\xd0\\xe5m\\x89\\xb7,\\xa3*pkoJ\\x8d\\xda\\x11\\xf3\\xab\\x01\\xc1Z\\xc6\\xb7\\xd3\\xca\\xca\\x86A!\\x0c\\x01\\xda\\x83\\x9c{\\xfaWGi\\xe6Y\\x11\\x98\\xc0B8u\\x07?\\x8f\\x7f\\xc2\\xae\\xd6\\x1f;e\\xb8\\xe0s\\x1e\\xc9\\x03H\\xb9\\xe3+\\xcdV\\xbb\\xf3\\x9d<\\xb0\\x85\\x98q\\xc6zTmy\\xe6\\xdc\\xee\\x0c\\xc07\\xcaq\\xce\\r\\x01\\x1d\\xa5d\\x93\"@7)\\xf5\\xa9&\\xe58\\xed\\xe7\\x8c(!\\x80e\\xc8\\xdc\\xb8?CV\\xe2@\\x91\\xa0x\\xf9\\xfe5\\xc7 \\x93\\xd4zt\\xab\\x10[\\xbf\\xc9$G\\xca=Y\\x01\\xc6y\\xe4qL\\xbd\\xbb\\x8cJ\\x14\\x9c\\x1c\\x12\\xac\\xa3\\x92=\\x0f\\xebGQ\\x11\\\\\\xdb\\xb26c;\\xa2\\xc0\\xfb\\xc3\\xeb\\xf9\\x1a\\xaf6\\xa0\"\\x90\\x04\\x8f\\xf7e\\tu<\\xf5\\x19\\xc7\\xe8\\x7f:\\xb5\\x0cN\\xce.!`\\xea\\x14\\x8d\\xa4\\xe3#\\x9e1\\xf8\\x9f\\xd2\\xb3/\\xa2X\\xc2\\xbc\\x00\\x10\\x17\\x94\\'\\x95\\xcf\\xff\\x00\\xaf\\x15D\\xb2\\xa5\\xcb\\xa3]\\xaa\\xa1\\x1b\\x18y\\x8aO^\\x98\\xe7\\xf1\\x14\\xcb}3\\xed\\x8c\\xdbW\\x1b\\xba7`;\\x9f\\xf3\\xebU.e/\\xc2eJs\\x19\\xf6\\xee+\\xad\\xd1\\xed\\x8c\\xbaRH\\x87,\\xc0\\xb6>\\xbdG\\xf3\\x1f\\x857\\xa2\\x05\\xab9\\xc8\\x00\\xb1\\xd5\\x85\\xae\\xef\\xdc\\xee\\xc6s\\xfe}+\\xa3\\xb9\\x99e\\x868@\"3\\x18\\xfc\\x0e\\x0f\\xeb\\xd3\\xf2\\xac\\x7f\\x13\\xd9\\x18$K\\x88\\xf3\\x96l\\xfd9?\\xe1\\xfaV\\x8e\\x9f)\\x97N\\x85\\x95~y\\x80E9\\xc9\\xe8I\\xfeG\\xf4\\xa3uqu0o.\\xda[\\xc7^\\x9e[\\x10\\x81z}+[K`$H\\x86w\\xb6\\n\\x9cc\\'\\xa1\\xfc8\\xcf\\xe3Yw\\xd1\\xfd\\x9e\\xee@\\xb8%\\xdb(}:\\x8f\\xf3\\xf5\\xad]$lDx\\xceI\\x0c\\x06\\x7f\\x87\\x9eh`g\\xf8\\x96E\\t\\n\\x03\\xf3\\xf2~\\x9c\\xd5;M!\\xe4\\x85%c\\x82\\xc3\\x83\\xfe~\\xb4\\xba\\xe7\\xefu\\x15L\\xe0\\x8e\\t\\xfeU\\xbd`W\\xcaH\\x1dq\\xb4\\x8c{\\xf1\\x91\\xfc\\xff\\x00J\\xab\\xd9\\x08\\xc0\\x9c\\xad\\xac\\x92\"\\xe7\\x00pO\\xa9\\xc7\\'\\xe9\\x9cU\\x86\\x94\\x8b(\\x938w\\x04\\x9ez\\x0e\\xdf\\xcf\\xf5\\xa8\\xf5\\xc51\\xdc\\x05#\\x87!\\x9b\\x1dG\\xb7\\xe9Tc\\x93|\\xdc\\xf2\\x07\\x00z\\x9f\\xf0\\xa1+\\xea#Z\\x1f\\xf4K`\\xe4nr1\\x12\\x91\\xc7O\\xbc\\x7f\\xcf51s4\\xab1r3\\x92\\xee\\xe3\\x80}?>\\xd4\\xe8\\x12%\\x81\\xa4\\x9f\\xe7b\\tU\\xf6\\xe9\\x9f\\xc7\\xd2\\xb2\\xee.n\\x0c\\x98\\x9b\\xe4\\xe7\\x011\\x8c\\x0fa\\xda\\x96\\xe36L\\x89$`\\xc0\\x81\\x8a\\xf0\\xb2H;g\\x93\\x83\\xc7Z\\xa9p\\x92]\\x90\\xcc\\xcc\\xc0\\x1eI=h\\xb5gp\\xaaT\\x04\\x04\\xb6\\xd1\\xc0\\x18\\x18\\xfcj\\xd9\\x8c\\x96(\\xff\\x00s;\\x89=I\\xcfJ\\x9d\\x8a\\xdc\\x8a=\\xb8\\xda\\xa3%y$\\xf6\\xa4\\xb6\\x90M;u\\n\\x07\\'\\xd4R\\xc7\\x0eZVp\\x02\\x83\\xf7s\\xfc\\xff\\x00\\xc2\\xa3+#+\\xed;W<\\xfa\\x9ab%\\xbc\\x8d\\xae\\x88\\xda\\tQ\\xc2\\xaa\\xff\\x00:\\xcb\\x9a\\xde8\\xfbp:\\xb1=kF;\\xbf\\xdd\\x91\\x8cq\\x80\\x07z\\xc9\\xbc`\\xb2\\xfc\\xee\\x0b\\x7ft\\xf6\\xaaBd\\xb6\\xd9gP8\\x18\\xcdoA)\\x91\\xd2\\x17;\\x8brXu\\xfc\\xff\\x00\\xc6\\xb9\\xeb\\x7f\\x90\\xefc\\x8c\\xf4\\xae\\x97L\\x99bux\\xe3Ws\\xeb\\xda\\xa5\\xee4\\xce\\xb7K\\xb4\\x86\\xd9\\x06\\xd2Ny\\'5\\xbf\\x03\\x05C\\x8a\\xc0\\xb6\\x95\\x99A \\x03\\xedWR\\xe0\\xa8\\xebZ+\"Z\\x1d\\xaa\\xb80\\x9a\\xe5\\xad~[\\x86>\\xf5\\xb9{1t5\\x83\\x93\\x1c\\xa4\\xfa\\xd5\\xb6M\\x8d\\xf8\\\\m\\x14J\\xe3\\x15\\x9d\\x1d\\xd0\\x00sR4\\xfb\\x87Z@9\\xdb&\\x99\\x91Q\\x17\\xa3u\\x00N\\x08\\xa5,*\\x00\\xd4\\x8c\\xe6\\x90\\x0fg\\xa6o\\xe6\\xa1w5\\x1e\\xf3\\x9a@t:q\\xe0S\\xf5V\\xc5\\xb9\\xfaU}0\\x9d\\xa2\\x9f\\xab\\x1c[\\x1f\\xa5R\\x11\\xae\\xa9\\xf2\\xd4r(\\xa9K`T\\x0e\\xd9\\xe9T2\\xbb\\xaf\\xa5,pw5:E\\x9eM\\x12\\xca\\xb1\\xafZ\\x04E+\\x88\\xd6\\xb2\\xa5\\x94\\xcb&\\xd5\\xe6\\x96\\xe6\\xe8\\xca\\xfb\\x13\\x92j\\xdd\\x8d\\x8e\\x00w\\x14\\x0c\\xab\\x7fl\\xb2\\xd8\\xed,\\xa1\\xf1\\xd4\\xf6\\xae\\x1a\\xf6\\xd7\\xec\\xa1\\x9d\\xd4y\\xdf\\xc0:\\x80?\\xbd^\\xa7}k\\x1c\\xb6\\xbf0\\xc6\\x07P+\\x81\\xd44f\\xbb\\xbc<\\x80\\xa4\\xf5\\x03\\xa7\\xb5r\\xbfvF\\xfb\\xa3\\x03O\\xb4K\\x89\\x8f\\x98\\xee\\t\\xcf\\xccr\\x0ekx\\x99\\xad-\\xbc\\xb5;\\xbd\\x019\\xdd\\xf8\\xd6\\x8e\\x9f\\xa6Gl\\x9bq\\xb8\\x0e\\xac\\xc0sU\\xae I\\xae\\x0cq\\xa0Q\\xdf\\x07\\x03\\xff\\x00\\xadK\\x9a\\xee\\xc3\\xb5\\x91R\\xda6V>dCoc\\x8ej\\xecm\\x89\\x82\\xb2\\x16U\\'\\x0c\\x0fj\\x928\\xc2\\xa1F\\xdc\\xd8\\xe0\\x92pG\\xf8\\xfe\\x15j(\\xf7\\xa67)\\x1d>\\xbf\\x8f\\xf8\\xd2li\\x15\\xee\\xe0d%c\\n\\x18\\x8c\\xa7?{\\xd4t\\xaer\\xf1n\\x1eG.\\xea\\xc4s\\xf7\\x87\\x15\\xd8\\r<I\\x1a\\xecg]\\xbd\\x14\\xa9o\\xc8\\x8a\\xa9ue\\x14\\x84\\xa4\\xa8\\x8b\\'\\xa8Lg\\xf1 SHL\\xca\\xd1\\xd1\\xcc\\\\l,y\\xea3\\xf4\\xa3S\\xb3Q\\x16U\\x1a9GR\\xa3\\x83\\xef\\xff\\x00\\xea\\xa7\\x7ff\\xb5\\x8c\\xc1\\xe2}\\xbb\\xb9$\\xe0\\xfe\\xa3\\xbf\\xf9\\xc5O4\\xad4-\\x1b6[\\x19\\xe3\\x8f\\xff\\x00]V\\xc2\\xb1\\xc5*\\x19nB`(\\xdd\\xff\\x00|\\x9a\\xf4\\xbd\"\\xd8[\\xday$d\\xa2\\xe0\\x11\\xdcn#\\xfc?:\\xf3\\xe3\\x14\\xd6\\xba\\x81e^\\xf9\\xe3\\xa1\\x15\\xe8\\xf6\\x93\\xac\\x1aj\\xcf)\\xe7h\\'\\x1d\\x07sNN\\xe4\\xa4s^)\\xe2\\xdeM\\xe0\\x80\\x80(\\xcf\\xf1\\x11\\x93\\xfc\\xcdC\\xe1\\xa4a\\xa5\\xc8\\xf2\\x1f\\x94\\x0c(\\xf4\\xc9\\xaa~)\\xbc3\\xdd,J\\xdd\\x0f\\xe7\\x9esZ\\x16(\"\\xd3QH\\xcf\\x99\\x18\\'\\xf0\\xce?\\x9d+\\xd9\\x0fve\\xea2o\\xbe\\x1eZ\\x82\\xb1\\x8d\\xa7\\x1d8\\xe3\\xfcj]-\\xf6;\\xa1\\xc3#\\xb3\\x068\\xef\\x81\\xfe\\x02\\xa1\\x9e\\xdd\\x9b.FA\\xe4\\x00z\\x9f\\xff\\x00]X\\xb1\\x1eRI\\xe6`\\xae\\xf2zd\\x1c\\x0cS\\xb96+\\xeb\\x96\\xc8\\xba\\xcc /\\xfa\\xc0\\x03\\x1f\\x7f\\xfe\\xb7\\x15\\xb5\\xa6B\\x9fg\\x8c\\xb1\\xc9;X0\\x1dx#\\xf9\\n\\xcb\\xd7\\xa2i\\x0c3\\xae\\xe2\\x10\\xe0d\\xfb\\xe3?\\xa5h\\xd9\\\\\\r\\xd6\\x92r\\x15\\x14\\x96#\\xa7r?*\\x18\\x14\\xf5\\xcbM\\xfb\\x999d\\xda\\t=3\\xfe<\\xd73i\\x11k\\xa0\\xa0\\x83\\xcfS\\xd2\\xba\\xedW\\xe6\\xd3\\x99Ta\\x89$\\x8f~y\\xfd\\x05bi:l\\xad)\\x91\\xd3\\x0b\\xdb\\'\\x8ai\\xd9\\x03F\\xd4p$6\\xe1\\xd8\\x7f\\xb5\\xbd\\xce9\\xf6\\xcf&\\xb1\\x9c\\x16\\xbavT\\x0c\\xa3\\xab\\x15\\xceO\\xfc\\x0b&\\xba\\x06\\x808\\x01\\x81a\\x8e[#\\'\\xe9\\x9aF\\xb2\\x8f\\x01b\\x05F?\\xe5\\x99\\xe7\\xf3\\xc7\\xf5\\xfc) eKy\\x84q#\\xc8\\xee\\xa3\\xb2\\xc66\\x8f\\xd0qOf\\x92F\\xdd\\x123&>\\xf3/S\\xf5\\xff\\x00\\xeb\\xd4\\x8b\\x04s\\x96YZI\\x02\\x8c\\x10\\xdb\\x8b\\x0f\\xc7\\x19?\\x95X\\xfb\\x14J\\x80\\xc40\\xa3\\xa0\\x0c9\\xfc}\\x7f:,\\x06xd\\x8d\\xb6\\x85P\\xc0\\xff\\x00x2\\xaf\\xd3\\x14\\xd9\\x9d\\x93*\\xb1|\\xddq\\xdf\\xf1\\xa9\\xae7\\xabm\\n\\xa0\\xff\\x00\\x0e_?\\xadA\\n\\xce\\x18\\xb3\\x82\\xc8\\xbd\\x81\\xe4}3He\\x0c\\xb8\\x9fk!\\xf3\\\\\\xe4\\xf6\\x14\\xfb\\x9b\\x00T3*\\xe7\\xd0U\\xab\\xa5\\x1f+*\\x12[\\x90\\xd9\\xa7\\xc5\\xfb\\xdf\\x94\\x81\\xc7\\xa9\\xa2\\xe2H\\xcd\\x82\\x15\\x0c>N\\x9e\\xb5\\xbbe\\xfb\\x92\\x19G\\xd6\\xa0\\x92\\xdb8$s\\xea*x\\xd7\\xcb\\x1c\\x92\\x07\\xe7E\\xee;X\\xe8m\\xees\\x1f\\x15:JH\\xc9\\xac\\x8bY\\xc8\\x00\\x11\\xc5\\\\\\xf3\\xd7\\xd4S\\xb9I\\x16\\x99\\xf7\\x8eMR\\x9e \\xdd\\x059\\xa7\\x00`\\x1a\\x86I\\xb6\\xf2)\\xdcM\"\\'\\x89\\x850\\xca\\xe3\\x81O\\xfbF\\xe1\\xcdB$\\x05\\xb95JD4L\\x92\\x13S\\xab\\x8a\\xaae\\\\qQ$\\xa7w&\\x9aw%\\xa3L\\x1c\\xd3\\xb6\\xe6\\xab\\xc5&{\\xd5\\xc4\\xc1\\xe9T\"\\xbbEL\\xf2y\\xab\\xfb=h\\x11\\x8c\\xd2\\x02\\xe6\\x9d\\x1e\\x14Rk\\x03\\xfd\\x1d\\xbe\\x95n\\xca<-C\\xab\\xaf\\xee\\x0f\\xd2\\x9a\\x11t\\xb6N)\\xc9\\x1fsN\\x8a>\\xe6\\xa3\\xbb\\xbaX\\x10\\xf3T\\x02\\\\\\\\,Jy\\xac\\x1b\\xbb\\xe6\\x99\\xf6G\\xc95Z\\xf7Py\\xe5\\xf2\\xe3\\xe4\\x9a\\xd6\\xd1\\xb4\\x82q$\\xa3$\\xd1\\xb8\\xc7\\xe9zc\\x1c;\\x8eMj\\xcc\\x8d\\x0c|\\x0f\\xc8U\\xe5\\x8d`OJ\\xa9q6{\\xd3z\\x01\\x91wrR\\x10\\x83q\\x0cy\\xf5\\x15IG#\\x1c\\x8e\\xe4U\\xfb\\x89\\x01\\xca\\x902z\\x1cU4\\x0b\\x1eI$\\x9fJ\\xe2\\xa8\\xac\\xce\\x88;\\xa2;\\x83\\x1aD\\xd8$7\\xa5g$A\\xdfz\\xb0.:g\\xbf\\xe5N\\xbc\\xba>a\\xc1\\x1c\\x8cqV\\xe0\\xb6Qi\\xbfqiH\\xc8\\x19<~u\\x11)\\x94d\\xb7@Y\\x9d$\\x0eq\\x93\\xb4\\x9f\\xca\\xadY,\\x9b\\xb6\\x0c\\xf9g\\x9c\\x0e?J\\n\\x99Iy0\\xdd\\xba\\x1e=\\xaa[fX_-\\x97\\xee\\x07\\xa5P\\x17N\"@\\x104d\\xff\\x00\\x0ex?\\x9dg]\\xeaV\\x96\\xc8V\\xe6x\\xd9\\xfd\\xe4\\xe9\\xf9\\x9a\\xcb\\xf1\\x17\\x8a$\\xb7\\x8d\\xa1\\xb7*\\x8c\\xddp2q\\xfc\\xab\\x9d\\xb5\\xd1.om\\x9fP\\xbf\\x9c\\xc5m\\x9f\\xbc\\xc7qc\\xe9Z\\xc56D\\x9d\\x8d{\\x8f\\x11\\xdb\\xc4\\xf8YQ\\xd4\\x8eO\\x07?\\xf7\\xc9\\xaa\\xa3]\\xb6g\\x0cd\\xe6\\xb3\\xb5++\\x0b4\\x1ff\\x94\\xcd\\x9f\\xe2\\xe2\\xa8\\xacQ\\xc88\\x03#\\x8a\\xa7\\x1b\\x11\\xccu\\xa9\\x1c:\\x89\\x12\\xc4U\\x99y\\xce\\x05j\\xcc7Dc\\x19\\x01\\xb1\\x8ez\\x0e\\x87\\xfaW\\x07gs6\\x93t%\\x8c\\x93\\x17F_Q]\\xdd\\xbc\\x91\\xdd\\xdb$\\xb1\\x9d\\xca\\xe0\\x10k6\\x8a\\xbd\\xce.\\xf6\\xd9\\x9fV2\\x16=rZ\\xba\\x05\\x8d\\x92\\xde,p\\xc0(\\xc68\\x18\\\\\\xfeY\\x15\\x06\\xafm\\xf6tgQ\\x96\\xe3\\x1f\\xcb\\xfaU\\xdb)\\xdah\\x90\\xba\\xe1\\x919\\xe3\\xbe\\x7f\\xc07\\xe6(z\\xa1-\\x19\\x9d$y\\x90,G\\xe6]\\xceG`;~\\x98?\\x85FY\\xdaQ\\x95\\xca\\x10\\x18\\x9fF\\xcekH\\xd9\\x90\\x918?3\\x8f\\x9b\\x1e\\x9d\\xbe\\xbdG\\xe5U\\xc7\\xef\\x97r.\\x146\\xc2\\xaczrq\\xfaP\\x98\\xd9Q\\xc9\\x134m\\xcclKG\\xdf\\xa1<\\xff\\x00\\x9fZ\\x92\\xc0H\\x03E\\x83\\x8cc\\x83\\x90y\\xcd>\\xee \\xee\\x1a2C\\xe4{f\\xae\\xe9\\x96\\x98r\\xf8\\x19#o\\x1f\\x86?\\x95\\x1dA-\\te\\xb2\\x17\\x10m#\\x92Ac\\xf4\\xcdg_\\xdfC\\xa5\\xa7\\x92\\xaa\\x1e\\\\p\\xa3\\xb5n]\\xcf\\x1d\\x95\\x9c\\x939\\xc2\\xaa\\x12}\\xfd\\xab\\x84\\x8c\\xbd\\xdd\\xc3\\xdcJr\\xces\\xcfji\\t\\xb2f\\xd4\\xae\\x9f\\'!3\\xe9DW\\xf7\\xfdR\\xe1\\xbd\\x08\\x1cf\\x97SX\\xed\\xec \\xd9\\xfe\\xb5\\xf9n>\\xbf\\xfdj\\xcf\\xb0\\x9c\\x92U\\xf9\"\\xaf\\x96\\xca\\xe4s\\\\\\xd4\\x1a\\xd5\\xe4/\\xfb\\xc9\\x19\\x97\\xb0,@\\xad;-b;\\x95\\xda\\xf1\"7\\x1d\\t\\x15\\x91\",\\x88\\xca\\xdc\\x9f\\\\V}\\xb2\\xb0\\xbb\\xf2\\x95\\xb1\\x83\\xc1\\xa5\\xb9H\\xe8\\xee_l\\x84\\xc6$\\xc7\\xe0@\\xfcEV\\xf3\\x9fw\\xdd\\xe7\\xd4qU\\xef$\\x96\\xdc\\x00\\xe9\\x9fz\\x86\\x1dI@\\n\\xc3\\xf9b\\xa6\\xc35m\\xd8\\xb1e\\xdaB\\xb7rO\\x06\\xa2\\x124\\x0eV__\\xa9\\xa2+\\x94f\\xec\\xd9\\xff\\x00g\\xa5>t\\x12\"\\x84\\xe1\\xc78\\x1cdR\\x1a-\\xc0VQ\\xc1\\xcf\\xb56\\xf9\\xccq\\x96\\x15\\x1d\\x9b\\xec\\x00\\x90\\x01\\xf7\\xa8\\xf5\\x0b\\xb5l.\\xdf\\xc6\\x88\\xee\\x12\\xd8\\x8e-E\\x90\\x02MY:\\x81p\\x0ek%\\xc6Fs\\x8a\\x84\\xcd\\x8e3\\xc5kb.tQ_\\x03\\xd4\\xd4\\xcdt\\xa5x5\\xcc\\xa5\\xc9\\x07\\xadN.[\\x1diXw5\\xda\\xe3\\x9e\\x0f\\x15\\x19\\x9c\\xf65\\x9cgm\\xb95\\x19\\xb9=)\\xd8W4\\x85\\xd1\\rN[\\xa1\\xbf9\\xac\\x91?\\xbd/\\x9d\\xc7Z,\\x06\\xfc7\\x80\\xb0\\xe6\\xb7-\\x9dYA\\xcdp\\x8bvP\\xd6\\xd6\\x9f\\xaar\\x014\\'m\\xc4\\xd1\\xd6\\x80\\x08\\xa0\\x0c\\x1a\\xafmr\\xb2($\\xd5\\x90\\xc0\\x9e*\\xc95l\\xc7\\xcbPj\\xc3\\xf7\\x07\\xe9S\\xd9\\x9f\\x96\\xaa\\xebR\\x85\\x81\\xbe\\x94\\xd0\\x17.\\xee\\xd2\\xdd\\x0f\"\\xb9=CQ{\\x996G\\x93\\x9ae\\xfe\\xa2\\xf72\\x15C\\xd6\\xb5t\\r\\t\\xa6e\\x96U\\xfc\\xe8\\xdc\\x07\\xe8Z!b%\\x94d\\x9fZ\\xeb\\xd2$\\xb6\\x8f\\xe9O\\x8e\\x04\\xb5\\x88p\\x06+:\\xee\\xef$\\x80j\\xb6\\x00\\xb8\\xb9\\xc985M\\xdf=j&\\x90\\x93\\x9a\\x00\\xdcj@\\x8a@\\xd9\\xc9\\xca\\xfa\\x1e\\xd5V\\xe3h\\x89\\xb2\\x01=\\xf0+E\\xe2R9\\x07\\xf3\\xac\\xeb\\xb5%\\x80VP\\x07cXVW6\\xa6\\xcc8\\xa0steu(\\x99\\xf9}\\xea\\xc5\\xfe\\xaa\\x96I\\xf3\\x10\\xe4\\x8f\\xbb\\x9cT\\x97\\x19I\\tm\\xbbTW1\\xa9L\\xf7w\\x04a\\x99s\\xd0v\\xa8\\x8a\\xb9m\\x92\\xcf\\xe2o1\\x8f\\x97\\x18_@3Zz4\\x17\\x9a\\xa1Vs\\xb2\\x022NOJ\\x83M\\xf0\\xeaI\\xe5\\xb4\\xb11\\x1drI\\xfe\\x84\\x7fZ\\xee\"\\xb5H\\xac\\xf6\\xae@\\xc6>Z\\x1d\\xba\\t]ny\\x8f\\x88R8\\xf5\\xb8\\xa2\\t\\x858\\xc9=\\xf9\\xa7\\xca\\xc4\\xc0!,\\xcd\\x18\\xe4\\x0e\\xc0\\xd4\\x9e/\\xb2e\\x9de@r\\x9c\\x8f\\xce\\xab\\xd8\\xcc\\x970\\x07\\x1c\\x9e\\x06*\\xaf\\xa5\\xc9\\x92\\xd4\\xcc\\xbfS\\x14hy\\xc09\\xaa\\xd6n\\xd2\\xdc\\xb9\\xc1\\xc19\\xad\\xcb\\xcbQ<%H\\xebP\\xe9\\xfas@09>\\xb8\\xabRMX\\xc9\\xc6\\xcc\\xaf\"\\x82\\x875\\xaf\\xe1+\\xc2\\x1ek2~\\xe9\\xdc\\xa3\\xd8\\xf5\\xfe\\x95N\\xf7\\x0b\\x16O\\x15\\x06\\x84L:\\x9cs\\x82B\\x96\\xd8}\\xf3R\\x95\\xcb\\xd8\\xed\\xb5(\\x04\\x96\\xe5Xd\\xb1\\xc0\\xf6\\xf7\\xac\\xdd\\x1ceFG+\\xc6?\\x0f\\xf1\\xcdtr\\xc6%\\x878\\xea?\\xa5eY\\xd9\\xb2J\\xfbp\\x13\\xd4\\xf7 \\xe3\\xfa\\xd4\\xcbGb\\xd2\\xb9\\x1d\\xd4gn@\\xe1Wbc\\xbf_\\xe9\\xc5R\\x01\\x87\\x98Y\\xb7\\x06\\xef\\xfd\\xecc&\\xb4.\\x97c\\x15,v\"u\\xeeq\\xfe9\\xaa\\n\\x00\\xf9\\x7f\\x87\\xd0\\x0f\\xf3\\xfeMJch\\x82U\\x04F@*\\xa7\\xa8\\xe3\\x8cq[\\x16q\\xfe\\xee>\\xbd;\\xfe\\xb5\\x9b*r\\xdb2\\x81z\\x1e\\xdc\\xff\\x00\\x93Z6\\xef\\xe5\\xa6I\\x07\\xbej\\x96\\xe2{\\x18^0\\xbc+\\x04\\x16\\xc3\\x8d\\xed\\x96\\x03\\xd0V=\\x90\\x058\\xe2\\x9f\\xe2\\xab\\x915\\xfa\\xae~\\xe2\\xf1\\xf9\\xd5++\\xa5\\x03k\\x1a\\xb6\\xb43\\xeaO\\xaa\\xc3$\\xf0\\x83\\xb9\\x8e\\xcf~\\x82\\xaa\\xd8X\\xb9%\\xc1\\xc8\\xe9[\\x91K\\x14\\xa8\\x15\\x88\\xcf\\xaf\\xad8y0\\x0e\\xaa)\\xa9iblU(P\\xb1 \\x81\\x8e\\xb8\\xac\\xebA\\xe6\\xea;\\x80\\xca\\xee\\xc5Y\\xd4\\xb5 W\\xc9\\x84\\xe5\\x8f\\x04\\xd3\\xb4+S,\\xc0\\x91\\xc2\\xf7\\xf54\\xb6W)\\x1d,\\xd6I=\\xae6\\x02\\xd8\\xfe.k\\x96\\xbb\\xd3^\\'l P:q\\x8a\\xec\\x99\\x84p\\x1f\\xbcN?\\x85k\"I\\x16Vh\\x88s\\xf5$\\xd4\\xad\\x0bz\\x9c\\xb4s<o\\x82y\\x1d\\x8dm\\xdb\\xcb\\xe6\\xc4\\x08\\xe0\\x8e\\xe2\\xb3/md\\x8av\\x0c\\x8a\\xa3<U\\xbd0\\xe7\\x01\\xb3\\x8ar\\xeeLw4c\\x199\\xf4\\xf5\\xe9Ywr\\x86\\x9b9\\xc9\\xadK\\x9f\\xdd@\\xcdX\\x0f .N1D\\x17P\\x93-FD\\x9cR\\xcfn\\x02\\xee\\xaa\\xf1K\\x86\\xabo \\x910j\\xc93\\x8ba\\xb85f7\\x04\\n\\x8a\\xe2%U\\xca\\xf5\\xaa\\xab)S\\x8a`k\\x96\\r\\x1fZ\\xae\\xc3h&\\xa0Y\\xc9\\x1di\\xe6S\\xb6\\x80\\x0eNi\\xbb\\x888\\xcd bip\\x0fZ\\x00r\\xb6MZ\\x8a@\\x84\\x11\\xd6\\xaa\\x06U\\xa5\\x07\\x9c\\xd4\\xb0:[\\x1dD\\x8c\\x02k\\xa3\\xb4\\x9c8\\x075\\xe7\\x91\\xdcla\\x83].\\x91\\x7f\\x90\\x015HL\\xee-\\xe7TNMc\\xf8\\x86\\xf1M\\xbbmn\\xd5J\\xf3S1G\\xf2\\x9a\\xe6\\xf5\\rQ\\xe7\\x04\\x12j\\x84v^\\x1f\\xd0\\xda\\xe1\\xd6YT\\xe3\\xb6k\\xbd\\x86\\x08\\xed!\\x1c\\x01\\x81Ikk\\x1d\\x9c \\x00\\x06\\x05P\\xd4/\\xf1\\x90\\r[\\xd0\\x06\\xdf\\xde\\xe7 \\x1a\\xc7yI94\\x92L\\\\\\x92MC\\xcb5E\\xee2u\\xf9\\x8d[\\x8d@\\x19\"\\xa1\\xb7\\x8f4\\xfb\\xb9\\x84\\x11\\x1ei\\x88\\x82\\xee\\xe4\\x0e\\x15\\x88#\\xb5g,\\x91Jw;\\x00\\xc3\\xb7z\\xc6\\xd55l\\xb9\\x1b\\xb1\\xef\\x9a\\xa9\\xa6\\xeae\\xa6\\xc3H\\x1f\\'\\x00\\x13Q=Qq\\xdc\\xd6\\xd4$\\xf2\\xd1\\x9bi\\xfa\\x83\\xcdc\\xe9\\xf6\\x7fj\\xba\\r,r\\xb0\\xcf\\x19\\x18\\x1f\\x9d[\\xd6n\\x98(T\\xea{\\xed\\xe9O\\xd1G\\x9d0\\xdc\\xf2\\xc8\\xe0\\xf4\"\\xb9\\xfa\\x1bu:\\x18\"6\\xe0u\\x8czf\\xb4M\\xd2,\\x041\\x04\\xfa\\x13\\xfd\\x056X\\x08\\xb7\\x04`\\x1c~5\\x88\\xf3K\\x13\\x95\\xe8}\\xbf\\xc6\\xb2rqv5QRCu]?\\xed\\xf1\\xb3\\x04\\xf9q\\xd8\\xe6\\xb8\\x1b\\x9b\\t\\xecnK[d\\xaerS=\\xeb\\xd1F\\xa1\\x1a\\x8f\\xdf\\xb1v\\xf7<\\n\\xaf,V\\xb7\\xd9|+\\x13\\xdf\\xd2\\xb4\\x8c\\xbb\\x10\\xe3\\xd1\\x9c0\\xd5\\x80\\xc7\\x9c\\x8c\\xac;\\x11\\x8as\\xeb\\x88\\x17\\x08\\xbcz\\n\\xe9\\'\\xf0\\xe4Re\\x83g\\xbfZ\\x8e\\x1f\\x0b\\xc4\\xc4z{\\xd5sy\\x13\\xcb\\xe6r,\\xd7\\x1a\\x83\\x85D {\\xd6\\xa4zi\\x8a\\x14\\x05\\xb6\\xb8#\\x04\\xf4\\'5\\xd5\\xc5\\xa3\\xdb\\xda\\xaf\\xc8\\xa0\\x1e\\x9d9\\xaa\\xf3\\xdb\\xab1%p\\x17\\xa7\\x149\\xb48\\xc13OO\\xb9\\x06\\xcc\\x07a\\xc7\\x04\\xd5\\xc8\\xd0-\\xb8?t\\xb7J\\xe7-\\xa7)8\\x8cp\\xbb\\xbbWJ\\xbf2!n8\\xe3\\xdb\\xde\\xb2\\xe7\\xbb-\\xc2\\xc6}\\xc5\\xb3H\\x8d\\x828<\\xf7\\xe7\\xfck)\\xd7c\\x00\\x7f\\xbd\\xd7\\xde\\xba\\x0c\\x88\\xd0\\xba\\x83\\xf2\\x82N@ \\xf6\\xacg;\\xcb\\x16\\x00\\x0e\\xe4\\x123T\\x9e\\xa4\\xd8\\xa5+\\x82v\\x9e\\xbd\\xc8\\xa8%\\xd4\\x16\\x08\\xdd\\t\\x15bR\\xaa\\x0eq\\xb4\\xf4>\\xf5\\xcf\\xea\\xb1\\x96}\\xcaI\\x1d*\\xafrZ3[\\xfd2\\xf1\\x99\\xc1*\\xdd\\xeaI4I\\x07\\xcd\\x03\\x1c\\xf5\\xc56\\xd9J\\xb6;g\\xbdt\\xd6\\x12 \\x8cn\\xf4\\xe9Z94\\xf4!+\\xa3\\x930_@pT\\x9f\\xa58[_O\\xfc\\'\\x9a\\xec\\xfe\\xd1m\\x9cH\\x07\\xb1\\xf5\\xa6\\x9b\\xcbEl(\\xc9\\x1c\\x93\\xce?Z9\\x98\\xb9Q\\xcd\\xd9\\xf8~i\\x082\\xfc\\xa0\\xf55\\xd3Am\\r\\x8c\\x1dG\\x03\\x9c\\x03Uf\\xd4\\x81\\x1f\\xe8\\xfbz\\x022I\\xc7\\xe5UZY\\xeeX\\xefp\\xcax\\xf9\\x81o\\xd6\\x95\\xef\\xb8l\\\\\\xb8\\xbcGm\\x8b\\x9cv`\\x0f\\xf3\\xe9Km\\x11v\\x046\\xe2?\\xcfZ\\xadn\\x9eZ\\xf1\\xb8\\x10@\\xe4\\xff\\x00*\\xd8\\xb4\\xb6\\x1bw|\\xdc\\x8e*wel\\x8c-R\\xd9\\x8b\\xe5\\xc1e\\x1d\\x8bU\\x1bY\\x169\\xb6\\x90?\\n\\xe8/\\xec\\xcb\\x86,\\xcc>\\xa7\\x8a\\xe5]d\\x8e\\xe8\\x83\\xc1\\xcfQ\\xde\\xae\\xd7\\'cJ\\xfa\\x7f\\xddc\\x8c~\\xb5\\x83$\\x84\\xb1\\x038\\xf7\\xad\\x0b\\xb0\\xec\\xa3p\\xe3\\xd4\\x1a\\xa6\\xd1\\x8cp*\\xe3\\xa2!\\x91\\xa1\\xc5ZG\\xe3\\x8a\\xa2I\\r\\x81S#\\xb0\\x1cS\\x01\\xd2\\xb6\\xe3\\x83U\\x8a\\xf3R\\x92{\\xd3\\\\w\\xa6!\\x10\\x91\\xc5O\\x8f\\x975]NMZC\\xc6)\\x0c\\x8fy\\xa0\\x93Nx\\xcfQM \\xe2\\x80#\\xdewS\\xbc\\xc3L\\xe8y\\xa0\\xae\\xeeE\\x00H\\x1b\\x1c\\xd5\\xeb;\\xb3\\x1b\\x8c\\x1a\\xcd$\\xd2\\xab\\x90h\\x11\\xd2K;O\\x1f\\x06\\xb2\\xa6\\xc8855\\x8d\\xd6p\\r_\\x92\\xd1.\\x17#\\xadP\\x1e\\xc5\\xa9j\\x020@5\\xcd\\xcdrdrI\\xa6\\xdd\\\\\\xb4\\xceI<Uu\\xcb\\x9a\\x1b\\xb8\\x13\\xa9-V\\xe1\\x8b&\\xa2\\x82.\\x95\\xa5\\x04X\\x14$\\x0cr \\x8d2k\\x07W\\xbc\\x07*\\rkj\\x17\"\\x18\\x88\\x06\\xb9\\x19\\xdd\\xa7\\x98\\x93\\xd2\\x9b\\x11\\x87\\xa9!\\xdd\\xbc\\x9f\\xad6\\xcbPX$P\\xe8\\xbfS\\x92\\xdf\\xe0*\\xdd\\xfa0Rx\\xac\\xfd>\\x1d\\xd7\\'p\\xc9\\'\\x82@5\\r\\x14\\x8e\\xaaKx\\xef`WD\\x19\"\\xaei\\x16O\\t\\x01p\\xa0zsSi\\xe8\\x0cB6\\x05I\\xed\\x8c~\\xb5z;i\\x84\\xa1B\\x80\\xbe\\xbb\\xab\\x97U#\\xabF\\x8d03\\x0e\\x0bd\\x8a\\xc1\\xd4\\x11A9\\x1c\\xfb\\xd6\\xf2\\x8f)\\x06\\xe2\\x0f\\xd2\\xb3\\xef\\x043\\xe4ew\\x1e\\xd8\\xe6\\x8a\\x91\\xb8\\xa0\\xecr\\xd3FK\\xe4\\xf0:\\xf0rMW\\x92w\\x03\\x00+\\x0f|\\x93\\xfd*\\xed\\xf5\\xa2\\x890\\xecs\\x9e*\\x98\\x81\\xc7\\xf0\\xee\\x19\\xe3\\xe6\\xc6\\x7f*\\xc9\\x1a=DK\\xc9\\x15wH[\\x83\\xf8\\n\\xb257\\t\\xb7\\xa0\\xee1\\xd6\\xa9K\\x19\\x1dU\\xb3\\x9e\\x87\\x8c~\\x95\"@H]\\xdf(\\'\\xf8\\xfa~\\x95Wb\\xb24b\\xba-\\xb4/_S\\xdb\\xf0\\xa2\\xe1\\x88\\x18\\xeas\\xc7\\x14\\xeb;u\\x8c\\x13\\xd1\\x878\\xf5\\xa4\\x95pr:\\xe3\\x82ML\\x9be\\xc5$gF\\xcb\\x15\\xda\\x1cgi\\xc0\\x1e\\xf5\\xb5\\x05\\xdc\\xd2K\\xb3g\\xee\\xd7\\xf8\\x8f\\x1b\\x8f\\xa5d\\xc7\\x18\\x8e|\\x92\\x0b\\x13\\xc6+^\\xc1A\\x9c\\x03\\x8c\\x0e\\xa6\\xa3\\xa9\\xa5\\xb4.\\r\\xab\\x13\\xa3\\x1co\\x07#?O_\\xadcJ\\xc5\\x94\\x87-\\xb7\\xb0\\xef\\xd3\\xe9\\xfeqZ7\\x92\\x18\\xe0v\\xdaN\\xc2F=s\\xd7\\xfc\\xfbV1\\xbbF\\x95\\x94\\x05\\x1b\\x078\\xee}\\xbf1]J7G;f^\\xa4\\xec\\x89\\x84\\xc6}0p\\x7f\\x1e\\x95\\x95 \\x90(.2\\x1b\\xaf\\xaa\\xd6\\xad\\xeb\\t0\\xc0\\x8c\\xed\\xdcF0G\\xf9\\xfe\\xb5\\x9eX\\x94\\xe0\\x13\\x9e\\xd4\\xb6%\\xab\\x94\\xe4\\x05dV\\x03\\x00\\xf1\\x8c`U\\x98\\\\\\x84\\x04p\\x01\\xc1\\xc9\\xa0Bx<.\\xe3\\xc0\\xc58@\\xccr\\xb9V\\x04\\xfeUW\"\\xc3\\xb76\\xd0\\x0bnRG9\\xcf\\xe6?\\xad\\x01\\x1c9\\xdb\\xbb\\x93\\xd3\\x1c\\xfe\\x954h\\xca\\xcb\\x96\\xcex8\\x1f\\xd6\\xac%\\xa1i8\\xf9=\\x98Q{\\x05\\xaeP\\x00\\x86\\x0b\\xc0\\x1dT9\\xc7\\xe4\\x7f\\xa5Z\\x869T.\\xc0\\x19s\\xfcU3\\xd9He\\n\\x18\\x0c\\x9c\\xe0\\xd4\\xc9ks\\x1f\\xccp\\xa9\\xec\\xf4^\\xe2\\xb1j\\xd2\\xc8\\xb3of\\x1e\\xb8#\\xff\\x00\\xafZx\\n\\x98\\xe3\\xf2\\xe9Xw\\x1a\\x9a[\\x80\\x88Y[\\xd6\\xa7\\xb0\\xd4\\x84\\xa7\\x0eY\\x9b\\xd4\\x9a6\\x1d\\x89\\xaf\\x11]~a\\xc8\\xee+\\t\\xed\\x93{\\x10\\xa0WAzQ\\xd3\\xba1\\xe9X\\xb7e\\xd16\\xb2\\xeeS\\xdc\\x7f\\x8d4K0\\xee\\xf7\\xa3\\x9d\\xdc\\x0e\\xd8\\xaa\\xbe`\\xeej[\\xc0\\x15\\xbe\\xf9?Z\\xa2[\\x9fZ\\xd9\\x19\\x92\\xb2\\x86\\xe8)\\xc1\\x08\\xa2\\x1c\\x93\\xd2\\xa7t!s\\x9a\\x00\\xa8\\xe0\\xabu\\xa5<\\xad\\x0eiT\\x1c\\x1a\\x04@N\\rY\\x89\\xbaUW\\xfb\\xd5<=)\\x8c\\xb2\\xef\\x91\\xc5B\\xe3\"\\x97<\\xd3\\x88\\x15 W#\\xd6\\x81\\xc1\\xc5JTR`\\x0e\\xb4\\xc0a\\xe2\\x98M9\\x8f4\\xc68\\xa0E\\x9b7\\xc4\\xa0\\x1a\\xeam\"g@V\\xb8\\xf8\\x1b\\x12\\n\\xedtI\\x03*\\x83T\\x80\\xe9\\x0eX\\xe0U\\xa8!\\xe9I\\x14k\\xd9\\x7f3Z0\\'N\\x00\\xfc(C\\x1d\\x04>\\xd5i\\xff\\x00w\\x19=>\\xb4\\xe8\\xd7j\\xe4\\xd6f\\xa3s\\x9f\\x95MV\\xc2(_\\x933\\x90\\xd2\\xa0\\x1f\\\\\\xff\\x00*\\xa4\\xb1\\xdb\\xa1\\xc6]\\xcf\\xb0\\x0b\\xfe5+c\\x15\\\\\\xfd\\xea\\x81\\x92K\\x14R.\\x12\\xde?\\xabe\\xbf\\xfa\\xd5QV\\xf5_\\xcb\\x88\\xc8S\\xb4p\\x80\\x99\\xfc\\x85l\\xd9Z\\x99F\\xe6\\xf9S\\xd4\\xd5\\xd9\\xa2\\x0b\\x11XWb\\x9e\\xa7\\xb9\\xa6\\x065\\x9c\\x7fc\\x93t\\x91\\xc7\\xbf<\\xaeI#\\xeak|N\\xb3D\\x1c\\x0e\\x07\\xa7J\\xe5\\xee\\xe0e\\x90\\x9d\\xc5@\\xeb\\xde\\xad\\xe9\\xf7k\\x90\\xa6W?\\xec\\x9a\\xc2q\\xbe\\xc6\\xb0\\x97sN\\xe6\\xfa=\\xa7\\x9cc\\xa95\\x8b.\\xb0\"\\x90\\x88\\xf0\\xaaz\\xb1\\x1c\\x9a\\xd4\\xbb\\xb5\\xf3Sr\\xe3>\\x95\\x924\\x99\\x1aO\\xbaX\\xfb\\xf6\\xae[\\xc93\\xa9(\\xd8\\xbb\\t\\x8e\\xfe<\\xb2c\\xd7$\\x0f\\xe5T\\xaf\\xe1D]\\xb1\\xf3\\x9e\\x835\\xa7o\\xa5K\\x1a\\x7f\\xaa\\x97\\xeb\\xcf5i4\\xf7?\\xf2\\xc5\\x8f\\xd5k^K\\xa3\\x17+\\x1c\\xf5\\xbd\\x96\\xe1\\x86\\x8c\\x13\\xe9\\x9f\\xfe\\xb5hAf\\xb1).U\\x0fuN\\xdf\\x8f\\xff\\x00Z\\xb4\\x8d\\xabE\\xd6&\\x03\\xfd\\xda\\xadp`X\\xcf\\x000\\xe7\\x8a\\x99F\\xc3\\x8c\\xae\\xc61H\\xa2\\xc2\\xf0\\x0f]\\xddMVTY\\xa4$\\xaf\\xcb\\xd4\\xfd{d\\xd5)\\xad\\xef\\xe7\\x99M\\xbe\\xe5\\x8c\\xf59\\xc0\\xfeU\\xbb\\xa6\\xe9\\xc5a\\x12L\\xe1\\xd8\\x9e\\xad\\xd0T%sG\\xa1\\\\\\xd8\\x00\\x81\\x98\\x02s\\x9c\\x8a}\\xa0[t\\x96W8b\\xd8\\x03\\xda\\xb5/,\\x8d\\xdd\\xa3\\x05~\\x9f\\xdd\\xaezg{(\\x9d/\\x03\\x90\\xbd\\x19GZ\\xb5M\\xa7q\\xc6jJ\\xc4\\x1a\\xcd\\xca\\xc7h\\xec\\xbc0S\\x8fs\\x9e?\\xa5rB\\xeb\\xe5\\x0c\\xc8\\x08a\\x83\\x90F:g\\xfa\\x1a\\xdd\\x7f/S\\xb6\\x7f\\xb3H\\xd9_\\xbc\\xac0W\\xebY\\x92\\xe9\\x04\\x82\\x14\\x969\\xce\\rj\\xa7\\xcb\\xba&Ty\\xb6f[\\xea\\x19;\\x9b%\\xc8\\xc1\\xe3\\xb5h[ o-\\x07%\\xf9\\x18\\x1d\\xaa\\xb41Dg1\\xa4fB8\\xcfA]\\x1e\\x91\\xa5\\xf9\\x7f\\xbcq\\x86\\xc7\\x19\\xe8(~\\xf1\\rr\"\\xa7\\xd9\\x0cx.\\xbct\\xc0\\x1d\\x0f\\xe1P\\xc9%\\xbc\\r\\xfb\\xd0\\x10\\x8e\\xbf\\xe4WC{\\xe5\\xda\\xc4\\x19\\x80\\xdax\\xe9Yw\\xd6\\xb0O\\x10\\x91\\xa0b\\xa7\\xadKVd\\xadJ\\xca\\xf1\\xb8\\x1b?\\x8b\\xa19\\x15~\\xd6\\xd9I\\xdcX\\x1a\\xa9\\x1e\\x99\\x18(`\\x8d\\xa3\\x07\\xd3&\\xb7,l\\x84\\x7fzC\\x9f\\xf71HL\\x8d\\xac\\x16P8`}A\\xa4\\xfe\\xcc\\x89\\x06v\\xe4\\x81\\xde\\xb6V\\xd9v\\xfd\\xef\\xd2\\x90Z\\xc6\\x9d_\\xf5\\x03\\xfa\\xd5\\xd8\\x9b\\x9cN\\xa9j\\xe5\\xf9\\x88\\xed\\xf5\\x1c\\xd5;}\\xd0\\x9f\\x94\\x1c\\x8a\\xee.mc\\x90\\x11\\xdf\\xd0`\\xff\\x00Z\\xcb\\x93N\\x8a6\\xcb\\x86S\\xee\\x98\\xfe\\xb5\\x1a\\x9a]X\\xccGy\\x06d\\xe9\\xe8j\\x85\\xc4\\xf3+\\x91\\xd5}\\x08\\xcdj^$h0%\\x00\\x0e\\xec\\x08\\xfeY\\xacK\\xbe\\xb9IQ\\xfd\\xf7\\xe3\\x1f\\x9e+h\\xa3\\x192\\x95\\xd4BE2 \\xf9\\x07Pz\\xaf\\xff\\x00Z\\xb3\\x99Fx\\xab\\xcc.U\\xfc\\xc5Vu\\x1dJ|\\xe3\\xf1#\"\\xaa\\xc8\\xa1\\xff\\x00{\\x10\\xf9\\t\\xe4\\x7ft\\xd6\\x84\\x0f\\x84\\x1e\\xd5$\\xa0\\xec\\xa4\\x84`S\\xe6;\\x86)\\x01D\\x8es\\xd6\\xa5\\x18+Q\\xb9\\xdb\\xd2\\x84$\\xd3\\x11\\x1c\\x8b\\xf3T\\xb1\\nl\\x80\\xd2\\xc2pi\\x817zV\\xe9I\\x9c\\x9c\\x8aFzC\\x19\\x9eiM!\\xe7\\x9a(\\x01\\x8e\\xbcdT\\x04\\xf3V\\x99\\x80Z\\xa8\\xc7\\x9ahC\\xa3?\\xbc\\x15\\xd8h\\x8f\\xf7k\\x92\\xb6\\x8f\\xccq]f\\x8e\\x85\\x19A\\xa6\\x07\\xa1\\xc1\\x15h\\xc3\\x17\\xb5E\\x04~\\xd5m\\xdd`\\x88\\x93M\\x03+\\xde\\xce\"M\\xa0\\xf3X7\\x0f\\x9c\\x93Vng2\\xb9$\\xd5C\\x0c\\xd7$\\xac(\\\\\\x8e\\xbe\\x83\\xeaj[\\xb8\\xd2(\\xb4\\xa4\\xb6*\\xf5\\xad\\xa0\\xdc\\xa6U,\\xc7\\xee\\xc6:\\x9f\\xadG\\x12ZZ\\xb92L%\\x98vC\\x90>\\x9e\\xbf\\xa5h\\xdb]\\x8c\\x0f-\\x02\\xfa\\x9e\\x99\\xfe\\xbf\\x994\\x01~\\xda\\xceW9p\\x17h\\xfb\\xa7\\xb7\\xe1W\\xfe\\xcb\\x10\\\\;\\xe7\\xd9Fj\\x9c3\\x129<z\\x0e\\x07\\xe5V\\xd1\\xc3p94\\xc0\\xc8\\xd4\\xac\\xe0 \\x94\\x85\\x9cz3\\xf1\\xfa\\x01\\xfc\\xeb\\x9b\\x93Q[\\t\\xb1\\x0e\\x97i\\x9fS\\xbd\\xbf\\x9b\\x1a\\xeen \\xca\\x90\\xc5T\\x7f\\xb4k\\x9d\\xbd\\xd3!2\\x86yN\\xde\\xe5S\\x8f\\xcc\\x91\\xfc\\xaal1\\xfa~\\xb7+\\xa0\\xf3B\\xc7\\x9f\\xe0@q\\xf9V\\x92\\xc8\\xf3!d\\x8c\\x1f\\xack\\xfe\\x15J\\xd6+\\x18@1\\xc4\\\\\\x8e\\xf2\\x1c\\xff\\x00\\x80\\xfd+V\\xde\\xe6F\\xc6\\xd5\\n\\xbd\\xb0\\x00\\xfeT\\xa5\\x1b\\x94\\x99K\\xcf\\xba@H\\x80\\x9c\\x7fr?\\xf0\\x15=\\xb5\\xd4\\x8f\\xf7\\x9bo\\xfb\\xd2\\x01\\xfaf\\xb4Z\\x15\\xb9\\x8f\\xe7\\xcb{\\xb7O\\xc2\\xb3\\xa4\\xd2Ud,\\x0b\\x10; \\xc7\\xea\\x7f\\xc2\\xb3\\xf7\\xa2^\\x8c\\xb6Q\\xdf\\xa5\\xc3`\\xf7\\x0ci\\x97V\\x91\\xc9\\x18\\x89\\xeed\\xc9\\xeaw\\x12h\\xb4/\\x1f2lH\\xfa.~v?\\xd3\\xf2\\xab3C\\x1d\\xc2\\x12\\x0eG\\xd7\\x8f\\xd2\\x9c\\x95\\xd0\\x93\\xb31&\\xd2U\\xd96L@C\\xc7\\xcd\\xc9\\xa2K\\x06\\x92X\\xb7\\xce<\\xb4\\xe4\\xa7\\xaf\\xe5R\\xdc\\xe9\\xb3\\xb2\\xfc\\x93\\x11\\xf4\\x1d\\xaa\\x08\\xf4\\xe6]\\xa1\\xdfq\\x07\\x96c\\xfe\\x7f\\xadf\\xa0\\xaf\\xb1\\xa3\\x97\\x99\\xb9\\x10\\x8b\\xca\\x00`\\xfa\\x0f\\xf0\\x15\\x9d\\xa9\\xda$\\xa0\\xee\\x19\\xfc\\x05O\\x13\\xa4x\\t\\x83\\xea\\xd9\\xa8\\xeeeV\\xe35\\xd1ec\\x14\\xdd\\xceDZGg{#c\\x1b\\x97\\x1cw\\xaa\\xe8\\xe3|\\x99\\x15\\xbb{\\x14r\\xa9\\x1d\\xfbV$V\\xec/\\x9d[\\x94\\xc05\\x8c\\x96\\xa7m9\\xa7\\x10\\xd2\\xb4\\xb4\\\\;%t1@\\x15F\\xd1\\xf9\\x8ae\\xb1E\\x00m\\xc0\\x1dj\\xe7\\x98\\xbbF\\x07\\x1e\\xa2\\xae*\\xc7,\\xdbl\\xce\\xbcx\\xd5\\x18H\\x85\\x87\\xb7z\\xa4\\xf3$[v\\xc3\\xbb=\\x88\\xadi\\xd2<r\\x84\\x83\\xd4\\xd5c\\x0c#\\x18C\\x8fN\\xb8\\xac\\xe6\\x11 [\\x87VT\\xf2@\\xc8\\xe0\\x1f\\x97?\\x9dh\\xc2\\xaf\"\\x83\\xb7\\x03\\xe9M\\xb7\\xea\\x14&\\xdfq\\xd0\\xd5\\x86\\x90\\xa6UN\\xd6\\xf7\\xa1\\x03\\x12FHW\\xe6%s\\xdf\\x15\\x9d.\\xe9O\\xca\\xc8\\xdf\\x8e?\\x9d]28\\xcf\\x981\\x9fN\\xff\\x00\\xd0\\xd4\\x12\\xbcJ\\xa5\\xbc\\xb0\\xf8\\x19>_\\x04\\x0f\\xa56\\xaf\\xb0\\x93\\xb1I\\xed\\x99\\x06\\xf6\\xc8\\x1e\\xbd\\xab6\\xee\\xf4E\\x91\\x92\\xa4z6*k\\x9b\\x85\\x94\\xe6\\xd2\\xebcvY\\x0e\\xdc\\xfbg\\xa7\\xe7\\x8a\\xcc\\xbdvo\\x96\\xf6\\xdd\\xa3\\x93\\x18\\x0c\\x98\\\\\\xfd8 \\xd0\\xa3`o\\xb9Z\\xe3X\\x9c\\xf1\\xe69\\x1e\\x84\\xe4\\x1f\\xc0\\xd6\\\\\\xb7\\xa01/m\\x0c\\x9f\\xf0\\x12\\xbf\\xfa\\x0e*9Q\\x99\\xca\\xc58/\\x9cyr\\r\\x8d\\xf8\\x1e\\x87\\xf3\\xaa\\xee\\xd2\\x871\\xcc\\x85Xu\\x0c0Ei\\xa9\\x9b\\x1cZ\\xdav\\xc9\\x8aH\\x8f\\xaa\\x10@\\xfc1\\xfdj\\xd4\\x11\\xb1;E\\xca\\xcb\\x19\\x18\\xdb0\\xe7\\xf0\\xce@\\xfc\\xea\\x04\\xb7\\xee\\xa7\\x02\\xa6\\x0b\\x8e\\x984\\\\C\\xe7\\xb7[|\\x19!*\\x99\\xe1\\xd0\\xf0\\xdf\\x8f#\\xf2\\xaaS\\xc4$\\xcf\\x93(`;7\\xca\\x7f\\xc3\\xf5\\xa9\\xdei62\\xa3\\x95a\\xe8z\\x8fJ\\xaegFa\\xe7B\\xbf\\xefG\\xf2\\x9f\\xcb\\xa7\\xe9M\\x01P\\xc0\\xca\\xe5\\\\\\x10GPx\\xa7\\xf9X\\x1c\\x1a\\xd0\\x89<\\xc5\\x0b\\x13\\t\\x861\\xb1\\x86\\x18}?\\xfa\\xc6\\xa1\\x9a\\x00I\\xf2\\xf3\\xc7U=G\\xf8\\xd3\\x02\\x83\\xfb\\xd3\\x17\\x83\\xc5J\\xd1\\x90h\\xf2\\xfb\\xd0 \\x0ci3\\x93KGJ\\x00\\x05.)A\\xa0\\xb6\\xda\\x06D\\xe3\\x15Y\\xea\\xcb6j\\xbc\\x9di\\xa1\\x16,N$\\x15\\xdciH\\xb2\"\\xd7\\x0bh~q]\\xa6\\x8f&\\xd0\\xb8\\xa63\\xd4c@\\x8b\\x93YZ\\x85\\xd1\\x96_.<\\x9e\\xd8\\x1d\\xea\\xfd\\xec\\xa28\\x88\\xdc\\x11}O\\xf4\\xac\\t/\\x00%b\\x05A\\xea\\xc7\\xef\\x1f\\xc7\\xfaR\\x93\\xe84\\x89\\xf6\\xa4C3\\x10H\\xfe\\x01\\xfdO\\xf4\\xaa\\x1a\\x8d\\xf4\\x92G\\xb78\\x8ctQ\\xd2\\x95\\x9c\\x9e\\xb5Zx\\x9ee!x\\x03\\xab\\x1e\\x00\\xa9\\x19N\\xd8\\x92\\xf9\\xad\\xdb$g\\x00\\x8e\\x17\\xfb\\xcd\\xc0\\xfc\\xeb\"\\t \\xb7?\\xbb\\x1es\\x8f\\xe3a\\xf2\\xfe\\x03\\xfcj\\xd0\\xba\\x92B\\x0b\\xb98\\xe8;\\n.\\t\\x1d\\x14M\\x12}\\xe9\\x03\\x9fE<~u`\\\\``6\\xd5\\xf4A\\xfdk\\x9e\\x8a\\xe3\\x1d\\xea\\xca\\xdc\\x96\\xe0S\\xb8\\xecj=\\xd7\\x18A\\x83\\xeb\\xd4\\xd6m\\xc42\\\\I\\xf2\\xab;u\\xe3\\x9a\\x9dv\\xc4\\x7f\\x7f\\x92\\xff\\x00\\xf3\\xcdOO\\xa9\\xed\\xf4\\xfeUe\\x1d\\xa7\\x1eZ\\x80\\xaa\\x7f\\x85\\x07_\\xf1\\xa0\\n\\xd6\\xf6\\xd1B33\\xee#\\xf8S\\xa7\\xe7\\xfe\\x15z9\\x98|\\xd1*\\xc6\\xbd\\x0bz~\\'\\xfaS\\xa2\\xb2_\\xbc\\xf88\\xff\\x00\\xbeW\\xfci\\x93\\xdcE\\x0f}\\xcc:3\\x0e\\x9fA\\xda\\xb2\\x94\\xecZ\\x89z\\x16\\x00ns\\xd7\\xbbq\\x9f\\xa7sS\\x86\\xf3\\x06\\x14d\\x0e\\x99\\xacO\\xb5\\xc6\\xab\\xe7\\\\I\\xb26\\xe8O,\\xff\\x00AO\\x8bXK\\x82\\x12\\xdc\\xe1z\\x05\\xeej\\x94\\xae&\\x8d\\t\\xa3@I?\\xbco~\\x9f\\xfdzb\\xa4\\x9b\\x81r\\xc4\\x9e\\x88?\\xcf\\x02\\x96\\'\\n\\x0f;\\x9cu=B\\xff\\x00\\x89\\xabqF]N\\x01\\x19\\xeaOS\\xf5\\xaa\\xb0\\xaeg\\xdcBd\\xfb\\x92\\x1c\\x8fC\\xc0\\xaa\\xadl\\xc0\\x16\\x92C\\xcfl\\xf5\\xadi-\\x99\\x08\\x0b\\xd3\\xadT\\x9a\\x06bY\\xfa\\xf6\\xa9\\rJ\\x8b\\x10D\\xc0<\\x9a\\x8aX\\tR\\t\\xc8\\xab\\x9eV\\x07\\x15\\x13\\xc6\\xc7\\x8a\\xb1&e\\xbe\\xc4\\x1c\\x8e\\x95O\\x03\\xce\\xf3\\x00\\xe9\\xc75\\xae\\xd6\\x99\\xce{\\xd4kc\\xedScE!\\xb0I\\x19\\x1d9\\xabAU\\x87\\x1d)\\x12\\xd3\\x03\\x06\\xa6\\x10m\\xaa\\xb1\\r\\x912\\x90\\xb8*\\x08\\xa8\\xa3\\x01\\x8e6`\\x8a\\xb6HQ\\xcdV\\x9a\\xe1\\x17$v\\xa9q\\x170\\xf2\\x02/\\x03\\x1e\\xa2\\xa3r\\x85I\\xc6@\\xeb\\x8e\\xa3\\xff\\x00\\xadT\\xe6\\xd4P&\\xe59\\xc0\\xe4{w\\xack\\xedY\\xed\\x1809\\x1dU\\x87B(\\xe5B\\xb9\\xafst\"\\x8f\\x82\\x1e3\\xc7\\xb6\\x7f\\xa1\\xacY\\xa5/.m\\xe4(\\xfd|\\xb7<\\x1f\\xa1\\xff\\x00\\x1f\\xd6\\xaaI\\xa8y\\xcb\\xf6\\x8bc\\x80\\xc7k\\xa3\\x1c\\xae}\\x08\\xf7\\xec\\x7f\\x91\\xe6\\xa2\\x93\\xf7\\x88\\xcf\\x16C\\'\\xdf\\x89\\x8eY>\\x9e\\xa3\\xfc\\xfb\\xd4\\xb6Z$\\xb9\\xb9I\\x0b-\\xc4_\\xbc\\x1fx\\x8f\\x95\\xff\\x00\\x1f_\\xc6\\xb3\\x1e\\xea\\xe6\\xda7{\\x1b\\x92\\xf0\\x8f\\xbc\\x07\\xf0\\xff\\x00\\xbc\\xa7\\xa7\\xd7\\xa7\\xbd\\x12\\xeaJJ\\xa5\\xc2\\x99\\x10t`p\\xcb\\xf4?\\xd0\\xe4Uib\\xf2\\xc7\\xda\\xed]\\x9a1\\xd5\\xd7\\x86C\\xee=?NhD\\xb68\\\\\\xda\\xea*V\\xee\\xdd\\x12P0$\\x8f\\xe5\\xfd\\x07\\x1f\\xa1\\xfaS\\xd6\\xd9\\xa1\\x1b7,\\xd0\\xa9\\xe29z\\xff\\x00\\xc0O\\xf8\\x1c\\xfbT\\x00\\xc39\\x07\\x0b\\x0c\\xde\\xa3\\x84\\x7fo\\xf6O\\xe9\\xf4\\xa524nS\\x048\\xe3\\x04u\\xf6#\\xbdQ\\x04\\xef\\x0clJG\\x98\\xa5\\x1dc\\x93\\x8f\\xd7\\xfc\\x7f:\\xa7 h\\x89\\x0e\\n\\xb0\\xea\\rY\\x17k4{F\\xde\\x06<\\xb9:\\x7f\\xc0OU\\xfc\\xff\\x00\\xc2\\xa2/\\x1c\\xd9\\x8aB\\xcaG\\x01\\\\\\xfc\\xca}\\x9b\\xd3\\xd8\\xe3\\xebB@f\\xb4\\x84>\\xe0y\\xcdE \\xfd\\xe7\\x07\\x83\\xc8\\xa7\\xdeB\\xf6\\xf2\\x15pq\\x9c\\x03\\x8cf\\x9b\\x02\\x99\\x06;\\x8e\\x95@Z\\x82\"GZ\\xb8d\\xf9\\x02\\xca\\xbe`\\x03\\x00\\x9e\\xa3\\xe8j(\\xa18\\x078\\xa9J\\x8e\\x86\\xb3\\xb8\\xecT\\x9e\\xdcl/\\x19\\xdc\\xbd\\xfdW\\xea?\\xadR\\nsW\\xe4VI7#\\x15#\\xb8\\xa4T[\\x86\\xf9p\\xb2\\x7fw\\xb3}=*\\xee\"\\xa3\\xae\\x16\\x9a\\xb8#\\x9a\\xb5$[A\\x07\\xb7Z\\xa6\\xf8S\\xc50\\x02q\\xd2\\xa2v\\xa7\\x13\\xc5Drh\\x01\\x0bsQ9\\xe6\\x9ej6\\xebLE\\x9bO\\xbe+\\xae\\xd2\\x9b\\xee\\xd7#k\\xf7\\x85uZa\\xc6)\\x8c\\xeeo\\xaeZf,\\xc7>\\x95\\x9c[\\x06\\xa4\\x9aL\\x9e\\xb5\\x0f\\x98\\xb1\\x8d\\xc3\\x97\\xed\\xedY\\x9a\\x13ec]\\xd2\\xf5\\xec\\x83\\xfa\\xd6v\\xa7|\\xc6<d\\x04\\x1d\\x14t\\x14\\xe9$\\'$\\x9c\\x93Y:\\xa4\\x99\\x88\\xf3L\\x91\\x90j+\\x93\\xcd]\\x8e\\xfdX\\xe0\\x1a\\xe4D\\xdbX\\xf3W\\xf4\\xf9\\x1ek\\x84\\x8e?\\x99\\xd8\\xe0\\n\\x92\\xd5\\x8e\\xc6\\xd4\\xb4\\xcc\\x159&\\xb5#\\x99`\\x18\\x84\\x86~\\xf2z}?\\xc6\\xb1a\\xbb\\x8e8\\xbc\\x98X0\\xfe7\\x1f\\xc4}\\xbd\\xaa\\xe4\\x07\\xcc\\x05\\x8bm\\x8d~\\xf3\\x7fA\\xeai\\x81\\xa3n\\xad+\\x13\\x90\\x15~\\xf3\\x1e\\xd5\\xb3\\x08H\\xa3\\xc1\\xf9A\\x1c\\x8e\\xed\\xf5\\xf4\\xfaV]\\xb0\\xc8V\\xdb\\x85\\x1c\\xa2\\x1e\\x7f\\x13\\xeajG\\x8eY\\x0eC\\x13\\x9aR\\x95\\x90%r\\xc5\\xd6\\xac\\x8b\\xf2\\x03\\xd3\\xa0\\x15F\\xe2\\xea8~i\\xd44\\xa7\\x91\\x19\\xe8\\xbe\\xed\\xfe\\x14\\xf9-\\x1a\\xd8nP\\x1a\\x7f\\xef\\x1eB\\x7f\\xf5\\xeb\\x0e\\xfa\\xd2\\xf2F\\xc2\\xa1fc\\xdb\\xa95\\xca\\xf7\\xd4\\xd9lZy\\x05\\xec\\xf9$\\xc9+\\xf1\\xf5\\xad\\x0b\\x1b8\\xa0,\"=8\\x96a\\xff\\x00\\xa0\\xaf\\xf8\\xff\\x00J\\xe7`W\\xd3\\xc4\\x8a\\xec\\xcc\\xc0~\\xfaU\\xed\\x9e\\x91\\xa7\\xb9\\xe7\\'\\xfc\\x9bv\\x9a\\xeb\\x17>bl\\x82\\x05\\xdc\\xdbz\\x01\\xe8=\\xc9\\xe2\\xb7\\x82\\xb33\\x96\\xa7en\\x14*\\xb1\\\\\\x01\\xf7\\x10v\\xf7\\xadkB\\\\s\\xd2\\xb8\\xed;\\xc4q\\xdeL\\x14\\xa9\\x04\\xfeJ\\x07\\xff\\x00Z\\xba=?Q\\x8ac\\xf2\\x1f\\xc2\\xb635%\\x00U\\x17\\x1b\\xd8\\x9ct\\xab\\xac\\xdb\\xd75Y\\xb8SX\\xb7fj\\x96\\x86l\\xef\\xb1\\xaa\\x03r7b\\x8b\\xd6\\x01\\xfa\\xd5\\t\\x1b\\x06\\x92\\xa8\\'\\x03H\\xc9\\x18\\x19$S<\\xf8\\xc7;\\x86=k\\x12\\xe2\\xe5\\xbe\\xe8\\'\\x15Fk\\xc9\\x12\\xd9\\xb2y\\xe7\\x15\\xaa\\x9afn,\\xeaZ\\xee%\\xc7\\xcdU\\'\\xd4\\x15\\x1b\\x19\\xe3\\xb5rO\\xa9\\xca\\xf1\\xe7\\'r\\x8ek2}f\\xe1\\x82\\x06\\x1d\\rW2&\\xcc\\xebn5\\xa5\\x8d\\x99\\x18\\xfd+.\\xe7YT\\x1b\\x83t?\\xa5`\\\\K-\\xc3u\\xe0\\x8c\\x83U\\x9d$`\\x03\\x13R\\xe4\\x87f\\\\\\x9bRuyb\\xdd\\xf3F\\xe7i\\xfe_\\x81\\xa4Gk\\xa8\\x1e\\x01\\x93\\xb8y\\x90\\x11\\xd8\\xf7_\\xe7\\xf8\\x8fz\\xaf-\\xb8W\\x12\\x7fx\\x0c\\xfd@\\xff\\x00\\x0cT\\xf6\\xec\\x11\\x19T\\x90\\xc9\\xf3\\xa6?_\\xf1\\xfc)9\\\\j\"YLal\\x90\\x08#\\x0c\\xa7\\xa3\\x0fCS\\xdc\\xb6\\xc0\\x8f\\x14\\x84\\x0f\\xf9e/u\\xff\\x00e\\xbe\\x9e\\xbf\\xe4T\\xbf\\x1b\\x9dn \\x01R^v\\x8e\\x80\\xf7\\x1f\\xe7\\xd6\\x99kp>h\\xe6\\xcf\\x96\\xfc8\\x1d\\xbd\\x08\\xf7\\x1f\\xe7\\xadE\\x87q\\x971\\x1b\\xb2\\xc7\\xcb\\xd9r\\xbc\\xb2/I\\x07\\xaa\\xfb\\xfb\\x0e\\xbd\\xaa\\x9d\\xbd\\xc4\\x90\\x1c\\xc4\\xc5Xr\\ri\\xbce\\\\D\\xcd\\xfb\\xd4\\xc1\\x8aE?xv\\xc7\\xf3\\x15\\x03\\'\\xdb\\te\\x00N\\xbfxc\\xef\\xfb\\xfb\\x1f_Z\\xb2\\x06\\x0bav\\t\\x80\\x08\\xe5\\xef\\x08\\xe8\\xdf\\xee\\xfb\\xfb~^\\x94\\xc5-4~T\\xe7\\x1b\\x7f\\xd5\\xc9\\x8eW\\xd8\\xfa\\x8f\\xe5RF\\n`\\xe3\\xf1\\x15i\\x94^\\x8d\\xc3\\x8b\\x81\\xd4\\x0f\\xf9i\\xff\\x00\\xd7\\xfe\\x7f^\\xa2ac&\\xe1\\x1d\\t\\xca\\xe1\\x87\\xde\\xe7\\xaf\\xbd29<\\xc5\\xf2\\xe68\\xc7\\xdd~\\xeb\\xed\\xf4\\xfe_\\xce\\xc9\\x7f4}\\x9d\\xce;#z{\\x1fj\\xacl\\x9d$)&A\\x06\\xaa\\xe2\\x1f\\x1d\\xcb\\xc6L\\x171\\x89\\xa1\\xe8T\\x9eG\\xd0\\xd4\\xe9e\\xe5\\x8f:\\xd9\\x8c\\x90z\\x91\\xf3\\'\\xb3\\x0f\\xebJ\\xb0\\x81\\x1a\\x83\\x83\\xb7\\xa1\\xef\\xf4\\xa9m\\xe5ki\\x03\\xa3c\\xd4z\\x8a\\x96\\xc7`\\xda\\xcb\\x83\\xd8\\xd2\\x80\\x01\\xc9\\xab\\x12\\x05\\xb9P\\xd6\\xfc\\x13\\xd6?\\x7fo\\xf0\\xff\\x00\\xf5Uc\\xc2\\xf5\\xe7\\xd2\\x90\\xca\\xf7G\\x8f\\x96\\xaaD\\xf8~j\\xd5\\xc2\\x96Z\\xa1\\x9d\\xad\\xc5Z\\xd8\\x93BW2\\xa0\\xc8\\x04\\x81\\xd7\\xb9\\xaa2\\xc6\\x179\\xa9\\xd5\\x8e\\xde\\xb5\\x0c\\xad\\xbb\\x8a\\x10\\x15\\x1f\\x8a\\x8c\\xb5L\\xeb\\x81U\\xcfZ\\xa1\\x015\\x19\\xebN4\\xd1\\xd6\\x98\\x16\\xad~\\xf0\\xae\\x9fMn\\x95\\xcc\\xdb}\\xe1]\\x1e\\x9ezP\\x07W*\\xb6MBT\\x9a\\xb9>3P\\x1a\\xcc\\xd0\\xab\"`V]\\xf4E\\xd0\\x8a\\xd7\\x90\\xd5Y\\x13x\\xc5&\\xc5c\\x93\\x1a|\\xb2\\xcd\\xb1T\\x92\\xc7\\x00\\x0e\\xf5\\xad\\x1e\\x9c\\xf6\\x90\\x98 ;\\xa4~%\\x90z\\x7ft{z\\x9e\\xf5\\xb5oj-\\xc6\\xfd\\xbf\\xbdq\\xf2\\xff\\x00\\xb2=\\x7f\\x1a\\xb9oh\\xaa\\xc3\\xe5\\xa64P\\xd2\\xf4\\x97\\x7f\\xbe\\xc5PuoO\\xfe\\xbdtP\\xe9\\x9b\\xf6\\xb3\\x9cD\\x9fu3\\xfc\\xe9c\\x89#\\xc6\\x07Z\\x95\\xe7Rv\\xab\\xf0:R\\xbaC\\xb3d\\xf1\\x85\\x88\\x92\\xcd\\xc9\\xa7\\xbd\\xea\\xdb.r7\\xb7A\\xe8=j\\xa2G\\x1c\\xcd\\xbd\\xdc\\x90\\x9d\\xb3\\xd4\\xfaTR\\xc27\\x17bIn\\xa6\\xb1\\x94\\x8d\\x14I^\\xf1\\xdcf2\\t\\xf4\\xa6G\\xa8\\x98\\xb2&\\x1b\\x19\\x86In\\x88\\xbe\\xbfS\\xda\\xa9\\xac\\x02\\xd9\\xda\\xe0\\x12\\xca:\\'\\xf7\\x8d\\x17S,\\xf1\\xec\\x94|\\xe0\\xe5\\xf3\\xdd\\xbf\\xfa\\xdd*U\\xb7*\\xcce\\xdd\\xccWr$p/\\xcb\\x9c(\\xeeI\\xefY\\x9a\\x8c\\x91\\xa0\\x16\\xd0\\x90Q\\x0e\\\\\\x8f\\xe3\\x7f_\\xa0\\xe8?\\xfa\\xf4\\\\n\\xb5\\x86K\\x88\\xce\\xd7 \\xa4\\x7f\\xd4\\xfe_\\xce\\xb3\\xf4X\\xe4\\xbb\\xd4\\x15\\\\\\x12\\xb9\\xc75Q\\x14\\x8e\\x9bG\\x81\\x85\\xa8`\\x832\\x9c\\x02{(\\xeb\\xf9\\x9f\\xe4k\\xa8\\xb2\\x89`\\nB\\xe0\\x9a\\xa7\\x1f\\x95\\x02\\x8d\\xab\\x85\\x03\\x00{U\\x85\\xb9V\\xe7\\xa0\\x02\\xb4R&\\xc6\\xc47\\x01\\xc0\\x19\\xa6\\xdc\\xc9\\x81\\xedY\\x91\\xde*\\xe0/SV\\x1a`\\xc9\\xc9\\xe6\\x94\\x95\\xd0\\xd6\\x86e\\xdb\\x17\\x93\\'\\xa5T\\xb8\\x90\\x02*\\xe5\\xe0\\xc2\\xe6\\xb2\\xe4\\r#\\xf28\\x15\\xce\\xf4f\\x9b\\x90\\xce\\xdbc\\xcfsTn\\x0f\\xeeFz\\xd5\\x9b\\x93\\x99B\\xf6\\x15Jf\\xdd\\x91\\xe9T\\x98\\x9a*\\xa2\\x8f1\\xb3\\xd0\\x8a\\xab,\\nX\\xf1V\\xe7M\\x8e1\\xe9P\\xc8:\\x1c\\xf1TC\\x1a\\xd1\\xaa\\xa2\\xe3\\xd2\\xa9H\\xf8\\xe9\\xd6\\xad;\\x8c\\xe3\\xd2\\xabNWp\\xc0\\xe8sM\\t\\x88\\xd2\\xef]\\xa4t?\\xd0S@1\\xca\\x92\\'%O\\xe7QI(\\x0f\\xd3\\x00\\xf3Hd\\xf9O?\\x8dY%\\x92\\x04bX\\x0b\\xe5G\\xcc\\x9e\\xfd\\xc7\\xe6\\t\\xfcqT$$\\x8d\\xcbVZFh\\xa1\\x94}\\xe48\\xdc=\\xb9\\x07\\xf5\\xfd(\\x96\\x10\\x92\\x16\\\\lq\\xb9G\\xa0=\\xbf\\xa7\\xe1TA\\x1d\\xbb\\xfd\\xae/\\xb3\\xb1\\xfd\\xe2d\\xc4OS\\xea\\xbf\\x8fQ\\xef\\xf5\\xa9\\xe3!\\x97\\xcc\\x0c\\x04\\xb1\\xe0\\x93\\xeb\\xe8~\\xb5Q\\xa4\\x8e6\\x0e\\xbf+)\\xc8#\\xb1\\xa5\\xb9\\xbc\\x00\\xa4\\xf1\\x80RL\\xe4z\\x1f\\xe2\\x1f\\xaf\\xe4i\\xda\\xe2-L\\xc8\\x14K\\x18\\x01\\x1b\\x86\\x03\\xa2\\xb7\\xa7\\xf8\\x7f\\xf5\\xaa\\xb0\\x9f\\xf7\\x9c\\x1a\\xa3\\xe7\\x9by\\xc8o\\x9e#\\xc3\\x0f\\xef)\\xff\\x009\\xa4\\x91DRc~\\xe1\\xd5Xw\\x07\\xa5;\\x05\\xcd[\\x90\\x97*f@<\\xd5\\xe6@?\\x8b\\xfd\\xaf\\xf1\\xfc\\xe9\\xa1\\xbc\\xe83\\x9f\\xdeF?5\\xff\\x00\\xebV\\\\w\\x12E(unW\\xd7\\xbdM4\\xc6\\'Ib$F\\xfc\\xaf\\xb7\\xa8\\xfc)X\\x07\\xb4\\xe0\\x7f\\x15G\\xe7g\\x9c\\xd4\\x17/\\xc8d\\xfb\\xad\\xcf\\xd0\\xfaU_1\\x81\\xa7a\\x1aq\\xde\\xf9m\\xd8\\x8e\\x84z\\xd5\\xa5\\xb8I\\xf0]\\xba\\xf0\\xae{{7\\xf8\\xd6\\x16\\xfc\\xd4\\x90\\xdc\\x98\\x9b\\x18\\xca\\x9e\\xa2\\x9d\\x80\\xd2\\xb9V\\x04\\xa9\\x185\\x9e\\xcb\\xb5\\xaa\\xea\\xdc\\xa9E\\x8eS\\xf2\\x1f\\xf5r\\x7fw\\xd8\\xfb\\x7f\\x9f\\xad97,\\xa5\\\\`\\x8a\\x10\\x12\\xa9\\xf9i\\x8d\\xeb\\x8ax\\x00-\\'\\x079\\xa6\\x059\\xb9\\xa8\\rZ\\x99}*\\xb3qLDmH:\\xd2\\xb1\\xa6\\x8e\\xb4\\xc0\\xbbm\\xd4WC`zW;ly\\x15\\xd0X\\x9e\\x94\\x01\\xd8\\xdc7\\xcdP\\x16\\xa5\\xb8o\\x9a\\xab\\x97\\xac\\x8d\\x07\\xfd\\xe3\\x8a\\xbbc\\xa7\\x1b\\x87\\xc9\\\\\\xa8\\xeb\\xef\\xedL\\xd3\\xad|\\xf9A==\\xeb\\xab\\xb7\\x8e8\\x90*\\x01\\xc7\\xebM+\\x88\\xcdM\\x04\\xc8w\\x13\\xf3\\x1a\\x9f\\xfb%\\xd0`\\x8c\\xe3\\xbdl\\xc4qM\\xb8\\x97\\nqD\\xa3\\xa1H\\xc6kF@N3\\xc5C\\xf6\\x08\\xdf\\x07\\x185<\\xf7\\xa4d\\x1a\\xad\\x15\\xcb3\\x17\\xec8\\x15\\xc8\\xdb\\xb9\\xd0\\x91#\\xd9\\xc6#\\n\\xa7\\xee\\xfe\\xa6\\xa1nP\\x82:T\\xa6d+\\x8c\\xd3<\\xd0\\xa0\\xb7\\x18Q\\x9f\\xc6\\xb3n\\xec\\xb4\\xac\\x8c\\xfb\\xa9\\x9a\\xd9\\xf1\\xd5\\x10`\\x03\\xdd\\x8f\\xf8\\x7fAY\\x0e\\xf2I:\\xa89,p\\x07\\xa9\\xabW\\xf3\\xb3\\x00\\xa4\\xf1\\xcdVD\\n\\xaf)<\\xa2\\xfc\\xbfS\\xc0\\xfe\\xa7\\xf0\\xaaLl\\xa9\\xaa\\xdcn%\\x10\\xfe\\xee1\\xb5}\\xfdO\\xe2y\\xab\\x9e\\x14\\x1bVY\\t\\xce8\\x19\\xf5?\\xe4\\xd6-\\xdbmB\\x0fJ\\xdb\\xd0$E\\xb0P8.\\xc4\\xfd@\\xe0\\x7fZ\\xda;\\\\\\xc2[\\xd8\\xe9\\xdaP\\x13\\x04Uq0\\n\\xe3\\xdb\\xfa\\xd3C\\x82\\xbc\\x9a\\x81\\xe6H\\xb7\\x93\\x83\\xd3\\xf9\\xd4\\xad\\xc6\\xd9w\\xed\\x02$\\x00\\x0c\\xbf\\xf2\\xa2+\\xb7f\\xea@\\x1e\\xb5\\x04[fL\\xd3%\\x90*\\xec\\\\\\x01V\\x99%\\xdb\\x8b\\xe5*\\x06j8f\\x8eS\\xc5b\\xcf8\\xc1;\\xfd\\x85Emt\\xc8\\xe7\\x06\\x86\\xae\\x17\\xb1\\xb1q\\n\\x96,=+)\\xa1`\\xe7=3SI\\x7f\\xb5G=hk\\x85e\\'\\xd2\\xa7\\x96\\xdb\\x0f\\x98\\xa1z\\x8c[\\x8e\\xc2\\xaa\\x1d\\xcd\\x1f\\xd2\\xae\\xdd\\xcc2\\x08\\xf4\\xaaFu\\xcdRD\\xb2\\xa4\\xbc\\x1c\\xe6\\xa3\\xb8u1\\x87^\\xa3\\xad\\x13J\\xaa\\xc4UrJ\\x9e9V\\xaaH\\x96\\xc8\\x9eQ.\\x07zX\\xa3\\xe7\\x12d\\ni\\x84\\xef\\xc8\\x1cT\\x9b\\xb6cq\\xa6M\\x8b(R8$\\x00\\xe4\\x02\\x1b\\xf9\\x8f\\xea*\\xb5\\xe3\\x93m\\x14\\x90\\xbfB\\xc8G\\xea?\\x99\\xa6\\x16!f\\xe3*S\\xfa\\x8a\\x81W}\\xb4\\xe0d\\x15\\xda\\xff\\x00\\xae?\\xf6j\\xb4\\x89l\\xaa\\xd2HO\"\\xa5\\xb7_69a\\xc6K\\r\\xeb\\xcf\\xf1/?\\xcb#\\xf2\\xa8\\xb6\\xbe\\xee\\x99\\xab\\x96\\xb1\\x15\\x91d\\x00\\x86R\\x08\\xa6\\xdd\\x85b\\xa3ohca\\xce2\\xbf\\xd4\\x7f?\\xd2\\x9f\\xb5\\xa6\\xb5+\\x8c<<\\x8e:\\xa9\\xeb\\xf9\\x1e\\x7f\\x13Z\\x93Y\";\\xaa\\x00#b\\x19~\\x9d\\xbf\\x9d$*\\xb1H\\x0e\\x01\\xc7\\x04z\\x8e\\xe2\\x970\\xecc\\x08dc\\x9a\\xbboo\\xbd\\x0c\\x13\\x1c+\\x9c\\xab\\x1f\\xe1o\\xf3\\xc5[\\x92!\\x14\\xa5:\\x80x>\\xa2\\x9a\\xcb\\x83\\xd2\\x8b\\x85\\x8a\\x86\\xcd\\x82<l\\x08e\\xe7\\x07\\xd4u\\xaa\\xe2\\xd0\\xb1\\xe6\\xb6\\x9d\\x83\\xaa\\xcd\\xdf\\xee\\xb7\\xd7\\xff\\x00\\xae*\\x00\\x17<R\\xbb\\x0b\\x19\\x8ff\\xc0qU\\xcc,\\xa7\\x9a\\xdd\\x11\\x96\\x15\\x13\\xdbd\\xf2(\\xe6\\x0b\\x19\\xb0\\x83\\xf7\\x1b\\x95?\\xa7\\xbdX\\x16\\xe4\\x11\\xbb\\x91\\xd8\\xd5\\x95\\xb6Q\\xcd=\\xa3\\xc0\\xebN\\xe0Wd\\x08\\xb5\\x01nzT\\xb30\\'\\x04\\xd5f!x\\x06\\x9a\\x11\\x15\\xc15Q\\x89\\xa9\\xa5b\\xc6\\xa3\\xd8MP\\x88\\xa8\\x15!\\x8c\\xd2\\x88\\xe9\\x80\\xb0>\\xc7\\x19\\xae\\x8bO\\x900\\x04W9\\xb6\\xb4t\\xdb\\x93\\x1c\\x81[\\xa5\\x00w\\x17\\x12\\xe5\\xcdF\\xa7,*)\\x18\\xef5$\\x07\\xe6\\x15\\x89\\xa1\\xd0i\\xa0F\\x80\\x9a\\xdb\\x86AX\\x16\\xa4\\xe0V\\x92;\\x01\\xd6\\xb4B5\\x84\\xe0\\x0cf\\x98\\xee\\x1b#5\\x9e\\x1d\\xbdjTrA\\xcd6\\xc6g\\xeaK\\xc8\\xdaz\\xd1\\x15\\xb9H\\x94g\\x902jy\\x944\\xa34\\xf3\\xc1\\xc7\\xadc\\xc8\\x9d\\xcdy\\x99\\x9d\\x90\\xaeA\\xa6<\\xa1\"#\\xfb\\xc7\\xf9\\x7f\\xfa\\xea\\xe4\\xd1\\xa9\\x04\\xe3\\x9a\\xcc\\xb9\\xe3h\\xfa\\xd7<\\xa3\\xcak\\x19\\\\\\xcf\\xb9+!l\\xb61I!\\xdbg\\x18\\x07\\xef\\x12\\xc7\\xdc\\x0e\\x07\\xf5\\xaa\\xd7\\x84\\xf9\\x86\\x9f4\\x84E\\x1a\\xf6\\x11\\xaf\\xf2\\xcf\\xf5\\xa4\\x95\\xc6\\xd9\\x95\\xa9\\x95\\xd8OJ\\xbb\\xa7\\xdc$pZ\\xa0<\\xf9y\\xff\\x00\\xc7\\x9a\\xb1\\xf5\\x17b\\x87&\\xa5\\xb7b\\x12\\xcf\\x1f\\xf3\\xcb\\xff\\x00gj\\xe8\\x82\\xf7Ny?x\\xeb\\xd6S\\xe5\\xe4\\x1a\\xae\\xf2F\\xec\\xc1\\xfb\\x8f_\\xc7\\xfaUO9\\xd6\\x1e\\x0fje\\x9a\\te\\x0e\\xe4\\x92\\r\\x16\\xb0\\\\\\xd2\\x13\\xaf\\x96\\x167+\\xf4\\xaa77L\\xa8\\xc1_55\\xd2\\x88\\xd3\\xe5\\x18\\xacIG\\xceI$\\xd2J\\xe0\\xdd\\x83\\xed//\\x1f\\xa9\\xab\\xf0\\xb0\\x857\\xb9\\xc9\\xc7j\\xcbA\\xe6\\\\*\\x1f\\xbb\\xe8+NS\\xb1B\\x001\\x8a\\xa6$\\x1e\\x7f\\x9c\\x17\\x03\\x1c\\xd4\\x81\\xf6\\x97\\x07\\xa6)\\x96\\xc0\\x07\\xe9D\\xe7\\x11JGZW\\x19B{\\xcc\\xc9\\xb74\\xc2w\\x8f\\xa8\\xac\\xf2\\xc7\\xed9<\\x9c\\xd5\\x98\\xdc\\xb7S\\xd0\\xd3\\xb17\\xd4]\\xc9(\\xc1\\xeb\\xd2\\x9d\\x0f\\xcb\\xf2\\xb7+T\\xdc\\x95\\xb8 \\x1a\\xbc\\xaa\\x0cd\\xf74\\xd8\\x96\\xa2\\xcc\\x862\\n\\xf2\\rA\\xf2\\xbex\\xfc\\xea_1\\xbc\\xae\\xb9\\xfa\\xd4eF7\\x0e\\x0f\\xb5!\\x8dK\\x88\\xe1\\xde\\xac\\xbc0\\xc7\\xea*\\xd4\\x06\\xdeX\\xa6\\xdb\\x81\\xf2r?\\xe0B\\xb3.\\x06\\xec\\x1e\\xf5\\x14n\\xc9\\r\\xcb)\\xc1\\x08\\x07\\xfe<*\\x92\\xb9-\\xd9\\x9a\\x9ffN\\xc0R\\x15\\x0b\\xde\\xaa\\xdb\\xcf#(\\xc9\\xa6\\xcb3\\xef\\xebK\\x94.hL\\xe7\\xec\\xf11\\x03\\x0b\\x95\\xfe\\xbf\\xd6\\xa9\\xb4\\xe8\\x0ej)e\\x7f\\xb0I\\xcfI\\x17\\xf5\\r\\xfe\\x02\\xb37\\xb1<\\x9a\\xa5\\x11\\\\\\xd9\\x9a\\xe9Lq8\\x1dF\\xd3\\xf5\\x1f\\xfdlT\\x06\\xec\\x8e\\xbd*\\xa2\\x92l\\x9b\\x9e\\x92\\x0c~ \\xe7\\xf9\\n\\x87y\\xe9\\x9e)\\xd8F\\xbd\\xbc\\xf1\\xcaZ,\\x8f\\xde\\x0c\\x0f\\xafo\\xf3\\xefH\\xb2(\\xacp\\xc5\\x1b*pA\\xabRH\\xc2\\xe6@\\x0f\\x19\\xcf\\xe7E\\x82\\xe6\\x88\\x97\\x1d:Pd\\xcf5Adm\\xd8\\xcdYF&\\xa5\\xa1\\xdcy\\x93\\x1c\\xd4/s\\xf3`\\x9a{\\x01\\x83T\\xa4\\xfb\\xf4\\xd2\\x10\\xf9p\\xc3\"\\xab\\xaa\\xe4\\xf3Rd\\x83\\x8aU\\x035B\\x19\\xe4\\xe4\\xd3\\xc4\\x1ct\\xabQ\\xa8\"\\xa5\\x08*\\x80\\xa0`\\xe3\\xa5Fb\"\\xb4\\xf6\\nd\\xb1\\xae:R`fyD\\xf6\\xa4\\x00\\xc6\\xd9\\xefZ\\x08\\x83\\x1d)%\\x89J\\xe7\\x14\\x01\\xff\\xd9'"
      ]
     },
     "execution_count": 57,
     "metadata": {},
     "output_type": "execute_result"
    }
   ],
   "source": [
    "# print the content\n",
    "r.content"
   ]
  },
  {
   "cell_type": "code",
   "execution_count": 58,
   "metadata": {},
   "outputs": [
    {
     "data": {
      "image/jpeg": "[encoded data removed]",
      "text/plain": [
       "<IPython.core.display.Image object>"
      ]
     },
     "metadata": {},
     "output_type": "display_data"
    }
   ],
   "source": [
    "# Use the Image function to display the image\n",
    "display(Image(r.content))"
   ]
  },
  {
   "cell_type": "markdown",
   "metadata": {},
   "source": [
    "### Exercise 1\n",
    "\n",
    "Write a function that takes in the width and height and prints an image"
   ]
  },
  {
   "cell_type": "code",
   "execution_count": null,
   "metadata": {},
   "outputs": [],
   "source": []
  },
  {
   "cell_type": "markdown",
   "metadata": {},
   "source": [
    "### Exercise 2\n",
    "\n",
    "Can you write a loop to show several images?\n"
   ]
  },
  {
   "cell_type": "code",
   "execution_count": null,
   "metadata": {},
   "outputs": [],
   "source": [
    "# Write a loop that shows multiple images\n"
   ]
  },
  {
   "cell_type": "markdown",
   "metadata": {},
   "source": [
    "# Example 2: Getting World Times\n",
    "\n",
    "This example introduces a slightly more complicated API. It also introduces **JSON** which is a very common data format.\n",
    "\n",
    "The API (including some documentation) is at http://worldtimeapi.org/"
   ]
  },
  {
   "cell_type": "code",
   "execution_count": 59,
   "metadata": {},
   "outputs": [
    {
     "name": "stdout",
     "output_type": "stream",
     "text": [
      "b'[\"Africa/Abidjan\",\"Africa/Algiers\",\"Africa/Bissau\",\"Africa/Cairo\",\"Africa/Casablanca\",\"Africa/Ceuta\",\"Africa/El_Aaiun\",\"Africa/Johannesburg\",\"Africa/Juba\",\"Africa/Khartoum\",\"Africa/Lagos\",\"Africa/Maputo\",\"Africa/Monrovia\",\"Africa/Nairobi\",\"Africa/Ndjamena\",\"Africa/Sao_Tome\",\"Africa/Tripoli\",\"Africa/Tunis\",\"Africa/Windhoek\",\"America/Adak\",\"America/Anchorage\",\"America/Araguaina\",\"America/Argentina/Buenos_Aires\",\"America/Argentina/Catamarca\",\"America/Argentina/Cordoba\",\"America/Argentina/Jujuy\",\"America/Argentina/La_Rioja\",\"America/Argentina/Mendoza\",\"America/Argentina/Rio_Gallegos\",\"America/Argentina/Salta\",\"America/Argentina/San_Juan\",\"America/Argentina/San_Luis\",\"America/Argentina/Tucuman\",\"America/Argentina/Ushuaia\",\"America/Asuncion\",\"America/Bahia\",\"America/Bahia_Banderas\",\"America/Barbados\",\"America/Belem\",\"America/Belize\",\"America/Boa_Vista\",\"America/Bogota\",\"America/Boise\",\"America/Cambridge_Bay\",\"America/Campo_Grande\",\"America/Cancun\",\"America/Caracas\",\"America/Cayenne\",\"America/Chicago\",\"America/Chihuahua\",\"America/Ciudad_Juarez\",\"America/Costa_Rica\",\"America/Cuiaba\",\"America/Danmarkshavn\",\"America/Dawson\",\"America/Dawson_Creek\",\"America/Denver\",\"America/Detroit\",\"America/Edmonton\",\"America/Eirunepe\",\"America/El_Salvador\",\"America/Fort_Nelson\",\"America/Fortaleza\",\"America/Glace_Bay\",\"America/Goose_Bay\",\"America/Grand_Turk\",\"America/Guatemala\",\"America/Guayaquil\",\"America/Guyana\",\"America/Halifax\",\"America/Havana\",\"America/Hermosillo\",\"America/Indiana/Indianapolis\",\"America/Indiana/Knox\",\"America/Indiana/Marengo\",\"America/Indiana/Petersburg\",\"America/Indiana/Tell_City\",\"America/Indiana/Vevay\",\"America/Indiana/Vincennes\",\"America/Indiana/Winamac\",\"America/Inuvik\",\"America/Iqaluit\",\"America/Jamaica\",\"America/Juneau\",\"America/Kentucky/Louisville\",\"America/Kentucky/Monticello\",\"America/La_Paz\",\"America/Lima\",\"America/Los_Angeles\",\"America/Maceio\",\"America/Managua\",\"America/Manaus\",\"America/Martinique\",\"America/Matamoros\",\"America/Mazatlan\",\"America/Menominee\",\"America/Merida\",\"America/Metlakatla\",\"America/Mexico_City\",\"America/Miquelon\",\"America/Moncton\",\"America/Monterrey\",\"America/Montevideo\",\"America/New_York\",\"America/Nome\",\"America/Noronha\",\"America/North_Dakota/Beulah\",\"America/North_Dakota/Center\",\"America/North_Dakota/New_Salem\",\"America/Nuuk\",\"America/Ojinaga\",\"America/Panama\",\"America/Paramaribo\",\"America/Phoenix\",\"America/Port-au-Prince\",\"America/Porto_Velho\",\"America/Puerto_Rico\",\"America/Punta_Arenas\",\"America/Rankin_Inlet\",\"America/Recife\",\"America/Regina\",\"America/Resolute\",\"America/Rio_Branco\",\"America/Santarem\",\"America/Santiago\",\"America/Santo_Domingo\",\"America/Sao_Paulo\",\"America/Scoresbysund\",\"America/Sitka\",\"America/St_Johns\",\"America/Swift_Current\",\"America/Tegucigalpa\",\"America/Thule\",\"America/Tijuana\",\"America/Toronto\",\"America/Vancouver\",\"America/Whitehorse\",\"America/Winnipeg\",\"America/Yakutat\",\"Antarctica/Casey\",\"Antarctica/Davis\",\"Antarctica/Macquarie\",\"Antarctica/Mawson\",\"Antarctica/Palmer\",\"Antarctica/Rothera\",\"Antarctica/Troll\",\"Asia/Almaty\",\"Asia/Amman\",\"Asia/Anadyr\",\"Asia/Aqtau\",\"Asia/Aqtobe\",\"Asia/Ashgabat\",\"Asia/Atyrau\",\"Asia/Baghdad\",\"Asia/Baku\",\"Asia/Bangkok\",\"Asia/Barnaul\",\"Asia/Beirut\",\"Asia/Bishkek\",\"Asia/Chita\",\"Asia/Choibalsan\",\"Asia/Colombo\",\"Asia/Damascus\",\"Asia/Dhaka\",\"Asia/Dili\",\"Asia/Dubai\",\"Asia/Dushanbe\",\"Asia/Famagusta\",\"Asia/Gaza\",\"Asia/Hebron\",\"Asia/Ho_Chi_Minh\",\"Asia/Hong_Kong\",\"Asia/Hovd\",\"Asia/Irkutsk\",\"Asia/Jakarta\",\"Asia/Jayapura\",\"Asia/Jerusalem\",\"Asia/Kabul\",\"Asia/Kamchatka\",\"Asia/Karachi\",\"Asia/Kathmandu\",\"Asia/Khandyga\",\"Asia/Kolkata\",\"Asia/Krasnoyarsk\",\"Asia/Kuching\",\"Asia/Macau\",\"Asia/Magadan\",\"Asia/Makassar\",\"Asia/Manila\",\"Asia/Nicosia\",\"Asia/Novokuznetsk\",\"Asia/Novosibirsk\",\"Asia/Omsk\",\"Asia/Oral\",\"Asia/Pontianak\",\"Asia/Pyongyang\",\"Asia/Qatar\",\"Asia/Qostanay\",\"Asia/Qyzylorda\",\"Asia/Riyadh\",\"Asia/Sakhalin\",\"Asia/Samarkand\",\"Asia/Seoul\",\"Asia/Shanghai\",\"Asia/Singapore\",\"Asia/Srednekolymsk\",\"Asia/Taipei\",\"Asia/Tashkent\",\"Asia/Tbilisi\",\"Asia/Tehran\",\"Asia/Thimphu\",\"Asia/Tokyo\",\"Asia/Tomsk\",\"Asia/Ulaanbaatar\",\"Asia/Urumqi\",\"Asia/Ust-Nera\",\"Asia/Vladivostok\",\"Asia/Yakutsk\",\"Asia/Yangon\",\"Asia/Yekaterinburg\",\"Asia/Yerevan\",\"Atlantic/Azores\",\"Atlantic/Bermuda\",\"Atlantic/Canary\",\"Atlantic/Cape_Verde\",\"Atlantic/Faroe\",\"Atlantic/Madeira\",\"Atlantic/South_Georgia\",\"Atlantic/Stanley\",\"Australia/Adelaide\",\"Australia/Brisbane\",\"Australia/Broken_Hill\",\"Australia/Darwin\",\"Australia/Eucla\",\"Australia/Hobart\",\"Australia/Lindeman\",\"Australia/Lord_Howe\",\"Australia/Melbourne\",\"Australia/Perth\",\"Australia/Sydney\",\"CET\",\"CST6CDT\",\"EET\",\"EST\",\"EST5EDT\",\"Etc/GMT\",\"Etc/GMT+1\",\"Etc/GMT+10\",\"Etc/GMT+11\",\"Etc/GMT+12\",\"Etc/GMT+2\",\"Etc/GMT+3\",\"Etc/GMT+4\",\"Etc/GMT+5\",\"Etc/GMT+6\",\"Etc/GMT+7\",\"Etc/GMT+8\",\"Etc/GMT+9\",\"Etc/GMT-1\",\"Etc/GMT-10\",\"Etc/GMT-11\",\"Etc/GMT-12\",\"Etc/GMT-13\",\"Etc/GMT-14\",\"Etc/GMT-2\",\"Etc/GMT-3\",\"Etc/GMT-4\",\"Etc/GMT-5\",\"Etc/GMT-6\",\"Etc/GMT-7\",\"Etc/GMT-8\",\"Etc/GMT-9\",\"Etc/UTC\",\"Europe/Andorra\",\"Europe/Astrakhan\",\"Europe/Athens\",\"Europe/Belgrade\",\"Europe/Berlin\",\"Europe/Brussels\",\"Europe/Bucharest\",\"Europe/Budapest\",\"Europe/Chisinau\",\"Europe/Dublin\",\"Europe/Gibraltar\",\"Europe/Helsinki\",\"Europe/Istanbul\",\"Europe/Kaliningrad\",\"Europe/Kirov\",\"Europe/Kyiv\",\"Europe/Lisbon\",\"Europe/London\",\"Europe/Madrid\",\"Europe/Malta\",\"Europe/Minsk\",\"Europe/Moscow\",\"Europe/Paris\",\"Europe/Prague\",\"Europe/Riga\",\"Europe/Rome\",\"Europe/Samara\",\"Europe/Saratov\",\"Europe/Simferopol\",\"Europe/Sofia\",\"Europe/Tallinn\",\"Europe/Tirane\",\"Europe/Ulyanovsk\",\"Europe/Vienna\",\"Europe/Vilnius\",\"Europe/Volgograd\",\"Europe/Warsaw\",\"Europe/Zurich\",\"HST\",\"Indian/Chagos\",\"Indian/Maldives\",\"Indian/Mauritius\",\"MET\",\"MST\",\"MST7MDT\",\"PST8PDT\",\"Pacific/Apia\",\"Pacific/Auckland\",\"Pacific/Bougainville\",\"Pacific/Chatham\",\"Pacific/Easter\",\"Pacific/Efate\",\"Pacific/Fakaofo\",\"Pacific/Fiji\",\"Pacific/Galapagos\",\"Pacific/Gambier\",\"Pacific/Guadalcanal\",\"Pacific/Guam\",\"Pacific/Honolulu\",\"Pacific/Kanton\",\"Pacific/Kiritimati\",\"Pacific/Kosrae\",\"Pacific/Kwajalein\",\"Pacific/Marquesas\",\"Pacific/Nauru\",\"Pacific/Niue\",\"Pacific/Norfolk\",\"Pacific/Noumea\",\"Pacific/Pago_Pago\",\"Pacific/Palau\",\"Pacific/Pitcairn\",\"Pacific/Port_Moresby\",\"Pacific/Rarotonga\",\"Pacific/Tahiti\",\"Pacific/Tarawa\",\"Pacific/Tongatapu\",\"WET\"]'\n"
     ]
    }
   ],
   "source": [
    "# Download list of time zones\n",
    "r = requests.get(\"http://worldtimeapi.org/api/timezone\")\n",
    "print(r.content)"
   ]
  },
  {
   "cell_type": "markdown",
   "metadata": {},
   "source": [
    "### Exercise 3\n",
    "\n",
    "Use the .json() function to get the response converted to a dictionary or list"
   ]
  },
  {
   "cell_type": "code",
   "execution_count": null,
   "metadata": {},
   "outputs": [],
   "source": [
    "# Use the .json() function to get the response converted to a dictionary or list\n",
    "# What did it return?\n"
   ]
  },
  {
   "cell_type": "markdown",
   "metadata": {},
   "source": [
    "### Exercise 4\n",
    "\n",
    "Get the time for your time zone"
   ]
  },
  {
   "cell_type": "code",
   "execution_count": null,
   "metadata": {},
   "outputs": [],
   "source": [
    "# Your code here\n"
   ]
  },
  {
   "cell_type": "markdown",
   "metadata": {},
   "source": [
    "### Exercise 5\n",
    "\n",
    "Get the time for your IP address"
   ]
  },
  {
   "cell_type": "code",
   "execution_count": null,
   "metadata": {},
   "outputs": [],
   "source": [
    "# Get the time for your IP address\n"
   ]
  },
  {
   "cell_type": "markdown",
   "metadata": {},
   "source": [
    "# Example 3: Getting Wikipedia pages\n",
    "\n",
    "Wikipedia also has an open API, and I want to use it to show one other tip for using the `requests` library; many APIs will take in a set of parameters, which you can pass as a parameter dictionary.\n",
    "\n",
    "The documentation for the very extensive API is [here](https://www.mediawiki.org/wiki/API:Main_page). Many of the operations require you to authenticate (which we will cover next), but some things, like getting the content of a page, do not.\n",
    "\n",
    "For example, the following code gets the recent changes to Wikipedia."
   ]
  },
  {
   "cell_type": "code",
   "execution_count": 62,
   "metadata": {},
   "outputs": [],
   "source": [
    "import requests\n",
    "\n",
    "endpt = 'https://en.wikipedia.org/w/api.php'\n",
    "\n",
    "\n",
    "def get_last_pages_changed(n):\n",
    "    params = {'action': 'query',\n",
    "          'format': 'json',\n",
    "          'list': 'recentchanges',\n",
    "          'rcnamespace': '0',\n",
    "          'rclimit': n}\n",
    "    r = requests.get(endpt, params=params)\n",
    "    #print(r.json())\n",
    "    #print(r.json()['query']['recentchanges'])\n",
    "    result = []\n",
    "    content = r.json()['query']['recentchanges']\n",
    "    for page in content:\n",
    "        result.append(page['title'])\n",
    "    return result"
   ]
  },
  {
   "cell_type": "code",
   "execution_count": 63,
   "metadata": {},
   "outputs": [
    {
     "data": {
      "text/plain": [
       "['Félix Goethals',\n",
       " 'Unterseeboot UC-48',\n",
       " 'Union de défense économique',\n",
       " 'Linéo de Toulouse',\n",
       " 'Cataleptoneta semipinnata',\n",
       " 'Dominik Szoboszlai',\n",
       " 'Liste des municipalités du Veracruz',\n",
       " 'Rhiannon Giddens',\n",
       " 'Erwan Nicolas',\n",
       " 'Fantômes - Histoires troubles',\n",
       " 'Kelly Marot',\n",
       " 'Trio à cordes de Roussel',\n",
       " 'Masakazu Kusakabe',\n",
       " 'Hussein Badreddine al-Houthi',\n",
       " 'Rick Rescorla',\n",
       " 'Umbañ U Kset',\n",
       " 'Scytodes zapatana',\n",
       " 'Valensole',\n",
       " 'Fantômes - Histoires troubles',\n",
       " 'Château de Lormont']"
      ]
     },
     "execution_count": 63,
     "metadata": {},
     "output_type": "execute_result"
    }
   ],
   "source": [
    "get_last_pages_changed(n = 20)"
   ]
  },
  {
   "cell_type": "markdown",
   "metadata": {},
   "source": [
    "## Exercise 6\n",
    "\n",
    "Review the documentation (and Google) to see if you can figure out how to get a list of the last users who edited the most recently edited Wikipedia page.\n",
    "\n",
    "The function below will get you partway there. It takes in an article name, and give you the last edits.\n",
    "\n",
    "You should:\n",
    "* Use the get_last_pages_changed function and extract the last page changed\n",
    "* Use the get_edits function to get the last edits of that page\n",
    "* Extract the user names from the edits and make a list of them\n",
    "\n",
    "### Bonus challenge\n",
    "\n",
    "If you are feeling really courageous, figure out how to get all of the edits/editors for a page, not just the last 500.\n"
   ]
  },
  {
   "cell_type": "code",
   "execution_count": null,
   "metadata": {},
   "outputs": [],
   "source": [
    "## Your code here\n",
    "\n",
    "def get_edits(title):\n",
    "    params = {'action':'query',\n",
    "         'prop':'revisions',\n",
    "         'titles': title,\n",
    "              'format': 'json',\n",
    "          'rvlimit': 500,\n",
    "          'rvprop': 'user|timestamp'\n",
    "         }\n",
    "    r = requests.get(endpt, params=params)\n",
    "    print(r.json())\n",
    "    \n",
    "get_edits('Purdue University')"
   ]
  },
  {
   "cell_type": "markdown",
   "metadata": {},
   "source": [
    "# Example 4: Intro to Reddit API\n",
    "\n",
    "## Setup\n",
    "In order to use the Reddit API, you need to do two things:\n",
    "\n",
    "1. Install [PRAW](https://praw.readthedocs.io/en/stable/) (the Python Reddit API Wrapper). This is a python library designed to make it easier to use the API (rather than using `requests` directly).\n",
    "\n",
    "You can install PRAW in the terminal using `conda install -c conda-forge praw` or `pip install praw`\n",
    "\n",
    "2. To use the Reddit API, you need to be authenticated, and so you need a Reddit account. You also need to create an app [This page](https://wiki.communitydata.science/Intro_to_Programming_and_Data_Science_(Fall_2023)/Reddit_authentication_setup) explains how to get a developer account, create an app, and get the `client_id` and `client_secret`.\n",
    "\n",
    "Once you have your client keys, you should create a file called `reddit_authentication.py` in the same directory as this file. It should contain the following (replace the fake strings below with the corresponding info from your Reddit app):\n",
    "\n",
    "```\n",
    "client_id = \"_anb-dsxipuqf7jA9wzeMqZ\"\n",
    "client_secret = \"4kXxiBOFdPY1HBw4843sgm6oiTYbWkFgz\"\n",
    "user_agent = \"python:COM 674 class project:v1.0 (by /u/yourusername)\"\n",
    "username = \"yourusername\"\n",
    "password = \"yourpassword\"\n",
    "```\n",
    "\n",
    "In general, it is a good practice to keep your keys (which should be secret) separate from your code, which you can share. In this case, we put them in a different file and then import them."
   ]
  },
  {
   "cell_type": "markdown",
   "metadata": {},
   "source": [
    "## Using PRAW\n",
    "\n",
    "When using PRAW, we need to authenticate. For more complicated APIs, like the Reddit API, it's important for the server to know who is makin the request, so they know what information to receive. Authentication means proving you are who you say you are.\n",
    "\n",
    "In PRAW, we create a `Reddit` object, which handles authentication and other things. It's basically creating an authenticated session, similar to when you log into a website.\n",
    "\n",
    "Here, we'll import the PRAW library and our authentication info from the reddit_authenticaton file. Note that there are some things you can do with the API without authenticating, but the rate limit is much higher if you are authenticated. (100 queries per minute vs 10 queries per minute)"
   ]
  },
  {
   "cell_type": "code",
   "execution_count": null,
   "metadata": {},
   "outputs": [],
   "source": [
    "import praw\n",
    "import reddit_authentication\n",
    "\n",
    "# Create an instance called reddit. We'll use this to call the API.\n",
    "reddit = praw.Reddit(client_id=reddit_authentication.client_id,\n",
    "                     client_secret=reddit_authentication.client_secret,\n",
    "                    user_agent = reddit_authentication.user_agent,\n",
    "                    username = reddit_authentication.username,\n",
    "                    password = reddit_authentication.password)"
   ]
  },
  {
   "cell_type": "markdown",
   "metadata": {},
   "source": [
    "The Reddit API is powerful and complicated. We'll just do a few simple things here.\n",
    "\n",
    "The [full documentation is here](https://praw.readthedocs.io/en/stable/) if you want to explore more.\n",
    "\n",
    "For now, we'll show how to get the top subreddits on a topic, and how to explore the comments from a given subreddit.\n",
    "\n",
    "First, let's find the top 10 Purdue-related subreddits."
   ]
  },
  {
   "cell_type": "code",
   "execution_count": null,
   "metadata": {},
   "outputs": [],
   "source": [
    "# The top 10 Purdue-related subreddits, according to reddit's search\n",
    "top_purdue_subs = [x for x in reddit.subreddits.search('Purdue')][:10]"
   ]
  },
  {
   "cell_type": "code",
   "execution_count": null,
   "metadata": {},
   "outputs": [],
   "source": [
    "for s in top_purdue_subs:\n",
    "    print(f\"Name: {s.display_name}\\t\\tSubscribers: {s.subscribers}\")"
   ]
  },
  {
   "cell_type": "markdown",
   "metadata": {},
   "source": [
    "I used the `.display_name` and `.subscribers` attributes of the subreddits. To see what is part of an object (like these subreddit objects), you can use the `dir` function."
   ]
  },
  {
   "cell_type": "code",
   "execution_count": null,
   "metadata": {},
   "outputs": [],
   "source": [
    "dir(top_purdue_subs[0])"
   ]
  },
  {
   "cell_type": "markdown",
   "metadata": {},
   "source": [
    "## Our small project\n",
    "\n",
    "Let's say that our goal is to identify the redditors who have been most active recently on the Purdue subreddit, and to see what other subreddits they are active on."
   ]
  },
  {
   "cell_type": "code",
   "execution_count": null,
   "metadata": {},
   "outputs": [],
   "source": [
    "commenters = {}\n",
    "\n",
    "for comment in reddit.subreddit('Purdue').comments(limit=3000):\n",
    "    if comment.author in commenters:\n",
    "        commenters[comment.author] += 1\n",
    "    else:\n",
    "        commenters[comment.author] = 1\n",
    "        "
   ]
  },
  {
   "cell_type": "markdown",
   "metadata": {},
   "source": [
    "Note that when we look at our dictionary, we actually saved all of the Redditor objects for the authors. This makes it a little bit simpler to get information about those users later, but we could have also saved their usernames instead."
   ]
  },
  {
   "cell_type": "code",
   "execution_count": null,
   "metadata": {},
   "outputs": [],
   "source": [
    "commenters"
   ]
  },
  {
   "cell_type": "markdown",
   "metadata": {},
   "source": [
    "## Exercises 7 and 8\n",
    "\n",
    "7. Improve my code above so that it only gets comments if they have a positive score.\n",
    "\n",
    "8. See if you can figure out how to get the \"comment karma\" for each of the users in our dictionary, and print out the top 10 users by comment karma."
   ]
  },
  {
   "cell_type": "markdown",
   "metadata": {},
   "source": [
    "### Getting the top users by number of comments\n",
    "\n",
    "Ok, so let's look at the top 100 users by the number of comments posted. We can do this a few ways. One way is to use the `sorted` function on a dictionary. This will sort the keys of the dictionary by the value of the dictionary. We can then use the `reverse` parameter to sort in descending order."
   ]
  },
  {
   "cell_type": "code",
   "execution_count": null,
   "metadata": {},
   "outputs": [],
   "source": [
    "# Sort commenters dictionary by value\n",
    "sorted_commenters = sorted(commenters.items(), key=lambda x: x[1], reverse=True)"
   ]
  },
  {
   "cell_type": "code",
   "execution_count": null,
   "metadata": {},
   "outputs": [],
   "source": [
    "top_commenters = sorted_commenters[:100]"
   ]
  },
  {
   "cell_type": "markdown",
   "metadata": {},
   "source": [
    "I happen to know that AutoModerator is a bot, so let's remove that from our list."
   ]
  },
  {
   "cell_type": "code",
   "execution_count": null,
   "metadata": {},
   "outputs": [],
   "source": [
    "top_commenters = top_commenters[1:]"
   ]
  },
  {
   "cell_type": "markdown",
   "metadata": {},
   "source": [
    "### Getting the top subreddits that our users are active on"
   ]
  },
  {
   "cell_type": "code",
   "execution_count": null,
   "metadata": {},
   "outputs": [],
   "source": [
    "subreddits = {}\n",
    "\n",
    "for commenter in top_commenters:\n",
    "    user = commenter[0]\n",
    "    # Get the user's 100 most recent comments\n",
    "    for comment in user.comments.new(limit=100):\n",
    "        subreddit = comment.subreddit.display_name\n",
    "        if subreddit == 'Purdue':\n",
    "            continue\n",
    "        if subreddit in subreddits:\n",
    "            subreddits[subreddit] += 1\n",
    "        else:\n",
    "            subreddits[subreddit] = 1"
   ]
  },
  {
   "cell_type": "markdown",
   "metadata": {},
   "source": [
    "### A note on rate limits\n",
    "\n",
    "You may have noticed that that took a long time. That's because we are making a lot of requests to the Reddit API. The Reddit API has a rate limit of 100 requests per minute. If you go over the limit, then Reddit sends you a message asking you to wait. PRAW actually handles this without our intervention, but it does mean that it's hard to tell how long things will take. One approach is to at least print out the commenter name, for example, so you can tell how quickly the queries are running. If they are going too slowly, then you may want to change the limits. For example, we got 100 comments per user in this code, but that may take multiple queries, so reducing that number could speed things up.\n",
    "\n",
    "When using other libraries, including `requests`, you will often have to write code to handle rate limits yourself."
   ]
  },
  {
   "cell_type": "markdown",
   "metadata": {},
   "source": [
    "### Sorting the subreddits\n",
    "\n",
    "Let's just do the same thing we did before, but this time sort the subreddits by the number of comments."
   ]
  },
  {
   "cell_type": "code",
   "execution_count": null,
   "metadata": {},
   "outputs": [],
   "source": [
    "sorted_subreddits = sorted(subreddits.items(), key=lambda x: x[1], reverse=True)"
   ]
  },
  {
   "cell_type": "code",
   "execution_count": null,
   "metadata": {},
   "outputs": [],
   "source": [
    "sorted_subreddits[:20]"
   ]
  },
  {
   "cell_type": "markdown",
   "metadata": {},
   "source": [
    "## Exercise 9 (Challenge Exercise)\n",
    "\n",
    "Instead of storing the number of total comments per subreddit, store the number of our top_commenters who contribute to each subreddit. In other words, if User A comments on Subreddit A twice, my code counts that twice. Instead, I want to count that only once.\n",
    "\n",
    "Hint: This is tricky. One approach would be to make a list of subreddits that each commenter has commented in, and then change that into a set. "
   ]
  },
  {
   "cell_type": "markdown",
   "metadata": {},
   "source": [
    "## Additional Exercises\n",
    "\n",
    "10. Get the last comments across all subreddits. Figure out which subreddits were most actively commented in.\n",
    "11. Get the last comments across all subreddits. Figure out which users were most active.\n",
    "12. Find the top 5 posts on the Purdue subreddit over the last year ([HINT](https://praw.readthedocs.io/en/stable/code_overview/models/subreddit.html#praw.models.Subreddit.top)). Get all of the comments for each of those posts."
   ]
  }
 ],
 "metadata": {
  "kernelspec": {
   "display_name": "teaching",
   "language": "python",
   "name": "python3"
  },
  "language_info": {
   "codemirror_mode": {
    "name": "ipython",
    "version": 3
   },
   "file_extension": ".py",
   "mimetype": "text/x-python",
   "name": "python",
   "nbconvert_exporter": "python",
   "pygments_lexer": "ipython3",
   "version": "3.9.16"
  }
 },
 "nbformat": 4,
 "nbformat_minor": 4
}
