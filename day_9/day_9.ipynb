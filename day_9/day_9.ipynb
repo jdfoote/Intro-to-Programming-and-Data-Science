{
 "cells": [
  {
   "cell_type": "markdown",
   "metadata": {},
   "source": [
    "## Using APIs in Projects\n",
    "\n",
    "\n",
    "When getting data from APIs, I strongly suggest following a three-step workflow:\n",
    "\n",
    "1. Write some code that gets data from an API and saves all of the data (if possible) to a file\n",
    "2. Write a second program (usually a second file) that loads the data from the API, extracts the data that will be useful for analysis, and saves it in a flat file (typically a CSV).\n",
    "3. Program number 3 loads the CSV file and does the analysis\n",
    "\n",
    "This approach has a few important benefits.\n",
    "\n",
    "The first and most important is that often it is difficult to get the same raw data again. If you are using Twitter, then the Search API only lets you get the last week. If you are doing analysis a month down the road and decide that you really wish you had saved metadata about the number of retweets, it is too late. By saving the raw data you can change your measures or analysis strategy and still have access to the data.\n",
    "\n",
    "The second is that this gives you a nice pipeline, with intermediate files. Instead of including the entire raw data file in the code that does analysis, you only have to load the CSV, which is often much smaller and easier to work with.\n",
    "\n",
    "This brief lesson will show an example of this workflow, using `tweepy`.\n",
    "\n",
    "Note that I'm going to put everything in one file for convenience, but my typical workflow is to put these in separate files and then run each file separately."
   ]
  },
  {
   "cell_type": "markdown",
   "metadata": {},
   "source": [
    "## Program 1 - Data Retrieval\n",
    "\n",
    "The goal of our project is to produce a visualization of the histogram of the number of retweets for recent tweets about President Trump. The first program gets tweets about President Trump.\n",
    "\n",
    "Older versions of tweepy made it easier to get the JSON returned by "
   ]
  },
  {
   "cell_type": "code",
   "execution_count": 111,
   "metadata": {},
   "outputs": [],
   "source": [
    "import tweepy\n",
    "import json\n",
    "import requests\n",
    "from twitter_authentication import bearer_token\n",
    "import pandas as pd\n",
    "import time\n",
    "\n",
    "client = tweepy.Client(bearer_token, \n",
    "                       return_type=dict, # Without this, tweepy returns an object-based response\n",
    "                       wait_on_rate_limit=True\n",
    "                      )"
   ]
  },
  {
   "cell_type": "code",
   "execution_count": 113,
   "metadata": {},
   "outputs": [],
   "source": [
    "with open('raw_trump_tweets.txt', 'w') as f: # By opening with 'a' (for append) we can write to this file again\n",
    "                                            # e.g., if we need to restart data collection.\n",
    "    num_tweets = 4000\n",
    "    tweet_count = 0\n",
    "    next_token = None\n",
    "    \n",
    "    while tweet_count < num_tweets:\n",
    "        response = client.search_recent_tweets(\n",
    "            query='Trump -is:retweet', \n",
    "            user_fields = ['username', 'public_metrics', 'description', 'location'],\n",
    "            tweet_fields = ['created_at', 'geo', 'public_metrics', 'text'],\n",
    "            expansions = 'author_id',\n",
    "            next_token = next_token,\n",
    "            max_results=100)\n",
    "        \n",
    "        next_token = response['meta']['next_token'] # get the \"next token\", which gives us the next page\n",
    "        tweets = response['data']\n",
    "        tweet_count += len(tweets)\n",
    "        \n",
    "        f.write(json.dumps(response)+ '\\n') # Write each response's JSON as a new line\n",
    "        time.sleep(.5)"
   ]
  },
  {
   "cell_type": "markdown",
   "metadata": {},
   "source": [
    "## Program 2 - Data Cleaning\n",
    "\n",
    "This program loads the saved raw data, grabs what we want, and converts it into a pandas dataframe and a CSV.\n",
    "\n",
    "I decided to save the timestamp, text, and retweet and favorite counts, together with the public metrics about the author. Tweepy puts author info in an \"includes\" dictionary, so we have to extract it from there.\n",
    "\n",
    "This is also where you typically would do more complicated measure creation. Here I show how to create a measure of tweet_length."
   ]
  },
  {
   "cell_type": "code",
   "execution_count": 96,
   "metadata": {},
   "outputs": [],
   "source": [
    "with open('raw_trump_tweets.txt', 'r') as f:\n",
    "    responses = []\n",
    "    for line in f.readlines():\n",
    "        responses.append(json.loads(line))"
   ]
  },
  {
   "cell_type": "code",
   "execution_count": 105,
   "metadata": {},
   "outputs": [],
   "source": [
    "result = []\n",
    "user_dict = {}\n",
    "# Loop through each response object\n",
    "for response in responses:\n",
    "    # Take all of the users, and put them into a dictionary of dictionaries with the info we want to keep\n",
    "    for user in response['includes']['users']:\n",
    "        user_dict[user['id']] = {'username': user['username'], \n",
    "                              'followers': user['public_metrics']['followers_count'],\n",
    "                              'tweets': user['public_metrics']['tweet_count']\n",
    "                             }\n",
    "    for tweet in response['data']:\n",
    "        # For each tweet, find the author's information\n",
    "        author_info = user_dict[tweet['author_id']]\n",
    "        # Put all of the information we want to keep in a single dictionary for each tweet\n",
    "        result.append({'author_id': tweet['author_id'], \n",
    "                       'username': author_info['username'],\n",
    "                       'author_followers': author_info['followers'],\n",
    "                       'author_tweets': author_info['tweets'],\n",
    "                       'text': tweet['text'],\n",
    "                       'created_at': tweet['created_at'],\n",
    "                       'retweets': tweet['public_metrics']['retweet_count'],\n",
    "                       'likes': tweet['public_metrics']['like_count'],\n",
    "                       'tweet_length': len(tweet['text'])\n",
    "                      })\n",
    "df = pd.DataFrame(result)\n",
    "df.to_csv('cleaned_data.csv', index=False)"
   ]
  },
  {
   "cell_type": "markdown",
   "metadata": {},
   "source": [
    "## Program 3 - Data Analysis\n",
    "\n",
    "Here we use pandas to load the data and analyze it. This could include statistical tests. Here, I'm just visualizing the distribution of retweets and the relationship between retweets and length."
   ]
  },
  {
   "cell_type": "code",
   "execution_count": 88,
   "metadata": {},
   "outputs": [],
   "source": [
    "import pandas as pd\n",
    "import seaborn as sns"
   ]
  },
  {
   "cell_type": "code",
   "execution_count": 106,
   "metadata": {},
   "outputs": [],
   "source": [
    "df = pd.read_csv('./cleaned_data.csv')"
   ]
  },
  {
   "cell_type": "code",
   "execution_count": 99,
   "metadata": {},
   "outputs": [
    {
     "data": {
      "text/html": [
       "<div>\n",
       "<style scoped>\n",
       "    .dataframe tbody tr th:only-of-type {\n",
       "        vertical-align: middle;\n",
       "    }\n",
       "\n",
       "    .dataframe tbody tr th {\n",
       "        vertical-align: top;\n",
       "    }\n",
       "\n",
       "    .dataframe thead th {\n",
       "        text-align: right;\n",
       "    }\n",
       "</style>\n",
       "<table border=\"1\" class=\"dataframe\">\n",
       "  <thead>\n",
       "    <tr style=\"text-align: right;\">\n",
       "      <th></th>\n",
       "      <th>author_id</th>\n",
       "      <th>username</th>\n",
       "      <th>author_followers</th>\n",
       "      <th>author_tweets</th>\n",
       "      <th>text</th>\n",
       "      <th>created_at</th>\n",
       "      <th>retweets</th>\n",
       "      <th>likes</th>\n",
       "    </tr>\n",
       "  </thead>\n",
       "  <tbody>\n",
       "    <tr>\n",
       "      <th>0</th>\n",
       "      <td>1581058910131310593</td>\n",
       "      <td>EricJenson19</td>\n",
       "      <td>339</td>\n",
       "      <td>307</td>\n",
       "      <td>https://t.co/RoRVmrTjGM</td>\n",
       "      <td>2022-10-21T02:06:37.000Z</td>\n",
       "      <td>0</td>\n",
       "      <td>0</td>\n",
       "    </tr>\n",
       "    <tr>\n",
       "      <th>1383</th>\n",
       "      <td>1076628188187418624</td>\n",
       "      <td>Boris4T</td>\n",
       "      <td>1383</td>\n",
       "      <td>24561</td>\n",
       "      <td>@atrupar I dont think Joe actually won. He mus...</td>\n",
       "      <td>2022-10-21T01:56:36.000Z</td>\n",
       "      <td>0</td>\n",
       "      <td>0</td>\n",
       "    </tr>\n",
       "    <tr>\n",
       "      <th>1382</th>\n",
       "      <td>22265551</td>\n",
       "      <td>elBryan</td>\n",
       "      <td>830</td>\n",
       "      <td>30747</td>\n",
       "      <td>@jstoner44 If I was reading tweets about why a...</td>\n",
       "      <td>2022-10-21T01:56:37.000Z</td>\n",
       "      <td>0</td>\n",
       "      <td>0</td>\n",
       "    </tr>\n",
       "    <tr>\n",
       "      <th>1381</th>\n",
       "      <td>1551407677145849856</td>\n",
       "      <td>Figgy02619217</td>\n",
       "      <td>15</td>\n",
       "      <td>278</td>\n",
       "      <td>@tedcruz Nah. You are propaganda and all hail ...</td>\n",
       "      <td>2022-10-21T01:56:37.000Z</td>\n",
       "      <td>0</td>\n",
       "      <td>0</td>\n",
       "    </tr>\n",
       "    <tr>\n",
       "      <th>1380</th>\n",
       "      <td>1550273806794739718</td>\n",
       "      <td>MurphysHoodad</td>\n",
       "      <td>64</td>\n",
       "      <td>2881</td>\n",
       "      <td>@RonFilipkowski Trump really hurt him with the...</td>\n",
       "      <td>2022-10-21T01:56:38.000Z</td>\n",
       "      <td>0</td>\n",
       "      <td>0</td>\n",
       "    </tr>\n",
       "    <tr>\n",
       "      <th>...</th>\n",
       "      <td>...</td>\n",
       "      <td>...</td>\n",
       "      <td>...</td>\n",
       "      <td>...</td>\n",
       "      <td>...</td>\n",
       "      <td>...</td>\n",
       "      <td>...</td>\n",
       "      <td>...</td>\n",
       "    </tr>\n",
       "    <tr>\n",
       "      <th>1767</th>\n",
       "      <td>26165922</td>\n",
       "      <td>imillhiser</td>\n",
       "      <td>126798</td>\n",
       "      <td>1154</td>\n",
       "      <td>This CFPB decision isn't just bad law. It's no...</td>\n",
       "      <td>2022-10-21T01:53:41.000Z</td>\n",
       "      <td>9</td>\n",
       "      <td>36</td>\n",
       "    </tr>\n",
       "    <tr>\n",
       "      <th>941</th>\n",
       "      <td>18247062</td>\n",
       "      <td>JudicialWatch</td>\n",
       "      <td>1757863</td>\n",
       "      <td>90310</td>\n",
       "      <td>Judicial Watch Filed a lawsuit against the DHS...</td>\n",
       "      <td>2022-10-21T02:00:00.000Z</td>\n",
       "      <td>14</td>\n",
       "      <td>50</td>\n",
       "    </tr>\n",
       "    <tr>\n",
       "      <th>790</th>\n",
       "      <td>22187085</td>\n",
       "      <td>CREWcrew</td>\n",
       "      <td>516933</td>\n",
       "      <td>101544</td>\n",
       "      <td>Last year U.S. election officials endured an o...</td>\n",
       "      <td>2022-10-21T02:00:58.000Z</td>\n",
       "      <td>18</td>\n",
       "      <td>20</td>\n",
       "    </tr>\n",
       "    <tr>\n",
       "      <th>1615</th>\n",
       "      <td>722528529716383744</td>\n",
       "      <td>ACTBrigitte</td>\n",
       "      <td>579267</td>\n",
       "      <td>27463</td>\n",
       "      <td>President Trump wanted everyone to be as rich ...</td>\n",
       "      <td>2022-10-21T01:54:47.000Z</td>\n",
       "      <td>68</td>\n",
       "      <td>386</td>\n",
       "    </tr>\n",
       "    <tr>\n",
       "      <th>1911</th>\n",
       "      <td>1205226529455632385</td>\n",
       "      <td>ProjectLincoln</td>\n",
       "      <td>2796580</td>\n",
       "      <td>23739</td>\n",
       "      <td>The biggest threat to democracy isn’t Trump, r...</td>\n",
       "      <td>2022-10-21T01:52:43.000Z</td>\n",
       "      <td>173</td>\n",
       "      <td>494</td>\n",
       "    </tr>\n",
       "  </tbody>\n",
       "</table>\n",
       "<p>2096 rows × 8 columns</p>\n",
       "</div>"
      ],
      "text/plain": [
       "                author_id        username  author_followers  author_tweets  \\\n",
       "0     1581058910131310593    EricJenson19               339            307   \n",
       "1383  1076628188187418624         Boris4T              1383          24561   \n",
       "1382             22265551         elBryan               830          30747   \n",
       "1381  1551407677145849856   Figgy02619217                15            278   \n",
       "1380  1550273806794739718   MurphysHoodad                64           2881   \n",
       "...                   ...             ...               ...            ...   \n",
       "1767             26165922      imillhiser            126798           1154   \n",
       "941              18247062   JudicialWatch           1757863          90310   \n",
       "790              22187085        CREWcrew            516933         101544   \n",
       "1615   722528529716383744     ACTBrigitte            579267          27463   \n",
       "1911  1205226529455632385  ProjectLincoln           2796580          23739   \n",
       "\n",
       "                                                   text  \\\n",
       "0                               https://t.co/RoRVmrTjGM   \n",
       "1383  @atrupar I dont think Joe actually won. He mus...   \n",
       "1382  @jstoner44 If I was reading tweets about why a...   \n",
       "1381  @tedcruz Nah. You are propaganda and all hail ...   \n",
       "1380  @RonFilipkowski Trump really hurt him with the...   \n",
       "...                                                 ...   \n",
       "1767  This CFPB decision isn't just bad law. It's no...   \n",
       "941   Judicial Watch Filed a lawsuit against the DHS...   \n",
       "790   Last year U.S. election officials endured an o...   \n",
       "1615  President Trump wanted everyone to be as rich ...   \n",
       "1911  The biggest threat to democracy isn’t Trump, r...   \n",
       "\n",
       "                    created_at  retweets  likes  \n",
       "0     2022-10-21T02:06:37.000Z         0      0  \n",
       "1383  2022-10-21T01:56:36.000Z         0      0  \n",
       "1382  2022-10-21T01:56:37.000Z         0      0  \n",
       "1381  2022-10-21T01:56:37.000Z         0      0  \n",
       "1380  2022-10-21T01:56:38.000Z         0      0  \n",
       "...                        ...       ...    ...  \n",
       "1767  2022-10-21T01:53:41.000Z         9     36  \n",
       "941   2022-10-21T02:00:00.000Z        14     50  \n",
       "790   2022-10-21T02:00:58.000Z        18     20  \n",
       "1615  2022-10-21T01:54:47.000Z        68    386  \n",
       "1911  2022-10-21T01:52:43.000Z       173    494  \n",
       "\n",
       "[2096 rows x 8 columns]"
      ]
     },
     "execution_count": 99,
     "metadata": {},
     "output_type": "execute_result"
    }
   ],
   "source": [
    "# Just make sure it looks OK.\n",
    "df.sort_values('retweets')"
   ]
  },
  {
   "cell_type": "code",
   "execution_count": 100,
   "metadata": {},
   "outputs": [
    {
     "data": {
      "text/plain": [
       "<seaborn.axisgrid.FacetGrid at 0x7ff29040c490>"
      ]
     },
     "execution_count": 100,
     "metadata": {},
     "output_type": "execute_result"
    },
    {
     "data": {
      "image/png": "[encoded data removed]",
      "text/plain": [
       "<Figure size 360x360 with 1 Axes>"
      ]
     },
     "metadata": {
      "needs_background": "light"
     },
     "output_type": "display_data"
    }
   ],
   "source": [
    "sns.displot(df.retweets)"
   ]
  },
  {
   "cell_type": "markdown",
   "metadata": {},
   "source": [
    "As expected, it's super skewed, with most tweets never getting retweeted while a few get tons of retweets.\n",
    "\n",
    "Let's see if it changes if we get rid of the tweets that never got retweeted (like, maybe we have a principled reason to believe they are different than other tweets)."
   ]
  },
  {
   "cell_type": "code",
   "execution_count": 101,
   "metadata": {},
   "outputs": [
    {
     "data": {
      "image/png": "[encoded data removed]",
      "text/plain": [
       "<Figure size 360x360 with 1 Axes>"
      ]
     },
     "metadata": {
      "needs_background": "light"
     },
     "output_type": "display_data"
    }
   ],
   "source": [
    "sns.displot(df.loc[df.retweets > 1, 'retweets']);"
   ]
  },
  {
   "cell_type": "markdown",
   "metadata": {},
   "source": [
    "As I thought, this is a somewhat \"scale-free\" distribution, meaning wherever you zoom in, you see the same pattern. Try changing the `0` up above to any (small) number."
   ]
  },
  {
   "cell_type": "markdown",
   "metadata": {},
   "source": [
    "For fun, let's also look at the relationship between retweets and tweet length."
   ]
  },
  {
   "cell_type": "code",
   "execution_count": 102,
   "metadata": {},
   "outputs": [],
   "source": [
    "import numpy as np"
   ]
  },
  {
   "cell_type": "code",
   "execution_count": 107,
   "metadata": {},
   "outputs": [
    {
     "data": {
      "image/png": "[encoded data removed]",
      "text/plain": [
       "<Figure size 432x432 with 3 Axes>"
      ]
     },
     "metadata": {
      "needs_background": "light"
     },
     "output_type": "display_data"
    }
   ],
   "source": [
    "sns.jointplot(y='retweets', x='tweet_length', data = df);"
   ]
  },
  {
   "cell_type": "code",
   "execution_count": 108,
   "metadata": {},
   "outputs": [
    {
     "data": {
      "image/png": "[encoded data removed]",
      "text/plain": [
       "<Figure size 432x432 with 3 Axes>"
      ]
     },
     "metadata": {
      "needs_background": "light"
     },
     "output_type": "display_data"
    }
   ],
   "source": [
    "# Because retweets are so skewed, let's log them\n",
    "p = sns.jointplot(y=np.log(df.retweets + 1), x='tweet_length', data = df)\n",
    "p.set_axis_labels('Tweet Length','Retweets (log)');"
   ]
  },
  {
   "cell_type": "code",
   "execution_count": 110,
   "metadata": {},
   "outputs": [
    {
     "data": {
      "text/plain": [
       "'@JohnCornyn @WSJ Wtf does this even mean? How do you people live with yourselves? You literally have to bend like pretzels to excuse wrongdoings of Trump and his people.'"
      ]
     },
     "execution_count": 110,
     "metadata": {},
     "output_type": "execute_result"
    }
   ],
   "source": []
  }
 ],
 "metadata": {
  "kernelspec": {
   "display_name": "teaching",
   "language": "python",
   "name": "teaching"
  },
  "language_info": {
   "codemirror_mode": {
    "name": "ipython",
    "version": 3
   },
   "file_extension": ".py",
   "mimetype": "text/x-python",
   "name": "python",
   "nbconvert_exporter": "python",
   "pygments_lexer": "ipython3",
   "version": "3.9.7"
  }
 },
 "nbformat": 4,
 "nbformat_minor": 4
}
