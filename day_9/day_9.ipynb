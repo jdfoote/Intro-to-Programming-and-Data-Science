{
 "cells": [
  {
   "cell_type": "markdown",
   "metadata": {},
   "source": [
    "## Using APIs in Projects\n",
    "\n",
    "\n",
    "When getting data from APIs, I strongly suggest following a three-step workflow:\n",
    "\n",
    "1. Write some code that gets data from an API and saves all of the data (if possible) to a file\n",
    "2. Write a second program (usually a second file) that loads the data from the API, extracts the data that will be useful for analysis, and saves it in a flat file (typically a CSV).\n",
    "3. Program number 3 loads the CSV file and does the analysis\n",
    "\n",
    "This approach has a few important benefits.\n",
    "\n",
    "The first and most important is that often it is difficult to get the same raw data again. If you are using Twitter, then the Search API only lets you get the last week. If you are doing analysis a month down the road and decide that you really wish you had saved metadata about the number of retweets, it is too late. By saving the raw data you can change your measures or analysis strategy and still have access to the data.\n",
    "\n",
    "The second is that this gives you a nice pipeline, with intermediate files. Instead of including the entire raw data file in the code that does analysis, you only have to load the CSV, which is often much smaller and easier to work with.\n",
    "\n",
    "This brief lesson will show an example of this workflow, using `tweepy`.\n",
    "\n",
    "Note that I'm going to put everything in one file for convenience, but my typical workflow is to put these in separate files and then run each file separately."
   ]
  },
  {
   "cell_type": "markdown",
   "metadata": {},
   "source": [
    "## Program 1 - Data Retrieval\n",
    "\n",
    "The goal of our project is to produce a visualization of the histogram of the number of retweets for recent tweets about President Trump. The first program gets tweets about President Trump.\n",
    "\n",
    "Older versions of tweepy made it easier to get the JSON returned by "
   ]
  },
  {
   "cell_type": "code",
   "execution_count": 111,
   "metadata": {},
   "outputs": [],
   "source": [
    "import tweepy\n",
    "import json\n",
    "import requests\n",
    "from twitter_authentication import bearer_token\n",
    "import pandas as pd\n",
    "import time\n",
    "\n",
    "client = tweepy.Client(bearer_token, \n",
    "                       return_type=dict, # Without this, tweepy returns an object-based response\n",
    "                       wait_on_rate_limit=True\n",
    "                      )"
   ]
  },
  {
   "cell_type": "code",
   "execution_count": 113,
   "metadata": {},
   "outputs": [],
   "source": [
    "with open('raw_trump_tweets.txt', 'w') as f: # By opening with 'a' (for append) we can write to this file again\n",
    "                                            # e.g., if we need to restart data collection.\n",
    "    num_tweets = 4000\n",
    "    tweet_count = 0\n",
    "    next_token = None\n",
    "    \n",
    "    while tweet_count < num_tweets:\n",
    "        response = client.search_recent_tweets(\n",
    "            query='Trump -is:retweet', \n",
    "            user_fields = ['username', 'public_metrics', 'description', 'location'],\n",
    "            tweet_fields = ['created_at', 'geo', 'public_metrics', 'text'],\n",
    "            expansions = 'author_id',\n",
    "            next_token = next_token,\n",
    "            max_results=100)\n",
    "        \n",
    "        next_token = response['meta']['next_token'] # get the \"next token\", which gives us the next page\n",
    "        tweets = response['data']\n",
    "        tweet_count += len(tweets)\n",
    "        \n",
    "        f.write(json.dumps(response)+ '\\n') # Write each response's JSON as a new line\n",
    "        time.sleep(.5)"
   ]
  },
  {
   "cell_type": "markdown",
   "metadata": {},
   "source": [
    "## Program 2 - Data Cleaning\n",
    "\n",
    "This program loads the saved raw data, grabs what we want, and converts it into a pandas dataframe and a CSV.\n",
    "\n",
    "I decided to save the timestamp, text, and retweet and favorite counts, together with the public metrics about the author. Tweepy puts author info in an \"includes\" dictionary, so we have to extract it from there.\n",
    "\n",
    "This is also where you typically would do more complicated measure creation. Here I show how to create a measure of tweet_length."
   ]
  },
  {
   "cell_type": "code",
   "execution_count": 114,
   "metadata": {},
   "outputs": [],
   "source": [
    "with open('raw_trump_tweets.txt', 'r') as f:\n",
    "    responses = []\n",
    "    for line in f.readlines():\n",
    "        responses.append(json.loads(line))"
   ]
  },
  {
   "cell_type": "code",
   "execution_count": 115,
   "metadata": {},
   "outputs": [],
   "source": [
    "result = []\n",
    "user_dict = {}\n",
    "# Loop through each response object\n",
    "for response in responses:\n",
    "    # Take all of the users, and put them into a dictionary of dictionaries with the info we want to keep\n",
    "    for user in response['includes']['users']:\n",
    "        user_dict[user['id']] = {'username': user['username'], \n",
    "                              'followers': user['public_metrics']['followers_count'],\n",
    "                              'tweets': user['public_metrics']['tweet_count']\n",
    "                             }\n",
    "    for tweet in response['data']:\n",
    "        # For each tweet, find the author's information\n",
    "        author_info = user_dict[tweet['author_id']]\n",
    "        # Put all of the information we want to keep in a single dictionary for each tweet\n",
    "        result.append({'author_id': tweet['author_id'], \n",
    "                       'username': author_info['username'],\n",
    "                       'author_followers': author_info['followers'],\n",
    "                       'author_tweets': author_info['tweets'],\n",
    "                       'text': tweet['text'],\n",
    "                       'created_at': tweet['created_at'],\n",
    "                       'retweets': tweet['public_metrics']['retweet_count'],\n",
    "                       'likes': tweet['public_metrics']['like_count'],\n",
    "                       'tweet_length': len(tweet['text'])\n",
    "                      })\n",
    "df = pd.DataFrame(result)\n",
    "df.to_csv('cleaned_data.csv', index=False)"
   ]
  },
  {
   "cell_type": "markdown",
   "metadata": {},
   "source": [
    "## Program 3 - Data Analysis\n",
    "\n",
    "Here we use pandas to load the data and analyze it. This could include statistical tests. Here, I'm just visualizing the distribution of retweets and the relationship between retweets and length."
   ]
  },
  {
   "cell_type": "code",
   "execution_count": 116,
   "metadata": {},
   "outputs": [],
   "source": [
    "import pandas as pd\n",
    "import seaborn as sns"
   ]
  },
  {
   "cell_type": "code",
   "execution_count": 117,
   "metadata": {},
   "outputs": [],
   "source": [
    "df = pd.read_csv('./cleaned_data.csv')"
   ]
  },
  {
   "cell_type": "code",
   "execution_count": 118,
   "metadata": {},
   "outputs": [
    {
     "data": {
      "text/html": [
       "<div>\n",
       "<style scoped>\n",
       "    .dataframe tbody tr th:only-of-type {\n",
       "        vertical-align: middle;\n",
       "    }\n",
       "\n",
       "    .dataframe tbody tr th {\n",
       "        vertical-align: top;\n",
       "    }\n",
       "\n",
       "    .dataframe thead th {\n",
       "        text-align: right;\n",
       "    }\n",
       "</style>\n",
       "<table border=\"1\" class=\"dataframe\">\n",
       "  <thead>\n",
       "    <tr style=\"text-align: right;\">\n",
       "      <th></th>\n",
       "      <th>author_id</th>\n",
       "      <th>username</th>\n",
       "      <th>author_followers</th>\n",
       "      <th>author_tweets</th>\n",
       "      <th>text</th>\n",
       "      <th>created_at</th>\n",
       "      <th>retweets</th>\n",
       "      <th>likes</th>\n",
       "      <th>tweet_length</th>\n",
       "    </tr>\n",
       "  </thead>\n",
       "  <tbody>\n",
       "    <tr>\n",
       "      <th>0</th>\n",
       "      <td>1267340330258567168</td>\n",
       "      <td>wavechaser2024</td>\n",
       "      <td>6572</td>\n",
       "      <td>89933</td>\n",
       "      <td>Just FYI, they would’ve impeached Trump had he...</td>\n",
       "      <td>2022-10-21T02:10:16.000Z</td>\n",
       "      <td>0</td>\n",
       "      <td>0</td>\n",
       "      <td>66</td>\n",
       "    </tr>\n",
       "    <tr>\n",
       "      <th>2666</th>\n",
       "      <td>1566874310</td>\n",
       "      <td>PenurieBot</td>\n",
       "      <td>37</td>\n",
       "      <td>1196</td>\n",
       "      <td>Face à la pénurie de viande le gouvernement au...</td>\n",
       "      <td>2022-10-21T01:50:53.000Z</td>\n",
       "      <td>0</td>\n",
       "      <td>0</td>\n",
       "      <td>86</td>\n",
       "    </tr>\n",
       "    <tr>\n",
       "      <th>2667</th>\n",
       "      <td>1147245086184550401</td>\n",
       "      <td>TheHomemaking</td>\n",
       "      <td>867</td>\n",
       "      <td>5584</td>\n",
       "      <td>Tell me you've never been on a farm without te...</td>\n",
       "      <td>2022-10-21T01:50:52.000Z</td>\n",
       "      <td>0</td>\n",
       "      <td>4</td>\n",
       "      <td>238</td>\n",
       "    </tr>\n",
       "    <tr>\n",
       "      <th>2668</th>\n",
       "      <td>39574889</td>\n",
       "      <td>Twishypoo</td>\n",
       "      <td>127</td>\n",
       "      <td>24742</td>\n",
       "      <td>@mikepompeo Did you ever in your life think va...</td>\n",
       "      <td>2022-10-21T01:50:52.000Z</td>\n",
       "      <td>0</td>\n",
       "      <td>0</td>\n",
       "      <td>135</td>\n",
       "    </tr>\n",
       "    <tr>\n",
       "      <th>2669</th>\n",
       "      <td>1560770927218098177</td>\n",
       "      <td>EzekiahMordecai</td>\n",
       "      <td>128</td>\n",
       "      <td>569</td>\n",
       "      <td>Exclusive: Trump adviser Kash Patel has appear...</td>\n",
       "      <td>2022-10-21T01:50:51.000Z</td>\n",
       "      <td>0</td>\n",
       "      <td>0</td>\n",
       "      <td>120</td>\n",
       "    </tr>\n",
       "    <tr>\n",
       "      <th>...</th>\n",
       "      <td>...</td>\n",
       "      <td>...</td>\n",
       "      <td>...</td>\n",
       "      <td>...</td>\n",
       "      <td>...</td>\n",
       "      <td>...</td>\n",
       "      <td>...</td>\n",
       "      <td>...</td>\n",
       "      <td>...</td>\n",
       "    </tr>\n",
       "    <tr>\n",
       "      <th>3864</th>\n",
       "      <td>2421067430</td>\n",
       "      <td>TeaPainUSA</td>\n",
       "      <td>797970</td>\n",
       "      <td>128201</td>\n",
       "      <td>We need a separation of church and stupid. htt...</td>\n",
       "      <td>2022-10-21T01:42:16.000Z</td>\n",
       "      <td>39</td>\n",
       "      <td>217</td>\n",
       "      <td>66</td>\n",
       "    </tr>\n",
       "    <tr>\n",
       "      <th>3725</th>\n",
       "      <td>2640729706</td>\n",
       "      <td>ImSpeaking13</td>\n",
       "      <td>114240</td>\n",
       "      <td>102237</td>\n",
       "      <td>FUCK DONALD TRUMP. GO TO PRISON ALREADY.</td>\n",
       "      <td>2022-10-21T01:43:12.000Z</td>\n",
       "      <td>51</td>\n",
       "      <td>438</td>\n",
       "      <td>40</td>\n",
       "    </tr>\n",
       "    <tr>\n",
       "      <th>3102</th>\n",
       "      <td>1298372735383605249</td>\n",
       "      <td>RonFilipkowski</td>\n",
       "      <td>537369</td>\n",
       "      <td>45175</td>\n",
       "      <td>Fresh out of jail for J6, out on the road with...</td>\n",
       "      <td>2022-10-21T01:47:31.000Z</td>\n",
       "      <td>56</td>\n",
       "      <td>206</td>\n",
       "      <td>100</td>\n",
       "    </tr>\n",
       "    <tr>\n",
       "      <th>2112</th>\n",
       "      <td>722528529716383744</td>\n",
       "      <td>ACTBrigitte</td>\n",
       "      <td>579268</td>\n",
       "      <td>27464</td>\n",
       "      <td>President Trump wanted everyone to be as rich ...</td>\n",
       "      <td>2022-10-21T01:54:47.000Z</td>\n",
       "      <td>84</td>\n",
       "      <td>465</td>\n",
       "      <td>121</td>\n",
       "    </tr>\n",
       "    <tr>\n",
       "      <th>2408</th>\n",
       "      <td>1205226529455632385</td>\n",
       "      <td>ProjectLincoln</td>\n",
       "      <td>2796581</td>\n",
       "      <td>23739</td>\n",
       "      <td>The biggest threat to democracy isn’t Trump, r...</td>\n",
       "      <td>2022-10-21T01:52:43.000Z</td>\n",
       "      <td>192</td>\n",
       "      <td>560</td>\n",
       "      <td>193</td>\n",
       "    </tr>\n",
       "  </tbody>\n",
       "</table>\n",
       "<p>4093 rows × 9 columns</p>\n",
       "</div>"
      ],
      "text/plain": [
       "                author_id         username  author_followers  author_tweets  \\\n",
       "0     1267340330258567168   wavechaser2024              6572          89933   \n",
       "2666           1566874310       PenurieBot                37           1196   \n",
       "2667  1147245086184550401    TheHomemaking               867           5584   \n",
       "2668             39574889        Twishypoo               127          24742   \n",
       "2669  1560770927218098177  EzekiahMordecai               128            569   \n",
       "...                   ...              ...               ...            ...   \n",
       "3864           2421067430       TeaPainUSA            797970         128201   \n",
       "3725           2640729706     ImSpeaking13            114240         102237   \n",
       "3102  1298372735383605249   RonFilipkowski            537369          45175   \n",
       "2112   722528529716383744      ACTBrigitte            579268          27464   \n",
       "2408  1205226529455632385   ProjectLincoln           2796581          23739   \n",
       "\n",
       "                                                   text  \\\n",
       "0     Just FYI, they would’ve impeached Trump had he...   \n",
       "2666  Face à la pénurie de viande le gouvernement au...   \n",
       "2667  Tell me you've never been on a farm without te...   \n",
       "2668  @mikepompeo Did you ever in your life think va...   \n",
       "2669  Exclusive: Trump adviser Kash Patel has appear...   \n",
       "...                                                 ...   \n",
       "3864  We need a separation of church and stupid. htt...   \n",
       "3725           FUCK DONALD TRUMP. GO TO PRISON ALREADY.   \n",
       "3102  Fresh out of jail for J6, out on the road with...   \n",
       "2112  President Trump wanted everyone to be as rich ...   \n",
       "2408  The biggest threat to democracy isn’t Trump, r...   \n",
       "\n",
       "                    created_at  retweets  likes  tweet_length  \n",
       "0     2022-10-21T02:10:16.000Z         0      0            66  \n",
       "2666  2022-10-21T01:50:53.000Z         0      0            86  \n",
       "2667  2022-10-21T01:50:52.000Z         0      4           238  \n",
       "2668  2022-10-21T01:50:52.000Z         0      0           135  \n",
       "2669  2022-10-21T01:50:51.000Z         0      0           120  \n",
       "...                        ...       ...    ...           ...  \n",
       "3864  2022-10-21T01:42:16.000Z        39    217            66  \n",
       "3725  2022-10-21T01:43:12.000Z        51    438            40  \n",
       "3102  2022-10-21T01:47:31.000Z        56    206           100  \n",
       "2112  2022-10-21T01:54:47.000Z        84    465           121  \n",
       "2408  2022-10-21T01:52:43.000Z       192    560           193  \n",
       "\n",
       "[4093 rows x 9 columns]"
      ]
     },
     "execution_count": 118,
     "metadata": {},
     "output_type": "execute_result"
    }
   ],
   "source": [
    "# Just make sure it looks OK.\n",
    "df.sort_values('retweets')"
   ]
  },
  {
   "cell_type": "code",
   "execution_count": 119,
   "metadata": {},
   "outputs": [
    {
     "data": {
      "text/plain": [
       "<seaborn.axisgrid.FacetGrid at 0x7ff27fdcc670>"
      ]
     },
     "execution_count": 119,
     "metadata": {},
     "output_type": "execute_result"
    },
    {
     "data": {
      "image/png": "[encoded data removed]",
      "text/plain": [
       "<Figure size 360x360 with 1 Axes>"
      ]
     },
     "metadata": {
      "needs_background": "light"
     },
     "output_type": "display_data"
    }
   ],
   "source": [
    "sns.displot(df.retweets)"
   ]
  },
  {
   "cell_type": "markdown",
   "metadata": {},
   "source": [
    "As expected, it's super skewed, with most tweets never getting retweeted while a few get tons of retweets.\n",
    "\n",
    "Let's see if it changes if we get rid of the tweets that never got retweeted (like, maybe we have a principled reason to believe they are different than other tweets)."
   ]
  },
  {
   "cell_type": "code",
   "execution_count": 120,
   "metadata": {},
   "outputs": [
    {
     "data": {
      "image/png": "[encoded data removed]",
      "text/plain": [
       "<Figure size 360x360 with 1 Axes>"
      ]
     },
     "metadata": {
      "needs_background": "light"
     },
     "output_type": "display_data"
    }
   ],
   "source": [
    "sns.displot(df.loc[df.retweets > 1, 'retweets']);"
   ]
  },
  {
   "cell_type": "markdown",
   "metadata": {},
   "source": [
    "As I thought, this is a somewhat \"scale-free\" distribution, meaning wherever you zoom in, you see the same pattern. Try changing the `0` up above to any (small) number."
   ]
  },
  {
   "cell_type": "markdown",
   "metadata": {},
   "source": [
    "For fun, let's also look at the relationship between retweets and tweet length."
   ]
  },
  {
   "cell_type": "code",
   "execution_count": 121,
   "metadata": {},
   "outputs": [],
   "source": [
    "import numpy as np"
   ]
  },
  {
   "cell_type": "code",
   "execution_count": 122,
   "metadata": {},
   "outputs": [
    {
     "data": {
      "image/png": "[encoded data removed]",
      "text/plain": [
       "<Figure size 432x432 with 3 Axes>"
      ]
     },
     "metadata": {
      "needs_background": "light"
     },
     "output_type": "display_data"
    }
   ],
   "source": [
    "sns.jointplot(y='retweets', x='tweet_length', data = df);"
   ]
  },
  {
   "cell_type": "code",
   "execution_count": 123,
   "metadata": {},
   "outputs": [
    {
     "data": {
      "image/png": "[encoded data removed]",
      "text/plain": [
       "<Figure size 432x432 with 3 Axes>"
      ]
     },
     "metadata": {
      "needs_background": "light"
     },
     "output_type": "display_data"
    }
   ],
   "source": [
    "# Because retweets are so skewed, let's log them\n",
    "p = sns.jointplot(y=np.log(df.retweets + 1), x='tweet_length', data = df)\n",
    "p.set_axis_labels('Tweet Length','Retweets (log)');"
   ]
  },
  {
   "cell_type": "code",
   "execution_count": 110,
   "metadata": {},
   "outputs": [
    {
     "data": {
      "text/plain": [
       "'@JohnCornyn @WSJ Wtf does this even mean? How do you people live with yourselves? You literally have to bend like pretzels to excuse wrongdoings of Trump and his people.'"
      ]
     },
     "execution_count": 110,
     "metadata": {},
     "output_type": "execute_result"
    }
   ],
   "source": []
  }
 ],
 "metadata": {
  "kernelspec": {
   "display_name": "teaching",
   "language": "python",
   "name": "teaching"
  },
  "language_info": {
   "codemirror_mode": {
    "name": "ipython",
    "version": 3
   },
   "file_extension": ".py",
   "mimetype": "text/x-python",
   "name": "python",
   "nbconvert_exporter": "python",
   "pygments_lexer": "ipython3",
   "version": "3.9.7"
  }
 },
 "nbformat": 4,
 "nbformat_minor": 4
}
