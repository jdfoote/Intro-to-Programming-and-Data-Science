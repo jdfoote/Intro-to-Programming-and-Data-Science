{
 "cells": [
  {
   "cell_type": "code",
   "execution_count": 1,
   "metadata": {},
   "outputs": [
    {
     "name": "stdout",
     "output_type": "stream",
     "text": [
      "busuuti\n",
      "busuutis\n",
      "carduus\n",
      "carduuses\n",
      "continuum\n",
      "continuums\n",
      "duumvir\n",
      "duumviral\n",
      "duumvirate\n",
      "duumvirates\n",
      "duumviri\n",
      "duumvirs\n",
      "individuum\n",
      "lituus\n",
      "lituuses\n",
      "menstruum\n",
      "menstruums\n",
      "mutuum\n",
      "mutuums\n",
      "muumuu\n",
      "muumuus\n",
      "paramenstruum\n",
      "paramenstruums\n",
      "residuum\n",
      "residuums\n",
      "squush\n",
      "squushed\n",
      "squushes\n",
      "squushing\n",
      "triduum\n",
      "triduums\n",
      "ultravacuum\n",
      "ultravacuums\n",
      "vacuum\n",
      "vacuumed\n",
      "vacuuming\n",
      "vacuums\n",
      "weltanschauung\n",
      "weltanschauungs\n"
     ]
    }
   ],
   "source": [
    "import scrabble\n",
    "\n",
    "# Print all words containing 'uu'.\n",
    "for word in scrabble.wordlist:\n",
    "    if 'uu' in word:\n",
    "        print(word)"
   ]
  },
  {
   "cell_type": "code",
   "execution_count": null,
   "metadata": {},
   "outputs": [],
   "source": [
    "# Print all letters that never appear doubled in an English word.\n",
    "for letter in \"abcdefghijklmnopqrstuvwxyz\":\n",
    "    is_doubled = False\n",
    "    for word in scrabble.wordlist:\n",
    "        if letter + letter in word:\n",
    "            is_doubled = True\n",
    "            break\n",
    "    if is_doubled == False:\n",
    "        print(\"There are no English words with a double \" + letter)\n"
   ]
  },
  {
   "cell_type": "code",
   "execution_count": null,
   "metadata": {},
   "outputs": [],
   "source": [
    "# Print all words that have all 5 vowels.\n",
    "\n",
    "VOWELS = ['a', 'e', 'i', 'o', 'u']\n",
    "\n",
    "for word in scrabble.wordlist:\n",
    "    all_vowels = True\n",
    "    for vowel in VOWELS:\n",
    "        if vowel not in word:\n",
    "            all_vowels = False\n",
    "\n",
    "    if all_vowels:\n",
    "        print(word + \" has all vowels\")"
   ]
  },
  {
   "cell_type": "code",
   "execution_count": null,
   "metadata": {},
   "outputs": [],
   "source": [
    "# Print all words that are palindromes.\n",
    "for word in scrabble.wordlist:\n",
    "\n",
    "    # convert all words into word_lists\n",
    "    word_list = list(word)\n",
    "\n",
    "    # make a second copy of a word list and reverse it\n",
    "    word_list_rev = list(word)\n",
    "    word_list_rev.reverse()\n",
    "\n",
    "    if len(word) > 1 and word_list == word_list_rev:\n",
    "        print(word)"
   ]
  },
  {
   "cell_type": "code",
   "execution_count": null,
   "metadata": {},
   "outputs": [],
   "source": [
    "from scrabble import wordlist, scores\n",
    "\n",
    "for word in wordlist:\n",
    "    if \"foote\" in word:\n",
    "        word_score = 0\n",
    "        for letter in word:\n",
    "            word_score = word_score + scores[letter]\n",
    "            print(\"score for the word \" + word + \" is \" + str(word_score))\n",
    "\n"
   ]
  },
  {
   "cell_type": "markdown",
   "metadata": {},
   "source": [
    "####    Find all words that start with 'a' and are 9 or more letters long."
   ]
  },
  {
   "cell_type": "code",
   "execution_count": null,
   "metadata": {},
   "outputs": [],
   "source": []
  },
  {
   "cell_type": "markdown",
   "metadata": {},
   "source": [
    "####    What is the longest word that starts with a 'q'?"
   ]
  },
  {
   "cell_type": "code",
   "execution_count": null,
   "metadata": {},
   "outputs": [],
   "source": []
  },
  {
   "cell_type": "markdown",
   "metadata": {},
   "source": [
    "####    Find all words that end with 'nge'"
   ]
  },
  {
   "cell_type": "code",
   "execution_count": null,
   "metadata": {},
   "outputs": [],
   "source": []
  },
  {
   "cell_type": "markdown",
   "metadata": {},
   "source": [
    "####    Find a word that matches \"a\\*ey\" (here \"*\" means any letter or set of letters). Are there any words that match?"
   ]
  },
  {
   "cell_type": "code",
   "execution_count": null,
   "metadata": {},
   "outputs": [],
   "source": []
  },
  {
   "cell_type": "markdown",
   "metadata": {},
   "source": [
    "####    Print every other word that matches the condition in (1) above."
   ]
  },
  {
   "cell_type": "code",
   "execution_count": null,
   "metadata": {},
   "outputs": [],
   "source": []
  },
  {
   "cell_type": "markdown",
   "metadata": {},
   "source": [
    "####    Find at least one word that uses all five vowels in order."
   ]
  },
  {
   "cell_type": "code",
   "execution_count": null,
   "metadata": {},
   "outputs": [],
   "source": []
  }
 ],
 "metadata": {
  "kernelspec": {
   "display_name": "Python 3",
   "language": "python",
   "name": "python3"
  },
  "language_info": {
   "codemirror_mode": {
    "name": "ipython",
    "version": 3
   },
   "file_extension": ".py",
   "mimetype": "text/x-python",
   "name": "python",
   "nbconvert_exporter": "python",
   "pygments_lexer": "ipython3",
   "version": "3.9.19"
  }
 },
 "nbformat": 4,
 "nbformat_minor": 4
}
